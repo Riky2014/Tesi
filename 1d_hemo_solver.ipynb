{
  "nbformat": 4,
  "nbformat_minor": 0,
  "metadata": {
    "colab": {
      "provenance": [],
      "authorship_tag": "ABX9TyOvkAPYnRzLuQdj9Sp10ZMP",
      "include_colab_link": true
    },
    "kernelspec": {
      "name": "python3",
      "display_name": "Python 3"
    },
    "language_info": {
      "name": "python"
    }
  },
  "cells": [
    {
      "cell_type": "markdown",
      "metadata": {
        "id": "view-in-github",
        "colab_type": "text"
      },
      "source": [
        "<a href=\"https://colab.research.google.com/github/Riky2014/Tesi/blob/main/1d_hemo_solver.ipynb\" target=\"_parent\"><img src=\"https://colab.research.google.com/assets/colab-badge.svg\" alt=\"Open In Colab\"/></a>"
      ]
    },
    {
      "cell_type": "code",
      "source": [
        "%%capture\n",
        "!apt-get install software-properties-common\n",
        "!add-apt-repository -y ppa:fenics-packages/fenics\n",
        "!apt-get update -qq\n",
        "!apt install fenics"
      ],
      "metadata": {
        "id": "Vk2md9CPA9f1"
      },
      "execution_count": 1,
      "outputs": []
    },
    {
      "cell_type": "code",
      "source": [
        "from fenics import *\n",
        "import numpy as np\n",
        "import matplotlib.pyplot as plt"
      ],
      "metadata": {
        "id": "qzvdV-jaGZG6"
      },
      "execution_count": 217,
      "outputs": []
    },
    {
      "cell_type": "markdown",
      "source": [
        "# Data, Mesh and Function spaces"
      ],
      "metadata": {
        "id": "br10ska72pF5"
      }
    },
    {
      "cell_type": "code",
      "execution_count": 562,
      "metadata": {
        "id": "uYE6EYza9Az2"
      },
      "outputs": [],
      "source": [
        "# Data\n",
        "T = 1\n",
        "x_left = 0.\n",
        "x_right = 1.0\n",
        "alpha = 1\n",
        "\n",
        "A_tilde = 4e-4\n",
        "a_tilde = 4e-5\n",
        "q_tilde = 0.0\n",
        "K_tilde = 50e3\n",
        "\n",
        "k_r = 2.416e-4\n",
        "rho = 1.05\n",
        "\n",
        "T = 1\n",
        "L = 1\n",
        "\n",
        "# Discretization parameter\n",
        "dt = 5e-5\n",
        "h = 2.5e-2\n",
        "num_steps = T / dt\n",
        "N = int((x_right - x_left) / h)\n",
        "\n",
        "#  Create a mesh on the interval [0, 1].\n",
        "mesh = IntervalMesh(N, x_left, x_right)\n",
        "x = MeshCoordinates(mesh)\n",
        "\n",
        "# Define the function space\n",
        "P1 = FiniteElement('P', mesh.ufl_cell(), 1)\n",
        "element = MixedElement([P1, P1])\n",
        "V = FunctionSpace(mesh, element)\n",
        "\n",
        "# Derivative function spoace\n",
        "D1 = FiniteElement('DG', mesh.ufl_cell(), 0)\n",
        "element_der = MixedElement([D1, D1])\n",
        "V_der = FunctionSpace(mesh, element_der)"
      ]
    },
    {
      "cell_type": "markdown",
      "source": [
        "# Exact solution and forcing term"
      ],
      "metadata": {
        "id": "BhMwMfhE2uWz"
      }
    },
    {
      "cell_type": "code",
      "source": [
        "# Exact solution and forcing term\n",
        "\n",
        "A_exact = Expression('A_tilde + a_tilde * sin(2 * pi / L * x[0]) * cos(2 * pi / T * t)', A_tilde = A_tilde, a_tilde = a_tilde, L = L, T = T, degree = 2, t = 0)\n",
        "\n",
        "q_exact = Expression('q_tilde - (a_tilde * L / T) * cos(2 * pi / L * x[0]) * sin(2 * pi / T * t)', q_tilde = q_tilde, a_tilde = a_tilde, L = L, T = T, degree = 2, t = 0)\n",
        "\n",
        "dU_dt = Expression(('- 2 * pi * a_tilde * sin(2 * pi * t) * sin(2 * pi * x[0])',\n",
        "\n",
        "                    '- 2 * pi * a_tilde * L / T * cos(2 * pi * t) * cos(2 * pi * x[0])'),\n",
        "                    a_tilde = a_tilde, L = L, T = T, degree = 1, t = 0)\n",
        "\n",
        "S = Expression(('0.',\n",
        "\n",
        "                'k_r * (q_tilde - (a_tilde * L / T) * cos(2 * pi / L * x[0]) * sin(2 * pi / T * t)) / (A_tilde + a_tilde * sin(2 * pi / L * x[0]) * cos(2 * pi / T * t))'),\n",
        "                A_tilde = A_tilde, a_tilde = a_tilde, q_tilde = q_tilde, L = L, T = T, k_r = k_r, degree = 1, t = 0)\n",
        "\n",
        "dF_dx = Expression(('2 * pi * a_tilde * L / T * sin(2 * pi * t) * sin(2 * pi * x[0])',\n",
        "\n",
        "                    'pi * K_tilde * a_tilde / rho * pow(0.1 * sin(2 * pi * x[0]) * cos(2 * pi * t) + 1, 0.5) * cos(2 * pi * t) * cos(2 * pi * x[0]) \\\n",
        "                    - 2 * pi * pow(a_tilde, 3) * pow(L / (A_tilde * T), 2) * pow(sin(2 * pi * t), 2) * cos(2 * pi * t) * pow(cos(2 * pi * x[0]), 3) / pow(0.1 * sin(2 * pi * x[0]) * cos(2 * pi * t) + 1, 2) \\\n",
        "                    - 4 * pi * pow(a_tilde, 2) * pow(sin(2 * pi * t), 2) * sin(2 * pi * x[0]) * cos(2 * pi * x[0]) / (A_tilde + a_tilde * sin(2 * pi * x[0]) * cos(2 * pi * t))'),\n",
        "                    a_tilde = a_tilde, A_tilde = A_tilde, K_tilde = K_tilde, L = L, T = T, rho = rho, degree = 1, t = 0)\n",
        "\n",
        "dU_dt_dt = Expression(('- 4 * pi * pi * a_tilde * sin(2 * pi * x[0]) * cos(2 * pi * t)',\n",
        "\n",
        "                       '4 * pi * pi * a_tilde * sin(2 * pi * t) * cos(2 * pi * x[0])'),\n",
        "                       a_tilde = a_tilde, L = L, T = T, degree = 1, t = 0)\n",
        "\n",
        "dS_dt = Expression(('0.',\n",
        "\n",
        "                    '- 2 * pi * k_r * pow(a_tilde / A_tilde, 2) * pow(sin(2 * pi * t), 2) * sin(2 * pi * x[0]) * cos(2 * pi * x[0]) / (pow(0.1 * sin(2 * pi * x[0]) * cos(2 * pi * t) + 1, 2)) \\\n",
        "                    - 2 * pi * k_r * a_tilde * cos(2 * pi * t) * cos(2 * pi * x[0]) / (A_tilde + a_tilde * sin(2 * pi * x[0]) * cos(2 * pi * t))'),\n",
        "                    A_tilde = A_tilde, a_tilde = a_tilde, q_tilde = q_tilde, L = L, T = T, k_r = k_r, degree = 1, t = 0)\n",
        "\n",
        "dF_dx_dt = Expression(('4 * pi * pi * a_tilde * L / T * cos(2 * pi * t) * sin(2 * pi * x[0])',\n",
        "\n",
        "                    '- 0.1 * pi * pi * K_tilde * a_tilde / rho * sin(2 * pi * t) * sin(2 * pi * x[0]) * cos(2 * pi * t) * cos(2 * pi * x[0]) / pow(0.1 * sin(2 * pi * x[0]) * cos(2 * pi * t) + 1, 0.5) \\\n",
        "                    - 2 * pi * pi * K_tilde * a_tilde / rho * pow(0.1 * sin(2 * pi * x[0]) * cos(2 * pi * t) + 1, 0.5) * sin(2 * pi * t) * cos(2 * pi * x[0]) \\\n",
        "                    - 8 * pi * pi * pow(a_tilde, 3) * pow(L / (A_tilde * T), 2) * pow(sin(2 * pi * t), 3) * pow(sin(2 * pi * x[0]), 2) * cos(2 * pi * x[0]) / pow(0.1 * sin(2 * pi * x[0]) * cos( 2 * pi * t) + 1, 2) \\\n",
        "                    + 4 * pi * pi * pow(a_tilde, 3) * pow(L / (A_tilde * T), 2) * pow(sin(2 * pi * t), 3) * pow(cos(2 * pi * x[0]), 3) / pow(0.1 * sin(2 * pi * x[0]) * cos( 2 * pi * t) + 1, 2) \\\n",
        "                    - 8 * pi * pi * pow(a_tilde, 3) * pow(L / (A_tilde * T), 2) * sin(2 * pi * t) * pow(cos(2 * pi * t), 2) * pow(cos(2 * pi * x[0]), 3) / pow(0.1 * sin(2 * pi * x[0]) * cos( 2 * pi * t) + 1, 2) \\\n",
        "                    - 0.8 * pi * pi * pow(a_tilde, 3) * pow(L / (A_tilde * T), 2) * pow(sin(2 * pi * t), 3) * sin(2 * pi * x[0]) * cos(2 * pi * t) * pow(cos(2 * pi * x[0]), 3) / pow(0.1 * sin(2 * pi * x[0]) * cos( 2 * pi * t) + 1, 3) \\\n",
        "                    - 16 * pi * pi * pow(a_tilde, 2) * sin(2 * pi * t) * sin(2 * pi * x[0]) * cos(2 * pi * t) * cos(2 * pi * x[0]) / (A_tilde + a_tilde * sin(2 * pi * x[0]) * cos(2 * pi * t))'),\n",
        "                    a_tilde = a_tilde, A_tilde = A_tilde, K_tilde = K_tilde, L = L, T = T, rho = rho, degree = 1, t = 0)\n",
        "\n",
        "f = dU_dt + S + dF_dx\n",
        "f_n = project(f, V)\n",
        "\n",
        "df_dt = dU_dt_dt + dS_dt + dF_dx_dt\n",
        "df_dt_n = project(df_dt, V)"
      ],
      "metadata": {
        "id": "qOdbxyotyB_E"
      },
      "execution_count": 563,
      "outputs": []
    },
    {
      "cell_type": "code",
      "source": [
        "def H(A, q):\n",
        "  return as_tensor([[0, 1], [1190476.19048 * A ** 0.5 - (q / A) ** 2, 2 * q / A]])\n",
        "\n",
        "def F(A, q):\n",
        "  return as_vector([q, 793650.79365 * A ** 1.5 - 6.34921 + q ** 2 / A])\n",
        "\n",
        "def B(A, q):\n",
        "  return as_vector([0, k_r * q / A])\n",
        "\n",
        "def S(A, q):\n",
        "  return as_vector([0, k_r * q / A])\n",
        "\n",
        "def dS_dU(A, q):\n",
        "  return as_tensor([[0, 0], [- k_r * q / A ** 2, k_r / A]])"
      ],
      "metadata": {
        "id": "jAgHzjNSvYuj"
      },
      "execution_count": 564,
      "outputs": []
    },
    {
      "cell_type": "code",
      "source": [
        "def U(A, q):\n",
        "  return np.array([A, q])\n",
        "\n",
        "def H_vec(A, q):\n",
        "  return np.array([[0, 1], [1190476.19048 * A ** 0.5 - (q / A) ** 2, 2 * q / A]])\n",
        "\n",
        "def B_vec(A, q):\n",
        "  return np.array([0, k_r * q / A])\n",
        "\n",
        "def S_vec(A, q):\n",
        "  return np.array([0, k_r * q / A])\n",
        "\n",
        "def c_alpha(A, q, alpha = 1):\n",
        "  return (1190476.19048 * A ** 0.5 + (q / A) ** 2 * alpha * (alpha - 1)) ** 0.5\n",
        "\n",
        "def l1(A, q, alpha = 1):\n",
        "  return np.array([c_alpha(A, q, alpha) - alpha * q / A, 1.])\n",
        "\n",
        "def l2(A, q, alpha = 1):\n",
        "  return np.array([- c_alpha(A, q, alpha) - alpha * q / A, 1.])\n",
        "\n",
        "def CC(A, q, u_der, x):\n",
        "  du_dz = project(u_der, V_der)(x)\n",
        "  return U(A, q) - dt * H_vec(A, q) @ du_dz - dt * B_vec(A, q) + dt * f([x, x, x])"
      ],
      "metadata": {
        "id": "QetUIYLIe81R"
      },
      "execution_count": 565,
      "outputs": []
    },
    {
      "cell_type": "code",
      "source": [
        "def inlet_bc(A, q, u_der):\n",
        "  q_inlet = (np.dot(l2(A(x_left), q(x_left)), CC(A(x_left), q(x_left), u_der, x_left)) - l2(A(x_left), q(x_left))[0] * U(A(x_left), q(x_left))[0] ) / l2(A(x_left), q(x_left))[1]\n",
        "\n",
        "  return q_inlet\n",
        "\n",
        "def outlet_bc(A, q, u_der):\n",
        "  matrix = np.array([[1, -1], [c_alpha(A(x_right), q(x_right), alpha) + alpha * q(x_right) / A(x_right), c_alpha(A(x_right), q(x_right), alpha) - alpha * q(x_right) / A(x_right)]])\n",
        "  array = np.array([np.dot(l1(A(x_right), q(x_right)), CC(A(x_right), q(x_right), u_der, x_right)), np.dot(l2(A(x_right), q(x_right)), U(A(x_right), q(x_right)) - dt * S_vec(A(x_right), q(x_right)))])\n",
        "\n",
        "  A_out, q_out = matrix @ array / (2 * c_alpha(A(x_right), q(x_right)))\n",
        "\n",
        "  return A_out, q_out"
      ],
      "metadata": {
        "id": "gGb-E24uOvf6"
      },
      "execution_count": 566,
      "outputs": []
    },
    {
      "cell_type": "code",
      "source": [
        "def update_time_step(t, dt):\n",
        "  t += dt\n",
        "  q_exact.t = t\n",
        "  A_exact.t = t\n",
        "  dU_dt.t = t\n",
        "  S.t = t\n",
        "  dF_dx.t = t\n",
        "  dU_dt_dt.t = t\n",
        "  dS_dt.t = t\n",
        "  dF_dx_dt.t = t\n",
        "\n",
        "  return t"
      ],
      "metadata": {
        "id": "2iK6LOGHt9EX"
      },
      "execution_count": 567,
      "outputs": []
    },
    {
      "cell_type": "markdown",
      "source": [
        "# Initial guess and boundary conditions"
      ],
      "metadata": {
        "id": "YHQzLzas5kvm"
      }
    },
    {
      "cell_type": "code",
      "source": [
        "# Define initial guess\n",
        "A0 = 4e-4\n",
        "q0 = 0\n",
        "uh_old = interpolate(Expression(('A_tilde + a_tilde * sin(2 * pi / L * x[0])', 'q0'), degree = 2, A_tilde = A_tilde, a_tilde = a_tilde, L = L, q0 = q0), V)\n",
        "Ah_old, qh_old = uh_old.split()"
      ],
      "metadata": {
        "id": "esD4LK44w0i2"
      },
      "execution_count": 568,
      "outputs": []
    },
    {
      "cell_type": "code",
      "source": [
        "# Boundary condition\n",
        "inlet = 'near(x[0], 0)'\n",
        "outlet = 'near(x[0], 1)'\n",
        "A_inlet = A0\n",
        "q_inlet = inlet_bc(Ah_old, qh_old, uh_old.dx(0))\n",
        "A_outlet, q_outlet = outlet_bc(Ah_old, qh_old, uh_old.dx(0))\n",
        "print(f'A inlet = {A_inlet}, q inlet = {q_inlet}')\n",
        "print(f'A outlet = {A_outlet}, q outlet = {q_outlet}')\n",
        "\n",
        "# Dirichlet bc\n",
        "bc_A_inlet = DirichletBC(V.sub(0), A_inlet, inlet)\n",
        "# I should impose compatibility condition\n",
        "bc_q_inlet = DirichletBC(V.sub(1), q_inlet, inlet)\n",
        "\n",
        "# Non reflecting bc\n",
        "bc_A_outlet = DirichletBC(V.sub(0), A_outlet, outlet)\n",
        "# I should impose compatibility condition\n",
        "bc_q_outlet = DirichletBC(V.sub(1), q_outlet, outlet)\n",
        "\n",
        "bc = [bc_A_inlet, bc_q_inlet, bc_A_outlet, bc_q_outlet]"
      ],
      "metadata": {
        "id": "RbRHZ7RSkohh",
        "outputId": "f9e2af08-06f7-45fe-c093-3d55f95278e5",
        "colab": {
          "base_uri": "https://localhost:8080/"
        }
      },
      "execution_count": 569,
      "outputs": [
        {
          "output_type": "stream",
          "name": "stdout",
          "text": [
            "A inlet = 0.0004, q inlet = 1.2163243698765092e-06\n",
            "A outlet = 0.00040000394134142317, q outlet = 6.081621849393333e-07\n"
          ]
        }
      ]
    },
    {
      "cell_type": "markdown",
      "source": [
        "definution of the variational problem"
      ],
      "metadata": {
        "id": "S1ONKZfn5sJn"
      }
    },
    {
      "cell_type": "code",
      "source": [
        "# Define trial functions and test functions\n",
        "A, q = TrialFunctions(V)\n",
        "v, z = TestFunctions(V)\n",
        "\n",
        "# Define the variational problem\n",
        "def LinearProblem(A_old, q_old):\n",
        "  a = inner(A, v) * dx + inner(q, z) * dx\n",
        "\n",
        "  L = (\n",
        "        A_old * v * dx\n",
        "      + q_old * z * dx\n",
        "      + dt * ((F(A_old, q_old) - dt / 2 * dot(H(A_old, q_old), S(A_old, q_old))))[0] * v.dx(0) * dx\n",
        "      + dt * ((F(A_old, q_old) - dt / 2 * dot(H(A_old, q_old), S(A_old, q_old))))[1] * z.dx(0) * dx\n",
        "      + dt ** 2 / 2 * (dot(dS_dU(A_old, q_old), F(A_old, q_old).dx(0)))[0] * v * dx\n",
        "      + dt ** 2 / 2 * (dot(dS_dU(A_old, q_old), F(A_old, q_old).dx(0)))[1] * z * dx\n",
        "      - dt ** 2 / 2 * (dot(H(A_old, q_old), F(A_old, q_old).dx(0)))[0] * v.dx(0) * dx\n",
        "      - dt ** 2 / 2 * (dot(H(A_old, q_old), F(A_old, q_old).dx(0)))[1] * z.dx(0) * dx\n",
        "      - dt * (S(A_old, q_old) - dt / 2 * dot(dS_dU(A_old, q_old), S(A_old, q_old)))[0] * v * dx\n",
        "      - dt * (S(A_old, q_old) - dt / 2 * dot(dS_dU(A_old, q_old), S(A_old, q_old)))[1] * z * dx\n",
        "      + dt * f[0] * v * dx\n",
        "      + dt * f[1] * z * dx\n",
        "      + dt ** 2 / 2 * (dot(H(A_old, q_old), f_n))[0] * v.dx(0) * dx\n",
        "      + dt ** 2 / 2 * (dot(H(A_old, q_old), f_n))[1] * z.dx(0) * dx\n",
        "      + dt ** 2 / 2 * (- dot(dS_dU(A_old, q_old), f_n) + df_dt_n)[0] * v * dx\n",
        "      + dt ** 2 / 2 * (- dot(dS_dU(A_old, q_old), f_n) + df_dt_n)[1] * z * dx\n",
        "  )\n",
        "\n",
        "  return a, L"
      ],
      "metadata": {
        "id": "WxOkORNyxP5_"
      },
      "execution_count": 570,
      "outputs": []
    },
    {
      "cell_type": "markdown",
      "source": [
        "# Time solution"
      ],
      "metadata": {
        "id": "VTDgFTAo5vsV"
      }
    },
    {
      "cell_type": "code",
      "source": [
        "# Time stepping\n",
        "uh = Function(V)\n",
        "t = 0\n",
        "i = 0\n",
        "\n",
        "global_error_A = 0\n",
        "global_error_q = 0\n",
        "\n",
        "for n in range(round(num_steps)):\n",
        "\n",
        "  i +=1\n",
        "\n",
        "  # Update time step\n",
        "  t = update_time_step(t, dt)\n",
        "\n",
        "  # Solve the problem\n",
        "  a, L = LinearProblem(Ah_old, qh_old)\n",
        "  solve(a == L, uh, bc)\n",
        "  Ah, qh = uh.split(deepcopy = True)\n",
        "\n",
        "  A_e = interpolate(A_exact, V.sub(0).collapse())\n",
        "  q_e = interpolate(q_exact, V.sub(1).collapse())\n",
        "  error = np.array([errornorm(Ah, A_e, 'L2'), errornorm(qh, q_e, 'L2')])\n",
        "\n",
        "  if error[0] > global_error_A:\n",
        "    global_error_A = error[0]\n",
        "\n",
        "  if error[1] > global_error_q:\n",
        "    global_error_q = error[1]\n",
        "\n",
        "  # Compute errors\n",
        "  if (i % 100 == 0):\n",
        "    print(f'Interation {i} / {round(num_steps)}')\n",
        "    print(f't = %.4f: error = {error}' % (t))\n",
        "    print(f'Global error A = {global_error_A}, Global error q = {global_error_q}')\n",
        "    print()\n",
        "\n",
        "  # Update previous solution\n",
        "  Ah_old.assign(Ah)\n",
        "  qh_old.assign(qh)\n",
        "\n",
        "  q_inlet = inlet_bc(Ah_old, qh_old, uh.dx(0))\n",
        "  A_outlet, q_outlet = outlet_bc(Ah_old, qh_old, uh.dx(0))"
      ],
      "metadata": {
        "id": "1g5fnjK7cA-T",
        "outputId": "c2ee9cab-bded-4f79-c0da-5fc2e3c530ac",
        "colab": {
          "base_uri": "https://localhost:8080/"
        }
      },
      "execution_count": null,
      "outputs": [
        {
          "output_type": "stream",
          "name": "stdout",
          "text": [
            "Calling FFC just-in-time (JIT) compiler, this may take some time.\n"
          ]
        },
        {
          "output_type": "stream",
          "name": "stderr",
          "text": [
            "Level 25:FFC:Calling FFC just-in-time (JIT) compiler, this may take some time.\n",
            "INFO:FFC:Compiling form ffc_form_870433db2c2a0a1991e9830e227ebf2a3b296a39\n",
            "\n",
            "INFO:FFC:Compiler stage 1: Analyzing form(s)\n",
            "INFO:FFC:-----------------------------------\n",
            "DEBUG:FFC:  Preprocessing form using 'uflacs' representation family.\n",
            "INFO:UFL_LEGACY:Adjusting missing element cell to interval.\n",
            "INFO:UFL_LEGACY:Adjusting missing element cell to interval.\n",
            "INFO:UFL_LEGACY:Adjusting missing element cell to interval.\n",
            "INFO:UFL_LEGACY:Adjusting missing element cell to interval.\n",
            "INFO:UFL_LEGACY:Adjusting missing element cell to interval.\n",
            "INFO:UFL_LEGACY:Adjusting missing element cell to interval.\n",
            "INFO:UFL_LEGACY:Adjusting missing element cell to interval.\n",
            "INFO:UFL_LEGACY:Adjusting missing element cell to interval.\n",
            "INFO:UFL_LEGACY:Adjusting missing element cell to interval.\n",
            "INFO:FFC:  \n",
            "INFO:FFC:  Geometric dimension:       1\n",
            "  Number of cell subdomains: 0\n",
            "  Rank:                      1\n",
            "  Arguments:                 '(v_0)'\n",
            "  Number of coefficients:    7\n",
            "  Coefficients:              '[f_7067318, f_7067319, f_7067320, f_7067330, f_7067345\n",
            "                             , f_7067355-0, f_7067355-1]'\n",
            "  Unique elements:           'Mixed<CG1(?,?), CG1(?,?)>, Vector<2 x CG1(?,?)>, CG1(?\n",
            "                             ,?), Vector<1 x CG1(?,?)>'\n",
            "  Unique sub elements:       'Mixed<CG1(?,?), CG1(?,?)>, Vector<2 x CG1(?,?)>, CG1(?\n",
            "                             ,?), Vector<1 x CG1(?,?)>'\n",
            "  \n",
            "INFO:FFC:  representation:    auto --> uflacs\n",
            "INFO:FFC:  quadrature_rule:   auto --> default\n",
            "INFO:FFC:  quadrature_degree: auto --> 8\n",
            "INFO:FFC:  quadrature_degree: 8\n",
            "INFO:FFC:  \n",
            "INFO:FFC:Compiler stage 1 finished in 0.10149 seconds.\n",
            "\n",
            "INFO:FFC:Compiler stage 2: Computing intermediate representation\n",
            "INFO:FFC:-------------------------------------------------------\n",
            "INFO:FFC:  Computing representation of 0 elements\n",
            "INFO:FFC:  Computing representation of 0 dofmaps\n",
            "INFO:FFC:  Computing representation of 0 coordinate mappings\n",
            "INFO:FFC:  Computing representation of integrals\n",
            "INFO:FFC:  Computing uflacs representation\n",
            "DEBUG:FFC:  Reusing element from cache\n",
            "DEBUG:FFC:  Reusing element from cache\n",
            "DEBUG:FFC:  Reusing element from cache\n",
            "DEBUG:FFC:  Reusing element from cache\n",
            "DEBUG:FFC:  Reusing element from cache\n",
            "DEBUG:FFC:  Reusing element from cache\n",
            "DEBUG:FFC:  Reusing element from cache\n",
            "DEBUG:FFC:  Reusing element from cache\n",
            "DEBUG:FFC:  Reusing element from cache\n",
            "DEBUG:FFC:  Reusing element from cache\n",
            "DEBUG:FFC:  Reusing element from cache\n",
            "DEBUG:FFC:  Reusing element from cache\n",
            "DEBUG:FFC:  Reusing element from cache\n",
            "DEBUG:FFC:  Reusing element from cache\n",
            "DEBUG:FFC:  Reusing element from cache\n",
            "DEBUG:FFC:  Reusing element from cache\n",
            "DEBUG:FFC:  Reusing element from cache\n",
            "DEBUG:UFL_LEGACY:Blocks of each mode: \n",
            "  4\tfull\n",
            "INFO:FFC:  Computing representation of forms\n",
            "INFO:FFC:  \n",
            "INFO:FFC:Compiler stage 2 finished in 0.137986 seconds.\n",
            "\n",
            "INFO:FFC:Compiler stage 3: Optimizing intermediate representation\n",
            "INFO:FFC:--------------------------------------------------------\n",
            "INFO:FFC:  Optimizing uflacs representation\n",
            "INFO:FFC:  \n",
            "INFO:FFC:Compiler stage 3 finished in 0.00409818 seconds.\n",
            "\n",
            "INFO:FFC:Compiler stage 4: Generating code\n",
            "INFO:FFC:---------------------------------\n",
            "INFO:FFC:  Generating code for 0 finite_element(s)\n",
            "INFO:FFC:  Generating code for 0 dofmap(s)\n",
            "INFO:FFC:  Generating code for 0 coordinate_mapping(s)\n",
            "INFO:FFC:  Generating code for integrals\n",
            "INFO:FFC:  Generating code from ffc.uflacs representation\n",
            "INFO:FFC:  Generating code for forms\n",
            "INFO:FFC:  \n",
            "INFO:FFC:Compiler stage 4 finished in 0.0294671 seconds.\n",
            "\n",
            "INFO:FFC:Compiler stage 4.1 finished in 3.8147e-06 seconds.\n",
            "\n",
            "INFO:FFC:Compiler stage 5: Formatting code\n",
            "INFO:FFC:---------------------------------\n",
            "INFO:FFC:  \n",
            "INFO:FFC:Compiler stage 5 finished in 0.00359344 seconds.\n",
            "\n",
            "INFO:FFC:FFC finished in 0.283695 seconds.\n"
          ]
        },
        {
          "output_type": "stream",
          "name": "stdout",
          "text": [
            "Interation 100 / 20000\n",
            "t = 0.0050: error = [4.47237268e-09 7.40298797e-07]\n",
            "Global error A = 4.478133004895281e-09, Global error q = 7.402987973787038e-07\n",
            "\n",
            "Interation 200 / 20000\n",
            "t = 0.0100: error = [4.27448645e-09 2.15629553e-06]\n",
            "Global error A = 4.478133004895281e-09, Global error q = 2.1562955255543845e-06\n",
            "\n",
            "Interation 300 / 20000\n",
            "t = 0.0150: error = [4.61888209e-09 3.68503361e-06]\n",
            "Global error A = 4.618882092131027e-09, Global error q = 3.685033608166924e-06\n",
            "\n",
            "Interation 400 / 20000\n",
            "t = 0.0200: error = [4.97582131e-09 5.37888238e-06]\n",
            "Global error A = 4.975821313168878e-09, Global error q = 5.378882375075861e-06\n",
            "\n",
            "Interation 500 / 20000\n",
            "t = 0.0250: error = [5.34999288e-09 7.23539997e-06]\n",
            "Global error A = 5.349992884096708e-09, Global error q = 7.235399973095172e-06\n",
            "\n",
            "Interation 600 / 20000\n",
            "t = 0.0300: error = [5.73996413e-09 9.25426266e-06]\n",
            "Global error A = 5.7399641286584935e-09, Global error q = 9.25426266028128e-06\n",
            "\n",
            "Interation 700 / 20000\n",
            "t = 0.0350: error = [6.14456631e-09 1.14350252e-05]\n",
            "Global error A = 6.144566306371629e-09, Global error q = 1.1435025169725868e-05\n",
            "\n",
            "Interation 800 / 20000\n",
            "t = 0.0400: error = [6.56279364e-09 1.37769057e-05]\n",
            "Global error A = 6.562793642564726e-09, Global error q = 1.3776905667759803e-05\n",
            "\n",
            "Interation 900 / 20000\n",
            "t = 0.0450: error = [6.99376498e-09 1.62787655e-05]\n",
            "Global error A = 6.99376497600563e-09, Global error q = 1.6278765522658158e-05\n",
            "\n",
            "Interation 1000 / 20000\n",
            "t = 0.0500: error = [7.43669371e-09 1.89391301e-05]\n",
            "Global error A = 7.4366937050108565e-09, Global error q = 1.8939130119239764e-05\n",
            "\n",
            "Interation 1100 / 20000\n",
            "t = 0.0550: error = [7.89086403e-09 2.17562171e-05]\n",
            "Global error A = 7.890864034355276e-09, Global error q = 2.1756217096411408e-05\n",
            "\n",
            "Interation 1200 / 20000\n",
            "t = 0.0600: error = [8.35561236e-09 2.47279633e-05]\n",
            "Global error A = 8.355612362649491e-09, Global error q = 2.4727963275904608e-05\n",
            "\n",
            "Interation 1300 / 20000\n",
            "t = 0.0650: error = [8.83031278e-09 2.78520482e-05]\n",
            "Global error A = 8.830312776816833e-09, Global error q = 2.7852048238164674e-05\n",
            "\n",
            "Interation 1400 / 20000\n",
            "t = 0.0700: error = [9.31436580e-09 3.11259144e-05]\n",
            "Global error A = 9.314365803486274e-09, Global error q = 3.1125914444340987e-05\n",
            "\n",
            "Interation 1500 / 20000\n",
            "t = 0.0750: error = [9.80718973e-09 3.45467843e-05]\n",
            "Global error A = 9.807189733095436e-09, Global error q = 3.4546784343168354e-05\n",
            "\n",
            "Interation 1600 / 20000\n",
            "t = 0.0800: error = [1.0308214e-08 3.8111675e-05]\n",
            "Global error A = 1.0308213975507472e-08, Global error q = 3.8111674997412905e-05\n",
            "\n",
            "Interation 1700 / 20000\n",
            "t = 0.0850: error = [1.08168740e-08 4.18174107e-05]\n",
            "Global error A = 1.0816874023341652e-08, Global error q = 4.181741072200453e-05\n",
            "\n",
            "Interation 1800 / 20000\n",
            "t = 0.0900: error = [1.13326077e-08 4.56606341e-05]\n",
            "Global error A = 1.133260769171475e-08, Global error q = 4.566063414786296e-05\n",
            "\n",
            "Interation 1900 / 20000\n",
            "t = 0.0950: error = [1.18548524e-08 4.96378160e-05]\n",
            "Global error A = 1.1854852374712737e-08, Global error q = 4.963781604707054e-05\n",
            "\n",
            "Interation 2000 / 20000\n",
            "t = 0.1000: error = [1.23830431e-08 5.37452642e-05]\n",
            "Global error A = 1.2383043116324525e-08, Global error q = 5.374526418714945e-05\n",
            "\n",
            "Interation 2100 / 20000\n",
            "t = 0.1050: error = [1.29166113e-08 5.79791314e-05]\n",
            "Global error A = 1.2916611334606564e-08, Global error q = 5.797913142638726e-05\n",
            "\n",
            "Interation 2200 / 20000\n",
            "t = 0.1100: error = [1.34549841e-08 6.23354232e-05]\n",
            "Global error A = 1.3454984072494615e-08, Global error q = 6.233542321712202e-05\n",
            "\n",
            "Interation 2300 / 20000\n",
            "t = 0.1150: error = [1.39975837e-08 6.68100046e-05]\n",
            "Global error A = 1.3997583674781106e-08, Global error q = 6.681000464904683e-05\n",
            "\n",
            "Interation 2400 / 20000\n",
            "t = 0.1200: error = [1.45438278e-08 7.13986071e-05]\n",
            "Global error A = 1.4543827807964569e-08, Global error q = 7.139860713659077e-05\n",
            "\n",
            "Interation 2500 / 20000\n",
            "t = 0.1250: error = [1.50931298e-08 7.60968348e-05]\n",
            "Global error A = 1.5093129758423348e-08, Global error q = 7.609683483236452e-05\n",
            "\n",
            "Interation 2600 / 20000\n",
            "t = 0.1300: error = [1.56448990e-08 8.09001708e-05]\n",
            "Global error A = 1.5644898953696606e-08, Global error q = 8.090017083204214e-05\n",
            "\n",
            "Interation 2700 / 20000\n",
            "t = 0.1350: error = [1.61985417e-08 8.58039832e-05]\n",
            "Global error A = 1.6198541662357554e-08, Global error q = 8.580398322172862e-05\n",
            "\n",
            "Interation 2800 / 20000\n",
            "t = 0.1400: error = [1.67534618e-08 9.08035310e-05]\n",
            "Global error A = 1.6753461835268982e-08, Global error q = 9.080353100876864e-05\n",
            "\n",
            "Interation 2900 / 20000\n",
            "t = 0.1450: error = [1.73090621e-08 9.58939700e-05]\n",
            "Global error A = 1.7309062056788503e-08, Global error q = 9.589396996796093e-05\n",
            "\n",
            "Interation 3000 / 20000\n",
            "t = 0.1500: error = [1.78647446e-08 1.01070358e-04]\n",
            "Global error A = 1.7864744577816997e-08, Global error q = 0.00010107035842853084\n",
            "\n",
            "Interation 3100 / 20000\n",
            "t = 0.1550: error = [1.84199124e-08 1.06327663e-04]\n",
            "Global error A = 1.841991241046565e-08, Global error q = 0.00010632766302143539\n",
            "\n",
            "Interation 3200 / 20000\n",
            "t = 0.1600: error = [1.89739705e-08 1.11660764e-04]\n",
            "Global error A = 1.8973970461501135e-08, Global error q = 0.00011166076440258975\n",
            "\n",
            "Interation 3300 / 20000\n",
            "t = 0.1650: error = [1.95263267e-08 1.17064463e-04]\n",
            "Global error A = 1.9526326689426953e-08, Global error q = 0.00011706446296354406\n",
            "\n",
            "Interation 3400 / 20000\n",
            "t = 0.1700: error = [2.00763933e-08 1.22533485e-04]\n",
            "Global error A = 2.0076393268942596e-08, Global error q = 0.0001225334845385364\n",
            "\n",
            "Interation 3500 / 20000\n",
            "t = 0.1750: error = [2.06235878e-08 1.28062486e-04]\n",
            "Global error A = 2.0623587750586464e-08, Global error q = 0.0001280624861142473\n",
            "\n",
            "Interation 3600 / 20000\n",
            "t = 0.1800: error = [2.11673342e-08 1.33646062e-04]\n",
            "Global error A = 2.1167334201913276e-08, Global error q = 0.000133646061546857\n",
            "\n",
            "Interation 3700 / 20000\n",
            "t = 0.1850: error = [2.17070643e-08 1.39278747e-04]\n",
            "Global error A = 2.170706432175853e-08, Global error q = 0.0001392787472891466\n",
            "\n",
            "Interation 3800 / 20000\n",
            "t = 0.1900: error = [2.22422185e-08 1.44955028e-04]\n",
            "Global error A = 2.224221851785375e-08, Global error q = 0.00014495502812903767\n",
            "\n",
            "Interation 3900 / 20000\n",
            "t = 0.1950: error = [2.27722469e-08 1.50669343e-04]\n",
            "Global error A = 2.277224693866846e-08, Global error q = 0.0001506693429403316\n",
            "\n",
            "Interation 4000 / 20000\n",
            "t = 0.2000: error = [2.32966105e-08 1.56416090e-04]\n",
            "Global error A = 2.329661045179135e-08, Global error q = 0.00015641609044462362\n",
            "\n",
            "Interation 4100 / 20000\n",
            "t = 0.2050: error = [2.38147816e-08 1.62189635e-04]\n",
            "Global error A = 2.3814781565893714e-08, Global error q = 0.00016218963498348954\n",
            "\n",
            "Interation 4200 / 20000\n",
            "t = 0.2100: error = [2.43262453e-08 1.67984312e-04]\n",
            "Global error A = 2.4326245286055217e-08, Global error q = 0.0001679843122987038\n",
            "\n",
            "Interation 4300 / 20000\n",
            "t = 0.2150: error = [2.48304999e-08 1.73794435e-04]\n",
            "Global error A = 2.4830499901446306e-08, Global error q = 0.0001737944353182681\n",
            "\n",
            "Interation 4400 / 20000\n",
            "t = 0.2200: error = [2.53270577e-08 1.79614300e-04]\n",
            "Global error A = 2.5327057698040147e-08, Global error q = 0.00017961429994480085\n",
            "\n",
            "Interation 4500 / 20000\n",
            "t = 0.2250: error = [2.58154456e-08 1.85438191e-04]\n",
            "Global error A = 2.581544559625964e-08, Global error q = 0.00018543819084368567\n",
            "\n",
            "Interation 4600 / 20000\n",
            "t = 0.2300: error = [2.62952057e-08 1.91260387e-04]\n",
            "Global error A = 2.6295205708895764e-08, Global error q = 0.00019126038722644848\n",
            "\n"
          ]
        }
      ]
    },
    {
      "cell_type": "code",
      "source": [
        "print(f'h = {h}, dt = {dt} : Global error A = {global_error_A}, Global error q = {global_error_q}')"
      ],
      "metadata": {
        "id": "Ne9IdmjW_WE6"
      },
      "execution_count": null,
      "outputs": []
    },
    {
      "cell_type": "code",
      "source": [],
      "metadata": {
        "id": "2x32kdlsAF3T"
      },
      "execution_count": null,
      "outputs": []
    }
  ]
}