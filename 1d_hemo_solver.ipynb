{
  "nbformat": 4,
  "nbformat_minor": 0,
  "metadata": {
    "colab": {
      "provenance": [],
      "authorship_tag": "ABX9TyN6TvUvQO8jECK8yH7zY6r4",
      "include_colab_link": true
    },
    "kernelspec": {
      "name": "python3",
      "display_name": "Python 3"
    },
    "language_info": {
      "name": "python"
    }
  },
  "cells": [
    {
      "cell_type": "markdown",
      "metadata": {
        "id": "view-in-github",
        "colab_type": "text"
      },
      "source": [
        "<a href=\"https://colab.research.google.com/github/Riky2014/Tesi/blob/main/1d_hemo_solver.ipynb\" target=\"_parent\"><img src=\"https://colab.research.google.com/assets/colab-badge.svg\" alt=\"Open In Colab\"/></a>"
      ]
    },
    {
      "cell_type": "code",
      "source": [
        "%%capture\n",
        "!apt-get install software-properties-common\n",
        "!add-apt-repository -y ppa:fenics-packages/fenics\n",
        "!apt-get update -qq\n",
        "!apt install fenics"
      ],
      "metadata": {
        "id": "Vk2md9CPA9f1"
      },
      "execution_count": 5,
      "outputs": []
    },
    {
      "cell_type": "code",
      "source": [
        "from fenics import *\n",
        "import numpy as np\n",
        "import matplotlib.pyplot as plt"
      ],
      "metadata": {
        "id": "qzvdV-jaGZG6"
      },
      "execution_count": 6,
      "outputs": []
    },
    {
      "cell_type": "code",
      "execution_count": 11,
      "metadata": {
        "id": "uYE6EYza9Az2"
      },
      "outputs": [],
      "source": [
        "# Data\n",
        "A0 = 4e-4\n",
        "q0 = 0\n",
        "k_r = 2.416e-4\n",
        "rho = 1.05\n",
        "alpha = 1\n",
        "\n",
        "T = 1\n",
        "x_left = 0\n",
        "x_right = 1.0\n",
        "\n",
        "# Discretization parameter\n",
        "dt = 2e-4\n",
        "h = 1e-1\n",
        "num_steps = T / dt\n",
        "N = int((x_right - x_left) / h)\n",
        "\n",
        "#  Create a mesh on the interval [0, 1].\n",
        "mesh = IntervalMesh(N, x_left, x_right)\n",
        "x = MeshCoordinates(mesh)\n",
        "\n",
        "# Define the function space\n",
        "P1 = FiniteElement('P', mesh.ufl_cell(), 1)\n",
        "element = MixedElement([P1, P1])\n",
        "V = FunctionSpace(mesh, element)"
      ]
    },
    {
      "cell_type": "code",
      "source": [
        "# Exact solution\n",
        "L = 1\n",
        "A_tilde = 4e-4\n",
        "a_tilde = 4e-5\n",
        "q_tilde = 0.0\n",
        "A_exact = Expression('A_tilde + a_tilde * sin(2 * pi / L * x[0]) * cos(2 * pi / T * t)', A_tilde = A_tilde, a_tilde = a_tilde, L = L, T = T, degree = 2, t = 0)\n",
        "q_exact = Expression('q_tilde - (a_tilde * L / T) * cos(2 * pi / L * x[0]) * sin(2 * pi / T * t)', q_tilde = q_tilde, a_tilde = a_tilde, L = L, T = T,degree = 2, t = 0)"
      ],
      "metadata": {
        "id": "qOdbxyotyB_E"
      },
      "execution_count": 13,
      "outputs": []
    },
    {
      "cell_type": "code",
      "source": [
        "def U(A, q):\n",
        "  return as_vector([A, q])\n",
        "\n",
        "def H(A, q):\n",
        "  return as_tensor([[0, 1], [1190476.19048 * A ** 0.5 - (q / A) ** 2, 2 * q / A]])\n",
        "\n",
        "def F(A, q):\n",
        "  return as_vector([q, 793650.79365 * A ** 1.5 - 6.34921 + q ** 2 / A])\n",
        "\n",
        "def B(A, q):\n",
        "  return as_vector([0, k_r * q / A])\n",
        "\n",
        "def S(A, q):\n",
        "  return as_vector([0, k_r * q / A])\n",
        "\n",
        "def dS_dU(A, q):\n",
        "  return as_tensor([[0, 0], [- k_r * q / A ** 2, k_r / A]])"
      ],
      "metadata": {
        "id": "jAgHzjNSvYuj"
      },
      "execution_count": 14,
      "outputs": []
    },
    {
      "cell_type": "code",
      "source": [
        "#  derivative function spoace\n",
        "\n",
        "D1 = FiniteElement('DG', mesh.ufl_cell(), 0)\n",
        "element_der = MixedElement([D1, D1])\n",
        "V_der = FunctionSpace(mesh, element_der)\n",
        "\n"
      ],
      "metadata": {
        "id": "ZLLQBOWJZdd9"
      },
      "execution_count": null,
      "outputs": []
    },
    {
      "cell_type": "code",
      "source": [
        "# Modity in order to pass only the singolor value of each expression at the inlet or at the outlet\n",
        "\n",
        "def c_alpha(A, q, alpha = 1):\n",
        "  return (1190476.19048 * A ** 0.5 + (q / A) ** 2 * alpha * (alpha - 1)) ** 0.5\n",
        "\n",
        "def l1(A, q, alpha = 1):\n",
        "  return as_vector([c_alpha(A, q, alpha) - alpha * q / A, 1.])\n",
        "\n",
        "def l2(A, q, alpha = 1):\n",
        "  return ([- c_alpha(A, q, alpha) - alpha * q / A, 1.])\n",
        "\n",
        "def CC(A, q,U_der):\n",
        "  # pass the derivative interpolated on V_der\n",
        "  return U(A, q) - dt * dot(H(A, q), U(A, q).dx(0)) - dt * B(A, q) + dt * f"
      ],
      "metadata": {
        "id": "QetUIYLIe81R"
      },
      "execution_count": 44,
      "outputs": []
    },
    {
      "cell_type": "code",
      "source": [
        "uh = Function(V)\n",
        "uh=interpolate(Constant((1.0,1.0)),V)\n",
        "Ah, qh = uh.split()"
      ],
      "metadata": {
        "id": "EGxXrtXNa0v3"
      },
      "execution_count": 39,
      "outputs": []
    },
    {
      "cell_type": "code",
      "source": [
        "np.dot(l2(Ah(1.), qh(0.)), l2(Ah(1.), qh(0.)) )"
      ],
      "metadata": {
        "id": "8Ie1XhXLbOjc",
        "outputId": "3b9f1474-e420-4001-a3ca-ccb072d577f5",
        "colab": {
          "base_uri": "https://localhost:8080/"
        }
      },
      "execution_count": 47,
      "outputs": [
        {
          "output_type": "execute_result",
          "data": {
            "text/plain": [
              "1192660.3693823637"
            ]
          },
          "metadata": {},
          "execution_count": 47
        }
      ]
    },
    {
      "cell_type": "code",
      "source": [
        "def inlet_bc(A, q):\n",
        "  q_inlet = (\n",
        "      (project(l2(A, q)[0] * CC(A, q)[0], V.sub(0).collapse()).compute_vertex_values(mesh)\n",
        "      + project(l2(A, q)[1] * CC(A, q)[1], V.sub(1).collapse()).compute_vertex_values(mesh)\n",
        "      - project(l2(A, q)[0] * U(A, q)[0], V.sub(0).collapse()).compute_vertex_values(mesh))\n",
        "      / project(l2(A, q)[1] , V.sub(1).collapse()).compute_vertex_values(mesh)\n",
        "  )[0]\n",
        "\n",
        "  return q_inlet\n",
        "\n",
        "\n",
        ""
      ],
      "metadata": {
        "id": "cU3vBJy_Hav4"
      },
      "execution_count": 16,
      "outputs": []
    },
    {
      "cell_type": "code",
      "source": [
        "def outlet_matrix(A, q):\n",
        "  return as_tensor([[1, -1], [c_alpha(A, q, alpha) + alpha * q / A, c_alpha(A, q, alpha) - alpha * q / A]])\n",
        "\n",
        "def outlet_vector(A, q):\n",
        "  return as_vector([l1(A, q)[0] * CC(A, q)[0] + l1(A, q)[1] * CC(A, q)[1], l2(A, q)[0] * (U(A, q) - dt * S(A, q))[0] + l2(A, q)[1] * (U(A, q) - dt * S(A, q))[1]])\n",
        "\n",
        "def outlet_bc(A, q):\n",
        "  A_out_fun, q_out_fun = project(dot(outlet_matrix(A, q), outlet_vector(A, q)) / (2 * c_alpha(A, q)), V).split()\n",
        "  A_outlet = A_out_fun.compute_vertex_values(mesh)[-1]\n",
        "  q_outlet = q_out_fun.compute_vertex_values(mesh)[-1]\n",
        "\n",
        "  return A_outlet, q_outlet"
      ],
      "metadata": {
        "id": "11Gyt0ItRnat"
      },
      "execution_count": 17,
      "outputs": []
    },
    {
      "cell_type": "code",
      "source": [
        "# Define the source term\n",
        "f = Expression(('0','5.98399 * pow((0.1 * sin(6.28319*x[0]) * cos(6.28319*t) + 1), 0.5) * cos(6.28319*t) * cos(6.28319*x[0]) - 0.00025 * cos(6.28319*t) * cos(6.28319*x[0])'), degree = 2, t = 0)\n",
        "df_dt = Expression(('0', '-1.87993 * sin(6.28319*t) * sin(6.28319*x[0]) * cos(6.28319*t) * cos(6.28319*x[0]) / pow((0.1 * sin(6.28319*x[0]) * cos(6.28319*t) + 1), 0.5) - 37.5985 * pow((0.1*sin(6.28319 * x[0]) * cos(6.28319*t) + 1), 0.5) * sin(6.28319*t) * cos(6.28319*x[0]) + 0.00157 * sin(6.28319*t) * cos(6.28319*x[0])'), degree = 2, t = 0)\n",
        "\n",
        "f_n = interpolate(f, V)\n",
        "df_dt_n = interpolate(df_dt, V)"
      ],
      "metadata": {
        "id": "k7r-1uIGlihi"
      },
      "execution_count": 18,
      "outputs": []
    },
    {
      "cell_type": "code",
      "source": [
        "# # Define the source term\n",
        "# f = Expression(('0','5.98399 * pow((0.1 * sin(6.28319*x[0]) * cos(6.28319*t) + 1), 0.5) * cos(6.28319*t) * cos(6.28319*x[0]) - 0.00025 * cos(6.28319*t) * cos(6.28319*x[0]) - 0.0001 * sin(6.28319*t) * cos(6.28319*x[0]) / (4.0e-5 * sin(6.28319*x[0]) * cos(6.28319*t) + 0.0004)'), degree = 2, t = 0)\n",
        "# df_dt = Expression(('0', '-1.87993 * sin(6.28319*t) * sin(6.28319*x[0]) * cos(6.28319*t) * cos(6.28319*x[0]) / pow((0.1 * sin(6.28319*x[0]) * cos(6.28319*t) + 1), 0.5) - 37.5985 * pow((0.1 * sin(6.28319*x[0]) * cos(6.28319*t) + 1), 0.5) * sin(6.28319*t) * cos(6.28319*x[0]) + 0.00157 * sin(6.28319*t) * cos(6.28319*x[0]) - 0.15752 * pow(sin(6.28319*t), 2) * sin(6.28319*x[0])* cos(6.28319*x[0]) / pow((0.1 * sin(6.28319*x[0]) * cos(6.28319*t) + 1), 2) - 0.00063 * cos(6.28319*t) * cos(6.28319*x[0]) / (4.0e-5 * sin(6.28319*x[0]) * cos(6.28319*t) + 0.0004)'), degree = 2, t = 0)\n",
        "\n",
        "# f_n = interpolate(f, V)\n",
        "# df_dt_n = interpolate(df_dt, V)"
      ],
      "metadata": {
        "id": "sHL4CJ5s0Mmu"
      },
      "execution_count": 19,
      "outputs": []
    },
    {
      "cell_type": "code",
      "source": [
        "# Define initial guess\n",
        "uh_old = interpolate(Expression(('A_tilde + a_tilde * sin(2 * pi / L * x[0])', 'q0'), degree = 2, A_tilde = A_tilde, a_tilde = a_tilde, L = L, q0 = q0), V)\n",
        "Ah_old, q_old = uh_old.split()"
      ],
      "metadata": {
        "id": "esD4LK44w0i2"
      },
      "execution_count": 50,
      "outputs": []
    },
    {
      "cell_type": "code",
      "source": [],
      "metadata": {
        "id": "Ji4kUtyO2gjy",
        "outputId": "4d534045-2470-4ceb-8c61-bb61a7b4f5d4",
        "colab": {
          "base_uri": "https://localhost:8080/"
        }
      },
      "execution_count": 55,
      "outputs": [
        {
          "output_type": "execute_result",
          "data": {
            "text/plain": [
              "0.0004"
            ]
          },
          "metadata": {},
          "execution_count": 55
        }
      ]
    },
    {
      "cell_type": "code",
      "source": [
        "# Boundary condition\n",
        "inlet = 'near(x[0], 0)'\n",
        "outlet = 'near(x[0], 1)'\n",
        "A_inlet = A0\n",
        "q_inlet = inlet_bc(A_old, q_old)\n",
        "A_outlet, q_outlet = outlet_bc(A_old, q_old)\n",
        "print(f'A inlet = {A_inlet}, q inlet = {q_inlet}')\n",
        "print(f'A outlet = {A_outlet}, q outlet = {q_outlet}')\n",
        "\n",
        "# Dirichlet bc\n",
        "bc_A_inlet = DirichletBC(V.sub(0), A_inlet, inlet)\n",
        "# I should impose compatibility condition\n",
        "bc_q_inlet = DirichletBC(V.sub(1), q_inlet, inlet)\n",
        "\n",
        "# Non reflecting bc\n",
        "bc_A_outlet = DirichletBC(V.sub(0), A_outlet, outlet)\n",
        "# I should impose compatibility condition\n",
        "bc_q_outlet = DirichletBC(V.sub(1), q_outlet, outlet)\n",
        "\n",
        "bc = [bc_A_inlet, bc_q_inlet, bc_A_outlet, bc_q_outlet]"
      ],
      "metadata": {
        "id": "RbRHZ7RSkohh",
        "outputId": "bad7bd45-1916-435c-a7d3-93bb621bb213",
        "colab": {
          "base_uri": "https://localhost:8080/"
        }
      },
      "execution_count": null,
      "outputs": [
        {
          "output_type": "stream",
          "name": "stdout",
          "text": [
            "A inlet = 0.0004, q inlet = 4.081314050279757e-05\n",
            "A outlet = 0.0004001306839320736, q outlet = 2.0299488021142842e-05\n"
          ]
        }
      ]
    },
    {
      "cell_type": "code",
      "source": [
        "# Define trial functions and test functions\n",
        "A, q = TrialFunctions(V)\n",
        "v, z = TestFunctions(V)\n",
        "\n",
        "# Define the variational problem\n",
        "a = inner(A, v) * dx + inner(q, z) * dx\n",
        "\n",
        "L = (\n",
        "      A_old * v * dx\n",
        "    + q_old * z * dx\n",
        "    + dt * ((F(A_old, q_old) - dt / 2 * dot(H(A_old, q_old), S(A_old, q_old))))[0] * v.dx(0) * dx\n",
        "    + dt * ((F(A_old, q_old) - dt / 2 * dot(H(A_old, q_old), S(A_old, q_old))))[1] * z.dx(0) * dx\n",
        "    + dt ** 2 / 2 * (dot(dS_dU(A_old, q_old), F(A_old, q_old).dx(0)))[0] * v * dx\n",
        "    + dt ** 2 / 2 * (dot(dS_dU(A_old, q_old), F(A_old, q_old).dx(0)))[1] * z * dx\n",
        "    - dt ** 2 / 2 * (dot(H(A_old, q_old), F(A_old, q_old).dx(0)))[0] * v.dx(0) * dx\n",
        "    - dt ** 2 / 2 * (dot(H(A_old, q_old), F(A_old, q_old).dx(0)))[1] * z.dx(0) * dx\n",
        "    - dt * (S(A_old, q_old) - dt / 2 * dot(dS_dU(A_old, q_old), S(A_old, q_old)))[0] * v * dx\n",
        "    - dt * (S(A_old, q_old) - dt / 2 * dot(dS_dU(A_old, q_old), S(A_old, q_old)))[1] * z * dx\n",
        "    + dt * f[0] * v * dx\n",
        "    + dt * f[1] * z * dx\n",
        "    + dt ** 2 / 2 * (dot(H(A_old, q_old), f_n))[0] * v.dx(0) * dx\n",
        "    + dt ** 2 / 2 * (dot(H(A_old, q_old), f_n))[1] * z.dx(0) * dx\n",
        "    + dt ** 2 / 2 * (- dot(dS_dU(A_old, q_old), f_n) + df_dt_n)[0] * v * dx\n",
        "    + dt ** 2 / 2 * (- dot(dS_dU(A_old, q_old), f_n) + df_dt_n)[1] * z * dx\n",
        ")"
      ],
      "metadata": {
        "id": "WxOkORNyxP5_"
      },
      "execution_count": null,
      "outputs": []
    },
    {
      "cell_type": "code",
      "source": [
        "# Time stepping\n",
        "u = Function(V)\n",
        "t = 0\n",
        "i = 0\n",
        "for n in range(round(num_steps)):\n",
        "\n",
        "  i +=1\n",
        "\n",
        "  # Update time step\n",
        "  t += dt\n",
        "  f.t = t\n",
        "  df_dt.t = t\n",
        "  A_exact.t = t\n",
        "  q_exact.t = t\n",
        "\n",
        "  # Solve the problem\n",
        "  solve(a == L, u, bc)\n",
        "  A, q = u.split(deepcopy = True)\n",
        "\n",
        "  # Compute errors\n",
        "  if (i % 100 == 0):\n",
        "    print(f'Interation {i} / {round(num_steps)}')\n",
        "    A_e = interpolate(A_exact, V.sub(0).collapse())\n",
        "    q_e = interpolate(q_exact, V.sub(1).collapse())\n",
        "    error = np.array([errornorm(A, A_e, 'L2'), errornorm(q, q_e, 'L2')])\n",
        "    #error = np.array([(A.compute_vertex_values() - A_e.compute_vertex_values(mesh)).max(), (q.compute_vertex_values() - q_e.compute_vertex_values(mesh)).max()])\n",
        "    print(f't = %.4f: error = {error}' % (t))\n",
        "    print()\n",
        "\n",
        "  # Update previous solution\n",
        "  A_old.assign(A)\n",
        "  q_old.assign(q)\n",
        "\n",
        "  q_inlet = inlet_bc(A_old, q_old)\n",
        "  A_outlet, q_outlet = outlet_bc(A_old, q_old)"
      ],
      "metadata": {
        "id": "1g5fnjK7cA-T",
        "outputId": "e91babee-4b15-493c-bf85-07d1c03a5f47",
        "colab": {
          "base_uri": "https://localhost:8080/"
        }
      },
      "execution_count": null,
      "outputs": [
        {
          "output_type": "stream",
          "name": "stdout",
          "text": [
            "Interation 100 / 5000\n",
            "t = 0.0200: error = [9.20946202e-07 2.85563010e-05]\n",
            "\n",
            "Interation 200 / 5000\n",
            "t = 0.0400: error = [9.10919406e-07 1.68087861e-05]\n",
            "\n",
            "Interation 300 / 5000\n",
            "t = 0.0600: error = [8.91106644e-07 3.42104502e-05]\n",
            "\n",
            "Interation 400 / 5000\n",
            "t = 0.0800: error = [8.61853228e-07 7.53405930e-05]\n",
            "\n",
            "Interation 500 / 5000\n",
            "t = 0.1000: error = [8.23660486e-07 1.28597948e-04]\n",
            "\n",
            "Interation 600 / 5000\n",
            "t = 0.1200: error = [7.77170508e-07 1.91863231e-04]\n",
            "\n",
            "Interation 700 / 5000\n",
            "t = 0.1400: error = [7.23151447e-07 2.63864867e-04]\n",
            "\n",
            "Interation 800 / 5000\n",
            "t = 0.1600: error = [6.62485213e-07 3.43374555e-04]\n",
            "\n",
            "Interation 900 / 5000\n",
            "t = 0.1800: error = [5.96160781e-07 4.29097997e-04]\n",
            "\n",
            "Interation 1000 / 5000\n",
            "t = 0.2000: error = [5.25278048e-07 5.19662844e-04]\n",
            "\n",
            "Interation 1100 / 5000\n",
            "t = 0.2200: error = [4.51071901e-07 6.13629499e-04]\n",
            "\n",
            "Interation 1200 / 5000\n",
            "t = 0.2400: error = [3.74980149e-07 7.09509429e-04]\n",
            "\n",
            "Interation 1300 / 5000\n",
            "t = 0.2600: error = [2.98823333e-07 8.05786574e-04]\n",
            "\n",
            "Interation 1400 / 5000\n",
            "t = 0.2800: error = [2.25320799e-07 9.00940157e-04]\n",
            "\n",
            "Interation 1500 / 5000\n",
            "t = 0.3000: error = [1.59767381e-07 9.93468006e-04]\n",
            "\n",
            "Interation 1600 / 5000\n",
            "t = 0.3200: error = [1.15242685e-07 1.08190983e-03]\n",
            "\n",
            "Interation 1700 / 5000\n",
            "t = 0.3400: error = [1.13992678e-07 1.16486996e-03]\n",
            "\n",
            "Interation 1800 / 5000\n",
            "t = 0.3600: error = [1.51427417e-07 1.24103922e-03]\n",
            "\n",
            "Interation 1900 / 5000\n",
            "t = 0.3800: error = [2.01913835e-07 1.30921547e-03]\n",
            "\n",
            "Interation 2000 / 5000\n",
            "t = 0.4000: error = [2.52519782e-07 1.36832259e-03]\n",
            "\n",
            "Interation 2100 / 5000\n",
            "t = 0.4200: error = [2.98246236e-07 1.41742742e-03]\n",
            "\n",
            "Interation 2200 / 5000\n",
            "t = 0.4400: error = [3.36683266e-07 1.45575461e-03]\n",
            "\n",
            "Interation 2300 / 5000\n",
            "t = 0.4600: error = [3.66410399e-07 1.48269890e-03]\n",
            "\n",
            "Interation 2400 / 5000\n",
            "t = 0.4800: error = [3.86524599e-07 1.49783474e-03]\n",
            "\n",
            "Interation 2500 / 5000\n",
            "t = 0.5000: error = [3.96486814e-07 1.50092304e-03]\n",
            "\n",
            "Interation 2600 / 5000\n",
            "t = 0.5200: error = [3.96069042e-07 1.49191496e-03]\n",
            "\n",
            "Interation 2700 / 5000\n",
            "t = 0.5400: error = [3.85336582e-07 1.47095264e-03]\n",
            "\n",
            "Interation 2800 / 5000\n",
            "t = 0.5600: error = [3.64646726e-07 1.43836691e-03]\n",
            "\n",
            "Interation 2900 / 5000\n",
            "t = 0.5800: error = [3.34666435e-07 1.39467195e-03]\n",
            "\n",
            "Interation 3000 / 5000\n",
            "t = 0.6000: error = [2.96434221e-07 1.34055707e-03]\n",
            "\n",
            "Interation 3100 / 5000\n",
            "t = 0.6200: error = [2.51543654e-07 1.27687578e-03]\n",
            "\n",
            "Interation 3200 / 5000\n",
            "t = 0.6400: error = [2.02691133e-07 1.20463214e-03]\n",
            "\n",
            "Interation 3300 / 5000\n",
            "t = 0.6600: error = [1.55396709e-07 1.12496497e-03]\n",
            "\n",
            "Interation 3400 / 5000\n",
            "t = 0.6800: error = [1.22793570e-07 1.03912978e-03]\n",
            "\n",
            "Interation 3500 / 5000\n",
            "t = 0.7000: error = [1.26788278e-07 9.48479064e-04]\n",
            "\n",
            "Interation 3600 / 5000\n",
            "t = 0.7200: error = [1.69684756e-07 8.54440989e-04]\n",
            "\n",
            "Interation 3700 / 5000\n",
            "t = 0.7400: error = [2.32889918e-07 7.58497022e-04]\n",
            "\n",
            "Interation 3800 / 5000\n",
            "t = 0.7600: error = [3.04477238e-07 6.62158697e-04]\n",
            "\n",
            "Interation 3900 / 5000\n",
            "t = 0.7800: error = [3.79155079e-07 5.66943955e-04]\n",
            "\n",
            "Interation 4000 / 5000\n",
            "t = 0.8000: error = [4.54117524e-07 4.74353404e-04]\n",
            "\n",
            "Interation 4100 / 5000\n",
            "t = 0.8200: error = [5.27479154e-07 3.85846934e-04]\n",
            "\n",
            "Interation 4200 / 5000\n",
            "t = 0.8400: error = [5.97750727e-07 3.02821153e-04]\n",
            "\n",
            "Interation 4300 / 5000\n",
            "t = 0.8600: error = [6.63649728e-07 2.26588450e-04]\n",
            "\n",
            "Interation 4400 / 5000\n",
            "t = 0.8800: error = [7.24029411e-07 1.58359489e-04]\n",
            "\n",
            "Interation 4500 / 5000\n",
            "t = 0.9000: error = [7.77855952e-07 9.92361077e-05]\n",
            "\n",
            "Interation 4600 / 5000\n",
            "t = 0.9200: error = [8.24207620e-07 5.02604691e-05]\n",
            "\n",
            "Interation 4700 / 5000\n",
            "t = 0.9400: error = [8.62284632e-07 1.34113434e-05]\n",
            "\n",
            "Interation 4800 / 5000\n",
            "t = 0.9600: error = [8.91423656e-07 1.75504296e-05]\n",
            "\n",
            "Interation 4900 / 5000\n",
            "t = 0.9800: error = [9.11113043e-07 3.22580437e-05]\n",
            "\n",
            "Interation 5000 / 5000\n",
            "t = 1.0000: error = [9.21005946e-07 3.58579614e-05]\n",
            "\n"
          ]
        }
      ]
    }
  ]
}