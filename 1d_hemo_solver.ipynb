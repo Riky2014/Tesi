{
  "nbformat": 4,
  "nbformat_minor": 0,
  "metadata": {
    "colab": {
      "provenance": [],
      "mount_file_id": "https://github.com/Riky2014/Tesi/blob/main/1d_hemo_solver.ipynb",
      "authorship_tag": "ABX9TyO+1SQnYOe7bBZ3GOdISNgu",
      "include_colab_link": true
    },
    "kernelspec": {
      "name": "python3",
      "display_name": "Python 3"
    },
    "language_info": {
      "name": "python"
    }
  },
  "cells": [
    {
      "cell_type": "markdown",
      "metadata": {
        "id": "view-in-github",
        "colab_type": "text"
      },
      "source": [
        "<a href=\"https://colab.research.google.com/github/Riky2014/Tesi/blob/main/1d_hemo_solver.ipynb\" target=\"_parent\"><img src=\"https://colab.research.google.com/assets/colab-badge.svg\" alt=\"Open In Colab\"/></a>"
      ]
    },
    {
      "cell_type": "code",
      "source": [
        "%%capture\n",
        "!apt-get install software-properties-common\n",
        "!add-apt-repository -y ppa:fenics-packages/fenics\n",
        "!apt-get update -qq\n",
        "!apt install fenics"
      ],
      "metadata": {
        "id": "Vk2md9CPA9f1"
      },
      "execution_count": 675,
      "outputs": []
    },
    {
      "cell_type": "code",
      "source": [
        "from fenics import *\n",
        "import numpy as np\n",
        "import matplotlib.pyplot as plt"
      ],
      "metadata": {
        "id": "qzvdV-jaGZG6"
      },
      "execution_count": 678,
      "outputs": []
    },
    {
      "cell_type": "markdown",
      "source": [
        "# Data, Mesh and Function spaces"
      ],
      "metadata": {
        "id": "br10ska72pF5"
      }
    },
    {
      "cell_type": "code",
      "execution_count": 742,
      "metadata": {
        "id": "uYE6EYza9Az2"
      },
      "outputs": [],
      "source": [
        "# Data\n",
        "T = 1\n",
        "x_left = 0.\n",
        "x_right = 1.0\n",
        "alpha = 1\n",
        "\n",
        "A_tilde = 4e-4\n",
        "a_tilde = 4e-5\n",
        "q_tilde = 0.0\n",
        "K_tilde = 50e3\n",
        "\n",
        "k_r = 2.416e-4\n",
        "rho = 1.05\n",
        "\n",
        "T = 1\n",
        "L = 1\n",
        "\n",
        "# Discretization parameter\n",
        "dt = 2.5e-5\n",
        "h = 1e-1\n",
        "num_steps = T / dt\n",
        "N = int((x_right - x_left) / h)\n",
        "\n",
        "#  Create a mesh on the interval [0, 1].\n",
        "mesh = IntervalMesh(N, x_left, x_right)\n",
        "x = MeshCoordinates(mesh)\n",
        "\n",
        "# Define the function space\n",
        "P1 = FiniteElement('P', mesh.ufl_cell(), 1)\n",
        "element = MixedElement([P1, P1])\n",
        "V = FunctionSpace(mesh, element)\n",
        "\n",
        "# Derivative function space\n",
        "D1 = FiniteElement('DG', mesh.ufl_cell(), 0)\n",
        "element_der = MixedElement([D1, D1])\n",
        "V_der = FunctionSpace(mesh, element_der)"
      ]
    },
    {
      "cell_type": "markdown",
      "source": [
        "# Exact solution and forcing term"
      ],
      "metadata": {
        "id": "BhMwMfhE2uWz"
      }
    },
    {
      "cell_type": "code",
      "source": [
        "# Exact solution and forcing term\n",
        "\n",
        "A_exact = Expression('A_tilde + a_tilde * sin(2 * pi / L * x[0]) * cos(2 * pi / T * t)', A_tilde = A_tilde, a_tilde = a_tilde, L = L, T = T, degree = 2, t = 0)\n",
        "\n",
        "q_exact = Expression('q_tilde - (a_tilde * L / T) * cos(2 * pi / L * x[0]) * sin(2 * pi / T * t)', q_tilde = q_tilde, a_tilde = a_tilde, L = L, T = T, degree = 2, t = 0)\n",
        "\n",
        "dU_dt = Expression(('- 2 * pi * a_tilde * sin(2 * pi * t) * sin(2 * pi * x[0])',\n",
        "\n",
        "                    '- 2 * pi * a_tilde * L / T * cos(2 * pi * t) * cos(2 * pi * x[0])'),\n",
        "                    a_tilde = a_tilde, L = L, T = T, degree = 1, t = 0)\n",
        "\n",
        "S = Expression(('0.',\n",
        "\n",
        "                'k_r * (q_tilde - (a_tilde * L / T) * cos(2 * pi / L * x[0]) * sin(2 * pi / T * t)) / (A_tilde + a_tilde * sin(2 * pi / L * x[0]) * cos(2 * pi / T * t))'),\n",
        "                A_tilde = A_tilde, a_tilde = a_tilde, q_tilde = q_tilde, L = L, T = T, k_r = k_r, degree = 1, t = 0)\n",
        "\n",
        "dF_dx = Expression(('2 * pi * a_tilde * L / T * sin(2 * pi * t) * sin(2 * pi * x[0])',\n",
        "\n",
        "                    'pi * K_tilde * a_tilde / rho * pow(0.1 * sin(2 * pi * x[0]) * cos(2 * pi * t) + 1, 0.5) * cos(2 * pi * t) * cos(2 * pi * x[0]) \\\n",
        "                    - 2 * pi * pow(a_tilde, 3) * pow(L / (A_tilde * T), 2) * pow(sin(2 * pi * t), 2) * cos(2 * pi * t) * pow(cos(2 * pi * x[0]), 3) / pow(0.1 * sin(2 * pi * x[0]) * cos(2 * pi * t) + 1, 2) \\\n",
        "                    - 4 * pi * pow(a_tilde, 2) * pow(sin(2 * pi * t), 2) * sin(2 * pi * x[0]) * cos(2 * pi * x[0]) / (A_tilde + a_tilde * sin(2 * pi * x[0]) * cos(2 * pi * t))'),\n",
        "                    a_tilde = a_tilde, A_tilde = A_tilde, K_tilde = K_tilde, L = L, T = T, rho = rho, degree = 1, t = 0)\n",
        "\n",
        "dU_dt_dt = Expression(('- 4 * pi * pi * a_tilde * sin(2 * pi * x[0]) * cos(2 * pi * t)',\n",
        "\n",
        "                       '4 * pi * pi * a_tilde * sin(2 * pi * t) * cos(2 * pi * x[0])'),\n",
        "                       a_tilde = a_tilde, L = L, T = T, degree = 1, t = 0)\n",
        "\n",
        "dS_dt = Expression(('0.',\n",
        "\n",
        "                    '- 2 * pi * k_r * pow(a_tilde / A_tilde, 2) * pow(sin(2 * pi * t), 2) * sin(2 * pi * x[0]) * cos(2 * pi * x[0]) / (pow(0.1 * sin(2 * pi * x[0]) * cos(2 * pi * t) + 1, 2)) \\\n",
        "                    - 2 * pi * k_r * a_tilde * cos(2 * pi * t) * cos(2 * pi * x[0]) / (A_tilde + a_tilde * sin(2 * pi * x[0]) * cos(2 * pi * t))'),\n",
        "                    A_tilde = A_tilde, a_tilde = a_tilde, q_tilde = q_tilde, L = L, T = T, k_r = k_r, degree = 1, t = 0)\n",
        "\n",
        "dF_dx_dt = Expression(('4 * pi * pi * a_tilde * L / T * cos(2 * pi * t) * sin(2 * pi * x[0])',\n",
        "\n",
        "                    '- 0.1 * pi * pi * K_tilde * a_tilde / rho * sin(2 * pi * t) * sin(2 * pi * x[0]) * cos(2 * pi * t) * cos(2 * pi * x[0]) / pow(0.1 * sin(2 * pi * x[0]) * cos(2 * pi * t) + 1, 0.5) \\\n",
        "                    - 2 * pi * pi * K_tilde * a_tilde / rho * pow(0.1 * sin(2 * pi * x[0]) * cos(2 * pi * t) + 1, 0.5) * sin(2 * pi * t) * cos(2 * pi * x[0]) \\\n",
        "                    - 8 * pi * pi * pow(a_tilde, 3) * pow(L / (A_tilde * T), 2) * pow(sin(2 * pi * t), 3) * pow(sin(2 * pi * x[0]), 2) * cos(2 * pi * x[0]) / pow(0.1 * sin(2 * pi * x[0]) * cos( 2 * pi * t) + 1, 2) \\\n",
        "                    + 4 * pi * pi * pow(a_tilde, 3) * pow(L / (A_tilde * T), 2) * pow(sin(2 * pi * t), 3) * pow(cos(2 * pi * x[0]), 3) / pow(0.1 * sin(2 * pi * x[0]) * cos( 2 * pi * t) + 1, 2) \\\n",
        "                    - 8 * pi * pi * pow(a_tilde, 3) * pow(L / (A_tilde * T), 2) * sin(2 * pi * t) * pow(cos(2 * pi * t), 2) * pow(cos(2 * pi * x[0]), 3) / pow(0.1 * sin(2 * pi * x[0]) * cos( 2 * pi * t) + 1, 2) \\\n",
        "                    - 0.8 * pi * pi * pow(a_tilde, 3) * pow(L / (A_tilde * T), 2) * pow(sin(2 * pi * t), 3) * sin(2 * pi * x[0]) * cos(2 * pi * t) * pow(cos(2 * pi * x[0]), 3) / pow(0.1 * sin(2 * pi * x[0]) * cos( 2 * pi * t) + 1, 3) \\\n",
        "                    - 16 * pi * pi * pow(a_tilde, 2) * sin(2 * pi * t) * sin(2 * pi * x[0]) * cos(2 * pi * t) * cos(2 * pi * x[0]) / (A_tilde + a_tilde * sin(2 * pi * x[0]) * cos(2 * pi * t))'),\n",
        "                    a_tilde = a_tilde, A_tilde = A_tilde, K_tilde = K_tilde, L = L, T = T, rho = rho, degree = 1, t = 0)\n",
        "\n",
        "f = dU_dt + S + dF_dx\n",
        "f_n = project(f, V)\n",
        "\n",
        "df_dt = dU_dt_dt + dS_dt + dF_dx_dt\n",
        "df_dt_n = project(df_dt, V)"
      ],
      "metadata": {
        "id": "qOdbxyotyB_E"
      },
      "execution_count": 743,
      "outputs": []
    },
    {
      "cell_type": "markdown",
      "source": [
        "# Functions"
      ],
      "metadata": {
        "id": "xuUyHMzVF1Rz"
      }
    },
    {
      "cell_type": "code",
      "source": [
        "def H(A, q):\n",
        "  return as_tensor([[0, 1], [1190476.19048 * A ** 0.5 - (q / A) ** 2, 2 * q / A]])\n",
        "\n",
        "def F(A, q):\n",
        "  return as_vector([q, 793650.79365 * A ** 1.5 - 6.34921 + q ** 2 / A])\n",
        "\n",
        "def B(A, q):\n",
        "  return as_vector([0, k_r * q / A])\n",
        "\n",
        "def S(A, q):\n",
        "  return as_vector([0, k_r * q / A])\n",
        "\n",
        "def dS_dU(A, q):\n",
        "  return as_tensor([[0, 0], [- k_r * q / A ** 2, k_r / A]])"
      ],
      "metadata": {
        "id": "jAgHzjNSvYuj"
      },
      "execution_count": 744,
      "outputs": []
    },
    {
      "cell_type": "code",
      "source": [
        "def U(A, q):\n",
        "  return np.array([A, q])\n",
        "\n",
        "def H_vec(A, q):\n",
        "  return np.array([[0, 1], [1190476.19048 * A ** 0.5 - (q / A) ** 2, 2 * q / A]])\n",
        "\n",
        "def B_vec(A, q):\n",
        "  return np.array([0, k_r * q / A])\n",
        "\n",
        "def S_vec(A, q):\n",
        "  return np.array([0, k_r * q / A])\n",
        "\n",
        "def c_alpha(A, q, alpha = 1):\n",
        "  return (1190476.19048 * A ** 0.5 + (q / A) ** 2 * alpha * (alpha - 1)) ** 0.5\n",
        "\n",
        "def l1(A, q, alpha = 1):\n",
        "  return np.array([c_alpha(A, q, alpha) - alpha * q / A, 1.])\n",
        "\n",
        "def l2(A, q, alpha = 1):\n",
        "  return np.array([- c_alpha(A, q, alpha) - alpha * q / A, 1.])\n",
        "\n",
        "def CC(A, q, u_der, x):\n",
        "  du_dz = project(u_der, V_der)(x)\n",
        "  return U(A, q) - dt * H_vec(A, q) @ du_dz - dt * B_vec(A, q) + dt * f([x, x, x])"
      ],
      "metadata": {
        "id": "QetUIYLIe81R"
      },
      "execution_count": 745,
      "outputs": []
    },
    {
      "cell_type": "code",
      "source": [
        "def inlet_bc(A, q, u_der):\n",
        "  q_inlet = (np.dot(l2(A(x_left), q(x_left)), CC(A(x_left), q(x_left), u_der, x_left)) - l2(A(x_left), q(x_left))[0] * U(A(x_left), q(x_left))[0] ) / l2(A(x_left), q(x_left))[1]\n",
        "\n",
        "  return q_inlet\n",
        "\n",
        "def outlet_bc(A, q, u_der):\n",
        "  matrix = np.array([[1, -1], [c_alpha(A(x_right), q(x_right), alpha) + alpha * q(x_right) / A(x_right), c_alpha(A(x_right), q(x_right), alpha) - alpha * q(x_right) / A(x_right)]])\n",
        "  array = np.array([np.dot(l1(A(x_right), q(x_right)), CC(A(x_right), q(x_right), u_der, x_right)), np.dot(l2(A(x_right), q(x_right)), U(A(x_right), q(x_right)) - dt * S_vec(A(x_right), q(x_right)))])\n",
        "\n",
        "  A_out, q_out = matrix @ array / (2 * c_alpha(A(x_right), q(x_right)))\n",
        "\n",
        "  return A_out, q_out"
      ],
      "metadata": {
        "id": "gGb-E24uOvf6"
      },
      "execution_count": 746,
      "outputs": []
    },
    {
      "cell_type": "code",
      "source": [
        "def update_time_step(t, dt):\n",
        "  t += dt\n",
        "  q_exact.t = t\n",
        "  A_exact.t = t\n",
        "  dU_dt.t = t\n",
        "  S.t = t\n",
        "  dF_dx.t = t\n",
        "  dU_dt_dt.t = t\n",
        "  dS_dt.t = t\n",
        "  dF_dx_dt.t = t\n",
        "\n",
        "  return t"
      ],
      "metadata": {
        "id": "2iK6LOGHt9EX"
      },
      "execution_count": 747,
      "outputs": []
    },
    {
      "cell_type": "markdown",
      "source": [
        "# Initial guess and boundary conditions"
      ],
      "metadata": {
        "id": "YHQzLzas5kvm"
      }
    },
    {
      "cell_type": "code",
      "source": [
        "# Define initial guess\n",
        "A0 = 4e-4\n",
        "q0 = 0\n",
        "uh_old = interpolate(Expression(('A_tilde + a_tilde * sin(2 * pi / L * x[0])', 'q0'), degree = 2, A_tilde = A_tilde, a_tilde = a_tilde, L = L, q0 = q0), V)\n",
        "Ah_old, qh_old = uh_old.split()"
      ],
      "metadata": {
        "id": "esD4LK44w0i2"
      },
      "execution_count": 748,
      "outputs": []
    },
    {
      "cell_type": "code",
      "source": [
        "# Boundary condition\n",
        "inlet = 'near(x[0], 0)'\n",
        "outlet = 'near(x[0], 1)'\n",
        "A_inlet = A0\n",
        "q_inlet = inlet_bc(Ah_old, qh_old, uh_old.dx(0))\n",
        "A_outlet, q_outlet = outlet_bc(Ah_old, qh_old, uh_old.dx(0))\n",
        "#print(f'A inlet = {A_inlet}, q inlet = {q_inlet}')\n",
        "#print(f'A outlet = {A_outlet}, q outlet = {q_outlet}')\n",
        "\n",
        "# Dirichlet bc\n",
        "bc_A_inlet = DirichletBC(V.sub(0), A_inlet, inlet)\n",
        "# I should impose compatibility condition\n",
        "bc_q_inlet = DirichletBC(V.sub(1), q_inlet, inlet)\n",
        "\n",
        "# Non reflecting bc\n",
        "bc_A_outlet = DirichletBC(V.sub(0), A_outlet, outlet)\n",
        "# I should impose compatibility condition\n",
        "bc_q_outlet = DirichletBC(V.sub(1), q_outlet, outlet)\n",
        "\n",
        "bc = [bc_A_inlet, bc_q_inlet, bc_A_outlet, bc_q_outlet]"
      ],
      "metadata": {
        "id": "RbRHZ7RSkohh",
        "outputId": "0e76ee17-d6ce-4bd0-98d7-ed6e51f57ad6",
        "colab": {
          "base_uri": "https://localhost:8080/"
        }
      },
      "execution_count": 749,
      "outputs": [
        {
          "output_type": "stream",
          "name": "stdout",
          "text": [
            "A inlet = 0.0004, q inlet = 9.644497391742002e-06\n",
            "A outlet = 0.00040003125174338115, q outlet = 4.822248695872079e-06\n"
          ]
        }
      ]
    },
    {
      "cell_type": "markdown",
      "source": [
        "# Definition of the variational problem"
      ],
      "metadata": {
        "id": "S1ONKZfn5sJn"
      }
    },
    {
      "cell_type": "code",
      "source": [
        "# Define trial functions and test functions\n",
        "A, q = TrialFunctions(V)\n",
        "v, z = TestFunctions(V)\n",
        "\n",
        "# Define the variational problem\n",
        "def LinearProblem(A_old, q_old):\n",
        "  a = inner(A, v) * dx + inner(q, z) * dx\n",
        "\n",
        "  L = (\n",
        "        A_old * v * dx\n",
        "      + q_old * z * dx\n",
        "      + dt * ((F(A_old, q_old) - dt / 2 * dot(H(A_old, q_old), S(A_old, q_old))))[0] * v.dx(0) * dx\n",
        "      + dt * ((F(A_old, q_old) - dt / 2 * dot(H(A_old, q_old), S(A_old, q_old))))[1] * z.dx(0) * dx\n",
        "      + dt ** 2 / 2 * (dot(dS_dU(A_old, q_old), F(A_old, q_old).dx(0)))[0] * v * dx\n",
        "      + dt ** 2 / 2 * (dot(dS_dU(A_old, q_old), F(A_old, q_old).dx(0)))[1] * z * dx\n",
        "      - dt ** 2 / 2 * (dot(H(A_old, q_old), F(A_old, q_old).dx(0)))[0] * v.dx(0) * dx\n",
        "      - dt ** 2 / 2 * (dot(H(A_old, q_old), F(A_old, q_old).dx(0)))[1] * z.dx(0) * dx\n",
        "      - dt * (S(A_old, q_old) - dt / 2 * dot(dS_dU(A_old, q_old), S(A_old, q_old)))[0] * v * dx\n",
        "      - dt * (S(A_old, q_old) - dt / 2 * dot(dS_dU(A_old, q_old), S(A_old, q_old)))[1] * z * dx\n",
        "      + dt * f[0] * v * dx\n",
        "      + dt * f[1] * z * dx\n",
        "      + dt ** 2 / 2 * (dot(H(A_old, q_old), f_n))[0] * v.dx(0) * dx\n",
        "      + dt ** 2 / 2 * (dot(H(A_old, q_old), f_n))[1] * z.dx(0) * dx\n",
        "      + dt ** 2 / 2 * (- dot(dS_dU(A_old, q_old), f_n) + df_dt_n)[0] * v * dx\n",
        "      + dt ** 2 / 2 * (- dot(dS_dU(A_old, q_old), f_n) + df_dt_n)[1] * z * dx\n",
        "  )\n",
        "\n",
        "  return a, L"
      ],
      "metadata": {
        "id": "WxOkORNyxP5_"
      },
      "execution_count": 750,
      "outputs": []
    },
    {
      "cell_type": "markdown",
      "source": [
        "# Solution"
      ],
      "metadata": {
        "id": "VTDgFTAo5vsV"
      }
    },
    {
      "cell_type": "code",
      "source": [
        "# Time stepping\n",
        "uh = Function(V)\n",
        "t = 0\n",
        "i = 0\n",
        "\n",
        "global_error_A = 0\n",
        "global_error_q = 0\n",
        "\n",
        "for n in range(round(num_steps)):\n",
        "\n",
        "  i +=1\n",
        "\n",
        "  # Update time step\n",
        "  t = update_time_step(t, dt)\n",
        "\n",
        "  # Solve the problem\n",
        "  a, L = LinearProblem(Ah_old, qh_old)\n",
        "  solve(a == L, uh, bc)\n",
        "  Ah, qh = uh.split(deepcopy = True)\n",
        "\n",
        "  A_e = interpolate(A_exact, V.sub(0).collapse())\n",
        "  q_e = interpolate(q_exact, V.sub(1).collapse())\n",
        "  error = np.array([errornorm(Ah, A_e, 'L2'), errornorm(qh, q_e, 'L2')])\n",
        "\n",
        "  if error[0] > global_error_A:\n",
        "    global_error_A = error[0]\n",
        "\n",
        "  if error[1] > global_error_q:\n",
        "    global_error_q = error[1]\n",
        "\n",
        "  # Compute errors\n",
        "  if (i % 100 == 0):\n",
        "    print(f'Interation {i} / {round(num_steps)}')\n",
        "    print(f't = %.4f: error = {error}' % (t))\n",
        "    print(f'Global error A = {global_error_A}, Global error q = {global_error_q}')\n",
        "    print()\n",
        "\n",
        "  # Update previous solution\n",
        "  Ah_old.assign(Ah)\n",
        "  qh_old.assign(qh)\n",
        "\n",
        "  q_inlet = inlet_bc(Ah_old, qh_old, uh.dx(0))\n",
        "  A_outlet, q_outlet = outlet_bc(Ah_old, qh_old, uh.dx(0))"
      ],
      "metadata": {
        "id": "1g5fnjK7cA-T"
      },
      "execution_count": null,
      "outputs": []
    },
    {
      "cell_type": "code",
      "source": [
        "print(f'h = {h}, dt = {dt} : Global error A = {global_error_A}, Global error q = {global_error_q}')"
      ],
      "metadata": {
        "colab": {
          "base_uri": "https://localhost:8080/"
        },
        "id": "Ne9IdmjW_WE6",
        "outputId": "596dde9b-1915-4c99-baf8-f2b4ba81364c"
      },
      "execution_count": 777,
      "outputs": [
        {
          "output_type": "stream",
          "name": "stdout",
          "text": [
            "h = 0.1, dt = 2.5e-05 : Global error A = 6.335662421082552e-08, Global error q = 0.00019046053983005933\n"
          ]
        }
      ]
    },
    {
      "cell_type": "markdown",
      "source": [
        "# Time convergence"
      ],
      "metadata": {
        "id": "xxVzu8xl1ATo"
      }
    },
    {
      "cell_type": "code",
      "source": [
        "# Time stepping\n",
        "dt_vec = 2e-4 * np.array([1, 1/2, 1/4, 1/8])\n",
        "error_A = []\n",
        "error_q = []\n",
        "\n",
        "for j in range(len(dt_vec)):\n",
        "  dt = dt_vec[j]\n",
        "  print(f'dt = {dt}')\n",
        "  print()\n",
        "\n",
        "  uh = Function(V)\n",
        "  t = 0\n",
        "  i = 0\n",
        "\n",
        "  global_error_A = 0\n",
        "  global_error_q = 0\n",
        "\n",
        "  num_steps = T / dt\n",
        "\n",
        "  for n in range(round(num_steps)):\n",
        "\n",
        "    i +=1\n",
        "\n",
        "    # Update time step\n",
        "    t = update_time_step(t, dt)\n",
        "\n",
        "    # Solve the problem\n",
        "    a, L = LinearProblem(Ah_old, qh_old)\n",
        "    solve(a == L, uh, bc)\n",
        "    Ah, qh = uh.split(deepcopy = True)\n",
        "\n",
        "    A_e = interpolate(A_exact, V.sub(0).collapse())\n",
        "    q_e = interpolate(q_exact, V.sub(1).collapse())\n",
        "    error = np.array([errornorm(Ah, A_e, 'L2'), errornorm(qh, q_e, 'L2')])\n",
        "\n",
        "    if error[0] > global_error_A:\n",
        "      global_error_A = error[0]\n",
        "\n",
        "    if error[1] > global_error_q:\n",
        "      global_error_q = error[1]\n",
        "\n",
        "    # Compute errors\n",
        "    if (i % 1000 == 0):\n",
        "      print(f'Interation {i} / {round(num_steps)}')\n",
        "      print(f't = %.4f: error = {error}' % (t))\n",
        "      print(f'Global error A = {global_error_A}, Global error q = {global_error_q}')\n",
        "      print()\n",
        "\n",
        "    # Update previous solution\n",
        "    Ah_old.assign(Ah)\n",
        "    qh_old.assign(qh)\n",
        "\n",
        "    q_inlet = inlet_bc(Ah_old, qh_old, uh.dx(0))\n",
        "    A_outlet, q_outlet = outlet_bc(Ah_old, qh_old, uh.dx(0))\n",
        "\n",
        "  error_A.append(global_error_A)\n",
        "  error_q.append(global_error_q)"
      ],
      "metadata": {
        "id": "tlETBGGN1DlL"
      },
      "execution_count": null,
      "outputs": []
    },
    {
      "cell_type": "code",
      "source": [
        "fig, ax = plt.subplots(2, 2, figsize=(11, 11))\n",
        "ax = ax.flatten()\n",
        "\n",
        "# Plot for Area\n",
        "ax[0].plot(error_A)\n",
        "ax[0].set_title('Area')\n",
        "ax[0].set_xlabel(f'h = {h},  dt = {dt_vec}')\n",
        "ax[0].set_ylabel('Error')\n",
        "\n",
        "ax[2].loglog(dt_vec / dt_vec[0], error_A / error_A[0], label = 'L^2 Error')\n",
        "ax[2].loglog(dt_vec / dt_vec[0], dt_vec / dt_vec[0], linestyle = '--', label = 'dt')\n",
        "ax[2].loglog(dt_vec / dt_vec[0], (dt_vec / dt_vec[0])**2, linestyle = '--', label ='dt^2')\n",
        "ax[2].set_xlabel('dt')\n",
        "ax[2].set_ylabel('Error')\n",
        "ax[2].set_title('Area')\n",
        "ax[2].legend()\n",
        "\n",
        "# Plot for Flux\n",
        "ax[1].plot(error_q)\n",
        "ax[1].set_title('Flux')\n",
        "ax[1].set_xlabel(f'h = {h},  dt = {dt_vec}')\n",
        "ax[1].set_ylabel('Error')\n",
        "\n",
        "ax[3].loglog(dt_vec / dt_vec[0], error_q / error_q[0], label = 'L^2 Error')\n",
        "ax[3].loglog(dt_vec / dt_vec[0], dt_vec / dt_vec[0], linestyle = '--', label = 'dt')\n",
        "ax[3].loglog(dt_vec / dt_vec[0], (dt_vec / dt_vec[0])**2, linestyle = '--', label = 'dt^2')\n",
        "ax[3].set_xlabel('dt')\n",
        "ax[3].set_ylabel('Error')\n",
        "ax[3].set_title('Flux')\n",
        "ax[3].legend()"
      ],
      "metadata": {
        "id": "snqaktAlZm0R",
        "outputId": "c3ae2081-1f7e-49cf-d657-472a3324bc70",
        "colab": {
          "base_uri": "https://localhost:8080/",
          "height": 971
        }
      },
      "execution_count": 798,
      "outputs": [
        {
          "output_type": "execute_result",
          "data": {
            "text/plain": [
              "Text(0, 0.5, 'Error')"
            ]
          },
          "metadata": {},
          "execution_count": 798
        },
        {
          "output_type": "display_data",
          "data": {
            "text/plain": [
              "<Figure size 1100x1100 with 4 Axes>"
            ],
            "image/png": "[encoded data removed]"
          },
          "metadata": {}
        }
      ]
    }
  ]
}