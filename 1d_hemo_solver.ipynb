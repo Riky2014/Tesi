{
  "nbformat": 4,
  "nbformat_minor": 0,
  "metadata": {
    "colab": {
      "provenance": [],
      "authorship_tag": "ABX9TyN26OIbzR6I5D0sSaueamci",
      "include_colab_link": true
    },
    "kernelspec": {
      "name": "python3",
      "display_name": "Python 3"
    },
    "language_info": {
      "name": "python"
    }
  },
  "cells": [
    {
      "cell_type": "markdown",
      "metadata": {
        "id": "view-in-github",
        "colab_type": "text"
      },
      "source": [
        "<a href=\"https://colab.research.google.com/github/Riky2014/Tesi/blob/main/1d_hemo_solver.ipynb\" target=\"_parent\"><img src=\"https://colab.research.google.com/assets/colab-badge.svg\" alt=\"Open In Colab\"/></a>"
      ]
    },
    {
      "cell_type": "code",
      "source": [
        "%%capture\n",
        "!apt-get install software-properties-common\n",
        "!add-apt-repository -y ppa:fenics-packages/fenics\n",
        "!apt-get update -qq\n",
        "!apt install fenics"
      ],
      "metadata": {
        "id": "Vk2md9CPA9f1"
      },
      "execution_count": 1,
      "outputs": []
    },
    {
      "cell_type": "code",
      "source": [
        "from fenics import *\n",
        "import numpy as np\n",
        "import matplotlib.pyplot as plt"
      ],
      "metadata": {
        "id": "qzvdV-jaGZG6"
      },
      "execution_count": 2,
      "outputs": []
    },
    {
      "cell_type": "code",
      "execution_count": 42,
      "metadata": {
        "id": "uYE6EYza9Az2"
      },
      "outputs": [],
      "source": [
        "# Data\n",
        "A0 = 4e-4\n",
        "q0 = 0\n",
        "k_r = 2.416\n",
        "rho = 1.05\n",
        "alpha = 1\n",
        "\n",
        "T = 1\n",
        "x_left = 0\n",
        "x_right = 1.0\n",
        "\n",
        "# Discretization parameter\n",
        "dt = 1e-5\n",
        "h = 1e-2\n",
        "num_steps = T / dt\n",
        "N = int((x_right - x_left) / h)\n",
        "\n",
        "#  Create a mesh on the interval [0, 1].\n",
        "mesh = IntervalMesh(N, x_left, x_right)\n",
        "x = MeshCoordinates(mesh)\n",
        "\n",
        "# Define the function space\n",
        "P1 = FiniteElement('P', mesh.ufl_cell(), 1)\n",
        "element = MixedElement([P1, P1])\n",
        "V = FunctionSpace(mesh, element)"
      ]
    },
    {
      "cell_type": "code",
      "source": [
        "# Exact solution\n",
        "L = 1\n",
        "A_tilde = 4e-4\n",
        "a_tilde = 4e-5\n",
        "q_tilde = 0.0\n",
        "A_exact = Expression('A_tilde + a_tilde * sin(2 * pi / L * x[0]) * cos(2 * pi / T * t)', A_tilde = A_tilde, a_tilde = a_tilde, L = L, T = T, degree = 2, t = 0)\n",
        "q_exact = Expression('q_tilde - (a_tilde * L / T) * cos(2 * pi / L * x[0]) * sin(2 * pi / T * t)', q_tilde = q_tilde, a_tilde = a_tilde, L = L, T = T,degree = 2, t = 0)"
      ],
      "metadata": {
        "id": "qOdbxyotyB_E"
      },
      "execution_count": 43,
      "outputs": []
    },
    {
      "cell_type": "code",
      "source": [
        "def U(A, q):\n",
        "  return as_vector([A, q])\n",
        "\n",
        "def H(A, q):\n",
        "  return as_tensor([[0, 1], [1190476.19048 * A ** 0.5 - (q / A) ** 2, 2 * q / A]])\n",
        "\n",
        "def F(A, q):\n",
        "  return as_vector([q, 793650.79365 * A ** 1.5 - 6.34921 + q ** 2 / A])\n",
        "\n",
        "def B(A, q):\n",
        "  return as_vector([0, k_r * q / A])\n",
        "\n",
        "def S(A, q):\n",
        "  return as_vector([0, k_r * q / A])\n",
        "\n",
        "def dS_dU(A, q):\n",
        "  return as_tensor([[0, 0], [- k_r * q / A ** 2, k_r / A]])"
      ],
      "metadata": {
        "id": "jAgHzjNSvYuj"
      },
      "execution_count": 44,
      "outputs": []
    },
    {
      "cell_type": "code",
      "source": [
        "def c_alpha(A, q, alpha = 1):\n",
        "  return (1190476.19048 * A ** 0.5 + (q / A) ** 2 * alpha * (alpha - 1)) ** 0.5\n",
        "\n",
        "def l1(A, q, alpha = 1):\n",
        "  return as_vector([c_alpha(A, q, alpha) - alpha * q / A, 1])\n",
        "\n",
        "def l2(A, q, alpha = 1):\n",
        "  return as_vector([- c_alpha(A, q, alpha) - alpha * q / A, 1])\n",
        "\n",
        "def CC(A, q):\n",
        "  return U(A, q) - dt * dot(H(A, q), U(A, q).dx(0)) - dt * B(A, q) + dt * f"
      ],
      "metadata": {
        "id": "QetUIYLIe81R"
      },
      "execution_count": 45,
      "outputs": []
    },
    {
      "cell_type": "code",
      "source": [
        "def inlet_bc(A, q):\n",
        "  q_inlet = (\n",
        "      (project(l2(A, q)[0] * CC(A, q)[0], V.sub(0).collapse()).compute_vertex_values(mesh)\n",
        "      + project(l2(A, q)[1] * CC(A, q)[1], V.sub(1).collapse()).compute_vertex_values(mesh)\n",
        "      - project(l2(A, q)[0] * U(A, q)[0], V.sub(0).collapse()).compute_vertex_values(mesh))\n",
        "      / project(l2(A, q)[1] , V.sub(1).collapse()).compute_vertex_values(mesh)\n",
        "  )[0]\n",
        "\n",
        "  return q_inlet"
      ],
      "metadata": {
        "id": "cU3vBJy_Hav4"
      },
      "execution_count": 46,
      "outputs": []
    },
    {
      "cell_type": "code",
      "source": [
        "def outlet_matrix(A, q):\n",
        "  return as_tensor([[1, -1], [c_alpha(A, q, alpha) + alpha * q / A, c_alpha(A, q, alpha) - alpha * q / A]])\n",
        "\n",
        "def outlet_vector(A, q):\n",
        "  return as_vector([l1(A, q)[0] * CC(A, q)[0] + l1(A, q)[1] * CC(A, q)[1], l2(A, q)[0] * (U(A, q) - dt * S(A, q))[0] + l2(A, q)[1] * (U(A, q) - dt * S(A, q))[1]])\n",
        "\n",
        "def outlet_bc(A, q):\n",
        "  A_out_fun, q_out_fun = project(dot(outlet_matrix(A, q), outlet_vector(A, q)) / (2 * c_alpha(A, q)), V).split()\n",
        "  A_outlet = A_out_fun.compute_vertex_values(mesh)[-1]\n",
        "  q_outlet = q_out_fun.compute_vertex_values(mesh)[-1]\n",
        "\n",
        "  return A_outlet, q_outlet"
      ],
      "metadata": {
        "id": "11Gyt0ItRnat"
      },
      "execution_count": 47,
      "outputs": []
    },
    {
      "cell_type": "code",
      "source": [
        "# Define the source term\n",
        "f = Expression(('0','5.98399 * pow((0.1 * sin(6.28319*x[0]) * cos(6.28319*t) + 1), 0.5) * cos(6.28319*t) * cos(6.28319*x[0]) - 0.00025 * cos(6.28319*t) * cos(6.28319*x[0]) - 0.0001 * sin(6.28319*t) * cos(6.28319*x[0]) / (4.0e-5 * sin(6.28319*x[0]) * cos(6.28319*t) + 0.0004)'), degree = 2, t = 0)\n",
        "df_dt = Expression(('0', '-1.87993 * sin(6.28319*t) * sin(6.28319*x[0]) * cos(6.28319*t) * cos(6.28319*x[0]) / pow((0.1 * sin(6.28319*x[0]) * cos(6.28319*t) + 1), 0.5) - 37.5985 * pow((0.1 * sin(6.28319*x[0]) * cos(6.28319*t) + 1), 0.5) * sin(6.28319*t) * cos(6.28319*x[0]) + 0.00157 * sin(6.28319*t) * cos(6.28319*x[0]) - 0.15752 * pow(sin(6.28319*t), 2) * sin(6.28319*x[0])* cos(6.28319*x[0]) / pow((0.1 * sin(6.28319*x[0]) * cos(6.28319*t) + 1), 2) - 0.00063 * cos(6.28319*t) * cos(6.28319*x[0]) / (4.0e-5 * sin(6.28319*x[0]) * cos(6.28319*t) + 0.0004)'), degree = 2, t = 0)\n",
        "\n",
        "f_n = interpolate(f, V)\n",
        "df_dt_n = interpolate(df_dt, V)"
      ],
      "metadata": {
        "id": "sHL4CJ5s0Mmu"
      },
      "execution_count": 48,
      "outputs": []
    },
    {
      "cell_type": "code",
      "source": [
        "# Define initial guess\n",
        "u_old = interpolate(Expression(('A_tilde + a_tilde * sin(2 * pi / L * x[0])', 'q0'), degree = 2, A_tilde = A_tilde, a_tilde = a_tilde, L = L, q0 = q0), V)\n",
        "A_old, q_old = u_old.split()"
      ],
      "metadata": {
        "id": "esD4LK44w0i2"
      },
      "execution_count": 49,
      "outputs": []
    },
    {
      "cell_type": "code",
      "source": [
        "# Boundary condition\n",
        "inlet = 'near(x[0], 0)'\n",
        "outlet = 'near(x[0], 1)'\n",
        "A_inlet = A0\n",
        "q_inlet = inlet_bc(A_old, q_old)\n",
        "A_outlet, q_outlet = outlet_bc(A_old, q_old)\n",
        "print(f'A inlet = {A_inlet}, q inlet = {q_inlet}')\n",
        "print(f'A outlet = {A_outlet}, q outlet = {q_outlet}')\n",
        "\n",
        "# Dirichlet bc\n",
        "bc_A_inlet = DirichletBC(V.sub(0), A_inlet, inlet)\n",
        "# I should impose compatibility condition\n",
        "bc_q_inlet = DirichletBC(V.sub(1), q_inlet, inlet)\n",
        "\n",
        "# Non reflecting bc\n",
        "bc_A_outlet = DirichletBC(V.sub(0), A_outlet, outlet)\n",
        "# I should impose compatibility condition\n",
        "bc_q_outlet = DirichletBC(V.sub(1), q_outlet, outlet)\n",
        "\n",
        "bc = [bc_A_inlet, bc_q_inlet, bc_A_outlet, bc_q_outlet]"
      ],
      "metadata": {
        "colab": {
          "base_uri": "https://localhost:8080/"
        },
        "id": "RbRHZ7RSkohh",
        "outputId": "b6b03869-3ba6-43f3-cc9e-8638302bd990"
      },
      "execution_count": 51,
      "outputs": [
        {
          "output_type": "stream",
          "name": "stdout",
          "text": [
            "A inlet = 0.0004, q inlet = 1.72325385905392e-08\n",
            "A outlet = 0.0004000000558389759, q outlet = 8.62327922319775e-09\n"
          ]
        }
      ]
    },
    {
      "cell_type": "code",
      "source": [
        "# Define trial functions and test functions\n",
        "A, q = TrialFunctions(V)\n",
        "v, z = TestFunctions(V)\n",
        "\n",
        "# Define the variational problem\n",
        "a = inner(A, v) * dx + inner(q, z) * dx\n",
        "\n",
        "L = (\n",
        "      A_old * v * dx\n",
        "    + q_old * z * dx\n",
        "    - dt * ((F(A_old, q_old) - dt / 2 * dot(H(A_old, q_old), S(A_old, q_old)))).dx(0)[0] * v * dx\n",
        "    - dt * ((F(A_old, q_old) - dt / 2 * dot(H(A_old, q_old), S(A_old, q_old)))).dx(0)[1] * z * dx\n",
        "    + dt ** 2 / 2 * (dot(dS_dU(A_old, q_old), F(A_old, q_old).dx(0)) + (dot(H(A_old, q_old), F(A_old, q_old).dx(0))).dx(0))[0] * v * dx\n",
        "    + dt ** 2 / 2 * (dot(dS_dU(A_old, q_old), F(A_old, q_old).dx(0)) + (dot(H(A_old, q_old), F(A_old, q_old).dx(0))).dx(0))[1] * z * dx\n",
        "    - dt * (S(A_old, q_old) - dt / 2 * dot(dS_dU(A_old, q_old), S(A_old, q_old)))[0] * v * dx\n",
        "    - dt * (S(A_old, q_old) - dt / 2 * dot(dS_dU(A_old, q_old), S(A_old, q_old)))[1] * z * dx\n",
        "    + dt * f[0] * v * dx\n",
        "    + dt * f[1] * z * dx\n",
        "    + dt ** 2 / 2 * (- (dot(H(A_old, q_old), f_n)).dx(0) - dot(dS_dU(A_old, q_old), f_n) + df_dt_n)[0] * v * dx\n",
        "    + dt ** 2 / 2 * (- (dot(H(A_old, q_old), f_n)).dx(0) - dot(dS_dU(A_old, q_old), f_n) + df_dt_n)[1] * z * dx\n",
        ")"
      ],
      "metadata": {
        "id": "WxOkORNyxP5_"
      },
      "execution_count": 52,
      "outputs": []
    },
    {
      "cell_type": "code",
      "source": [
        "# Time stepping\n",
        "u = Function(V)\n",
        "t = 0\n",
        "i = 0\n",
        "for n in range(int(num_steps) + 1):\n",
        "\n",
        "  i +=1\n",
        "\n",
        "  # Update time step\n",
        "  t += dt\n",
        "  f.t = t\n",
        "  df_dt.t = t\n",
        "  A_exact.t = t\n",
        "  q_exact.t = t\n",
        "\n",
        "  # Solve the problem\n",
        "  solve(a == L, u, bc)\n",
        "  A, q = u.split(deepcopy = True)\n",
        "\n",
        "  # Compute errors\n",
        "  if (i % 100 == 0):\n",
        "    print(f'Interation {i} / {int(num_steps) + 1}')\n",
        "    A_e = interpolate(A_exact, V.sub(0).collapse())\n",
        "    q_e = interpolate(q_exact, V.sub(1).collapse())\n",
        "    error = np.array([errornorm(A, A_e, 'L2') / norm(A_e, 'L2'), errornorm(q, q_e, 'L2') / norm(q_e, 'L2')])\n",
        "    print(f't = %.4f: error = {error}' % (t))\n",
        "    print()\n",
        "\n",
        "  # Update previous solution\n",
        "  A_old.assign(A)\n",
        "  q_old.assign(q)\n",
        "\n",
        "  q_inlet = inlet_bc(A_old, q_old)\n",
        "  A_outlet, q_outlet = outlet_bc(A_old, q_old)"
      ],
      "metadata": {
        "id": "1g5fnjK7cA-T",
        "colab": {
          "base_uri": "https://localhost:8080/",
          "height": 1000
        },
        "outputId": "d1e0e03f-e574-49dd-c9b4-cc959d2312d6"
      },
      "execution_count": 53,
      "outputs": [
        {
          "output_type": "stream",
          "name": "stdout",
          "text": [
            "Interation 100 / 100000\n",
            "t = 0.0010: error = [3.18079643e-04 1.30060327e+01]\n",
            "\n",
            "Interation 200 / 100000\n",
            "t = 0.0020: error = [5.99293437e-04 1.35656519e+01]\n",
            "\n",
            "Interation 300 / 100000\n",
            "t = 0.0030: error = [8.50929356e-04 1.29537576e+01]\n",
            "\n",
            "Interation 400 / 100000\n",
            "t = 0.0040: error = [1.07874556e-03 1.22359361e+01]\n",
            "\n",
            "Interation 500 / 100000\n",
            "t = 0.0050: error = [1.28655754e-03 1.15652489e+01]\n",
            "\n",
            "Interation 600 / 100000\n",
            "t = 0.0060: error = [1.47706756e-03 1.09645315e+01]\n",
            "\n",
            "Interation 700 / 100000\n",
            "t = 0.0070: error = [1.65230314e-03 1.04297577e+01]\n",
            "\n",
            "Interation 800 / 100000\n",
            "t = 0.0080: error = [1.81386413e-03 9.95165309e+00]\n",
            "\n",
            "Interation 900 / 100000\n",
            "t = 0.0090: error = [1.96306768e-03 9.52104585e+00]\n",
            "\n",
            "Interation 1000 / 100000\n",
            "t = 0.0100: error = [2.10103473e-03 9.13037053e+00]\n",
            "\n",
            "Interation 1100 / 100000\n",
            "t = 0.0110: error = [2.22874492e-03 8.77333174e+00]\n",
            "\n",
            "Interation 1200 / 100000\n",
            "t = 0.0120: error = [2.34707777e-03 8.44462609e+00]\n",
            "\n",
            "Interation 1300 / 100000\n",
            "t = 0.0130: error = [2.45678886e-03 8.15243691e+00]\n",
            "\n",
            "Interation 1400 / 100000\n",
            "t = 0.0140: error = [2.55886000e-03 7.86444647e+00]\n",
            "\n",
            "Interation 1500 / 100000\n",
            "t = 0.0150: error = [2.65354603e-03 7.81254210e+00]\n",
            "\n",
            "Interation 1600 / 100000\n",
            "t = 0.0160: error = [2.74547570e-03 7.71123549e+00]\n",
            "\n",
            "Interation 1700 / 100000\n",
            "t = 0.0170: error = [2.84221597e-03 9.61324791e+00]\n",
            "\n",
            "Interation 1800 / 100000\n",
            "t = 0.0180: error = [2.93877007e-03 1.73592312e+01]\n",
            "\n",
            "Interation 1900 / 100000\n",
            "t = 0.0190: error = [3.65045264e-03 1.42595754e+01]\n",
            "\n",
            "Interation 2000 / 100000\n",
            "t = 0.0200: error = [3.25139540e-03 8.56112634e+01]\n",
            "\n",
            "Interation 2100 / 100000\n",
            "t = 0.0210: error = [1.08396510e-02 5.10707975e+01]\n",
            "\n",
            "Interation 2200 / 100000\n",
            "t = 0.0220: error = [1.64085135e-02 3.57744849e+02]\n",
            "\n",
            "Interation 2300 / 100000\n",
            "t = 0.0230: error = [6.13606357e-02 6.51540987e+02]\n",
            "\n",
            "Interation 2400 / 100000\n",
            "t = 0.0240: error = [nan nan]\n",
            "\n"
          ]
        },
        {
          "output_type": "error",
          "ename": "KeyboardInterrupt",
          "evalue": "",
          "traceback": [
            "\u001b[0;31m---------------------------------------------------------------------------\u001b[0m",
            "\u001b[0;31mKeyboardInterrupt\u001b[0m                         Traceback (most recent call last)",
            "\u001b[0;32m<ipython-input-53-46c334ffcc4c>\u001b[0m in \u001b[0;36m<cell line: 5>\u001b[0;34m()\u001b[0m\n\u001b[1;32m     32\u001b[0m \u001b[0;34m\u001b[0m\u001b[0m\n\u001b[1;32m     33\u001b[0m   \u001b[0mq_inlet\u001b[0m \u001b[0;34m=\u001b[0m \u001b[0minlet_bc\u001b[0m\u001b[0;34m(\u001b[0m\u001b[0mA_old\u001b[0m\u001b[0;34m,\u001b[0m \u001b[0mq_old\u001b[0m\u001b[0;34m)\u001b[0m\u001b[0;34m\u001b[0m\u001b[0;34m\u001b[0m\u001b[0m\n\u001b[0;32m---> 34\u001b[0;31m   \u001b[0mA_outlet\u001b[0m\u001b[0;34m,\u001b[0m \u001b[0mq_outlet\u001b[0m \u001b[0;34m=\u001b[0m \u001b[0moutlet_bc\u001b[0m\u001b[0;34m(\u001b[0m\u001b[0mA_old\u001b[0m\u001b[0;34m,\u001b[0m \u001b[0mq_old\u001b[0m\u001b[0;34m)\u001b[0m\u001b[0;34m\u001b[0m\u001b[0;34m\u001b[0m\u001b[0m\n\u001b[0m",
            "\u001b[0;32m<ipython-input-47-e6d2541d070d>\u001b[0m in \u001b[0;36moutlet_bc\u001b[0;34m(A, q)\u001b[0m\n\u001b[1;32m      6\u001b[0m \u001b[0;34m\u001b[0m\u001b[0m\n\u001b[1;32m      7\u001b[0m \u001b[0;32mdef\u001b[0m \u001b[0moutlet_bc\u001b[0m\u001b[0;34m(\u001b[0m\u001b[0mA\u001b[0m\u001b[0;34m,\u001b[0m \u001b[0mq\u001b[0m\u001b[0;34m)\u001b[0m\u001b[0;34m:\u001b[0m\u001b[0;34m\u001b[0m\u001b[0;34m\u001b[0m\u001b[0m\n\u001b[0;32m----> 8\u001b[0;31m   \u001b[0mA_out_fun\u001b[0m\u001b[0;34m,\u001b[0m \u001b[0mq_out_fun\u001b[0m \u001b[0;34m=\u001b[0m \u001b[0mproject\u001b[0m\u001b[0;34m(\u001b[0m\u001b[0mdot\u001b[0m\u001b[0;34m(\u001b[0m\u001b[0moutlet_matrix\u001b[0m\u001b[0;34m(\u001b[0m\u001b[0mA\u001b[0m\u001b[0;34m,\u001b[0m \u001b[0mq\u001b[0m\u001b[0;34m)\u001b[0m\u001b[0;34m,\u001b[0m \u001b[0moutlet_vector\u001b[0m\u001b[0;34m(\u001b[0m\u001b[0mA\u001b[0m\u001b[0;34m,\u001b[0m \u001b[0mq\u001b[0m\u001b[0;34m)\u001b[0m\u001b[0;34m)\u001b[0m \u001b[0;34m/\u001b[0m \u001b[0;34m(\u001b[0m\u001b[0;36m2\u001b[0m \u001b[0;34m*\u001b[0m \u001b[0mc_alpha\u001b[0m\u001b[0;34m(\u001b[0m\u001b[0mA\u001b[0m\u001b[0;34m,\u001b[0m \u001b[0mq\u001b[0m\u001b[0;34m)\u001b[0m\u001b[0;34m)\u001b[0m\u001b[0;34m,\u001b[0m \u001b[0mV\u001b[0m\u001b[0;34m)\u001b[0m\u001b[0;34m.\u001b[0m\u001b[0msplit\u001b[0m\u001b[0;34m(\u001b[0m\u001b[0;34m)\u001b[0m\u001b[0;34m\u001b[0m\u001b[0;34m\u001b[0m\u001b[0m\n\u001b[0m\u001b[1;32m      9\u001b[0m   \u001b[0mA_outlet\u001b[0m \u001b[0;34m=\u001b[0m \u001b[0mA_out_fun\u001b[0m\u001b[0;34m.\u001b[0m\u001b[0mcompute_vertex_values\u001b[0m\u001b[0;34m(\u001b[0m\u001b[0mmesh\u001b[0m\u001b[0;34m)\u001b[0m\u001b[0;34m[\u001b[0m\u001b[0;34m-\u001b[0m\u001b[0;36m1\u001b[0m\u001b[0;34m]\u001b[0m\u001b[0;34m\u001b[0m\u001b[0;34m\u001b[0m\u001b[0m\n\u001b[1;32m     10\u001b[0m   \u001b[0mq_outlet\u001b[0m \u001b[0;34m=\u001b[0m \u001b[0mq_out_fun\u001b[0m\u001b[0;34m.\u001b[0m\u001b[0mcompute_vertex_values\u001b[0m\u001b[0;34m(\u001b[0m\u001b[0mmesh\u001b[0m\u001b[0;34m)\u001b[0m\u001b[0;34m[\u001b[0m\u001b[0;34m-\u001b[0m\u001b[0;36m1\u001b[0m\u001b[0;34m]\u001b[0m\u001b[0;34m\u001b[0m\u001b[0;34m\u001b[0m\u001b[0m\n",
            "\u001b[0;32m<ipython-input-47-e6d2541d070d>\u001b[0m in \u001b[0;36moutlet_vector\u001b[0;34m(A, q)\u001b[0m\n\u001b[1;32m      3\u001b[0m \u001b[0;34m\u001b[0m\u001b[0m\n\u001b[1;32m      4\u001b[0m \u001b[0;32mdef\u001b[0m \u001b[0moutlet_vector\u001b[0m\u001b[0;34m(\u001b[0m\u001b[0mA\u001b[0m\u001b[0;34m,\u001b[0m \u001b[0mq\u001b[0m\u001b[0;34m)\u001b[0m\u001b[0;34m:\u001b[0m\u001b[0;34m\u001b[0m\u001b[0;34m\u001b[0m\u001b[0m\n\u001b[0;32m----> 5\u001b[0;31m   \u001b[0;32mreturn\u001b[0m \u001b[0mas_vector\u001b[0m\u001b[0;34m(\u001b[0m\u001b[0;34m[\u001b[0m\u001b[0ml1\u001b[0m\u001b[0;34m(\u001b[0m\u001b[0mA\u001b[0m\u001b[0;34m,\u001b[0m \u001b[0mq\u001b[0m\u001b[0;34m)\u001b[0m\u001b[0;34m[\u001b[0m\u001b[0;36m0\u001b[0m\u001b[0;34m]\u001b[0m \u001b[0;34m*\u001b[0m \u001b[0mCC\u001b[0m\u001b[0;34m(\u001b[0m\u001b[0mA\u001b[0m\u001b[0;34m,\u001b[0m \u001b[0mq\u001b[0m\u001b[0;34m)\u001b[0m\u001b[0;34m[\u001b[0m\u001b[0;36m0\u001b[0m\u001b[0;34m]\u001b[0m \u001b[0;34m+\u001b[0m \u001b[0ml1\u001b[0m\u001b[0;34m(\u001b[0m\u001b[0mA\u001b[0m\u001b[0;34m,\u001b[0m \u001b[0mq\u001b[0m\u001b[0;34m)\u001b[0m\u001b[0;34m[\u001b[0m\u001b[0;36m1\u001b[0m\u001b[0;34m]\u001b[0m \u001b[0;34m*\u001b[0m \u001b[0mCC\u001b[0m\u001b[0;34m(\u001b[0m\u001b[0mA\u001b[0m\u001b[0;34m,\u001b[0m \u001b[0mq\u001b[0m\u001b[0;34m)\u001b[0m\u001b[0;34m[\u001b[0m\u001b[0;36m1\u001b[0m\u001b[0;34m]\u001b[0m\u001b[0;34m,\u001b[0m \u001b[0ml2\u001b[0m\u001b[0;34m(\u001b[0m\u001b[0mA\u001b[0m\u001b[0;34m,\u001b[0m \u001b[0mq\u001b[0m\u001b[0;34m)\u001b[0m\u001b[0;34m[\u001b[0m\u001b[0;36m0\u001b[0m\u001b[0;34m]\u001b[0m \u001b[0;34m*\u001b[0m \u001b[0;34m(\u001b[0m\u001b[0mU\u001b[0m\u001b[0;34m(\u001b[0m\u001b[0mA\u001b[0m\u001b[0;34m,\u001b[0m \u001b[0mq\u001b[0m\u001b[0;34m)\u001b[0m \u001b[0;34m-\u001b[0m \u001b[0mdt\u001b[0m \u001b[0;34m*\u001b[0m \u001b[0mS\u001b[0m\u001b[0;34m(\u001b[0m\u001b[0mA\u001b[0m\u001b[0;34m,\u001b[0m \u001b[0mq\u001b[0m\u001b[0;34m)\u001b[0m\u001b[0;34m)\u001b[0m\u001b[0;34m[\u001b[0m\u001b[0;36m0\u001b[0m\u001b[0;34m]\u001b[0m \u001b[0;34m+\u001b[0m \u001b[0ml2\u001b[0m\u001b[0;34m(\u001b[0m\u001b[0mA\u001b[0m\u001b[0;34m,\u001b[0m \u001b[0mq\u001b[0m\u001b[0;34m)\u001b[0m\u001b[0;34m[\u001b[0m\u001b[0;36m1\u001b[0m\u001b[0;34m]\u001b[0m \u001b[0;34m*\u001b[0m \u001b[0;34m(\u001b[0m\u001b[0mU\u001b[0m\u001b[0;34m(\u001b[0m\u001b[0mA\u001b[0m\u001b[0;34m,\u001b[0m \u001b[0mq\u001b[0m\u001b[0;34m)\u001b[0m \u001b[0;34m-\u001b[0m \u001b[0mdt\u001b[0m \u001b[0;34m*\u001b[0m \u001b[0mS\u001b[0m\u001b[0;34m(\u001b[0m\u001b[0mA\u001b[0m\u001b[0;34m,\u001b[0m \u001b[0mq\u001b[0m\u001b[0;34m)\u001b[0m\u001b[0;34m)\u001b[0m\u001b[0;34m[\u001b[0m\u001b[0;36m1\u001b[0m\u001b[0;34m]\u001b[0m\u001b[0;34m]\u001b[0m\u001b[0;34m)\u001b[0m\u001b[0;34m\u001b[0m\u001b[0;34m\u001b[0m\u001b[0m\n\u001b[0m\u001b[1;32m      6\u001b[0m \u001b[0;34m\u001b[0m\u001b[0m\n\u001b[1;32m      7\u001b[0m \u001b[0;32mdef\u001b[0m \u001b[0moutlet_bc\u001b[0m\u001b[0;34m(\u001b[0m\u001b[0mA\u001b[0m\u001b[0;34m,\u001b[0m \u001b[0mq\u001b[0m\u001b[0;34m)\u001b[0m\u001b[0;34m:\u001b[0m\u001b[0;34m\u001b[0m\u001b[0;34m\u001b[0m\u001b[0m\n",
            "\u001b[0;32m<ipython-input-45-7439f7702b75>\u001b[0m in \u001b[0;36mCC\u001b[0;34m(A, q)\u001b[0m\n\u001b[1;32m      9\u001b[0m \u001b[0;34m\u001b[0m\u001b[0m\n\u001b[1;32m     10\u001b[0m \u001b[0;32mdef\u001b[0m \u001b[0mCC\u001b[0m\u001b[0;34m(\u001b[0m\u001b[0mA\u001b[0m\u001b[0;34m,\u001b[0m \u001b[0mq\u001b[0m\u001b[0;34m)\u001b[0m\u001b[0;34m:\u001b[0m\u001b[0;34m\u001b[0m\u001b[0;34m\u001b[0m\u001b[0m\n\u001b[0;32m---> 11\u001b[0;31m   \u001b[0;32mreturn\u001b[0m \u001b[0mU\u001b[0m\u001b[0;34m(\u001b[0m\u001b[0mA\u001b[0m\u001b[0;34m,\u001b[0m \u001b[0mq\u001b[0m\u001b[0;34m)\u001b[0m \u001b[0;34m-\u001b[0m \u001b[0mdt\u001b[0m \u001b[0;34m*\u001b[0m \u001b[0mdot\u001b[0m\u001b[0;34m(\u001b[0m\u001b[0mH\u001b[0m\u001b[0;34m(\u001b[0m\u001b[0mA\u001b[0m\u001b[0;34m,\u001b[0m \u001b[0mq\u001b[0m\u001b[0;34m)\u001b[0m\u001b[0;34m,\u001b[0m \u001b[0mU\u001b[0m\u001b[0;34m(\u001b[0m\u001b[0mA\u001b[0m\u001b[0;34m,\u001b[0m \u001b[0mq\u001b[0m\u001b[0;34m)\u001b[0m\u001b[0;34m.\u001b[0m\u001b[0mdx\u001b[0m\u001b[0;34m(\u001b[0m\u001b[0;36m0\u001b[0m\u001b[0;34m)\u001b[0m\u001b[0;34m)\u001b[0m \u001b[0;34m-\u001b[0m \u001b[0mdt\u001b[0m \u001b[0;34m*\u001b[0m \u001b[0mB\u001b[0m\u001b[0;34m(\u001b[0m\u001b[0mA\u001b[0m\u001b[0;34m,\u001b[0m \u001b[0mq\u001b[0m\u001b[0;34m)\u001b[0m \u001b[0;34m+\u001b[0m \u001b[0mdt\u001b[0m \u001b[0;34m*\u001b[0m \u001b[0mf\u001b[0m\u001b[0;34m\u001b[0m\u001b[0;34m\u001b[0m\u001b[0m\n\u001b[0m",
            "\u001b[0;32m/usr/lib/python3/dist-packages/ufl_legacy/exproperators.py\u001b[0m in \u001b[0;36m_dx\u001b[0;34m(self, *ii)\u001b[0m\n\u001b[1;32m    499\u001b[0m \u001b[0;34m\u001b[0m\u001b[0m\n\u001b[1;32m    500\u001b[0m     \u001b[0;31m# Take all components, applying repeated index sums in the [] operation\u001b[0m\u001b[0;34m\u001b[0m\u001b[0;34m\u001b[0m\u001b[0m\n\u001b[0;32m--> 501\u001b[0;31m     \u001b[0;32mreturn\u001b[0m \u001b[0md\u001b[0m\u001b[0;34m.\u001b[0m\u001b[0m__getitem__\u001b[0m\u001b[0;34m(\u001b[0m\u001b[0;34m(\u001b[0m\u001b[0mEllipsis\u001b[0m\u001b[0;34m,\u001b[0m\u001b[0;34m)\u001b[0m \u001b[0;34m+\u001b[0m \u001b[0mii\u001b[0m\u001b[0;34m)\u001b[0m\u001b[0;34m\u001b[0m\u001b[0;34m\u001b[0m\u001b[0m\n\u001b[0m\u001b[1;32m    502\u001b[0m \u001b[0;34m\u001b[0m\u001b[0m\n\u001b[1;32m    503\u001b[0m \u001b[0;34m\u001b[0m\u001b[0m\n",
            "\u001b[0;32m/usr/lib/python3/dist-packages/ufl_legacy/exproperators.py\u001b[0m in \u001b[0;36m_getitem\u001b[0;34m(self, component)\u001b[0m\n\u001b[1;32m    436\u001b[0m \u001b[0;34m\u001b[0m\u001b[0m\n\u001b[1;32m    437\u001b[0m     \u001b[0;31m# Analyse slices (:) and Ellipsis (...)\u001b[0m\u001b[0;34m\u001b[0m\u001b[0;34m\u001b[0m\u001b[0m\n\u001b[0;32m--> 438\u001b[0;31m     \u001b[0mall_indices\u001b[0m\u001b[0;34m,\u001b[0m \u001b[0mslice_indices\u001b[0m\u001b[0;34m,\u001b[0m \u001b[0mrepeated_indices\u001b[0m \u001b[0;34m=\u001b[0m \u001b[0mcreate_slice_indices\u001b[0m\u001b[0;34m(\u001b[0m\u001b[0mcomponent\u001b[0m\u001b[0;34m,\u001b[0m \u001b[0mshape\u001b[0m\u001b[0;34m,\u001b[0m \u001b[0mself\u001b[0m\u001b[0;34m.\u001b[0m\u001b[0mufl_free_indices\u001b[0m\u001b[0;34m)\u001b[0m\u001b[0;34m\u001b[0m\u001b[0;34m\u001b[0m\u001b[0m\n\u001b[0m\u001b[1;32m    439\u001b[0m \u001b[0;34m\u001b[0m\u001b[0m\n\u001b[1;32m    440\u001b[0m     \u001b[0;31m# Check that we have the right number of indices for a tensor with\u001b[0m\u001b[0;34m\u001b[0m\u001b[0;34m\u001b[0m\u001b[0m\n",
            "\u001b[0;32m/usr/lib/python3/dist-packages/ufl_legacy/index_combination_utils.py\u001b[0m in \u001b[0;36mcreate_slice_indices\u001b[0;34m(component, shape, fi)\u001b[0m\n\u001b[1;32m    160\u001b[0m         \u001b[0;32melif\u001b[0m \u001b[0mind\u001b[0m \u001b[0;34m==\u001b[0m \u001b[0mEllipsis\u001b[0m\u001b[0;34m:\u001b[0m\u001b[0;34m\u001b[0m\u001b[0;34m\u001b[0m\u001b[0m\n\u001b[1;32m    161\u001b[0m             \u001b[0mer\u001b[0m \u001b[0;34m=\u001b[0m \u001b[0mlen\u001b[0m\u001b[0;34m(\u001b[0m\u001b[0mshape\u001b[0m\u001b[0;34m)\u001b[0m \u001b[0;34m-\u001b[0m \u001b[0mlen\u001b[0m\u001b[0;34m(\u001b[0m\u001b[0mcomponent\u001b[0m\u001b[0;34m)\u001b[0m \u001b[0;34m+\u001b[0m \u001b[0;36m1\u001b[0m\u001b[0;34m\u001b[0m\u001b[0;34m\u001b[0m\u001b[0m\n\u001b[0;32m--> 162\u001b[0;31m             \u001b[0mii\u001b[0m \u001b[0;34m=\u001b[0m \u001b[0mindices\u001b[0m\u001b[0;34m(\u001b[0m\u001b[0mer\u001b[0m\u001b[0;34m)\u001b[0m\u001b[0;34m\u001b[0m\u001b[0;34m\u001b[0m\u001b[0m\n\u001b[0m\u001b[1;32m    163\u001b[0m             \u001b[0mslice_indices\u001b[0m\u001b[0;34m.\u001b[0m\u001b[0mextend\u001b[0m\u001b[0;34m(\u001b[0m\u001b[0mii\u001b[0m\u001b[0;34m)\u001b[0m\u001b[0;34m\u001b[0m\u001b[0;34m\u001b[0m\u001b[0m\n\u001b[1;32m    164\u001b[0m             \u001b[0mall_indices\u001b[0m\u001b[0;34m.\u001b[0m\u001b[0mextend\u001b[0m\u001b[0;34m(\u001b[0m\u001b[0mii\u001b[0m\u001b[0;34m)\u001b[0m\u001b[0;34m\u001b[0m\u001b[0;34m\u001b[0m\u001b[0m\n",
            "\u001b[0;32m/usr/lib/python3/dist-packages/ufl_legacy/core/multiindex.py\u001b[0m in \u001b[0;36mindices\u001b[0;34m(n)\u001b[0m\n\u001b[1;32m    239\u001b[0m \u001b[0;32mdef\u001b[0m \u001b[0mindices\u001b[0m\u001b[0;34m(\u001b[0m\u001b[0mn\u001b[0m\u001b[0;34m)\u001b[0m\u001b[0;34m:\u001b[0m\u001b[0;34m\u001b[0m\u001b[0;34m\u001b[0m\u001b[0m\n\u001b[1;32m    240\u001b[0m     \u001b[0;34m\"UFL value: Return a tuple of :math:`n` new Index objects.\"\u001b[0m\u001b[0;34m\u001b[0m\u001b[0;34m\u001b[0m\u001b[0m\n\u001b[0;32m--> 241\u001b[0;31m     \u001b[0;32mreturn\u001b[0m \u001b[0mtuple\u001b[0m\u001b[0;34m(\u001b[0m\u001b[0mIndex\u001b[0m\u001b[0;34m(\u001b[0m\u001b[0;34m)\u001b[0m \u001b[0;32mfor\u001b[0m \u001b[0mi\u001b[0m \u001b[0;32min\u001b[0m \u001b[0mrange\u001b[0m\u001b[0;34m(\u001b[0m\u001b[0mn\u001b[0m\u001b[0;34m)\u001b[0m\u001b[0;34m)\u001b[0m\u001b[0;34m\u001b[0m\u001b[0;34m\u001b[0m\u001b[0m\n\u001b[0m",
            "\u001b[0;32m/usr/lib/python3/dist-packages/ufl_legacy/core/multiindex.py\u001b[0m in \u001b[0;36m<genexpr>\u001b[0;34m(.0)\u001b[0m\n\u001b[1;32m    239\u001b[0m \u001b[0;32mdef\u001b[0m \u001b[0mindices\u001b[0m\u001b[0;34m(\u001b[0m\u001b[0mn\u001b[0m\u001b[0;34m)\u001b[0m\u001b[0;34m:\u001b[0m\u001b[0;34m\u001b[0m\u001b[0;34m\u001b[0m\u001b[0m\n\u001b[1;32m    240\u001b[0m     \u001b[0;34m\"UFL value: Return a tuple of :math:`n` new Index objects.\"\u001b[0m\u001b[0;34m\u001b[0m\u001b[0;34m\u001b[0m\u001b[0m\n\u001b[0;32m--> 241\u001b[0;31m     \u001b[0;32mreturn\u001b[0m \u001b[0mtuple\u001b[0m\u001b[0;34m(\u001b[0m\u001b[0mIndex\u001b[0m\u001b[0;34m(\u001b[0m\u001b[0;34m)\u001b[0m \u001b[0;32mfor\u001b[0m \u001b[0mi\u001b[0m \u001b[0;32min\u001b[0m \u001b[0mrange\u001b[0m\u001b[0;34m(\u001b[0m\u001b[0mn\u001b[0m\u001b[0;34m)\u001b[0m\u001b[0;34m)\u001b[0m\u001b[0;34m\u001b[0m\u001b[0;34m\u001b[0m\u001b[0m\n\u001b[0m",
            "\u001b[0;32m/usr/lib/python3/dist-packages/ufl_legacy/core/multiindex.py\u001b[0m in \u001b[0;36m__init__\u001b[0;34m(self, count)\u001b[0m\n\u001b[1;32m     80\u001b[0m     \u001b[0m_globalcount\u001b[0m \u001b[0;34m=\u001b[0m \u001b[0;36m0\u001b[0m\u001b[0;34m\u001b[0m\u001b[0;34m\u001b[0m\u001b[0m\n\u001b[1;32m     81\u001b[0m \u001b[0;34m\u001b[0m\u001b[0m\n\u001b[0;32m---> 82\u001b[0;31m     \u001b[0;32mdef\u001b[0m \u001b[0m__init__\u001b[0m\u001b[0;34m(\u001b[0m\u001b[0mself\u001b[0m\u001b[0;34m,\u001b[0m \u001b[0mcount\u001b[0m\u001b[0;34m=\u001b[0m\u001b[0;32mNone\u001b[0m\u001b[0;34m)\u001b[0m\u001b[0;34m:\u001b[0m\u001b[0;34m\u001b[0m\u001b[0;34m\u001b[0m\u001b[0m\n\u001b[0m\u001b[1;32m     83\u001b[0m         \u001b[0mIndexBase\u001b[0m\u001b[0;34m.\u001b[0m\u001b[0m__init__\u001b[0m\u001b[0;34m(\u001b[0m\u001b[0mself\u001b[0m\u001b[0;34m)\u001b[0m\u001b[0;34m\u001b[0m\u001b[0;34m\u001b[0m\u001b[0m\n\u001b[1;32m     84\u001b[0m         \u001b[0mcounted_init\u001b[0m\u001b[0;34m(\u001b[0m\u001b[0mself\u001b[0m\u001b[0;34m,\u001b[0m \u001b[0mcount\u001b[0m\u001b[0;34m,\u001b[0m \u001b[0mIndex\u001b[0m\u001b[0;34m)\u001b[0m\u001b[0;34m\u001b[0m\u001b[0;34m\u001b[0m\u001b[0m\n",
            "\u001b[0;31mKeyboardInterrupt\u001b[0m: "
          ]
        }
      ]
    },
    {
      "cell_type": "code",
      "source": [
        "A.compute_vertex_values()"
      ],
      "metadata": {
        "id": "RL2iWCmFYy8M"
      },
      "execution_count": null,
      "outputs": []
    }
  ]
}