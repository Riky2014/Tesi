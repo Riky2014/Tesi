{
  "nbformat": 4,
  "nbformat_minor": 0,
  "metadata": {
    "colab": {
      "provenance": [],
      "mount_file_id": "https://github.com/Riky2014/Tesi/blob/main/1d_hemo_solver.ipynb",
      "authorship_tag": "ABX9TyOl/yq66DktZ4/1v1WtdN2X",
      "include_colab_link": true
    },
    "kernelspec": {
      "name": "python3",
      "display_name": "Python 3"
    },
    "language_info": {
      "name": "python"
    }
  },
  "cells": [
    {
      "cell_type": "markdown",
      "metadata": {
        "id": "view-in-github",
        "colab_type": "text"
      },
      "source": [
        "<a href=\"https://colab.research.google.com/github/Riky2014/Tesi/blob/main/1d_hemo_solver.ipynb\" target=\"_parent\"><img src=\"https://colab.research.google.com/assets/colab-badge.svg\" alt=\"Open In Colab\"/></a>"
      ]
    },
    {
      "cell_type": "code",
      "source": [
        "%%capture\n",
        "!apt-get install software-properties-common\n",
        "!add-apt-repository -y ppa:fenics-packages/fenics\n",
        "!apt-get update -qq\n",
        "!apt install fenics"
      ],
      "metadata": {
        "id": "Vk2md9CPA9f1"
      },
      "execution_count": 1,
      "outputs": []
    },
    {
      "cell_type": "code",
      "source": [
        "import logging\n",
        "import numpy as np\n",
        "from fenics import *\n",
        "from tqdm import tqdm\n",
        "import matplotlib.pyplot as plt\n",
        "\n",
        "# Set the logging level to suppress FFC messages\n",
        "logging.getLogger('UFL_LEGACY').setLevel(logging.WARNING)\n",
        "logging.getLogger('FFC').setLevel(logging.ERROR)\n",
        "set_log_level(LogLevel.ERROR)"
      ],
      "metadata": {
        "id": "qzvdV-jaGZG6"
      },
      "execution_count": 2,
      "outputs": []
    },
    {
      "cell_type": "markdown",
      "source": [
        "# Data, Mesh and Function spaces"
      ],
      "metadata": {
        "id": "br10ska72pF5"
      }
    },
    {
      "cell_type": "code",
      "execution_count": 3,
      "metadata": {
        "id": "uYE6EYza9Az2"
      },
      "outputs": [],
      "source": [
        "# Data\n",
        "x_left = 0.\n",
        "x_right = 1.0\n",
        "\n",
        "A_tilde = 4e-4\n",
        "a_tilde = 4e-5\n",
        "q_tilde = 0.0\n",
        "K_tilde = 50e3\n",
        "\n",
        "alpha = 1\n",
        "k_r = 2.416e-4\n",
        "rho = 1.05\n",
        "\n",
        "T = 1\n",
        "L = 1\n",
        "\n",
        "# Discretization parameter\n",
        "dt = 1e-5\n",
        "h = 1 / 256\n",
        "num_steps = T / dt\n",
        "N = int((x_right - x_left) / h)\n",
        "\n",
        "#  Create a mesh on the interval [0, 1].\n",
        "mesh = IntervalMesh(N, x_left, x_right)\n",
        "x = MeshCoordinates(mesh)\n",
        "\n",
        "# Define the function space\n",
        "P1 = FiniteElement('P', mesh.ufl_cell(), 1)\n",
        "element = MixedElement([P1, P1])\n",
        "V = FunctionSpace(mesh, element)\n",
        "\n",
        "# Derivative function space\n",
        "D1 = FiniteElement('DG', mesh.ufl_cell(), 0)\n",
        "element_der = MixedElement([D1, D1])\n",
        "V_der = FunctionSpace(mesh, element_der)\n",
        "\n",
        "# Define the function space for exact solution\n",
        "P2 = FiniteElement('P', mesh.ufl_cell(), 2)\n",
        "element_exact = MixedElement([P2, P2])\n",
        "V_ex = FunctionSpace(mesh, element_exact)"
      ]
    },
    {
      "cell_type": "markdown",
      "source": [
        "# Exact solution and forcing term, sinusiodal"
      ],
      "metadata": {
        "id": "BhMwMfhE2uWz"
      }
    },
    {
      "cell_type": "code",
      "source": [
        "# Exact solution and forcing term\n",
        "\n",
        "A_exact = Expression('A_tilde + a_tilde * sin(2 * pi / L * x[0]) * cos(2 * pi / T * t)', A_tilde = A_tilde, a_tilde = a_tilde, L = L, T = T, degree = 2, t = 0)\n",
        "\n",
        "q_exact = Expression('q_tilde - (a_tilde * L / T) * cos(2 * pi / L * x[0]) * sin(2 * pi / T * t)', q_tilde = q_tilde, a_tilde = a_tilde, L = L, T = T, degree = 2, t = 0)\n",
        "\n",
        "dU_dt = Expression(('- 2 * pi * a_tilde * sin(2 * pi * t) * sin(2 * pi * x[0])',\n",
        "\n",
        "                    '- 2 * pi * a_tilde * L / T * cos(2 * pi * t) * cos(2 * pi * x[0])'),\n",
        "                    a_tilde = a_tilde, L = L, T = T, degree = 1, t = 0)\n",
        "\n",
        "S = Expression(('0.',\n",
        "\n",
        "                'k_r * (q_tilde - (a_tilde * L / T) * cos(2 * pi / L * x[0]) * sin(2 * pi / T * t)) / (A_tilde + a_tilde * sin(2 * pi / L * x[0]) * cos(2 * pi / T * t))'),\n",
        "                A_tilde = A_tilde, a_tilde = a_tilde, q_tilde = q_tilde, L = L, T = T, k_r = k_r, degree = 1, t = 0)\n",
        "\n",
        "dF_dx = Expression(('2 * pi * a_tilde * L / T * sin(2 * pi * t) * sin(2 * pi * x[0])',\n",
        "\n",
        "                    'pi * K_tilde * a_tilde / rho * pow(0.1 * sin(2 * pi * x[0]) * cos(2 * pi * t) + 1, 0.5) * cos(2 * pi * t) * cos(2 * pi * x[0]) \\\n",
        "                    - 2 * pi * pow(a_tilde, 3) * pow(L / (A_tilde * T), 2) * pow(sin(2 * pi * t), 2) * cos(2 * pi * t) * pow(cos(2 * pi * x[0]), 3) / pow(0.1 * sin(2 * pi * x[0]) * cos(2 * pi * t) + 1, 2) \\\n",
        "                    - 4 * pi * pow(a_tilde, 2) * pow(sin(2 * pi * t), 2) * sin(2 * pi * x[0]) * cos(2 * pi * x[0]) / (A_tilde + a_tilde * sin(2 * pi * x[0]) * cos(2 * pi * t))'),\n",
        "                    a_tilde = a_tilde, A_tilde = A_tilde, K_tilde = K_tilde, L = L, T = T, rho = rho, degree = 1, t = 0)\n",
        "\n",
        "dU_dt_dt = Expression(('- 4 * pi * pi * a_tilde * sin(2 * pi * x[0]) * cos(2 * pi * t)',\n",
        "\n",
        "                       '4 * pi * pi * a_tilde * sin(2 * pi * t) * cos(2 * pi * x[0])'),\n",
        "                       a_tilde = a_tilde, L = L, T = T, degree = 1, t = 0)\n",
        "\n",
        "dS_dt = Expression(('0.',\n",
        "\n",
        "                    '- 2 * pi * k_r * pow(a_tilde / A_tilde, 2) * pow(sin(2 * pi * t), 2) * sin(2 * pi * x[0]) * cos(2 * pi * x[0]) / (pow(0.1 * sin(2 * pi * x[0]) * cos(2 * pi * t) + 1, 2)) \\\n",
        "                    - 2 * pi * k_r * a_tilde * cos(2 * pi * t) * cos(2 * pi * x[0]) / (A_tilde + a_tilde * sin(2 * pi * x[0]) * cos(2 * pi * t))'),\n",
        "                    A_tilde = A_tilde, a_tilde = a_tilde, q_tilde = q_tilde, L = L, T = T, k_r = k_r, degree = 1, t = 0)\n",
        "\n",
        "dF_dx_dt = Expression(('4 * pi * pi * a_tilde * L / T * cos(2 * pi * t) * sin(2 * pi * x[0])',\n",
        "\n",
        "                    '- 0.1 * pi * pi * K_tilde * a_tilde / rho * sin(2 * pi * t) * sin(2 * pi * x[0]) * cos(2 * pi * t) * cos(2 * pi * x[0]) / pow(0.1 * sin(2 * pi * x[0]) * cos(2 * pi * t) + 1, 0.5) \\\n",
        "                    - 2 * pi * pi * K_tilde * a_tilde / rho * pow(0.1 * sin(2 * pi * x[0]) * cos(2 * pi * t) + 1, 0.5) * sin(2 * pi * t) * cos(2 * pi * x[0]) \\\n",
        "                    - 8 * pi * pi * pow(a_tilde, 3) * pow(L / (A_tilde * T), 2) * pow(sin(2 * pi * t), 3) * pow(sin(2 * pi * x[0]), 2) * cos(2 * pi * x[0]) / pow(0.1 * sin(2 * pi * x[0]) * cos( 2 * pi * t) + 1, 2) \\\n",
        "                    + 4 * pi * pi * pow(a_tilde, 3) * pow(L / (A_tilde * T), 2) * pow(sin(2 * pi * t), 3) * pow(cos(2 * pi * x[0]), 3) / pow(0.1 * sin(2 * pi * x[0]) * cos( 2 * pi * t) + 1, 2) \\\n",
        "                    - 8 * pi * pi * pow(a_tilde, 3) * pow(L / (A_tilde * T), 2) * sin(2 * pi * t) * pow(cos(2 * pi * t), 2) * pow(cos(2 * pi * x[0]), 3) / pow(0.1 * sin(2 * pi * x[0]) * cos( 2 * pi * t) + 1, 2) \\\n",
        "                    - 0.8 * pi * pi * pow(a_tilde, 3) * pow(L / (A_tilde * T), 2) * pow(sin(2 * pi * t), 3) * sin(2 * pi * x[0]) * cos(2 * pi * t) * pow(cos(2 * pi * x[0]), 3) / pow(0.1 * sin(2 * pi * x[0]) * cos( 2 * pi * t) + 1, 3) \\\n",
        "                    - 16 * pi * pi * pow(a_tilde, 2) * sin(2 * pi * t) * sin(2 * pi * x[0]) * cos(2 * pi * t) * cos(2 * pi * x[0]) / (A_tilde + a_tilde * sin(2 * pi * x[0]) * cos(2 * pi * t))'),\n",
        "                    a_tilde = a_tilde, A_tilde = A_tilde, K_tilde = K_tilde, L = L, T = T, rho = rho, degree = 1, t = 0)\n",
        "\n",
        "f = dU_dt + S + dF_dx\n",
        "f_n = project(f, V)\n",
        "\n",
        "df_dt = dU_dt_dt + dS_dt + dF_dx_dt\n",
        "df_dt_n = project(df_dt, V)"
      ],
      "metadata": {
        "id": "qOdbxyotyB_E",
        "outputId": "6db98bbb-7746-49e0-82bc-7c236921a44d",
        "colab": {
          "base_uri": "https://localhost:8080/",
          "height": 371
        }
      },
      "execution_count": null,
      "outputs": [
        {
          "output_type": "error",
          "ename": "KeyboardInterrupt",
          "evalue": "",
          "traceback": [
            "\u001b[0;31m---------------------------------------------------------------------------\u001b[0m",
            "\u001b[0;31mKeyboardInterrupt\u001b[0m                         Traceback (most recent call last)",
            "\u001b[0;32m<ipython-input-28-e286de25d73a>\u001b[0m in \u001b[0;36m<cell line: 29>\u001b[0;34m()\u001b[0m\n\u001b[1;32m     27\u001b[0m                        a_tilde = a_tilde, L = L, T = T, degree = 1, t = 0)\n\u001b[1;32m     28\u001b[0m \u001b[0;34m\u001b[0m\u001b[0m\n\u001b[0;32m---> 29\u001b[0;31m dS_dt = Expression(('0.',\n\u001b[0m\u001b[1;32m     30\u001b[0m \u001b[0;34m\u001b[0m\u001b[0m\n\u001b[1;32m     31\u001b[0m                     \u001b[0;31m'\u001b[0m\u001b[0;34m-\u001b[0m \u001b[0;36m2\u001b[0m \u001b[0;34m*\u001b[0m \u001b[0mpi\u001b[0m \u001b[0;34m*\u001b[0m \u001b[0mk_r\u001b[0m \u001b[0;34m*\u001b[0m \u001b[0mpow\u001b[0m\u001b[0;34m(\u001b[0m\u001b[0ma_tilde\u001b[0m \u001b[0;34m/\u001b[0m \u001b[0mA_tilde\u001b[0m\u001b[0;34m,\u001b[0m \u001b[0;36m2\u001b[0m\u001b[0;34m)\u001b[0m \u001b[0;34m*\u001b[0m \u001b[0mpow\u001b[0m\u001b[0;34m(\u001b[0m\u001b[0msin\u001b[0m\u001b[0;34m(\u001b[0m\u001b[0;36m2\u001b[0m \u001b[0;34m*\u001b[0m \u001b[0mpi\u001b[0m \u001b[0;34m*\u001b[0m \u001b[0mt\u001b[0m\u001b[0;34m)\u001b[0m\u001b[0;34m,\u001b[0m \u001b[0;36m2\u001b[0m\u001b[0;34m)\u001b[0m \u001b[0;34m*\u001b[0m \u001b[0msin\u001b[0m\u001b[0;34m(\u001b[0m\u001b[0;36m2\u001b[0m \u001b[0;34m*\u001b[0m \u001b[0mpi\u001b[0m \u001b[0;34m*\u001b[0m \u001b[0mx\u001b[0m\u001b[0;34m[\u001b[0m\u001b[0;36m0\u001b[0m\u001b[0;34m]\u001b[0m\u001b[0;34m)\u001b[0m \u001b[0;34m*\u001b[0m \u001b[0mcos\u001b[0m\u001b[0;34m(\u001b[0m\u001b[0;36m2\u001b[0m \u001b[0;34m*\u001b[0m \u001b[0mpi\u001b[0m \u001b[0;34m*\u001b[0m \u001b[0mx\u001b[0m\u001b[0;34m[\u001b[0m\u001b[0;36m0\u001b[0m\u001b[0;34m]\u001b[0m\u001b[0;34m)\u001b[0m \u001b[0;34m/\u001b[0m \u001b[0;34m(\u001b[0m\u001b[0mpow\u001b[0m\u001b[0;34m(\u001b[0m\u001b[0;36m0.1\u001b[0m \u001b[0;34m*\u001b[0m \u001b[0msin\u001b[0m\u001b[0;34m(\u001b[0m\u001b[0;36m2\u001b[0m \u001b[0;34m*\u001b[0m \u001b[0mpi\u001b[0m \u001b[0;34m*\u001b[0m \u001b[0mx\u001b[0m\u001b[0;34m[\u001b[0m\u001b[0;36m0\u001b[0m\u001b[0;34m]\u001b[0m\u001b[0;34m)\u001b[0m \u001b[0;34m*\u001b[0m \u001b[0mcos\u001b[0m\u001b[0;34m(\u001b[0m\u001b[0;36m2\u001b[0m \u001b[0;34m*\u001b[0m \u001b[0mpi\u001b[0m \u001b[0;34m*\u001b[0m \u001b[0mt\u001b[0m\u001b[0;34m)\u001b[0m \u001b[0;34m+\u001b[0m \u001b[0;36m1\u001b[0m\u001b[0;34m,\u001b[0m \u001b[0;36m2\u001b[0m\u001b[0;34m)\u001b[0m\u001b[0;34m)\u001b[0m\u001b[0;31m \u001b[0m\u001b[0;31m\\\u001b[0m\u001b[0;34m\u001b[0m\u001b[0;34m\u001b[0m\u001b[0m\n",
            "\u001b[0;32m/usr/lib/petsc/lib/python3/dist-packages/dolfin/function/expression.py\u001b[0m in \u001b[0;36m__init__\u001b[0;34m(self, cpp_code, *args, **kwargs)\u001b[0m\n\u001b[1;32m    398\u001b[0m                     \u001b[0;32mraise\u001b[0m \u001b[0mKeyError\u001b[0m\u001b[0;34m(\u001b[0m\u001b[0;34m\"User parameter key must be a string\"\u001b[0m\u001b[0;34m)\u001b[0m\u001b[0;34m\u001b[0m\u001b[0;34m\u001b[0m\u001b[0m\n\u001b[1;32m    399\u001b[0m \u001b[0;34m\u001b[0m\u001b[0m\n\u001b[0;32m--> 400\u001b[0;31m             \u001b[0mself\u001b[0m\u001b[0;34m.\u001b[0m\u001b[0m_cpp_object\u001b[0m \u001b[0;34m=\u001b[0m \u001b[0mjit\u001b[0m\u001b[0;34m.\u001b[0m\u001b[0mcompile_expression\u001b[0m\u001b[0;34m(\u001b[0m\u001b[0mcpp_code\u001b[0m\u001b[0;34m,\u001b[0m \u001b[0mparams\u001b[0m\u001b[0;34m)\u001b[0m\u001b[0;34m\u001b[0m\u001b[0;34m\u001b[0m\u001b[0m\n\u001b[0m\u001b[1;32m    401\u001b[0m             \u001b[0mself\u001b[0m\u001b[0;34m.\u001b[0m\u001b[0m_parameters\u001b[0m \u001b[0;34m=\u001b[0m \u001b[0mExpressionParameters\u001b[0m\u001b[0;34m(\u001b[0m\u001b[0mself\u001b[0m\u001b[0;34m.\u001b[0m\u001b[0m_cpp_object\u001b[0m\u001b[0;34m,\u001b[0m \u001b[0mparams\u001b[0m\u001b[0;34m)\u001b[0m\u001b[0;34m\u001b[0m\u001b[0;34m\u001b[0m\u001b[0m\n\u001b[1;32m    402\u001b[0m \u001b[0;34m\u001b[0m\u001b[0m\n",
            "\u001b[0;32m/usr/lib/petsc/lib/python3/dist-packages/dolfin/function/jit.py\u001b[0m in \u001b[0;36mcompile_expression\u001b[0;34m(statements, properties)\u001b[0m\n\u001b[1;32m    156\u001b[0m                 'name': 'expression', 'jit_generate': jit_generate}\n\u001b[1;32m    157\u001b[0m \u001b[0;34m\u001b[0m\u001b[0m\n\u001b[0;32m--> 158\u001b[0;31m     \u001b[0mexpression\u001b[0m \u001b[0;34m=\u001b[0m \u001b[0mcompile_class\u001b[0m\u001b[0;34m(\u001b[0m\u001b[0mcpp_data\u001b[0m\u001b[0;34m,\u001b[0m \u001b[0mmpi_comm\u001b[0m\u001b[0;34m=\u001b[0m\u001b[0mmpi_comm\u001b[0m\u001b[0;34m)\u001b[0m\u001b[0;34m\u001b[0m\u001b[0;34m\u001b[0m\u001b[0m\n\u001b[0m\u001b[1;32m    159\u001b[0m     \u001b[0;32mreturn\u001b[0m \u001b[0mexpression\u001b[0m\u001b[0;34m\u001b[0m\u001b[0;34m\u001b[0m\u001b[0m\n",
            "\u001b[0;32m/usr/lib/petsc/lib/python3/dist-packages/dolfin/jit/jit.py\u001b[0m in \u001b[0;36mcompile_class\u001b[0;34m(cpp_data, mpi_comm)\u001b[0m\n\u001b[1;32m    166\u001b[0m \u001b[0;34m\u001b[0m\u001b[0m\n\u001b[1;32m    167\u001b[0m     \u001b[0;32mtry\u001b[0m\u001b[0;34m:\u001b[0m\u001b[0;34m\u001b[0m\u001b[0;34m\u001b[0m\u001b[0m\n\u001b[0;32m--> 168\u001b[0;31m         module, signature = dijitso_jit(cpp_data, module_name, params,\n\u001b[0m\u001b[1;32m    169\u001b[0m                                         \u001b[0mgenerate\u001b[0m\u001b[0;34m=\u001b[0m\u001b[0mcpp_data\u001b[0m\u001b[0;34m[\u001b[0m\u001b[0;34m'jit_generate'\u001b[0m\u001b[0;34m]\u001b[0m\u001b[0;34m,\u001b[0m\u001b[0;34m\u001b[0m\u001b[0;34m\u001b[0m\u001b[0m\n\u001b[1;32m    170\u001b[0m                                         mpi_comm=mpi_comm)\n",
            "\u001b[0;32m/usr/lib/petsc/lib/python3/dist-packages/dolfin/jit/jit.py\u001b[0m in \u001b[0;36mmpi_jit\u001b[0;34m(*args, **kwargs)\u001b[0m\n\u001b[1;32m     48\u001b[0m         \u001b[0;31m# Just call JIT compiler when running in serial\u001b[0m\u001b[0;34m\u001b[0m\u001b[0;34m\u001b[0m\u001b[0m\n\u001b[1;32m     49\u001b[0m         \u001b[0;32mif\u001b[0m \u001b[0mMPI\u001b[0m\u001b[0;34m.\u001b[0m\u001b[0msize\u001b[0m\u001b[0;34m(\u001b[0m\u001b[0mmpi_comm\u001b[0m\u001b[0;34m)\u001b[0m \u001b[0;34m==\u001b[0m \u001b[0;36m1\u001b[0m\u001b[0;34m:\u001b[0m\u001b[0;34m\u001b[0m\u001b[0;34m\u001b[0m\u001b[0m\n\u001b[0;32m---> 50\u001b[0;31m             \u001b[0;32mreturn\u001b[0m \u001b[0mlocal_jit\u001b[0m\u001b[0;34m(\u001b[0m\u001b[0;34m*\u001b[0m\u001b[0margs\u001b[0m\u001b[0;34m,\u001b[0m \u001b[0;34m**\u001b[0m\u001b[0mkwargs\u001b[0m\u001b[0;34m)\u001b[0m\u001b[0;34m\u001b[0m\u001b[0;34m\u001b[0m\u001b[0m\n\u001b[0m\u001b[1;32m     51\u001b[0m \u001b[0;34m\u001b[0m\u001b[0m\n\u001b[1;32m     52\u001b[0m         \u001b[0;31m# Default status (0 == ok, 1 == fail)\u001b[0m\u001b[0;34m\u001b[0m\u001b[0;34m\u001b[0m\u001b[0m\n",
            "\u001b[0;32m/usr/lib/petsc/lib/python3/dist-packages/dolfin/jit/jit.py\u001b[0m in \u001b[0;36mdijitso_jit\u001b[0;34m(*args, **kwargs)\u001b[0m\n\u001b[1;32m    104\u001b[0m \u001b[0;34m@\u001b[0m\u001b[0mmpi_jit_decorator\u001b[0m\u001b[0;34m\u001b[0m\u001b[0;34m\u001b[0m\u001b[0m\n\u001b[1;32m    105\u001b[0m \u001b[0;32mdef\u001b[0m \u001b[0mdijitso_jit\u001b[0m\u001b[0;34m(\u001b[0m\u001b[0;34m*\u001b[0m\u001b[0margs\u001b[0m\u001b[0;34m,\u001b[0m \u001b[0;34m**\u001b[0m\u001b[0mkwargs\u001b[0m\u001b[0;34m)\u001b[0m\u001b[0;34m:\u001b[0m\u001b[0;34m\u001b[0m\u001b[0;34m\u001b[0m\u001b[0m\n\u001b[0;32m--> 106\u001b[0;31m     \u001b[0;32mreturn\u001b[0m \u001b[0mdijitso\u001b[0m\u001b[0;34m.\u001b[0m\u001b[0mjit\u001b[0m\u001b[0;34m(\u001b[0m\u001b[0;34m*\u001b[0m\u001b[0margs\u001b[0m\u001b[0;34m,\u001b[0m \u001b[0;34m**\u001b[0m\u001b[0mkwargs\u001b[0m\u001b[0;34m)\u001b[0m\u001b[0;34m\u001b[0m\u001b[0;34m\u001b[0m\u001b[0m\n\u001b[0m\u001b[1;32m    107\u001b[0m \u001b[0;34m\u001b[0m\u001b[0m\n\u001b[1;32m    108\u001b[0m \u001b[0;34m\u001b[0m\u001b[0m\n",
            "\u001b[0;32m/usr/lib/python3/dist-packages/dijitso/jit.py\u001b[0m in \u001b[0;36mjit\u001b[0;34m(jitable, name, params, generate, send, receive, wait)\u001b[0m\n\u001b[1;32m    175\u001b[0m             \u001b[0;31m# other processes if any.\u001b[0m\u001b[0;34m\u001b[0m\u001b[0;34m\u001b[0m\u001b[0m\n\u001b[1;32m    176\u001b[0m             \u001b[0mstatus\u001b[0m\u001b[0;34m,\u001b[0m \u001b[0moutput\u001b[0m\u001b[0;34m,\u001b[0m \u001b[0mlib_filename\u001b[0m\u001b[0;34m,\u001b[0m \u001b[0merr_info\u001b[0m \u001b[0;34m=\u001b[0m\u001b[0;31m \u001b[0m\u001b[0;31m\\\u001b[0m\u001b[0;34m\u001b[0m\u001b[0;34m\u001b[0m\u001b[0m\n\u001b[0;32m--> 177\u001b[0;31m                 build_shared_library(signature, header, source, dependencies,\n\u001b[0m\u001b[1;32m    178\u001b[0m                                      params)\n\u001b[1;32m    179\u001b[0m \u001b[0;34m\u001b[0m\u001b[0m\n",
            "\u001b[0;32m/usr/lib/python3/dist-packages/dijitso/build.py\u001b[0m in \u001b[0;36mbuild_shared_library\u001b[0;34m(signature, header, source, dependencies, params)\u001b[0m\n\u001b[1;32m    151\u001b[0m     \u001b[0;31m# Execute command to compile generated source code to dynamic\u001b[0m\u001b[0;34m\u001b[0m\u001b[0;34m\u001b[0m\u001b[0m\n\u001b[1;32m    152\u001b[0m     \u001b[0;31m# library\u001b[0m\u001b[0;34m\u001b[0m\u001b[0;34m\u001b[0m\u001b[0m\n\u001b[0;32m--> 153\u001b[0;31m     \u001b[0mstatus\u001b[0m\u001b[0;34m,\u001b[0m \u001b[0moutput\u001b[0m \u001b[0;34m=\u001b[0m \u001b[0mget_status_output\u001b[0m\u001b[0;34m(\u001b[0m\u001b[0mcmd\u001b[0m\u001b[0;34m)\u001b[0m\u001b[0;34m\u001b[0m\u001b[0;34m\u001b[0m\u001b[0m\n\u001b[0m\u001b[1;32m    154\u001b[0m \u001b[0;34m\u001b[0m\u001b[0m\n\u001b[1;32m    155\u001b[0m     \u001b[0;31m# Move files to cache on success or a local dir on failure,\u001b[0m\u001b[0;34m\u001b[0m\u001b[0;34m\u001b[0m\u001b[0m\n",
            "\u001b[0;32m/usr/lib/python3/dist-packages/dijitso/system.py\u001b[0m in \u001b[0;36m_get_status_output_subprocess\u001b[0;34m(cmd, input, cwd, env)\u001b[0m\n\u001b[1;32m     40\u001b[0m     pipe = subprocess.Popen(cmd, shell=False, cwd=cwd, env=env,\n\u001b[1;32m     41\u001b[0m                             stdout=subprocess.PIPE, stderr=subprocess.STDOUT)\n\u001b[0;32m---> 42\u001b[0;31m     \u001b[0;34m(\u001b[0m\u001b[0moutput\u001b[0m\u001b[0;34m,\u001b[0m \u001b[0merrout\u001b[0m\u001b[0;34m)\u001b[0m \u001b[0;34m=\u001b[0m \u001b[0mpipe\u001b[0m\u001b[0;34m.\u001b[0m\u001b[0mcommunicate\u001b[0m\u001b[0;34m(\u001b[0m\u001b[0minput\u001b[0m\u001b[0;34m=\u001b[0m\u001b[0minput\u001b[0m\u001b[0;34m)\u001b[0m\u001b[0;34m\u001b[0m\u001b[0;34m\u001b[0m\u001b[0m\n\u001b[0m\u001b[1;32m     43\u001b[0m     \u001b[0;32massert\u001b[0m \u001b[0;32mnot\u001b[0m \u001b[0merrout\u001b[0m\u001b[0;34m\u001b[0m\u001b[0;34m\u001b[0m\u001b[0m\n\u001b[1;32m     44\u001b[0m     \u001b[0mstatus\u001b[0m \u001b[0;34m=\u001b[0m \u001b[0mpipe\u001b[0m\u001b[0;34m.\u001b[0m\u001b[0mreturncode\u001b[0m\u001b[0;34m\u001b[0m\u001b[0;34m\u001b[0m\u001b[0m\n",
            "\u001b[0;32m/usr/lib/python3.10/subprocess.py\u001b[0m in \u001b[0;36mcommunicate\u001b[0;34m(self, input, timeout)\u001b[0m\n\u001b[1;32m   1139\u001b[0m                 \u001b[0mself\u001b[0m\u001b[0;34m.\u001b[0m\u001b[0m_stdin_write\u001b[0m\u001b[0;34m(\u001b[0m\u001b[0minput\u001b[0m\u001b[0;34m)\u001b[0m\u001b[0;34m\u001b[0m\u001b[0;34m\u001b[0m\u001b[0m\n\u001b[1;32m   1140\u001b[0m             \u001b[0;32melif\u001b[0m \u001b[0mself\u001b[0m\u001b[0;34m.\u001b[0m\u001b[0mstdout\u001b[0m\u001b[0;34m:\u001b[0m\u001b[0;34m\u001b[0m\u001b[0;34m\u001b[0m\u001b[0m\n\u001b[0;32m-> 1141\u001b[0;31m                 \u001b[0mstdout\u001b[0m \u001b[0;34m=\u001b[0m \u001b[0mself\u001b[0m\u001b[0;34m.\u001b[0m\u001b[0mstdout\u001b[0m\u001b[0;34m.\u001b[0m\u001b[0mread\u001b[0m\u001b[0;34m(\u001b[0m\u001b[0;34m)\u001b[0m\u001b[0;34m\u001b[0m\u001b[0;34m\u001b[0m\u001b[0m\n\u001b[0m\u001b[1;32m   1142\u001b[0m                 \u001b[0mself\u001b[0m\u001b[0;34m.\u001b[0m\u001b[0mstdout\u001b[0m\u001b[0;34m.\u001b[0m\u001b[0mclose\u001b[0m\u001b[0;34m(\u001b[0m\u001b[0;34m)\u001b[0m\u001b[0;34m\u001b[0m\u001b[0;34m\u001b[0m\u001b[0m\n\u001b[1;32m   1143\u001b[0m             \u001b[0;32melif\u001b[0m \u001b[0mself\u001b[0m\u001b[0;34m.\u001b[0m\u001b[0mstderr\u001b[0m\u001b[0;34m:\u001b[0m\u001b[0;34m\u001b[0m\u001b[0;34m\u001b[0m\u001b[0m\n",
            "\u001b[0;31mKeyboardInterrupt\u001b[0m: "
          ]
        }
      ]
    },
    {
      "cell_type": "markdown",
      "source": [
        "# Exact solution and forcing term, linear"
      ],
      "metadata": {
        "id": "JU0rPDidl6_i"
      }
    },
    {
      "cell_type": "code",
      "source": [
        "# Exact solution and forcing term\n",
        "\n",
        "A_exact = Expression('1 + x[0] * t', degree = 1, t = 0)\n",
        "\n",
        "q_exact = Expression('x[0] * t', degree = 1, t = 0)\n",
        "\n",
        "dU_dt = Expression(('x[0]', 'x[0]'), degree = 1, t = 0)\n",
        "\n",
        "S = Expression(('0.', 'k_r * t * x[0] / (t * x[0] + 1)'), k_r = k_r , degree = 1, t = 0)\n",
        "\n",
        "dF_dx = Expression(('t', '- pow(t, 3) * pow(x[0], 2) / pow(t * x[0] + 1, 2) + 2 * pow(t, 2) * x[0] / (t * x[0] + 1) + K_tilde / (2 * rho) * pow(t * x[0] + 1, 0.5)'), K_tilde = K_tilde, rho = rho, degree = 1, t = 0)\n",
        "\n",
        "dU_dt_dt = Expression(('0.', '0.'), degree = 1, t = 0)\n",
        "\n",
        "dS_dt = Expression(('0.', '- k_r * t * pow(x[0], 2) / pow(t * x[0] + 1, 2) + k_r * x[0] / (t * x[0] + 1)'), k_r = k_r, degree = 1, t = 0)\n",
        "\n",
        "dF_dx_dt = Expression(('1',\n",
        "\n",
        "                    '2 * pow(t, 3) * pow(x[0], 3) / pow(t * x[0] + 1, 3) \\\n",
        "                    - 5 * pow(t, 2) * pow(x[0], 2) / pow(t * x[0] + 1, 2) \\\n",
        "                    + K_tilde / (4 * rho) * t * x[0] / pow(t * x[0] + 1, 0.5) \\\n",
        "                    + 4 * t * x[0] / (t * x[0] + 1) \\\n",
        "                    + K_tilde / (2 * rho) * pow(t * x[0] + 1, 0.5)'),\n",
        "                    K_tilde = K_tilde, rho = rho, degree = 1, t = 0)\n",
        "\n",
        "f = dU_dt + S + dF_dx\n",
        "f_n = project(f, V)\n",
        "\n",
        "df_dt = dU_dt_dt + dS_dt + dF_dx_dt\n",
        "df_dt_n = project(df_dt, V)"
      ],
      "metadata": {
        "id": "hqO28-fbl8r-"
      },
      "execution_count": 4,
      "outputs": []
    },
    {
      "cell_type": "markdown",
      "source": [
        "# Functions"
      ],
      "metadata": {
        "id": "xuUyHMzVF1Rz"
      }
    },
    {
      "cell_type": "code",
      "source": [
        "def H(A, q):\n",
        "  return as_tensor([[0, 1], [K_tilde / (2 * rho * A0) * A ** 0.5 - (q / A) ** 2, 2 * q / A]])\n",
        "\n",
        "def F(A, q):\n",
        "  return as_vector([q, K_tilde / (3 * rho * A0) * A ** 1.5 - K_tilde / (3 * rho) * A0 + q ** 2 / A])\n",
        "\n",
        "def B(A, q):\n",
        "  return as_vector([0, k_r * q / A])\n",
        "\n",
        "def S(A, q):\n",
        "  return as_vector([0, k_r * q / A])\n",
        "\n",
        "def dS_dU(A, q):\n",
        "  return as_tensor([[0, 0], [- k_r * q / A ** 2, k_r / A]])"
      ],
      "metadata": {
        "id": "jAgHzjNSvYuj"
      },
      "execution_count": 12,
      "outputs": []
    },
    {
      "cell_type": "code",
      "source": [
        "def U(A, q):\n",
        "  return np.array([A, q])\n",
        "\n",
        "def H_vec(A, q):\n",
        "  return np.array([[0, 1], [K_tilde / (2 * rho * A0) * A ** 0.5 - (q / A) ** 2, 2 * q / A]])\n",
        "\n",
        "def B_vec(A, q):\n",
        "  return np.array([0, k_r * q / A])\n",
        "\n",
        "def S_vec(A, q):\n",
        "  return np.array([0, k_r * q / A])\n",
        "\n",
        "def c_alpha(A, q, alpha = 1):\n",
        "  return (K_tilde / (2 * rho * A0) * A ** 0.5 + (q / A) ** 2 * alpha * (alpha - 1)) ** 0.5\n",
        "\n",
        "def l1(A, q, alpha = 1):\n",
        "  return np.array([c_alpha(A, q, alpha) - alpha * q / A, 1.])\n",
        "\n",
        "def l2(A, q, alpha = 1):\n",
        "  return np.array([- c_alpha(A, q, alpha) - alpha * q / A, 1.])\n",
        "\n",
        "def CC(A, q, u_der, x):\n",
        "  du_dz = project(u_der, V_der)(x)\n",
        "  return U(A, q) - dt * H_vec(A, q) @ du_dz - dt * B_vec(A, q) + dt * f([x, x, x])"
      ],
      "metadata": {
        "id": "QetUIYLIe81R"
      },
      "execution_count": 13,
      "outputs": []
    },
    {
      "cell_type": "code",
      "source": [
        "def inlet_bc(A, q, u_der, x):\n",
        "\n",
        "  q_inlet = (np.dot(l2(A(x), q(x)), CC(A(x), q(x), u_der, x)) - l2(A(x), q(x))[0] * U(A(x), q(x))[0] ) / l2(A(x), q(x))[1]\n",
        "\n",
        "  return q_inlet\n",
        "\n",
        "def outlet_bc(A, q, u_der, x):\n",
        "  matrix = np.array([[1, -1], [c_alpha(A(x), q(x), alpha) + alpha * q(x) / A(x), c_alpha(A(x), q(x), alpha) - alpha * q(x) / A(x)]])\n",
        "  array = np.array([np.dot(l1(A(x), q(x)), CC(A(x), q(x), u_der, x)), np.dot(l2(A(x), q(x)), U(A(x), q(x)) + dt * f([x, x, x]) - dt * S_vec(A(x), q(x)))])\n",
        "\n",
        "  A_out, q_out = matrix @ array / (2 * c_alpha(A(x), q(x)))\n",
        "\n",
        "  return A_out, q_out"
      ],
      "metadata": {
        "id": "gGb-E24uOvf6"
      },
      "execution_count": 14,
      "outputs": []
    },
    {
      "cell_type": "code",
      "source": [
        "def update_time_step(t, dt):\n",
        "  t += dt\n",
        "  q_exact.t = t\n",
        "  A_exact.t = t\n",
        "  dU_dt.t = t\n",
        "  S.t = t\n",
        "  dF_dx.t = t\n",
        "  dU_dt_dt.t = t\n",
        "  dS_dt.t = t\n",
        "  dF_dx_dt.t = t\n",
        "\n",
        "  return t"
      ],
      "metadata": {
        "id": "2iK6LOGHt9EX"
      },
      "execution_count": 15,
      "outputs": []
    },
    {
      "cell_type": "code",
      "source": [
        "def plot_solution():\n",
        "  fig, ax = plt.subplots(2, 2, figsize=(12, 12))\n",
        "  ax = ax.flatten()\n",
        "\n",
        "  # Format t to print only the first 4 digits\n",
        "  formatted_t = \"{:.5f}\".format(t)\n",
        "\n",
        "  # Plot for Area\n",
        "  ax[0].plot(Ah.compute_vertex_values(mesh), label='Approximation')\n",
        "  ax[0].plot(A_ex.compute_vertex_values(mesh), label='Exact')\n",
        "  ax[0].set_title(f'Area, t = {formatted_t}')\n",
        "  ax[0].set_xlabel(f'N = {N}, h = {h},  dt = {dt}')\n",
        "  ax[0].legend()\n",
        "\n",
        "  ax[2].plot(np.abs(Ah.compute_vertex_values(mesh) - A_ex.compute_vertex_values(mesh)))\n",
        "  ax[2].set_title(f'Error')\n",
        "  ax[2].set_xlabel(f'N = {N}, h = {h},  dt = {dt}')\n",
        "\n",
        "  # Plot for Flux\n",
        "  ax[1].plot(qh.compute_vertex_values(mesh), label='Approximation')\n",
        "  ax[1].plot(q_ex.compute_vertex_values(mesh), label='Exact')\n",
        "  ax[1].set_title(f'Flux, t = {formatted_t}')\n",
        "  ax[1].set_xlabel(f'N = {N}, h = {h},  dt = {dt}')\n",
        "  ax[1].legend()\n",
        "\n",
        "  ax[3].plot(np.abs(qh.compute_vertex_values(mesh) - q_ex.compute_vertex_values(mesh)))\n",
        "  ax[3].set_title(f'Error')\n",
        "  ax[3].set_xlabel(f'N = {N}, h = {h},  dt = {dt}')\n",
        "\n",
        "  plt.show()"
      ],
      "metadata": {
        "id": "ssbL42MdxO9k"
      },
      "execution_count": 16,
      "outputs": []
    },
    {
      "cell_type": "markdown",
      "source": [
        "# Initial guess and boundary conditions"
      ],
      "metadata": {
        "id": "YHQzLzas5kvm"
      }
    },
    {
      "cell_type": "code",
      "source": [
        "# Define initial guess\n",
        "# A0 = 4e-4\n",
        "# q0 = 0\n",
        "# uh_old = interpolate(Expression(('A_tilde + a_tilde * sin(2 * pi / L * x[0])', 'q0'), degree = 1, A_tilde = A_tilde, a_tilde = a_tilde, L = L, q0 = q0), V)\n",
        "\n",
        "A0 = 1\n",
        "q0 = 0\n",
        "uh_old = interpolate(Expression(('A0', 'q0'), degree = 1, A0 = A0, q0 = q0), V)\n",
        "Ah_old, qh_old = uh_old.split()"
      ],
      "metadata": {
        "id": "esD4LK44w0i2"
      },
      "execution_count": 17,
      "outputs": []
    },
    {
      "cell_type": "code",
      "source": [
        "# Boundary condition\n",
        "inlet = 'near(x[0], 0)'\n",
        "outlet = 'near(x[0], 1)'\n",
        "t = 0\n",
        "A_inlet = 1 + t\n",
        "#A_inlet = A0\n",
        "q_inlet = inlet_bc(Ah_old, qh_old, uh_old.dx(0), x_left)\n",
        "A_outlet, q_outlet = outlet_bc(Ah_old, qh_old, uh_old.dx(0), x_right)\n",
        "print(f'A inlet = {A_inlet}, q inlet = {q_inlet}')\n",
        "print(f'A outlet = {A_outlet}, q outlet = {q_outlet}')\n",
        "\n",
        "def update_bc(A_inlet, q_inlet, A_outlet, q_outlet):\n",
        "  bc_A_inlet = DirichletBC(V.sub(0), A_inlet, inlet)\n",
        "  bc_q_inlet = DirichletBC(V.sub(1), q_inlet, inlet)\n",
        "\n",
        "  bc_A_outlet = DirichletBC(V.sub(0), A_outlet, outlet)\n",
        "  bc_q_outlet = DirichletBC(V.sub(1), q_outlet, outlet)\n",
        "\n",
        "  bc = [bc_A_inlet, bc_q_inlet, bc_A_outlet, bc_q_outlet]\n",
        "\n",
        "  return bc\n",
        "\n",
        "bc = update_bc(A_inlet, q_inlet, A_outlet, q_outlet)"
      ],
      "metadata": {
        "id": "RbRHZ7RSkohh",
        "outputId": "ddeb539c-0802-4f8d-907f-47b9f8439cb5",
        "colab": {
          "base_uri": "https://localhost:8080/"
        }
      },
      "execution_count": 18,
      "outputs": [
        {
          "output_type": "stream",
          "name": "stdout",
          "text": [
            "A inlet = 1, q inlet = 0.2380952380952408\n",
            "A outlet = 1.00001, q outlet = 0.2381052380952449\n"
          ]
        }
      ]
    },
    {
      "cell_type": "markdown",
      "source": [
        "# Definition of the variational problem"
      ],
      "metadata": {
        "id": "S1ONKZfn5sJn"
      }
    },
    {
      "cell_type": "code",
      "source": [
        "# Define trial functions and test functions\n",
        "A, q = TrialFunctions(V)\n",
        "v, z = TestFunctions(V)\n",
        "\n",
        "# Define the variational problem\n",
        "def LinearProblem(A_old, q_old):\n",
        "  a = inner(A, v) * dx + inner(q, z) * dx\n",
        "\n",
        "  L = (\n",
        "        A_old * v * dx\n",
        "      + q_old * z * dx\n",
        "      + dt * ((F(A_old, q_old) - dt / 2 * dot(H(A_old, q_old), S(A_old, q_old))))[0] * v.dx(0) * dx\n",
        "      + dt * ((F(A_old, q_old) - dt / 2 * dot(H(A_old, q_old), S(A_old, q_old))))[1] * z.dx(0) * dx\n",
        "      + dt ** 2 / 2 * (dot(dS_dU(A_old, q_old), F(A_old, q_old).dx(0)))[0] * v * dx\n",
        "      + dt ** 2 / 2 * (dot(dS_dU(A_old, q_old), F(A_old, q_old).dx(0)))[1] * z * dx\n",
        "      - dt ** 2 / 2 * (dot(H(A_old, q_old), F(A_old, q_old).dx(0)))[0] * v.dx(0) * dx\n",
        "      - dt ** 2 / 2 * (dot(H(A_old, q_old), F(A_old, q_old).dx(0)))[1] * z.dx(0) * dx\n",
        "      - dt * (S(A_old, q_old) - dt / 2 * dot(dS_dU(A_old, q_old), S(A_old, q_old)))[0] * v * dx\n",
        "      - dt * (S(A_old, q_old) - dt / 2 * dot(dS_dU(A_old, q_old), S(A_old, q_old)))[1] * z * dx\n",
        "      + dt * f[0] * v * dx\n",
        "      + dt * f[1] * z * dx\n",
        "      + dt ** 2 / 2 * (dot(H(A_old, q_old), f_n))[0] * v.dx(0) * dx\n",
        "      + dt ** 2 / 2 * (dot(H(A_old, q_old), f_n))[1] * z.dx(0) * dx\n",
        "      + dt ** 2 / 2 * (- dot(dS_dU(A_old, q_old), f_n) + df_dt_n)[0] * v * dx\n",
        "      + dt ** 2 / 2 * (- dot(dS_dU(A_old, q_old), f_n) + df_dt_n)[1] * z * dx\n",
        "  )\n",
        "\n",
        "  return a, L"
      ],
      "metadata": {
        "id": "WxOkORNyxP5_"
      },
      "execution_count": null,
      "outputs": []
    },
    {
      "cell_type": "markdown",
      "source": [
        "# Solution"
      ],
      "metadata": {
        "id": "VTDgFTAo5vsV"
      }
    },
    {
      "cell_type": "code",
      "source": [
        "# Time stepping\n",
        "uh = Function(V)\n",
        "#q_zero_mean = Function(V.sub(1).collapse())\n",
        "t = 0\n",
        "i = 0\n",
        "\n",
        "global_error_A = 0\n",
        "global_error_q = 0\n",
        "\n",
        "for n in tqdm(range(round(num_steps))):\n",
        "\n",
        "  i +=1\n",
        "\n",
        "  # Update time step\n",
        "  t = update_time_step(t, dt)\n",
        "  f_n = project(f, V)\n",
        "  df_dt_n = project(df_dt, V)\n",
        "\n",
        "  # Solve the problem\n",
        "  a, L = LinearProblem(Ah_old, qh_old)\n",
        "  solve(a == L, uh, bc)\n",
        "  Ah, qh = uh.split(deepcopy = True)\n",
        "\n",
        "  A_ex = interpolate(A_exact, V_ex.sub(0).collapse())\n",
        "  q_ex = interpolate(q_exact, V_ex.sub(1).collapse())\n",
        "  #q_zero_mean.assign(qh)\n",
        "  #q_zero_mean.vector()[:] -= assemble(qh*dx)/assemble(1*dx(domain=mesh))\n",
        "  error = np.array([errornorm(Ah, A_ex, 'L2'), errornorm(qh, q_ex, 'L2')])\n",
        "\n",
        "  if error[0] > global_error_A:\n",
        "    global_error_A = error[0]\n",
        "\n",
        "  if error[1] > global_error_q:\n",
        "    global_error_q = error[1]\n",
        "\n",
        "  # Compute errors\n",
        "  if (i % 1 == 0):\n",
        "    plot_solution()\n",
        "    print(f'Interation {i} / {round(num_steps)}')\n",
        "    print(f't = %.4f: error = {error}' % (t))\n",
        "    print(f'Global error A = {global_error_A}, Global error q = {global_error_q}')\n",
        "    print()\n",
        "\n",
        "  # Update previous solution\n",
        "  Ah_old.assign(Ah)\n",
        "  qh_old.assign(qh)\n",
        "\n",
        "  A_inlet = 1 + t\n",
        "  q_inlet = inlet_bc(Ah_old, qh_old, uh.dx(0), x_left)\n",
        "  A_outlet, q_outlet = outlet_bc(Ah_old, qh_old, uh.dx(0), x_right)\n",
        "  bc = update_bc(A_inlet, q_inlet, A_outlet, q_outlet)\n",
        "\n",
        "print(f'N = {N}, h = {h}, dt = {dt} : Global error A = {global_error_A}, Global error q = {global_error_q}')"
      ],
      "metadata": {
        "id": "1g5fnjK7cA-T"
      },
      "execution_count": null,
      "outputs": []
    },
    {
      "cell_type": "code",
      "source": [
        "error_A.append(global_error_A)\n",
        "error_q.append(global_error_q)\n",
        "error_A, error_q"
      ],
      "metadata": {
        "id": "FF27UiVbBBZi"
      },
      "execution_count": null,
      "outputs": []
    },
    {
      "cell_type": "markdown",
      "source": [
        "# Space convergence"
      ],
      "metadata": {
        "id": "By2FxKfYtSrE"
      }
    },
    {
      "cell_type": "code",
      "source": [
        "h_vec = [1 / (2 ** i) for i in range(5, 9)]\n",
        "dt = 1e-5\n",
        "num_steps = T / dt\n",
        "\n",
        "error_A = []\n",
        "error_q = []\n",
        "\n",
        "for h in h_vec:\n",
        "  print(f'h = {h}, dt = {dt}')\n",
        "  print()\n",
        "\n",
        "  N = int((x_right - x_left) / h)\n",
        "\n",
        "  mesh = IntervalMesh(N, x_left, x_right)\n",
        "  x = MeshCoordinates(mesh)\n",
        "\n",
        "  V = FunctionSpace(mesh, element)\n",
        "  V_der = FunctionSpace(mesh, element_der)\n",
        "  V_ex = FunctionSpace(mesh, element_exact)\n",
        "\n",
        "  f_n = project(f, V)\n",
        "  df_dt_n = project(df_dt, V)\n",
        "\n",
        "  uh_old = interpolate(Expression(('A_tilde + a_tilde * sin(2 * pi / L * x[0])', 'q0'), degree = 2, A_tilde = A_tilde, a_tilde = a_tilde, L = L, q0 = q0), V)\n",
        "  Ah_old, qh_old = uh_old.split()\n",
        "\n",
        "  bc_A_inlet = DirichletBC(V.sub(0), A_inlet, inlet)\n",
        "  bc_q_inlet = DirichletBC(V.sub(1), q_inlet, inlet)\n",
        "  bc_A_outlet = DirichletBC(V.sub(0), A_outlet, outlet)\n",
        "  bc_q_outlet = DirichletBC(V.sub(1), q_outlet, outlet)\n",
        "\n",
        "  bc = [bc_A_inlet, bc_q_inlet, bc_A_outlet, bc_q_outlet]\n",
        "\n",
        "  A, q = TrialFunctions(V)\n",
        "  v, z = TestFunctions(V)\n",
        "\n",
        "  uh = Function(V)\n",
        "  t = 0\n",
        "  i = 0\n",
        "\n",
        "  global_error_A = 0\n",
        "  global_error_q = 0\n",
        "\n",
        "  for n in range(round(num_steps)):\n",
        "\n",
        "    i +=1\n",
        "\n",
        "    # Update time step\n",
        "    t = update_time_step(t, dt)\n",
        "    f_n = project(f, V)\n",
        "    df_dt_n = project(df_dt, V)\n",
        "\n",
        "    # Solve the problem\n",
        "    a, L = LinearProblem(Ah_old, qh_old)\n",
        "    solve(a == L, uh, bc)\n",
        "    Ah, qh = uh.split(deepcopy = True)\n",
        "\n",
        "    A_e = interpolate(A_exact, V_ex.sub(0).collapse())\n",
        "    q_ex = interpolate(q_exact, V_ex.sub(1).collapse())\n",
        "    q_zero_mean.assign(qh)\n",
        "    q_zero_mean.vector()[:] -= assemble(qh*dx)/assemble(1*dx(domain=mesh))\n",
        "    error = np.array([errornorm(Ah, A_ex, 'L2'), errornorm(q_zero_mean, q_ex, 'L2')])\n",
        "\n",
        "    if error[0] > global_error_A:\n",
        "      global_error_A = error[0]\n",
        "\n",
        "    if error[1] > global_error_q:\n",
        "      global_error_q = error[1]\n",
        "\n",
        "    # Compute errors\n",
        "    if (i % 1000 == 0):\n",
        "      print(f'Interation {i} / {round(num_steps)}')\n",
        "      print(f't = %.4f: error = {error}' % (t))\n",
        "      print(f'Global error A = {global_error_A}, Global error q = {global_error_q}')\n",
        "      print()\n",
        "\n",
        "    if (i % 10000 == 0):\n",
        "      plot_solution()\n",
        "\n",
        "    # Update previous solution\n",
        "    Ah_old.assign(Ah)\n",
        "    qh_old.assign(qh)\n",
        "\n",
        "    q_inlet = inlet_bc(Ah_old, qh_old, uh.dx(0))\n",
        "    A_outlet, q_outlet = outlet_bc(Ah_old, qh_old, uh.dx(0))\n",
        "    bc = update_bc(A_inlet, q_inlet, A_outlet, q_outlet)\n",
        "\n",
        "  print(f'N = {N}, h = {h}, dt = {dt} : Global error A = {global_error_A}, Global error q = {global_error_q}')\n",
        "  error_A.append(global_error_A)\n",
        "  error_q.append(global_error_q)"
      ],
      "metadata": {
        "id": "jehq-2optVoa"
      },
      "execution_count": null,
      "outputs": []
    },
    {
      "cell_type": "code",
      "source": [
        "h_vec = np.array([1/32, 1 /64, 1/128, 1/256])\n",
        "\n",
        "fig, ax = plt.subplots(2, 2, figsize=(12, 12))\n",
        "ax = ax.flatten()\n",
        "\n",
        "# Plot for Area\n",
        "ax[0].plot(error_A)\n",
        "ax[0].set_title('Area')\n",
        "ax[0].set_xlabel(f'h = {h_vec},  dt = {dt}')\n",
        "ax[0].set_ylabel('Error')\n",
        "\n",
        "ax[2].loglog(h_vec / h_vec[0], error_A / error_A[0], label = 'L^2 Error')\n",
        "ax[2].loglog(h_vec / h_vec[0], h_vec / h_vec[0], linestyle = '--', label = 'h')\n",
        "ax[2].loglog(h_vec / h_vec[0], (h_vec / h_vec[0])**2, linestyle = '--', label ='h^2')\n",
        "ax[2].set_xlabel('h')\n",
        "ax[2].set_ylabel('Error')\n",
        "ax[2].set_title('Area')\n",
        "ax[2].legend()\n",
        "\n",
        "# Plot for Flux\n",
        "ax[1].plot(error_q)\n",
        "ax[1].set_title('Flux')\n",
        "ax[1].set_xlabel(f'h = {h_vec},  dt = {dt}')\n",
        "ax[1].set_ylabel('Error')\n",
        "\n",
        "ax[3].loglog(h_vec / h_vec[0], error_q / error_q[0], label = 'L^2 Error')\n",
        "ax[3].loglog(h_vec / h_vec[0], h_vec / h_vec[0], linestyle = '--', label = 'h')\n",
        "ax[3].loglog(h_vec / h_vec[0], (h_vec / h_vec[0])**2, linestyle = '--', label = 'h^2')\n",
        "ax[3].set_xlabel('h')\n",
        "ax[3].set_ylabel('Error')\n",
        "ax[3].set_title('Flux')\n",
        "ax[3].legend()"
      ],
      "metadata": {
        "id": "s2rQfxl-vbaN"
      },
      "execution_count": null,
      "outputs": []
    },
    {
      "cell_type": "markdown",
      "source": [
        "# Time convergence"
      ],
      "metadata": {
        "id": "xxVzu8xl1ATo"
      }
    },
    {
      "cell_type": "code",
      "source": [
        "# Time stepping\n",
        "h = 1 / 32\n",
        "dt_vec = 1e-4 * np.array([1, 1/2, 1/4, 1/8])\n",
        "error_A = []\n",
        "error_q = []\n",
        "\n",
        "for dt in dt_vec:\n",
        "  print(f'dt = {dt}')\n",
        "  print()\n",
        "\n",
        "  uh = Function(V)\n",
        "  t = 0\n",
        "  i = 0\n",
        "\n",
        "  global_error_A = 0\n",
        "  global_error_q = 0\n",
        "\n",
        "  num_steps = T / dt\n",
        "\n",
        "  for n in range(round(num_steps)):\n",
        "\n",
        "    i +=1\n",
        "\n",
        "    # Update time step\n",
        "    t = update_time_step(t, dt)\n",
        "    f_n = project(f, V)\n",
        "    df_dt_n = project(df_dt, V)\n",
        "\n",
        "    # Solve the problem\n",
        "    a, L = LinearProblem(Ah_old, qh_old)\n",
        "    solve(a == L, uh, bc)\n",
        "    Ah, qh = uh.split(deepcopy = True)\n",
        "\n",
        "    A_ex = interpolate(A_exact, V_ex.sub(0).collapse())\n",
        "    q_ex = interpolate(q_exact, V_ex.sub(1).collapse())\n",
        "    q_zero_mean.assign(qh)\n",
        "    q_zero_mean.vector()[:] -= assemble(qh*dx)/assemble(1*dx(domain=mesh))\n",
        "    error = np.array([errornorm(Ah, A_ex, 'L2'), errornorm(q_zero_mean, q_ex, 'L2')])\n",
        "\n",
        "    if error[0] > global_error_A:\n",
        "      global_error_A = error[0]\n",
        "\n",
        "    if error[1] > global_error_q:\n",
        "      global_error_q = error[1]\n",
        "\n",
        "    # Compute errors\n",
        "    if (i % 1000 == 0):\n",
        "      print(f'Interation {i} / {round(num_steps)}')\n",
        "      print(f't = %.4f: error = {error}' % (t))\n",
        "      print(f'Global error A = {global_error_A}, Global error q = {global_error_q}')\n",
        "      print()\n",
        "\n",
        "    if (i % 10000 == 0):\n",
        "      plot_solution()\n",
        "\n",
        "    # Update previous solution\n",
        "    Ah_old.assign(Ah)\n",
        "    qh_old.assign(qh)\n",
        "\n",
        "    q_inlet = inlet_bc(Ah_old, qh_old, uh.dx(0))\n",
        "    A_outlet, q_outlet = outlet_bc(Ah_old, qh_old, uh.dx(0))\n",
        "    bc = update_bc(A_inlet, q_inlet, A_outlet, q_outlet)\n",
        "\n",
        "  error_A.append(global_error_A)\n",
        "  error_q.append(global_error_q)"
      ],
      "metadata": {
        "id": "tlETBGGN1DlL"
      },
      "execution_count": null,
      "outputs": []
    },
    {
      "cell_type": "code",
      "source": [
        "dt_vec = 1e-4 * np.array([1, 1/2, 1/4, 1/8])\n",
        "fig, ax = plt.subplots(2, 2, figsize=(12, 12))\n",
        "ax = ax.flatten()\n",
        "\n",
        "# Plot for Area\n",
        "ax[0].plot(error_A)\n",
        "ax[0].set_title('Area')\n",
        "ax[0].set_xlabel(f'h = {h},  dt = {dt_vec}')\n",
        "ax[0].set_ylabel('Error')\n",
        "\n",
        "ax[2].loglog(dt_vec / dt_vec[0], error_A / error_A[0], label = 'L^2 Error')\n",
        "ax[2].loglog(dt_vec / dt_vec[0], dt_vec / dt_vec[0], linestyle = '--', label = 'dt')\n",
        "ax[2].loglog(dt_vec / dt_vec[0], (dt_vec / dt_vec[0])**2, linestyle = '--', label ='dt^2')\n",
        "ax[2].set_xlabel('dt')\n",
        "ax[2].set_ylabel('Error')\n",
        "ax[2].set_title('Area')\n",
        "ax[2].legend()\n",
        "\n",
        "# Plot for Flux\n",
        "ax[1].plot(error_q)\n",
        "ax[1].set_title('Flux')\n",
        "ax[1].set_xlabel(f'h = {h},  dt = {dt_vec}')\n",
        "ax[1].set_ylabel('Error')\n",
        "\n",
        "ax[3].loglog(dt_vec / dt_vec[0], error_q / error_q[0], label = 'L^2 Error')\n",
        "ax[3].loglog(dt_vec / dt_vec[0], dt_vec / dt_vec[0], linestyle = '--', label = 'dt')\n",
        "ax[3].loglog(dt_vec / dt_vec[0], (dt_vec / dt_vec[0])**2, linestyle = '--', label = 'dt^2')\n",
        "ax[3].set_xlabel('dt')\n",
        "ax[3].set_ylabel('Error')\n",
        "ax[3].set_title('Flux')\n",
        "ax[3].legend()"
      ],
      "metadata": {
        "id": "snqaktAlZm0R"
      },
      "execution_count": null,
      "outputs": []
    }
  ]
}