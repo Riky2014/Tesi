{
  "nbformat": 4,
  "nbformat_minor": 0,
  "metadata": {
    "colab": {
      "provenance": [],
      "authorship_tag": "ABX9TyMd9b9uEOM8MYyUjmeNbU7k",
      "include_colab_link": true
    },
    "kernelspec": {
      "name": "python3",
      "display_name": "Python 3"
    },
    "language_info": {
      "name": "python"
    }
  },
  "cells": [
    {
      "cell_type": "markdown",
      "metadata": {
        "id": "view-in-github",
        "colab_type": "text"
      },
      "source": [
        "<a href=\"https://colab.research.google.com/github/Riky2014/Tesi/blob/main/1d_hemo_solver.ipynb\" target=\"_parent\"><img src=\"https://colab.research.google.com/assets/colab-badge.svg\" alt=\"Open In Colab\"/></a>"
      ]
    },
    {
      "cell_type": "code",
      "source": [
        "%%capture\n",
        "!apt-get install software-properties-common\n",
        "!add-apt-repository -y ppa:fenics-packages/fenics\n",
        "!apt-get update -qq\n",
        "!apt install fenics"
      ],
      "metadata": {
        "id": "Vk2md9CPA9f1"
      },
      "execution_count": 1,
      "outputs": []
    },
    {
      "cell_type": "code",
      "source": [
        "from fenics import *\n",
        "import numpy as np\n",
        "import matplotlib.pyplot as plt"
      ],
      "metadata": {
        "id": "qzvdV-jaGZG6"
      },
      "execution_count": 2,
      "outputs": []
    },
    {
      "cell_type": "code",
      "execution_count": 163,
      "metadata": {
        "id": "uYE6EYza9Az2"
      },
      "outputs": [],
      "source": [
        "# Data\n",
        "A0 = 4e-4\n",
        "q0 = 0\n",
        "k_r = 2.416\n",
        "rho = 1.05\n",
        "alpha = 1\n",
        "\n",
        "T = 1\n",
        "x_left = 0\n",
        "x_right = 1.0\n",
        "\n",
        "# Discretization parameter\n",
        "dt = 2e-4\n",
        "h = 1e-1\n",
        "num_steps = T / dt\n",
        "N = int((x_right - x_left) / h)\n",
        "\n",
        "#  Create a mesh on the interval [0, 1].\n",
        "mesh = IntervalMesh(N, x_left, x_right)\n",
        "x = MeshCoordinates(mesh)\n",
        "\n",
        "# Define the function space\n",
        "P1 = FiniteElement('P', mesh.ufl_cell(), 1)\n",
        "element = MixedElement([P1, P1])\n",
        "V = FunctionSpace(mesh, element)"
      ]
    },
    {
      "cell_type": "code",
      "source": [
        "# Exact solution\n",
        "L = 1\n",
        "A_tilde = 4e-4\n",
        "a_tilde = 4e-5\n",
        "q_tilde = 0.0\n",
        "A_exact = Expression('A_tilde + a_tilde * sin(2 * pi / L * x[0]) * cos(2 * pi / T * t)', A_tilde = A_tilde, a_tilde = a_tilde, L = L, T = T, degree = 2, t = 0)\n",
        "q_exact = Expression('q_tilde - (a_tilde * L / T) * cos(2 * pi / L * x[0]) * sin(2 * pi / T * t)', q_tilde = q_tilde, a_tilde = a_tilde, L = L, T = T,degree = 2, t = 0)"
      ],
      "metadata": {
        "id": "qOdbxyotyB_E"
      },
      "execution_count": 164,
      "outputs": []
    },
    {
      "cell_type": "code",
      "source": [
        "def U(A, q):\n",
        "  return as_vector([A, q])\n",
        "\n",
        "def H(A, q):\n",
        "  return as_tensor([[0, 1], [1190476.19048 * A ** 0.5 - (q / A) ** 2, 2 * q / A]])\n",
        "\n",
        "def F(A, q):\n",
        "  return as_vector([q, 793650.79365 * A ** 1.5 - 6.34921 + q ** 2 / A])\n",
        "\n",
        "def B(A, q):\n",
        "  return as_vector([0, k_r * q / A])\n",
        "\n",
        "def S(A, q):\n",
        "  return as_vector([0, k_r * q / A])\n",
        "\n",
        "def dS_dU(A, q):\n",
        "  return as_tensor([[0, 0], [- k_r * q / A ** 2, k_r / A]])"
      ],
      "metadata": {
        "id": "jAgHzjNSvYuj"
      },
      "execution_count": 165,
      "outputs": []
    },
    {
      "cell_type": "code",
      "source": [
        "def c_alpha(A, q, alpha = 1):\n",
        "  return (1190476.19048 * A ** 0.5 + (q / A) ** 2 * alpha * (alpha - 1)) ** 0.5\n",
        "\n",
        "def l1(A, q, alpha = 1):\n",
        "  return as_vector([c_alpha(A, q, alpha) - alpha * q / A, 1])\n",
        "\n",
        "def l2(A, q, alpha = 1):\n",
        "  return as_vector([- c_alpha(A, q, alpha) - alpha * q / A, 1])\n",
        "\n",
        "def CC(A, q):\n",
        "  return U(A, q) - dt * dot(H(A, q), U(A, q).dx(0)) - dt * B(A, q) + dt * f"
      ],
      "metadata": {
        "id": "QetUIYLIe81R"
      },
      "execution_count": 166,
      "outputs": []
    },
    {
      "cell_type": "code",
      "source": [
        "def inlet_bc(A, q):\n",
        "  q_inlet = (\n",
        "      (project(l2(A, q)[0] * CC(A, q)[0], V.sub(0).collapse()).compute_vertex_values(mesh)\n",
        "      + project(l2(A, q)[1] * CC(A, q)[1], V.sub(1).collapse()).compute_vertex_values(mesh)\n",
        "      - project(l2(A, q)[0] * U(A, q)[0], V.sub(0).collapse()).compute_vertex_values(mesh))\n",
        "      / project(l2(A, q)[1] , V.sub(1).collapse()).compute_vertex_values(mesh)\n",
        "  )[0]\n",
        "\n",
        "  return q_inlet"
      ],
      "metadata": {
        "id": "cU3vBJy_Hav4"
      },
      "execution_count": 167,
      "outputs": []
    },
    {
      "cell_type": "code",
      "source": [
        "def outlet_matrix(A, q):\n",
        "  return as_tensor([[1, -1], [c_alpha(A, q, alpha) + alpha * q / A, c_alpha(A, q, alpha) - alpha * q / A]])\n",
        "\n",
        "def outlet_vector(A, q):\n",
        "  return as_vector([l1(A, q)[0] * CC(A, q)[0] + l1(A, q)[1] * CC(A, q)[1], l2(A, q)[0] * (U(A, q) - dt * S(A, q))[0] + l2(A, q)[1] * (U(A, q) - dt * S(A, q))[1]])\n",
        "\n",
        "def outlet_bc(A, q):\n",
        "  A_out_fun, q_out_fun = project(dot(outlet_matrix(A, q), outlet_vector(A, q)) / (2 * c_alpha(A, q)), V).split()\n",
        "  A_outlet = A_out_fun.compute_vertex_values(mesh)[-1]\n",
        "  q_outlet = q_out_fun.compute_vertex_values(mesh)[-1]\n",
        "\n",
        "  return A_outlet, q_outlet"
      ],
      "metadata": {
        "id": "11Gyt0ItRnat"
      },
      "execution_count": 168,
      "outputs": []
    },
    {
      "cell_type": "code",
      "source": [
        "# Define the source term\n",
        "f = Expression(('0','5.98399 * pow((0.1 * sin(6.28319*x[0]) * cos(6.28319*t) + 1), 0.5) * cos(6.28319*t) * cos(6.28319*x[0]) - 0.00025 * cos(6.28319*t) * cos(6.28319*x[0]) - 0.0001 * sin(6.28319*t) * cos(6.28319*x[0]) / (4.0e-5 * sin(6.28319*x[0]) * cos(6.28319*t) + 0.0004)'), degree = 2, t = 0)\n",
        "df_dt = Expression(('0', '-1.87993 * sin(6.28319*t) * sin(6.28319*x[0]) * cos(6.28319*t) * cos(6.28319*x[0]) / pow((0.1 * sin(6.28319*x[0]) * cos(6.28319*t) + 1), 0.5) - 37.5985 * pow((0.1 * sin(6.28319*x[0]) * cos(6.28319*t) + 1), 0.5) * sin(6.28319*t) * cos(6.28319*x[0]) + 0.00157 * sin(6.28319*t) * cos(6.28319*x[0]) - 0.15752 * pow(sin(6.28319*t), 2) * sin(6.28319*x[0])* cos(6.28319*x[0]) / pow((0.1 * sin(6.28319*x[0]) * cos(6.28319*t) + 1), 2) - 0.00063 * cos(6.28319*t) * cos(6.28319*x[0]) / (4.0e-5 * sin(6.28319*x[0]) * cos(6.28319*t) + 0.0004)'), degree = 2, t = 0)\n",
        "\n",
        "f_n = interpolate(f, V)\n",
        "df_dt_n = interpolate(df_dt, V)"
      ],
      "metadata": {
        "id": "sHL4CJ5s0Mmu"
      },
      "execution_count": 169,
      "outputs": []
    },
    {
      "cell_type": "code",
      "source": [
        "# Define initial guess\n",
        "u_old = interpolate(Expression(('A_tilde + a_tilde * sin(2 * pi / L * x[0])', 'q0'), degree = 2, A_tilde = A_tilde, a_tilde = a_tilde, L = L, q0 = q0), V)\n",
        "A_old, q_old = u_old.split()"
      ],
      "metadata": {
        "id": "esD4LK44w0i2"
      },
      "execution_count": 170,
      "outputs": []
    },
    {
      "cell_type": "code",
      "source": [
        "# Boundary condition\n",
        "inlet = 'near(x[0], 0)'\n",
        "outlet = 'near(x[0], 1)'\n",
        "A_inlet = A0\n",
        "q_inlet = inlet_bc(A_old, q_old)\n",
        "A_outlet, q_outlet = outlet_bc(A_old, q_old)\n",
        "print(f'A inlet = {A_inlet}, q inlet = {q_inlet}')\n",
        "print(f'A outlet = {A_outlet}, q outlet = {q_outlet}')\n",
        "\n",
        "# Dirichlet bc\n",
        "bc_A_inlet = DirichletBC(V.sub(0), A_inlet, inlet)\n",
        "# I should impose compatibility condition\n",
        "bc_q_inlet = DirichletBC(V.sub(1), q_inlet, inlet)\n",
        "\n",
        "# Non reflecting bc\n",
        "bc_A_outlet = DirichletBC(V.sub(0), A_outlet, outlet)\n",
        "# I should impose compatibility condition\n",
        "bc_q_outlet = DirichletBC(V.sub(1), q_outlet, outlet)\n",
        "\n",
        "bc = [bc_A_inlet, bc_q_inlet, bc_A_outlet, bc_q_outlet]"
      ],
      "metadata": {
        "id": "RbRHZ7RSkohh"
      },
      "execution_count": null,
      "outputs": []
    },
    {
      "cell_type": "code",
      "source": [
        "# Define trial functions and test functions\n",
        "A, q = TrialFunctions(V)\n",
        "v, z = TestFunctions(V)\n",
        "\n",
        "# Define the variational problem\n",
        "a = inner(A, v) * dx + inner(q, z) * dx\n",
        "\n",
        "L = (\n",
        "      A_old * v * dx\n",
        "    + q_old * z * dx\n",
        "    + dt * ((F(A_old, q_old) - dt / 2 * dot(H(A_old, q_old), S(A_old, q_old))))[0] * v.dx(0) * dx\n",
        "    + dt * ((F(A_old, q_old) - dt / 2 * dot(H(A_old, q_old), S(A_old, q_old))))[1] * z.dx(0) * dx\n",
        "    + dt ** 2 / 2 * (dot(dS_dU(A_old, q_old), F(A_old, q_old).dx(0)))[0] * v * dx\n",
        "    + dt ** 2 / 2 * (dot(dS_dU(A_old, q_old), F(A_old, q_old).dx(0)))[1] * z * dx\n",
        "    - dt ** 2 / 2 * (dot(H(A_old, q_old), F(A_old, q_old).dx(0)))[0] * v.dx(0) * dx\n",
        "    - dt ** 2 / 2 * (dot(H(A_old, q_old), F(A_old, q_old).dx(0)))[1] * z.dx(0) * dx\n",
        "    - dt * (S(A_old, q_old) - dt / 2 * dot(dS_dU(A_old, q_old), S(A_old, q_old)))[0] * v * dx\n",
        "    - dt * (S(A_old, q_old) - dt / 2 * dot(dS_dU(A_old, q_old), S(A_old, q_old)))[1] * z * dx\n",
        "    + dt * f[0] * v * dx\n",
        "    + dt * f[1] * z * dx\n",
        "    + dt ** 2 / 2 * (dot(H(A_old, q_old), f_n))[0] * v.dx(0) * dx\n",
        "    + dt ** 2 / 2 * (dot(H(A_old, q_old), f_n))[1] * z.dx(0) * dx\n",
        "    + dt ** 2 / 2 * (- dot(dS_dU(A_old, q_old), f_n) + df_dt_n)[0] * v * dx\n",
        "    + dt ** 2 / 2 * (- dot(dS_dU(A_old, q_old), f_n) + df_dt_n)[1] * z * dx\n",
        ")"
      ],
      "metadata": {
        "id": "WxOkORNyxP5_"
      },
      "execution_count": 172,
      "outputs": []
    },
    {
      "cell_type": "code",
      "source": [
        "# Time stepping\n",
        "u = Function(V)\n",
        "t = 0\n",
        "i = 0\n",
        "for n in range(round(num_steps)):\n",
        "\n",
        "  i +=1\n",
        "\n",
        "  # Update time step\n",
        "  t += dt\n",
        "  f.t = t\n",
        "  df_dt.t = t\n",
        "  A_exact.t = t\n",
        "  q_exact.t = t\n",
        "\n",
        "  # Solve the problem\n",
        "  solve(a == L, u, bc)\n",
        "  A, q = u.split(deepcopy = True)\n",
        "\n",
        "  # Compute errors\n",
        "  if (i % 100 == 0):\n",
        "    print(f'Interation {i} / {round(num_steps)}')\n",
        "    A_e = interpolate(A_exact, V.sub(0).collapse())\n",
        "    q_e = interpolate(q_exact, V.sub(1).collapse())\n",
        "    error = np.array([errornorm(A, A_e, 'L2'), errornorm(q, q_e, 'L2')])\n",
        "    #error = np.array([(A.compute_vertex_values() - A_e.compute_vertex_values(mesh)).max(), (q.compute_vertex_values() - q_e.compute_vertex_values(mesh)).max()])\n",
        "    print(f't = %.4f: error = {error}' % (t))\n",
        "    print()\n",
        "\n",
        "  # Update previous solution\n",
        "  A_old.assign(A)\n",
        "  q_old.assign(q)\n",
        "\n",
        "  q_inlet = inlet_bc(A_old, q_old)\n",
        "  A_outlet, q_outlet = outlet_bc(A_old, q_old)"
      ],
      "metadata": {
        "id": "1g5fnjK7cA-T"
      },
      "execution_count": null,
      "outputs": []
    }
  ]
}