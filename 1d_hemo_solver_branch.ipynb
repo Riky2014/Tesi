{
  "nbformat": 4,
  "nbformat_minor": 0,
  "metadata": {
    "colab": {
      "provenance": [],
      "mount_file_id": "https://github.com/Riky2014/Tesi/blob/main/1d_hemo_solver.ipynb",
      "authorship_tag": "ABX9TyPGa5mst0Nns3HfX6o7yOPu",
      "include_colab_link": true
    },
    "kernelspec": {
      "name": "python3",
      "display_name": "Python 3"
    },
    "language_info": {
      "name": "python"
    }
  },
  "cells": [
    {
      "cell_type": "markdown",
      "metadata": {
        "id": "view-in-github",
        "colab_type": "text"
      },
      "source": [
        "<a href=\"https://colab.research.google.com/github/Riky2014/Tesi/blob/main/1d_hemo_solver_branch.ipynb\" target=\"_parent\"><img src=\"https://colab.research.google.com/assets/colab-badge.svg\" alt=\"Open In Colab\"/></a>"
      ]
    },
    {
      "cell_type": "code",
      "source": [
        "%%capture\n",
        "!apt-get install software-properties-common\n",
        "!add-apt-repository -y ppa:fenics-packages/fenics\n",
        "!apt-get update -qq\n",
        "!apt install fenics"
      ],
      "metadata": {
        "id": "Vk2md9CPA9f1"
      },
      "execution_count": 1,
      "outputs": []
    },
    {
      "cell_type": "code",
      "source": [
        "from fenics import *\n",
        "\n",
        "import logging\n",
        "import numpy as np\n",
        "from tqdm import tqdm\n",
        "import matplotlib.pyplot as plt\n",
        "\n",
        "# Set the logging level to suppress FFC messages\n",
        "logging.getLogger('UFL_LEGACY').setLevel(logging.WARNING)\n",
        "logging.getLogger('FFC').setLevel(logging.ERROR)"
      ],
      "metadata": {
        "id": "qzvdV-jaGZG6"
      },
      "execution_count": 2,
      "outputs": []
    },
    {
      "cell_type": "markdown",
      "source": [
        "# Data, Mesh and Function spaces"
      ],
      "metadata": {
        "id": "br10ska72pF5"
      }
    },
    {
      "cell_type": "code",
      "execution_count": 3,
      "metadata": {
        "id": "uYE6EYza9Az2"
      },
      "outputs": [],
      "source": [
        "# Data\n",
        "x_inlet = 0.\n",
        "x_branch = 1.0\n",
        "x_outlet_1 = 2.0\n",
        "x_outlet_2 = 3.0\n",
        "T = 1\n",
        "\n",
        "alpha = 1\n",
        "k_r = 2.416e-4\n",
        "rho = 1.05\n",
        "\n",
        "K_1 = 50e3\n",
        "K_2 = 50e3\n",
        "K_3 = 50e3\n",
        "\n",
        "# Discretization parameter\n",
        "dt = 1e-4\n",
        "num_steps = T / dt\n",
        "\n",
        "h_1 = 1 / 32\n",
        "h_2 = 1 / 32\n",
        "h_3 = 1 / 32\n",
        "N_1 = int((x_branch - x_inlet) / h_1)\n",
        "N_2 = int((x_outlet_1 - x_branch) / h_2)\n",
        "N_3 = int((x_outlet_2 - x_branch) / h_3)\n",
        "\n",
        "#  Create a mesh on the interval [0, 1], [1, 2] and [1, 3].\n",
        "mesh_1 = IntervalMesh(N_1, x_inlet, x_branch)\n",
        "mesh_2 = IntervalMesh(N_2, x_branch, x_outlet_1)\n",
        "mesh_3 = IntervalMesh(N_3, x_branch, x_outlet_2)\n",
        "\n",
        "# Define the function space\n",
        "P1_1 = FiniteElement('P', mesh_1.ufl_cell(), 1)\n",
        "P1_2 = FiniteElement('P', mesh_2.ufl_cell(), 1)\n",
        "P1_3 = FiniteElement('P', mesh_3.ufl_cell(), 1)\n",
        "element_1 = MixedElement([P1_1, P1_1])\n",
        "element_2 = MixedElement([P1_2, P1_2])\n",
        "element_3 = MixedElement([P1_3, P1_3])\n",
        "V_1 = FunctionSpace(mesh_1, element_1)\n",
        "V_2 = FunctionSpace(mesh_2, element_2)\n",
        "V_3 = FunctionSpace(mesh_3, element_3)\n",
        "\n",
        "# Derivative function space\n",
        "D1_1 = FiniteElement('DG', mesh_1.ufl_cell(), 0)\n",
        "D1_2 = FiniteElement('DG', mesh_2.ufl_cell(), 0)\n",
        "D1_3 = FiniteElement('DG', mesh_3.ufl_cell(), 0)\n",
        "element_der_1 = MixedElement([D1_1, D1_1])\n",
        "element_der_2 = MixedElement([D1_2, D1_2])\n",
        "element_der_3 = MixedElement([D1_3, D1_3])\n",
        "V_der_1 = FunctionSpace(mesh_1, element_der_1)\n",
        "V_der_2 = FunctionSpace(mesh_2, element_der_2)\n",
        "V_der_3 = FunctionSpace(mesh_3, element_der_3)"
      ]
    },
    {
      "cell_type": "markdown",
      "source": [
        "# Functions"
      ],
      "metadata": {
        "id": "xuUyHMzVF1Rz"
      }
    },
    {
      "cell_type": "code",
      "source": [
        "def H(A, q, A0, K):\n",
        "  return as_tensor([[0, 1], [K / (2 * rho * A0 ** 0.5) * A ** 0.5 - (q / A) ** 2, 2 * q / A]])\n",
        "\n",
        "def F(A, q, A0, K):\n",
        "  return as_vector([q, K / (3 * rho * A0 ** 0.5) * A ** 1.5 - K / (3 * rho) * A0 + q ** 2 / A])\n",
        "\n",
        "def B(A, q):\n",
        "  return as_vector([0, k_r * q / A])\n",
        "\n",
        "def S(A, q):\n",
        "  return as_vector([0, k_r * q / A])\n",
        "\n",
        "def dS_dU(A, q):\n",
        "  return as_tensor([[0, 0], [- k_r * q / A ** 2, k_r / A]])"
      ],
      "metadata": {
        "id": "jAgHzjNSvYuj"
      },
      "execution_count": 4,
      "outputs": []
    },
    {
      "cell_type": "code",
      "source": [
        "def U(A, q):\n",
        "  return np.array([A, q])\n",
        "\n",
        "def H_vec(A, q, A0, K):\n",
        "  return np.array([[0, 1], [K / (2 * rho * A0 ** 0.5) * A ** 0.5 - (q / A) ** 2, 2 * q / A]])\n",
        "\n",
        "def B_vec(A, q):\n",
        "  return np.array([0, k_r * q / A])\n",
        "\n",
        "def S_vec(A, q):\n",
        "  return np.array([0, k_r * q / A])\n",
        "\n",
        "def c_alpha(A, q, A0, K, alpha = 1):\n",
        "  return (K / (2 * rho * A0 ** 0.5) * A ** 0.5 + (q / A) ** 2 * alpha * (alpha - 1)) ** 0.5\n",
        "\n",
        "def l1(A, q, A0, K, alpha = 1):\n",
        "  return np.array([c_alpha(A, q, A0, K, alpha) - alpha * q / A, 1.])\n",
        "\n",
        "def l2(A, q, A0, K, alpha = 1):\n",
        "  return np.array([- c_alpha(A, q, A0, K, alpha) - alpha * q / A, 1.])\n",
        "\n",
        "def CC(A, q, A0, K, u_der, V_der, x):\n",
        "  du_dz = project(u_der, V_der)(x)\n",
        "  return U(A, q) - dt * H_vec(A, q, A0, K) @ du_dz - dt * B_vec(A, q)"
      ],
      "metadata": {
        "id": "QetUIYLIe81R"
      },
      "execution_count": 5,
      "outputs": []
    },
    {
      "cell_type": "code",
      "source": [
        "def inlet_bc(A, q, A0, K, u_der, V_der, x):\n",
        "  q_inlet = (np.dot(l2(A(x), q(x), A0, K), CC(A(x), q(x), A0, K, u_der, V_der, x)) - l2(A(x), q(x), A0, K)[0] * U(A(x), q(x))[0] ) / l2(A(x), q(x), A0, K)[1]\n",
        "\n",
        "  return q_inlet\n",
        "\n",
        "def outlet_bc(A, q, A0, K, u_der, V_der, x):\n",
        "  matrix = np.array([[1, -1], [c_alpha(A(x), q(x), A0, K, alpha) + alpha * q(x) / A(x), c_alpha(A(x), q(x), A0, K, alpha) - alpha * q(x) / A(x)]])\n",
        "  array = np.array([np.dot(l1(A(x), q(x), A0, K), CC(A(x), q(x), A0, K, u_der, V_der, x)), np.dot(l2(A(x), q(x), A0, K), U(A(x), q(x)) - dt * S_vec(A(x), q(x)))])\n",
        "\n",
        "  A_out, q_out = matrix @ array / (2 * c_alpha(A(x), q(x), A0, K, alpha))\n",
        "\n",
        "  return A_out, q_out"
      ],
      "metadata": {
        "id": "gGb-E24uOvf6"
      },
      "execution_count": 6,
      "outputs": []
    },
    {
      "cell_type": "markdown",
      "source": [
        "# Definition of the variational problem"
      ],
      "metadata": {
        "id": "S1ONKZfn5sJn"
      }
    },
    {
      "cell_type": "code",
      "source": [
        "def local_branch_solution(bc, V, A_old, q_old, A0, K):\n",
        "  # Define trial functions and test functions\n",
        "  A, q = TrialFunctions(V)\n",
        "  v, z = TestFunctions(V)\n",
        "  uh = Function(V)\n",
        "\n",
        "  a, l = LinearProblem(A, q, v, z, A_old, q_old, A0, K)\n",
        "  solve(a == l, uh, bc)\n",
        "\n",
        "  return uh"
      ],
      "metadata": {
        "id": "yREIztqTvd7D"
      },
      "execution_count": 9,
      "outputs": []
    },
    {
      "cell_type": "code",
      "source": [
        "# Define the variational problem\n",
        "def LinearProblem(A, q, v, z, A_old, q_old, A0, K):\n",
        "  a = inner(A, v) * dx + inner(q, z) * dx\n",
        "\n",
        "  l = (\n",
        "        A_old * v * dx\n",
        "      + q_old * z * dx\n",
        "      + dt * ((F(A_old, q_old, A0, K) - dt / 2 * dot(H(A_old, q_old, A0, K), S(A_old, q_old))))[0] * v.dx(0) * dx\n",
        "      + dt * ((F(A_old, q_old, A0, K) - dt / 2 * dot(H(A_old, q_old, A0, K), S(A_old, q_old))))[1] * z.dx(0) * dx\n",
        "      + dt ** 2 / 2 * (dot(dS_dU(A_old, q_old), F(A_old, q_old, A0, K).dx(0)))[0] * v * dx\n",
        "      + dt ** 2 / 2 * (dot(dS_dU(A_old, q_old), F(A_old, q_old, A0, K).dx(0)))[1] * z * dx\n",
        "      - dt ** 2 / 2 * (dot(H(A_old, q_old, A0, K), F(A_old, q_old, A0, K).dx(0)))[0] * v.dx(0) * dx\n",
        "      - dt ** 2 / 2 * (dot(H(A_old, q_old, A0, K), F(A_old, q_old, A0, K).dx(0)))[1] * z.dx(0) * dx\n",
        "      - dt * (S(A_old, q_old) - dt / 2 * dot(dS_dU(A_old, q_old), S(A_old, q_old)))[0] * v * dx\n",
        "      - dt * (S(A_old, q_old) - dt / 2 * dot(dS_dU(A_old, q_old), S(A_old, q_old)))[1] * z * dx\n",
        "  )\n",
        "\n",
        "  return a, l"
      ],
      "metadata": {
        "id": "WxOkORNyxP5_"
      },
      "execution_count": 8,
      "outputs": []
    },
    {
      "cell_type": "markdown",
      "source": [
        "# Branching"
      ],
      "metadata": {
        "id": "H_DaGcSGXm-5"
      }
    },
    {
      "cell_type": "code",
      "source": [
        "def C_A_in(A, q, A0, beta, gamma):\n",
        "  return beta / (2 * rho * A0 * sqrt(A)) - (q ** 2 / A ** 3) * (1 - 2 * gamma * np.sign(q))\n",
        "\n",
        "def C_q_in(A, q, A0, gamma):\n",
        "  return (q / A ** 2) * (1 - 2 * gamma * np.sign(q))\n",
        "\n",
        "def b_in(A, q, A0, beta, gamma):\n",
        "  return beta / rho * (A - 2 * sqrt(A * A0)) / (2 * A0 * sqrt(A)) + 0.5 * (q / A) ** 2 * (1 - 2 * gamma * np.sign(q))\n",
        "\n",
        "def C_A_out(A, q, A0, alpha, beta, gamma):\n",
        "  return beta / (2 * rho * A0 * sqrt(A)) - (q ** 2 / A ** 3) * (1 + 2 * gamma * sqrt(2 * (1 - cos(alpha))) * np.sign(q))\n",
        "\n",
        "def C_q_out(A, q, A0, alpha, gamma):\n",
        "  return (q / A ** 2) * (1 + 2 * gamma * sqrt(2 * (1 - cos(alpha))) * np.sign(q))\n",
        "\n",
        "def b_out(A, q, A0, alpha, beta, gamma):\n",
        "  return beta / rho * (A - 2 * sqrt(A * A0)) / (2 * A0 * sqrt(A)) + 0.5 * (q / A) ** 2 * (1 + 2 * gamma * sqrt(2 * (1 - cos(alpha))) * np.sign(q))"
      ],
      "metadata": {
        "id": "-NfVuobPapzd"
      },
      "execution_count": 10,
      "outputs": []
    },
    {
      "cell_type": "code",
      "source": [
        "def compute_branch_value(Ah_1, Ah_2, Ah_3, qh_1, qh_2, qh_3, uh_old_1, uh_old_2, uh_old_3, x_branch, toll):\n",
        "\n",
        "  A_branch_old_1 = Ah_1(x_branch)\n",
        "  A_branch_old_2 = Ah_2(x_branch)\n",
        "  A_branch_old_3 = Ah_3(x_branch)\n",
        "\n",
        "  q_branch_old_1 = qh_1(x_branch)\n",
        "  q_branch_old_2 = qh_2(x_branch)\n",
        "  q_branch_old_3 = qh_3(x_branch)\n",
        "\n",
        "  A_branch_0_1 = A_branch_old_1\n",
        "  A_branch_0_2 = A_branch_old_2\n",
        "  A_branch_0_3 = A_branch_old_3\n",
        "\n",
        "  q_branch_0_1 = q_branch_old_1\n",
        "  q_branch_0_2 = q_branch_old_2\n",
        "  q_branch_0_3 = q_branch_old_3\n",
        "\n",
        "  err = float('inf')\n",
        "  iter = 0\n",
        "\n",
        "  while (err > toll) & (iter < 10000):\n",
        "\n",
        "    iter += 1\n",
        "\n",
        "    lhs = np.zeros((6, 6))\n",
        "    rhs = np.zeros(6)\n",
        "\n",
        "    lhs[0, 3] =  1\n",
        "    lhs[0, 4] = -1\n",
        "    lhs[0, 5] = -1\n",
        "\n",
        "    lhs[1, 0] =   C_A_in(A_branch_old_1, q_branch_old_1, A0_1, beta_1, gamma_1)\n",
        "    lhs[1, 1] = - C_A_out(A_branch_old_2, q_branch_old_2, A0_2, alpha_2, beta_2, gamma_2)\n",
        "    lhs[1, 3] =   C_q_in(A_branch_old_1, q_branch_old_1, A0_1, gamma_1)\n",
        "    lhs[1, 4] = - C_q_out(A_branch_old_2, q_branch_old_2, A0_2, alpha_2, gamma_2)\n",
        "\n",
        "    lhs[2, 0] =   C_A_in(A_branch_old_1, q_branch_old_1, A0_1, beta_1, gamma_1)\n",
        "    lhs[2, 2] = - C_A_out(A_branch_old_3, q_branch_old_3, A0_3, alpha_3, beta_3, gamma_3)\n",
        "    lhs[2, 3] =   C_q_in(A_branch_old_1, q_branch_old_1, A0_1, gamma_1)\n",
        "    lhs[2, 5] = - C_q_out(A_branch_old_3, q_branch_old_3, A0_3, alpha_3, gamma_3)\n",
        "\n",
        "    lhs[3, 0] = l1(A_branch_old_1, q_branch_old_1, A0_1, K_1)[0]\n",
        "    lhs[3, 3] = l1(A_branch_old_1, q_branch_old_1, A0_1, K_1)[1]\n",
        "\n",
        "    lhs[4, 1] = l2(A_branch_old_2, q_branch_old_2, A0_2, K_2)[0]\n",
        "    lhs[4, 4] = l2(A_branch_old_2, q_branch_old_2, A0_2, K_2)[1]\n",
        "\n",
        "    lhs[5, 2] = l2(A_branch_old_3, q_branch_old_3, A0_3, K_3)[0]\n",
        "    lhs[5, 5] = l2(A_branch_old_3, q_branch_old_3, A0_3, K_3)[1]\n",
        "\n",
        "    rhs[1] = b_out(A_branch_old_2, q_branch_old_2, A0_2, alpha_2, beta_2, gamma_2) - b_in(A_branch_old_1, q_branch_old_1, A0_1, beta_1, gamma_1)\n",
        "    rhs[2] = b_out(A_branch_old_3, q_branch_old_3, A0_3, alpha_3, beta_3, gamma_3) - b_in(A_branch_old_1, q_branch_old_1, A0_1, beta_1, gamma_1)\n",
        "    rhs[3] = np.dot(l1(A_branch_old_1, q_branch_old_1, A0_1, K_1), CC(A_branch_old_1, q_branch_old_1, A0_1, K_1, uh_old_1.dx(0), V_der_1, x_branch))\n",
        "    rhs[4] = np.dot(l2(A_branch_old_2, q_branch_old_2, A0_2, K_2), CC(A_branch_old_2, q_branch_old_2, A0_2, K_2, uh_old_2.dx(0), V_der_2, x_branch))\n",
        "    rhs[5] = np.dot(l2(A_branch_old_3, q_branch_old_3, A0_3, K_3), CC(A_branch_old_3, q_branch_old_3, A0_3, K_3, uh_old_3.dx(0), V_der_3, x_branch))\n",
        "\n",
        "    A_branch_1, A_branch_2, A_branch_3, q_branch_1, q_branch_2, q_branch_3 = np.linalg.solve(lhs, rhs)\n",
        "\n",
        "    # if (q_branch_0_1 == 0) or (q_branch_0_2 == 0) or (q_branch_0_3 == 0):\n",
        "    #   err = abs(A_branch_1 - A_branch_old_1) / A_branch_0_1 + abs(A_branch_2 - A_branch_old_2) / A_branch_0_2 + abs(A_branch_3 - A_branch_old_3) / A_branch_0_3 \\\n",
        "    #       + abs(q_branch_1 - q_branch_old_1) + abs(q_branch_2 - q_branch_old_2) + abs(q_branch_3 - q_branch_old_3)\n",
        "    # else:\n",
        "    #   err = abs(A_branch_1 - A_branch_old_1) / A_branch_0_1 + abs(A_branch_2 - A_branch_old_2) / A_branch_0_2 + abs(A_branch_3 - A_branch_old_3) / A_branch_0_3 \\\n",
        "    #       + abs(q_branch_1 - q_branch_old_1) / q_branch_0_1 + abs(q_branch_2 - q_branch_old_2) / q_branch_0_2 + abs(q_branch_3 - q_branch_old_3) / q_branch_0_3\n",
        "\n",
        "    err = abs(A_branch_1 - A_branch_old_1) / A_branch_0_1 + abs(A_branch_2 - A_branch_old_2) / A_branch_0_2 + abs(A_branch_3 - A_branch_old_3) / A_branch_0_3 \\\n",
        "          + abs(q_branch_1 - q_branch_old_1) + abs(q_branch_2 - q_branch_old_2) + abs(q_branch_3 - q_branch_old_3)\n",
        "\n",
        "    A_branch_old_1 = A_branch_1\n",
        "    A_branch_old_2 = A_branch_2\n",
        "    A_branch_old_3 = A_branch_3\n",
        "\n",
        "    q_branch_old_1 = q_branch_1\n",
        "    q_branch_old_2 = q_branch_2\n",
        "    q_branch_old_3 = q_branch_3\n",
        "\n",
        "  return A_branch_1, A_branch_2, A_branch_3, q_branch_1, q_branch_2, q_branch_3, err, iter"
      ],
      "metadata": {
        "id": "lpDIcX7veJ7z"
      },
      "execution_count": 61,
      "outputs": []
    },
    {
      "cell_type": "markdown",
      "source": [
        "# Initial guess"
      ],
      "metadata": {
        "id": "YHQzLzas5kvm"
      }
    },
    {
      "cell_type": "code",
      "source": [
        "# Define initial guess\n",
        "A0_1 = 4e-4\n",
        "A0_2 = 4e-4\n",
        "A0_3 = 4e-4\n",
        "\n",
        "q0_1 = 0\n",
        "q0_2 = 0\n",
        "q0_3 = 0\n",
        "\n",
        "uh_old_1 = interpolate(Expression(('A0', 'q0'), degree = 1, A0 = A0_1, q0 = q0_1), V_1)\n",
        "uh_old_2 = interpolate(Expression(('A0', 'q0'), degree = 1, A0 = A0_2, q0 = q0_2), V_2)\n",
        "uh_old_3 = interpolate(Expression(('A0', 'q0'), degree = 1, A0 = A0_3, q0 = q0_3), V_3)\n",
        "\n",
        "Ah_old_1, qh_old_1 = uh_old_1.split()\n",
        "Ah_old_2, qh_old_2 = uh_old_2.split()\n",
        "Ah_old_3, qh_old_3 = uh_old_3.split()"
      ],
      "metadata": {
        "id": "esD4LK44w0i2"
      },
      "execution_count": 62,
      "outputs": []
    },
    {
      "cell_type": "markdown",
      "source": [
        "# Boundary conditon"
      ],
      "metadata": {
        "id": "QVltIsZA9Amg"
      }
    },
    {
      "cell_type": "code",
      "source": [
        "beta_1 = K_1 * sqrt(A0_1)\n",
        "beta_2 = K_2 * sqrt(A0_2)\n",
        "beta_3 = K_3 * sqrt(A0_3)\n",
        "\n",
        "gamma_1 = 0\n",
        "gamma_2 = 0\n",
        "gamma_3 = 0\n",
        "\n",
        "alpha_2 = pi / 4\n",
        "alpha_3 = pi / 3"
      ],
      "metadata": {
        "id": "W2ZI4sOV-ZBg"
      },
      "execution_count": 63,
      "outputs": []
    },
    {
      "cell_type": "code",
      "source": [
        "# Boundary condition\n",
        "inlet = 'near(x[0], 0)'\n",
        "branch = 'near(x[0], 1)'\n",
        "outlet_1 = 'near(x[0], 2)'\n",
        "outlet_2 = 'near(x[0], 3)'\n",
        "\n",
        "A_inlet = Ah_old_1(x_inlet)\n",
        "q_inlet = inlet_bc(Ah_old_1, qh_old_1, A0_1, K_1, uh_old_1.dx(0), V_der_1, x_inlet)\n",
        "\n",
        "A_outlet_1, q_outlet_1 = outlet_bc(Ah_old_2, qh_old_2, A0_2, K_2, uh_old_2.dx(0), V_der_2, x_outlet_1)\n",
        "A_outlet_2, q_outlet_2 = outlet_bc(Ah_old_3, qh_old_3, A0_3, K_3, uh_old_3.dx(0), V_der_3, x_outlet_2)\n",
        "\n",
        "A_branch_1, A_branch_2, A_branch_3, q_branch_1, q_branch_2, q_branch_3, err, iter = compute_branch_value(Ah_old_1, Ah_old_2, Ah_old_3, qh_old_1, qh_old_2, qh_old_3, uh_old_1, uh_old_2, uh_old_3,x_branch, 1e-4)\n",
        "\n",
        "print(f'A inlet = {A_inlet}, q inlet = {q_inlet}, A_1 branch = {A_branch_1}, q_1 branch = {q_branch_1}')\n",
        "print(f'A_2 branch = {A_branch_2}, q_2 branch = {q_branch_2}, A outlet_1 = {A_outlet_1}, q outlet_1 = {q_outlet_1}')\n",
        "print(f'A_3 branch = {A_branch_3}, q_3 branch = {q_branch_3}, A outlet_2 = {A_outlet_2}, q outlet_2 = {q_outlet_2}')"
      ],
      "metadata": {
        "colab": {
          "base_uri": "https://localhost:8080/"
        },
        "id": "2L9oYGWP9Y3m",
        "outputId": "da99ded6-a10b-4d59-a361-9c14669b0d42"
      },
      "execution_count": 64,
      "outputs": [
        {
          "output_type": "stream",
          "name": "stdout",
          "text": [
            "A inlet = 0.0004, q inlet = 0.0, A_1 branch = 0.0004, q_1 branch = -4.625929269271485e-18\n",
            "A_2 branch = 0.0004, q_2 branch = 4.625929269271485e-18, A outlet_1 = 0.0004, q outlet_1 = -4.603574158483219e-19\n",
            "A_3 branch = 0.0004, q_3 branch = -9.25185853854297e-18, A outlet_2 = 0.0004, q outlet_2 = -4.603574158483219e-19\n"
          ]
        }
      ]
    },
    {
      "cell_type": "code",
      "source": [
        "def update_bc(A_inlet, q_inlet, A_outlet_1, q_outlet_1, A_outlet_2, q_outlet_2, A_branch_1, A_branch_2, A_branch_3, q_branch_1, q_branch_2, q_branch_3):\n",
        "\n",
        "  bc_A_inlet    = DirichletBC(V_1.sub(0), A_inlet, inlet)\n",
        "  bc_q_inlet    = DirichletBC(V_1.sub(1), q_inlet, inlet)\n",
        "  bc_A_branch_1 = DirichletBC(V_1.sub(0), A_branch_1, branch)\n",
        "  bc_q_branch_1 = DirichletBC(V_1.sub(1), q_branch_1, branch)\n",
        "\n",
        "  bc_A_branch_2 = DirichletBC(V_2.sub(0), A_branch_2, branch)\n",
        "  bc_q_branch_2 = DirichletBC(V_2.sub(1), q_branch_2, branch)\n",
        "  bc_A_outlet_1 = DirichletBC(V_2.sub(0), A_outlet_1, outlet_1)\n",
        "  bc_q_outlet_1 = DirichletBC(V_2.sub(1), q_outlet_1, outlet_1)\n",
        "\n",
        "  bc_A_branch_3 = DirichletBC(V_3.sub(0), A_branch_3, branch)\n",
        "  bc_q_branch_3 = DirichletBC(V_3.sub(1), q_branch_3, branch)\n",
        "  bc_A_outlet_2 = DirichletBC(V_3.sub(0), A_outlet_2, outlet_2)\n",
        "  bc_q_outlet_2 = DirichletBC(V_3.sub(1), q_outlet_2, outlet_2)\n",
        "\n",
        "  bc_1 = [bc_A_inlet, bc_q_inlet, bc_A_branch_1, bc_q_branch_1]\n",
        "  bc_2 = [bc_A_outlet_1, bc_q_outlet_1, bc_A_branch_2, bc_q_branch_2]\n",
        "  bc_3 = [bc_A_outlet_2, bc_q_outlet_2, bc_A_branch_3, bc_q_branch_3]\n",
        "\n",
        "  return bc_1, bc_2, bc_3\n",
        "\n",
        "bc_1, bc_2, bc_3 = update_bc(A_inlet, q_inlet, A_outlet_1, q_outlet_1, A_outlet_2, q_outlet_2, A_branch_1, A_branch_2, A_branch_3, q_branch_1, q_branch_2, q_branch_3)"
      ],
      "metadata": {
        "id": "3SvUCbmX832C"
      },
      "execution_count": 65,
      "outputs": []
    },
    {
      "cell_type": "markdown",
      "source": [
        "# Solution"
      ],
      "metadata": {
        "id": "VTDgFTAo5vsV"
      }
    },
    {
      "cell_type": "code",
      "source": [
        "# Time stepping\n",
        "t = 0\n",
        "\n",
        "for n in (range(round(num_steps))):\n",
        "\n",
        "  # Update time step\n",
        "  t += dt\n",
        "\n",
        "  # Solve the problem\n",
        "  uh_1 = local_branch_solution(bc_1, V_1, Ah_old_1, qh_old_1, A0_1, K_1)\n",
        "  uh_2 = local_branch_solution(bc_2, V_2, Ah_old_2, qh_old_2, A0_2, K_2)\n",
        "  uh_3 = local_branch_solution(bc_3, V_3, Ah_old_3, qh_old_3, A0_3, K_3)\n",
        "\n",
        "  Ah_1, qh_1 = uh_1.split(deepcopy = True)\n",
        "  Ah_2, qh_2 = uh_2.split(deepcopy = True)\n",
        "  Ah_3, qh_3 = uh_3.split(deepcopy = True)\n",
        "\n",
        "  # Update previous solution\n",
        "  Ah_old_1.assign(Ah_1)\n",
        "  qh_old_1.assign(qh_1)\n",
        "  Ah_old_2.assign(Ah_2)\n",
        "  qh_old_2.assign(qh_2)\n",
        "  Ah_old_3.assign(Ah_3)\n",
        "  qh_old_3.assign(qh_3)\n",
        "\n",
        "  # Update bc\n",
        "  A_inlet = A0_1 + 0.0001 * t\n",
        "  q_inlet = inlet_bc(Ah_1, qh_1, A0_1, K_1, uh_1.dx(0), V_der_1, x_inlet)\n",
        "\n",
        "  A_outlet_1, q_outlet_1 = outlet_bc(Ah_2, qh_2, A0_2, K_2, uh_2.dx(0), V_der_2, x_outlet_1)\n",
        "  A_outlet_2, q_outlet_2 = outlet_bc(Ah_3, qh_3, A0_3, K_3, uh_3.dx(0), V_der_3, x_outlet_2)\n",
        "\n",
        "  A_branch_1, A_branch_2, A_branch_3, q_branch_1, q_branch_2, q_branch_3, err, iter = compute_branch_value(Ah_1, Ah_2, Ah_3, qh_1, qh_2, qh_3, uh_1, uh_2, uh_3, x_branch, 1e-5)\n",
        "\n",
        "  bc_1, bc_2, bc_3 = update_bc(A_inlet, q_inlet, A_outlet_1, q_outlet_1, A_outlet_2, q_outlet_2, A_branch_1, A_branch_2, A_branch_3, q_branch_1, q_branch_2, q_branch_3)\n",
        "\n",
        "  if(n % 1 == 0):\n",
        "    print()\n",
        "    print(f'At step {n} took {iter} iteration to impose the branching condition')\n",
        "    print(A_branch_1, A_branch_2, A_branch_3, q_branch_1, q_branch_2, q_branch_3)"
      ],
      "metadata": {
        "id": "1g5fnjK7cA-T",
        "colab": {
          "base_uri": "https://localhost:8080/",
          "height": 1000
        },
        "outputId": "92396739-51e6-40ba-ba92-a8c98740cf93"
      },
      "execution_count": 66,
      "outputs": [
        {
          "output_type": "stream",
          "name": "stdout",
          "text": [
            "\n",
            "At step 0 took 1 iteration to impose the branching condition\n",
            "0.0004 0.0004 0.00039999999999999996 -6.93889390390723e-18 6.93889390390723e-18 -1.387778780781446e-17\n",
            "\n",
            "At step 1 took 1 iteration to impose the branching condition\n",
            "0.00039999999999999986 0.00039999999999999986 0.00039999999999999986 -9.251858538542972e-18 2.3129646346357454e-18 -1.1564823173178718e-17\n",
            "\n",
            "At step 2 took 1 iteration to impose the branching condition\n",
            "0.00039999999999999986 0.00039999999999999986 0.0003999999999999998 -6.938893903907228e-18 -6.9388939039072276e-18 -1.027162637006526e-33\n",
            "\n",
            "At step 3 took 1 iteration to impose the branching condition\n",
            "0.00039999999999999975 0.00039999999999999975 0.00039999999999999964 2.3129646346357454e-18 1.1564823173178716e-17 -9.25185853854297e-18\n",
            "\n",
            "At step 4 took 1 iteration to impose the branching condition\n",
            "0.0003999999999999994 0.0003999999999999994 0.00039999999999999964 2.0816681711721685e-17 -1.5407439555097887e-33 2.0816681711721688e-17\n",
            "\n",
            "At step 5 took 1 iteration to impose the branching condition\n",
            "0.00039999999999999915 0.00039999999999999915 0.0003999999999999993 2.5442610980993197e-17 -1.1564823173178704e-17 3.70074341541719e-17\n",
            "\n",
            "At step 6 took 1 iteration to impose the branching condition\n",
            "0.00039999999999999904 0.00039999999999999904 0.0003999999999999991 3.4694469519536167e-17 6.938893903907236e-18 2.775557561562893e-17\n",
            "\n",
            "At step 7 took 1 iteration to impose the branching condition\n",
            "0.0003999999999999983 0.0003999999999999983 0.00039999999999999834 -1.5265566588595907e-16 -8.326672684688677e-17 -6.938893903907232e-17\n",
            "\n",
            "At step 8 took 1 iteration to impose the branching condition\n",
            "0.0004000000000000034 0.0004000000000000034 0.0004000000000000033 1.3993436039546261e-15 6.962023550253596e-16 7.031412489292664e-16\n",
            "\n",
            "At step 9 took 1 iteration to impose the branching condition\n",
            "0.0003999999999999684 0.0003999999999999684 0.00039999999999996836 -9.372132699544242e-15 -4.679127455868214e-15 -4.693005243676028e-15\n",
            "\n",
            "At step 10 took 1 iteration to impose the branching condition\n",
            "0.00040000000000016417 0.00040000000000016417 0.00040000000000016406 5.109801470837672e-14 2.5562885141996167e-14 2.5535129566380547e-14\n",
            "\n",
            "At step 11 took 1 iteration to impose the branching condition\n",
            "0.0003999999999992636 0.0003999999999992636 0.0003999999999992635 -2.2676073981524133e-13 -1.1338383935457263e-13 -1.133769004606687e-13\n",
            "\n",
            "At step 12 took 1 iteration to impose the branching condition\n",
            "0.00040000000000262157 0.00040000000000262157 0.00040000000000262157 8.096023851337669e-13 4.048011925668835e-13 4.0480119256688346e-13\n",
            "\n",
            "At step 13 took 1 iteration to impose the branching condition\n",
            "0.0003999999999926339 0.0003999999999926339 0.00039999999999263384 -2.272656599977756e-12 -1.1363178916480223e-12 -1.1363387083297336e-12\n",
            "\n",
            "At step 14 took 1 iteration to impose the branching condition\n",
            "0.00040000000001544177 0.00040000000001544177 0.00040000000001544177 4.766240642990144e-12 2.383123790942023e-12 2.383116852048121e-12\n",
            "\n",
            "At step 15 took 1 iteration to impose the branching condition\n",
            "0.0003999999999788711 0.0003999999999788711 0.0003999999999788711 -6.520076146158689e-12 -3.2600380730793444e-12 -3.2600380730793448e-12\n",
            "\n",
            "At step 16 took 1 iteration to impose the branching condition\n",
            "0.00040000000000854505 0.00040000000000854505 0.00040000000000854505 2.6381258290414476e-12 1.3190629145207236e-12 1.3190629145207238e-12\n",
            "\n",
            "At step 17 took 1 iteration to impose the branching condition\n",
            "0.0004000000000327975 0.0004000000000327975 0.0004000000000327975 1.0122194749484164e-11 5.061090435848178e-12 5.061104313635986e-12\n",
            "\n",
            "At step 18 took 1 iteration to impose the branching condition\n",
            "0.00039999999993430946 0.00039999999993430946 0.00039999999993430946 -2.0272286167885992e-11 -1.0136139614496046e-11 -1.0136146553389948e-11\n",
            "\n",
            "At step 19 took 1 iteration to impose the branching condition\n",
            "0.00040000000000457963 0.0004000000000045797 0.0004000000000045797 1.415208228616002e-12 7.076075837549533e-13 7.076006448610489e-13\n",
            "\n",
            "At step 20 took 1 iteration to impose the branching condition\n",
            "0.00040000000013545834 0.00040000000013545823 0.0004000000001354582 4.180438402948687e-11 2.0902192014743437e-11 2.0902192014743434e-11\n",
            "\n",
            "At step 21 took 1 iteration to impose the branching condition\n",
            "0.00039999999989792206 0.00039999999989792195 0.00039999999989792195 -3.1503186654775104e-11 -1.57516037357284e-11 -1.5751582919046703e-11\n",
            "\n",
            "At step 22 took 1 iteration to impose the branching condition\n",
            "0.0003999999997712681 0.00039999999977126816 0.00039999999977126816 -7.058599540002484e-11 -3.529300463890634e-11 -3.52929907611185e-11\n",
            "\n",
            "At step 23 took 1 iteration to impose the branching condition\n",
            "0.00040000000027494995 0.0004000000002749499 0.0004000000002749499 8.485646218326336e-11 4.2428220683290835e-11 4.242824149997252e-11\n",
            "\n",
            "At step 24 took 1 iteration to impose the branching condition\n",
            "0.00040000000041724037 0.0004000000004172405 0.0004000000004172405 1.2876084706916058e-10 6.438039924845164e-11 6.438044782070894e-11\n",
            "\n",
            "At step 25 took 1 iteration to impose the branching condition\n",
            "0.000399999999468604 0.000399999999468604 0.000399999999468604 -1.6399904616714664e-10 -8.199954390025502e-11 -8.199950226689162e-11\n",
            "\n",
            "At step 26 took 1 iteration to impose the branching condition\n",
            "0.00039999999911309266 0.00039999999911309266 0.00039999999911309266 -2.73698020629916e-10 -1.3684902766219288e-10 -1.368489929677231e-10\n",
            "\n",
            "At step 27 took 1 iteration to impose the branching condition\n",
            "0.0004000000007584584 0.0004000000007584584 0.0004000000007584584 2.34082945676117e-10 1.1704146936861162e-10 1.1704147630750536e-10\n",
            "\n",
            "At step 28 took 1 iteration to impose the branching condition\n",
            "0.0004000000019667528 0.0004000000019667528 0.0004000000019667528 6.069473442246128e-10 3.034736686428595e-10 3.034736755817533e-10\n",
            "\n",
            "At step 29 took 1 iteration to impose the branching condition\n",
            "0.00039999999960509147 0.0003999999996050914 0.0003999999996050914 -1.2190418933161425e-10 -6.095209813525406e-11 -6.09520911963602e-11\n",
            "\n",
            "At step 30 took 1 iteration to impose the branching condition\n",
            "0.00039999999617102577 0.0003999999961710258 0.0003999999961710258 -1.1816511646586685e-09 -5.908255927376751e-10 -5.908255719209933e-10\n",
            "\n",
            "At step 31 took 1 iteration to impose the branching condition\n",
            "0.0003999999979943207 0.00039999999799432065 0.00039999999799432065 -6.189054629008942e-10 -3.094527418587882e-10 -3.0945272104210594e-10\n",
            "\n",
            "At step 32 took 1 iteration to impose the branching condition\n",
            "0.00040000000520148493 0.00040000000520148477 0.00040000000520148477 1.6052681949440777e-09 8.026340766553575e-10 8.026341182887203e-10\n",
            "\n",
            "At step 33 took 1 iteration to impose the branching condition\n",
            "0.0004000000081054296 0.0004000000081054298 0.0004000000081054298 2.501329641391163e-09 1.2506648033483469e-09 1.250664838042816e-09\n",
            "\n",
            "At step 34 took 1 iteration to impose the branching condition\n",
            "0.00039999999876810983 0.0003999999987681095 0.0003999999987681095 -3.803198072760903e-10 -1.9015990710749201e-10 -1.9015990016859827e-10\n",
            "\n",
            "At step 35 took 1 iteration to impose the branching condition\n",
            "0.0003999999848509758 0.00039999998485097595 0.0003999999848509759 -4.675130535544283e-09 -2.3375652573638004e-09 -2.337565278180483e-09\n",
            "\n",
            "At step 36 took 1 iteration to impose the branching condition\n",
            "0.0003999999853757981 0.00039999998537579886 0.0003999999853757987 -4.5129066592392034e-09 -2.2564533296196e-09 -2.256453329619603e-09\n",
            "\n",
            "At step 37 took 1 iteration to impose the branching condition\n",
            "0.00040000000824184955 0.0004000000082418478 0.00040000000824184776 2.543809367334148e-09 1.2719046836670737e-09 1.2719046836670743e-09\n",
            "\n",
            "At step 38 took 1 iteration to impose the branching condition\n",
            "0.000400000034311613 0.0004000000343116148 0.0004000000343116148 1.0588808928477754e-08 5.294404478116666e-09 5.294404450361089e-09\n",
            "\n",
            "At step 39 took 1 iteration to impose the branching condition\n",
            "0.00040000003075656637 0.0004000000307565699 0.0004000000307565699 9.49116934347325e-09 4.7455846960227526e-09 4.745584647450498e-09\n",
            "\n",
            "At step 40 took 1 iteration to impose the branching condition\n",
            "0.00039999998589596844 0.00039999998589596166 0.0003999999858959617 -4.353302580509552e-09 -2.1766512729075423e-09 -2.176651307602009e-09\n",
            "\n",
            "At step 41 took 1 iteration to impose the branching condition\n",
            "0.0003999999311051837 0.00039999993110519024 0.0003999999311051903 -2.1261518134452528e-08 -1.0630759060287362e-08 -1.0630759074165166e-08\n",
            "\n",
            "At step 42 took 1 iteration to impose the branching condition\n",
            "0.00039999992254202 0.00039999992254204233 0.0003999999225420422 -2.390307303010629e-08 -1.1951536501175352e-08 -1.1951536528930936e-08\n",
            "\n",
            "At step 43 took 1 iteration to impose the branching condition\n",
            "0.00039999999198132613 0.0003999999919813083 0.00039999999198130824 -2.4729976447078557e-09 -1.2364988188844793e-09 -1.2364988258233765e-09\n",
            "\n",
            "At step 44 took 1 iteration to impose the branching condition\n",
            "0.00040000010772416874 0.000400000107724162 0.00040000010772416197 3.3245348959766054e-08 1.662267446600524e-08 1.6622674493760815e-08\n",
            "\n",
            "At step 45 took 1 iteration to impose the branching condition\n",
            "0.000400000183253637 0.0004000001832537415 0.00040000018325374146 5.6552291469435916e-08 2.8276145713901286e-08 2.8276145755534633e-08\n",
            "\n",
            "At step 46 took 1 iteration to impose the branching condition\n",
            "0.00040000013472987154 0.00040000013472993063 0.00040000013472993063 4.157537176460065e-08 2.0787685875361438e-08 2.078768588923921e-08\n",
            "\n",
            "At step 47 took 1 iteration to impose the branching condition\n",
            "0.0003999999488077375 0.00039999994880761776 0.00039999994880761776 -1.5802018168446584e-08 -7.901009052998281e-09 -7.901009115448303e-09\n",
            "\n",
            "At step 48 took 1 iteration to impose the branching condition\n",
            "0.00039999971113755466 0.00039999971113765555 0.0003999997111376556 -8.914622300025476e-08 -4.457311145849393e-08 -4.4573111541760834e-08\n",
            "\n",
            "At step 49 took 1 iteration to impose the branching condition\n",
            "0.0003999995709479997 0.0003999995709486164 0.0003999995709486163 -1.3240482290007814e-07 -6.620241139799722e-08 -6.620241150208093e-08\n",
            "\n",
            "At step 50 took 1 iteration to impose the branching condition\n",
            "0.00039999965895646205 0.0003999996589568691 0.0003999996589568691 -1.05240276570949e-07 -5.262013825771875e-08 -5.262013831323025e-08\n",
            "\n",
            "At step 51 took 1 iteration to impose the branching condition\n",
            "0.00040000000541446046 0.0004000000054140104 0.0004000000054140104 1.6802597561754495e-09 8.401298815571736e-10 8.401298746182759e-10\n",
            "\n",
            "At step 52 took 1 iteration to impose the branching condition\n",
            "0.0004000005047629197 0.00040000050476294007 0.00040000050476294 1.557792453238491e-07 7.7889622665394e-08 7.78896226584551e-08\n",
            "\n",
            "At step 53 took 1 iteration to impose the branching condition\n",
            "0.00040000094655112727 0.0004000009465537552 0.0004000009465537551 2.921104622431518e-07 1.4605523113892315e-07 1.4605523110422866e-07\n",
            "\n",
            "At step 54 took 1 iteration to impose the branching condition\n",
            "0.00040000109749170496 0.00040000109749613604 0.00040000109749613604 3.3868099519906764e-07 1.693404976099422e-07 1.6934049758912545e-07\n",
            "\n",
            "At step 55 took 1 iteration to impose the branching condition\n",
            "0.0004000007965181557 0.0004000007965201946 0.0004000007965201946 2.457875430349348e-07 1.228937715174674e-07 1.2289377151746736e-07\n",
            "\n",
            "At step 56 took 1 iteration to impose the branching condition\n",
            "0.0004000000230583209 0.0004000000230560793 0.00040000002305607925 7.087453777429035e-09 3.543726909531158e-09 3.543726867897877e-09\n",
            "\n",
            "At step 57 took 1 iteration to impose the branching condition\n",
            "0.0003999989150887186 0.00039999891508852973 0.0003999989150885297 -3.3483121909559065e-07 -1.6741560951310088e-07 -1.674156095824898e-07\n",
            "\n",
            "At step 58 took 1 iteration to impose the branching condition\n",
            "0.0003999977366199271 0.00039999773663393053 0.0003999977366339307 -6.984891474883554e-07 -3.492445737164215e-07 -3.49244573771934e-07\n",
            "\n",
            "At step 59 took 1 iteration to impose the branching condition\n",
            "0.00039999681258699537 0.0003999968126218899 0.0003999968126218899 -9.83613605973283e-07 -4.918068029588853e-07 -4.918068030143976e-07\n",
            "\n",
            "At step 60 took 1 iteration to impose the branching condition\n",
            "0.0003999964564307379 0.0003999964564773443 0.00039999645647734427 -1.093486732948706e-06 -5.467433664361878e-07 -5.467433665125181e-07\n",
            "\n",
            "At step 61 took 1 iteration to impose the branching condition\n",
            "0.0003999969121460709 0.00039999691218103986 0.00039999691218103975 -9.528234915360829e-07 -4.764117457264068e-07 -4.7641174580967603e-07\n",
            "\n",
            "At step 62 took 10000 iteration to impose the branching condition\n",
            "0.00041401299313912775 0.0004144593231702915 0.00041445932317030133 0.0034531782705054977 0.0017265891352815897 0.0017265891352239078\n"
          ]
        },
        {
          "output_type": "error",
          "ename": "TypeError",
          "evalue": "float() argument must be a string or a real number, not 'complex'",
          "traceback": [
            "\u001b[0;31m---------------------------------------------------------------------------\u001b[0m",
            "\u001b[0;31mTypeError\u001b[0m                                 Traceback (most recent call last)",
            "\u001b[0;32m<ipython-input-66-c9d727495b17>\u001b[0m in \u001b[0;36m<cell line: 4>\u001b[0;34m()\u001b[0m\n\u001b[1;32m     31\u001b[0m   \u001b[0mA_outlet_2\u001b[0m\u001b[0;34m,\u001b[0m \u001b[0mq_outlet_2\u001b[0m \u001b[0;34m=\u001b[0m \u001b[0moutlet_bc\u001b[0m\u001b[0;34m(\u001b[0m\u001b[0mAh_3\u001b[0m\u001b[0;34m,\u001b[0m \u001b[0mqh_3\u001b[0m\u001b[0;34m,\u001b[0m \u001b[0mA0_3\u001b[0m\u001b[0;34m,\u001b[0m \u001b[0mK_3\u001b[0m\u001b[0;34m,\u001b[0m \u001b[0muh_3\u001b[0m\u001b[0;34m.\u001b[0m\u001b[0mdx\u001b[0m\u001b[0;34m(\u001b[0m\u001b[0;36m0\u001b[0m\u001b[0;34m)\u001b[0m\u001b[0;34m,\u001b[0m \u001b[0mV_der_3\u001b[0m\u001b[0;34m,\u001b[0m \u001b[0mx_outlet_2\u001b[0m\u001b[0;34m)\u001b[0m\u001b[0;34m\u001b[0m\u001b[0;34m\u001b[0m\u001b[0m\n\u001b[1;32m     32\u001b[0m \u001b[0;34m\u001b[0m\u001b[0m\n\u001b[0;32m---> 33\u001b[0;31m   \u001b[0mA_branch_1\u001b[0m\u001b[0;34m,\u001b[0m \u001b[0mA_branch_2\u001b[0m\u001b[0;34m,\u001b[0m \u001b[0mA_branch_3\u001b[0m\u001b[0;34m,\u001b[0m \u001b[0mq_branch_1\u001b[0m\u001b[0;34m,\u001b[0m \u001b[0mq_branch_2\u001b[0m\u001b[0;34m,\u001b[0m \u001b[0mq_branch_3\u001b[0m\u001b[0;34m,\u001b[0m \u001b[0merr\u001b[0m\u001b[0;34m,\u001b[0m \u001b[0miter\u001b[0m \u001b[0;34m=\u001b[0m \u001b[0mcompute_branch_value\u001b[0m\u001b[0;34m(\u001b[0m\u001b[0mAh_1\u001b[0m\u001b[0;34m,\u001b[0m \u001b[0mAh_2\u001b[0m\u001b[0;34m,\u001b[0m \u001b[0mAh_3\u001b[0m\u001b[0;34m,\u001b[0m \u001b[0mqh_1\u001b[0m\u001b[0;34m,\u001b[0m \u001b[0mqh_2\u001b[0m\u001b[0;34m,\u001b[0m \u001b[0mqh_3\u001b[0m\u001b[0;34m,\u001b[0m \u001b[0muh_1\u001b[0m\u001b[0;34m,\u001b[0m \u001b[0muh_2\u001b[0m\u001b[0;34m,\u001b[0m \u001b[0muh_3\u001b[0m\u001b[0;34m,\u001b[0m \u001b[0mx_branch\u001b[0m\u001b[0;34m,\u001b[0m \u001b[0;36m1e-5\u001b[0m\u001b[0;34m)\u001b[0m\u001b[0;34m\u001b[0m\u001b[0;34m\u001b[0m\u001b[0m\n\u001b[0m\u001b[1;32m     34\u001b[0m \u001b[0;34m\u001b[0m\u001b[0m\n\u001b[1;32m     35\u001b[0m   \u001b[0mbc_1\u001b[0m\u001b[0;34m,\u001b[0m \u001b[0mbc_2\u001b[0m\u001b[0;34m,\u001b[0m \u001b[0mbc_3\u001b[0m \u001b[0;34m=\u001b[0m \u001b[0mupdate_bc\u001b[0m\u001b[0;34m(\u001b[0m\u001b[0mA_inlet\u001b[0m\u001b[0;34m,\u001b[0m \u001b[0mq_inlet\u001b[0m\u001b[0;34m,\u001b[0m \u001b[0mA_outlet_1\u001b[0m\u001b[0;34m,\u001b[0m \u001b[0mq_outlet_1\u001b[0m\u001b[0;34m,\u001b[0m \u001b[0mA_outlet_2\u001b[0m\u001b[0;34m,\u001b[0m \u001b[0mq_outlet_2\u001b[0m\u001b[0;34m,\u001b[0m \u001b[0mA_branch_1\u001b[0m\u001b[0;34m,\u001b[0m \u001b[0mA_branch_2\u001b[0m\u001b[0;34m,\u001b[0m \u001b[0mA_branch_3\u001b[0m\u001b[0;34m,\u001b[0m \u001b[0mq_branch_1\u001b[0m\u001b[0;34m,\u001b[0m \u001b[0mq_branch_2\u001b[0m\u001b[0;34m,\u001b[0m \u001b[0mq_branch_3\u001b[0m\u001b[0;34m)\u001b[0m\u001b[0;34m\u001b[0m\u001b[0;34m\u001b[0m\u001b[0m\n",
            "\u001b[0;32m<ipython-input-61-6c38b882739a>\u001b[0m in \u001b[0;36mcompute_branch_value\u001b[0;34m(Ah_1, Ah_2, Ah_3, qh_1, qh_2, qh_3, uh_old_1, uh_old_2, uh_old_3, x_branch, toll)\u001b[0m\n\u001b[1;32m     32\u001b[0m \u001b[0;34m\u001b[0m\u001b[0m\n\u001b[1;32m     33\u001b[0m     \u001b[0mlhs\u001b[0m\u001b[0;34m[\u001b[0m\u001b[0;36m1\u001b[0m\u001b[0;34m,\u001b[0m \u001b[0;36m0\u001b[0m\u001b[0;34m]\u001b[0m \u001b[0;34m=\u001b[0m   \u001b[0mC_A_in\u001b[0m\u001b[0;34m(\u001b[0m\u001b[0mA_branch_old_1\u001b[0m\u001b[0;34m,\u001b[0m \u001b[0mq_branch_old_1\u001b[0m\u001b[0;34m,\u001b[0m \u001b[0mA0_1\u001b[0m\u001b[0;34m,\u001b[0m \u001b[0mbeta_1\u001b[0m\u001b[0;34m,\u001b[0m \u001b[0mgamma_1\u001b[0m\u001b[0;34m)\u001b[0m\u001b[0;34m\u001b[0m\u001b[0;34m\u001b[0m\u001b[0m\n\u001b[0;32m---> 34\u001b[0;31m     \u001b[0mlhs\u001b[0m\u001b[0;34m[\u001b[0m\u001b[0;36m1\u001b[0m\u001b[0;34m,\u001b[0m \u001b[0;36m1\u001b[0m\u001b[0;34m]\u001b[0m \u001b[0;34m=\u001b[0m \u001b[0;34m-\u001b[0m \u001b[0mC_A_out\u001b[0m\u001b[0;34m(\u001b[0m\u001b[0mA_branch_old_2\u001b[0m\u001b[0;34m,\u001b[0m \u001b[0mq_branch_old_2\u001b[0m\u001b[0;34m,\u001b[0m \u001b[0mA0_2\u001b[0m\u001b[0;34m,\u001b[0m \u001b[0malpha_2\u001b[0m\u001b[0;34m,\u001b[0m \u001b[0mbeta_2\u001b[0m\u001b[0;34m,\u001b[0m \u001b[0mgamma_2\u001b[0m\u001b[0;34m)\u001b[0m\u001b[0;34m\u001b[0m\u001b[0;34m\u001b[0m\u001b[0m\n\u001b[0m\u001b[1;32m     35\u001b[0m     \u001b[0mlhs\u001b[0m\u001b[0;34m[\u001b[0m\u001b[0;36m1\u001b[0m\u001b[0;34m,\u001b[0m \u001b[0;36m3\u001b[0m\u001b[0;34m]\u001b[0m \u001b[0;34m=\u001b[0m   \u001b[0mC_q_in\u001b[0m\u001b[0;34m(\u001b[0m\u001b[0mA_branch_old_1\u001b[0m\u001b[0;34m,\u001b[0m \u001b[0mq_branch_old_1\u001b[0m\u001b[0;34m,\u001b[0m \u001b[0mA0_1\u001b[0m\u001b[0;34m,\u001b[0m \u001b[0mgamma_1\u001b[0m\u001b[0;34m)\u001b[0m\u001b[0;34m\u001b[0m\u001b[0;34m\u001b[0m\u001b[0m\n\u001b[1;32m     36\u001b[0m     \u001b[0mlhs\u001b[0m\u001b[0;34m[\u001b[0m\u001b[0;36m1\u001b[0m\u001b[0;34m,\u001b[0m \u001b[0;36m4\u001b[0m\u001b[0;34m]\u001b[0m \u001b[0;34m=\u001b[0m \u001b[0;34m-\u001b[0m \u001b[0mC_q_out\u001b[0m\u001b[0;34m(\u001b[0m\u001b[0mA_branch_old_2\u001b[0m\u001b[0;34m,\u001b[0m \u001b[0mq_branch_old_2\u001b[0m\u001b[0;34m,\u001b[0m \u001b[0mA0_2\u001b[0m\u001b[0;34m,\u001b[0m \u001b[0malpha_2\u001b[0m\u001b[0;34m,\u001b[0m \u001b[0mgamma_2\u001b[0m\u001b[0;34m)\u001b[0m\u001b[0;34m\u001b[0m\u001b[0;34m\u001b[0m\u001b[0m\n",
            "\u001b[0;31mTypeError\u001b[0m: float() argument must be a string or a real number, not 'complex'"
          ]
        }
      ]
    },
    {
      "cell_type": "code",
      "source": [],
      "metadata": {
        "id": "QFxKnsG5-XgF"
      },
      "execution_count": null,
      "outputs": []
    }
  ]
}