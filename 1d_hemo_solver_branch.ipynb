{
  "nbformat": 4,
  "nbformat_minor": 0,
  "metadata": {
    "colab": {
      "provenance": [],
      "mount_file_id": "https://github.com/Riky2014/Tesi/blob/main/1d_hemo_solver.ipynb",
      "authorship_tag": "ABX9TyPyjTEP4u3VDjVCEYBUzTY5",
      "include_colab_link": true
    },
    "kernelspec": {
      "name": "python3",
      "display_name": "Python 3"
    },
    "language_info": {
      "name": "python"
    }
  },
  "cells": [
    {
      "cell_type": "markdown",
      "metadata": {
        "id": "view-in-github",
        "colab_type": "text"
      },
      "source": [
        "<a href=\"https://colab.research.google.com/github/Riky2014/Tesi/blob/main/1d_hemo_solver_branch.ipynb\" target=\"_parent\"><img src=\"https://colab.research.google.com/assets/colab-badge.svg\" alt=\"Open In Colab\"/></a>"
      ]
    },
    {
      "cell_type": "code",
      "source": [
        "%%capture\n",
        "!apt-get install software-properties-common\n",
        "!add-apt-repository -y ppa:fenics-packages/fenics\n",
        "!apt-get update -qq\n",
        "!apt install fenics"
      ],
      "metadata": {
        "id": "Vk2md9CPA9f1"
      },
      "execution_count": 1,
      "outputs": []
    },
    {
      "cell_type": "code",
      "source": [
        "from fenics import *\n",
        "\n",
        "import logging\n",
        "import numpy as np\n",
        "from tqdm import tqdm\n",
        "import matplotlib.pyplot as plt\n",
        "\n",
        "# Set the logging level to suppress FFC messages\n",
        "logging.getLogger('FFC').setLevel(logging.ERROR)\n",
        "logging.getLogger('UFL_LEGACY').setLevel(logging.WARNING)"
      ],
      "metadata": {
        "id": "qzvdV-jaGZG6"
      },
      "execution_count": 2,
      "outputs": []
    },
    {
      "cell_type": "markdown",
      "source": [
        "# Data, Mesh and Function spaces"
      ],
      "metadata": {
        "id": "br10ska72pF5"
      }
    },
    {
      "cell_type": "code",
      "execution_count": 97,
      "metadata": {
        "id": "uYE6EYza9Az2"
      },
      "outputs": [],
      "source": [
        "# Data\n",
        "x_inlet = 0.\n",
        "x_branch = 1.0\n",
        "x_outlet_1 = 2.0\n",
        "x_outlet_2 = 3.0\n",
        "T = 1\n",
        "\n",
        "alpha = 1\n",
        "k_r = 2.419\n",
        "rho = 1.050\n",
        "\n",
        "# Discretization parameter\n",
        "dt = 2e-5\n",
        "num_steps = T / dt\n",
        "\n",
        "h_1 = 1 / 32\n",
        "h_2 = 1 / 32\n",
        "h_3 = 1 / 32\n",
        "N_1 = int((x_branch - x_inlet) / h_1)\n",
        "N_2 = int((x_outlet_1 - x_branch) / h_2)\n",
        "N_3 = int((x_outlet_2 - x_branch) / h_3)\n",
        "\n",
        "#  Create a mesh on the interval [0, 1], [1, 2] and [1, 3].\n",
        "mesh_1 = IntervalMesh(N_1, x_inlet, x_branch)\n",
        "mesh_2 = IntervalMesh(N_2, x_branch, x_outlet_1)\n",
        "mesh_3 = IntervalMesh(N_3, x_branch, x_outlet_2)\n",
        "\n",
        "# Define the function space\n",
        "P1_1 = FiniteElement('P', mesh_1.ufl_cell(), 1)\n",
        "P1_2 = FiniteElement('P', mesh_2.ufl_cell(), 1)\n",
        "P1_3 = FiniteElement('P', mesh_3.ufl_cell(), 1)\n",
        "element_1 = MixedElement([P1_1, P1_1])\n",
        "element_2 = MixedElement([P1_2, P1_2])\n",
        "element_3 = MixedElement([P1_3, P1_3])\n",
        "V_1 = FunctionSpace(mesh_1, element_1)\n",
        "V_2 = FunctionSpace(mesh_2, element_2)\n",
        "V_3 = FunctionSpace(mesh_3, element_3)\n",
        "\n",
        "# Derivative function space\n",
        "D1_1 = FiniteElement('DG', mesh_1.ufl_cell(), 0)\n",
        "D1_2 = FiniteElement('DG', mesh_2.ufl_cell(), 0)\n",
        "D1_3 = FiniteElement('DG', mesh_3.ufl_cell(), 0)\n",
        "element_der_1 = MixedElement([D1_1, D1_1])\n",
        "element_der_2 = MixedElement([D1_2, D1_2])\n",
        "element_der_3 = MixedElement([D1_3, D1_3])\n",
        "V_der_1 = FunctionSpace(mesh_1, element_der_1)\n",
        "V_der_2 = FunctionSpace(mesh_2, element_der_2)\n",
        "V_der_3 = FunctionSpace(mesh_3, element_der_3)"
      ]
    },
    {
      "cell_type": "code",
      "source": [
        "h_1 / dt"
      ],
      "metadata": {
        "id": "9yrVtGVINXua",
        "outputId": "a6f8ba6f-4bd8-4225-cfba-12c32e24cce8",
        "colab": {
          "base_uri": "https://localhost:8080/"
        }
      },
      "execution_count": 98,
      "outputs": [
        {
          "output_type": "execute_result",
          "data": {
            "text/plain": [
              "1562.4999999999998"
            ]
          },
          "metadata": {},
          "execution_count": 98
        }
      ]
    },
    {
      "cell_type": "markdown",
      "source": [
        "# Functions"
      ],
      "metadata": {
        "id": "xuUyHMzVF1Rz"
      }
    },
    {
      "cell_type": "code",
      "source": [
        "def H(A, q, A0, beta):\n",
        "  return as_tensor([[0, 1], [beta / (2 * rho * A0) * A ** 0.5 - (q / A) ** 2, 2 * q / A]])\n",
        "\n",
        "def F(A, q, A0, beta):\n",
        "  return as_vector([q, beta / (3 * rho * A0) * A ** 1.5 - beta / (3 * rho) * A0 ** 0.5 + q ** 2 / A])\n",
        "\n",
        "def B(A, q):\n",
        "  return as_vector([0, k_r * q / A])\n",
        "\n",
        "def S(A, q):\n",
        "  return as_vector([0, k_r * q / A])\n",
        "\n",
        "def dS_dU(A, q):\n",
        "  return as_tensor([[0, 0], [- k_r * q / A ** 2, k_r / A]])"
      ],
      "metadata": {
        "id": "jAgHzjNSvYuj"
      },
      "execution_count": 99,
      "outputs": []
    },
    {
      "cell_type": "code",
      "source": [
        "def U(A, q):\n",
        "  return np.array([A, q])\n",
        "\n",
        "def H_vec(A, q, A0, beta):\n",
        "  return np.array([[0, 1], [beta / (2 * rho * A0) * A ** 0.5 - (q / A) ** 2, 2 * q / A]])\n",
        "\n",
        "def B_vec(A, q):\n",
        "  return np.array([0, k_r * q / A])\n",
        "\n",
        "def S_vec(A, q):\n",
        "  return np.array([0, k_r * q / A])\n",
        "\n",
        "def c_alpha(A, q, A0, beta, alpha = 1):\n",
        "  return (beta / (2 * rho * A0) * A ** 0.5 + (q / A) ** 2 * alpha * (alpha - 1)) ** 0.5\n",
        "\n",
        "def l1(A, q, A0, beta, alpha = 1):\n",
        "  return np.array([c_alpha(A, q, A0, beta, alpha) - alpha * q / A, 1.])\n",
        "\n",
        "def l2(A, q, A0, beta, alpha = 1):\n",
        "  return np.array([- c_alpha(A, q, A0, beta, alpha) - alpha * q / A, 1.])\n",
        "\n",
        "def CC(A, q, A0, beta, u_der, V_der, x):\n",
        "  du_dz = project(u_der, V_der)(x)\n",
        "  return U(A, q) - dt * H_vec(A, q, A0, beta) @ du_dz - dt * B_vec(A, q)"
      ],
      "metadata": {
        "id": "QetUIYLIe81R"
      },
      "execution_count": 100,
      "outputs": []
    },
    {
      "cell_type": "code",
      "source": [
        "def inlet_bc(A, q, A0, beta, u_der, V_der, x):\n",
        "  q_inlet = (np.dot(l2(A(x), q(x), A0, beta), CC(A(x), q(x), A0, beta, u_der, V_der, x)) - l2(A(x), q(x), A0, beta)[0] * U(A(x), q(x))[0] ) / l2(A(x), q(x), A0, beta)[1]\n",
        "\n",
        "  return q_inlet\n",
        "\n",
        "def outlet_bc(A, q, A0, beta, u_der, V_der, x):\n",
        "  matrix = np.array([[1, -1], [c_alpha(A(x), q(x), A0, beta, alpha) + alpha * q(x) / A(x), c_alpha(A(x), q(x), A0, beta, alpha) - alpha * q(x) / A(x)]])\n",
        "  array = np.array([np.dot(l1(A(x), q(x), A0, beta), CC(A(x), q(x), A0, beta, u_der, V_der, x)), np.dot(l2(A(x), q(x), A0, beta), U(A(x), q(x)) - dt * S_vec(A(x), q(x)))])\n",
        "\n",
        "  A_out, q_out = matrix @ array / (2 * c_alpha(A(x), q(x), A0, beta, alpha))\n",
        "\n",
        "  return A_out, q_out"
      ],
      "metadata": {
        "id": "gGb-E24uOvf6"
      },
      "execution_count": 101,
      "outputs": []
    },
    {
      "cell_type": "markdown",
      "source": [
        "# Definition of the variational problem"
      ],
      "metadata": {
        "id": "S1ONKZfn5sJn"
      }
    },
    {
      "cell_type": "code",
      "source": [
        "def local_branch_solution(bc, V, A_old, q_old, A0, beta):\n",
        "  # Define trial functions and test functions\n",
        "  A, q = TrialFunctions(V)\n",
        "  v, z = TestFunctions(V)\n",
        "  uh = Function(V)\n",
        "\n",
        "  a, l = LinearProblem(A, q, v, z, A_old, q_old, A0, beta)\n",
        "  solve(a == l, uh, bc)\n",
        "\n",
        "  return uh"
      ],
      "metadata": {
        "id": "yREIztqTvd7D"
      },
      "execution_count": 102,
      "outputs": []
    },
    {
      "cell_type": "code",
      "source": [
        "# Define the variational problem\n",
        "def LinearProblem(A, q, v, z, A_old, q_old, A0, beta):\n",
        "  a = inner(A, v) * dx + inner(q, z) * dx\n",
        "\n",
        "  l = (\n",
        "        A_old * v * dx\n",
        "      + q_old * z * dx\n",
        "      + dt * ((F(A_old, q_old, A0, beta) - dt / 2 * dot(H(A_old, q_old, A0, beta), S(A_old, q_old))))[0] * v.dx(0) * dx\n",
        "      + dt * ((F(A_old, q_old, A0, beta) - dt / 2 * dot(H(A_old, q_old, A0, beta), S(A_old, q_old))))[1] * z.dx(0) * dx\n",
        "      + dt ** 2 / 2 * (dot(dS_dU(A_old, q_old), F(A_old, q_old, A0, beta).dx(0)))[0] * v * dx\n",
        "      + dt ** 2 / 2 * (dot(dS_dU(A_old, q_old), F(A_old, q_old, A0, beta).dx(0)))[1] * z * dx\n",
        "      - dt ** 2 / 2 * (dot(H(A_old, q_old, A0, beta), F(A_old, q_old, A0, beta).dx(0)))[0] * v.dx(0) * dx\n",
        "      - dt ** 2 / 2 * (dot(H(A_old, q_old, A0, beta), F(A_old, q_old, A0, beta).dx(0)))[1] * z.dx(0) * dx\n",
        "      - dt * (S(A_old, q_old) - dt / 2 * dot(dS_dU(A_old, q_old), S(A_old, q_old)))[0] * v * dx\n",
        "      - dt * (S(A_old, q_old) - dt / 2 * dot(dS_dU(A_old, q_old), S(A_old, q_old)))[1] * z * dx\n",
        "  )\n",
        "\n",
        "  return a, l"
      ],
      "metadata": {
        "id": "WxOkORNyxP5_"
      },
      "execution_count": 103,
      "outputs": []
    },
    {
      "cell_type": "markdown",
      "source": [
        "# Branching"
      ],
      "metadata": {
        "id": "H_DaGcSGXm-5"
      }
    },
    {
      "cell_type": "code",
      "source": [
        "def C_A_in(A, q, A0, beta, gamma):\n",
        "  return beta / (2 * rho * A0 * sqrt(A)) - (q ** 2 / A ** 3) * (1 - 2 * gamma * np.sign(q))\n",
        "\n",
        "def C_q_in(A, q, A0, gamma):\n",
        "  return (q / A ** 2) * (1 - 2 * gamma * np.sign(q))\n",
        "\n",
        "def b_in(A, q, A0, beta, gamma):\n",
        "  return beta / rho * (A - 2 * sqrt(A * A0)) / (2 * A0 * sqrt(A)) + 0.5 * (q / A) ** 2 * (1 - 2 * gamma * np.sign(q))\n",
        "\n",
        "def C_A_out(A, q, A0, alpha, beta, gamma):\n",
        "  return beta / (2 * rho * A0 * sqrt(A)) - (q ** 2 / A ** 3) * (1 + 2 * gamma * sqrt(2 * (1 - cos(alpha))) * np.sign(q))\n",
        "\n",
        "def C_q_out(A, q, A0, alpha, gamma):\n",
        "  return (q / A ** 2) * (1 + 2 * gamma * sqrt(2 * (1 - cos(alpha))) * np.sign(q))\n",
        "\n",
        "def b_out(A, q, A0, alpha, beta, gamma):\n",
        "  return beta / rho * (A - 2 * sqrt(A * A0)) / (2 * A0 * sqrt(A)) + 0.5 * (q / A) ** 2 * (1 + 2 * gamma * sqrt(2 * (1 - cos(alpha))) * np.sign(q))"
      ],
      "metadata": {
        "id": "-NfVuobPapzd"
      },
      "execution_count": 104,
      "outputs": []
    },
    {
      "cell_type": "code",
      "source": [
        "def compute_branch_value(Ah_1, Ah_2, Ah_3, qh_1, qh_2, qh_3, uh_old_1, uh_old_2, uh_old_3, x_branch, toll):\n",
        "\n",
        "  A_branch_old_1 = Ah_1(x_branch)\n",
        "  A_branch_old_2 = Ah_2(x_branch)\n",
        "  A_branch_old_3 = Ah_3(x_branch)\n",
        "\n",
        "  q_branch_old_1 = qh_1(x_branch)\n",
        "  q_branch_old_2 = qh_2(x_branch)\n",
        "  q_branch_old_3 = qh_3(x_branch)\n",
        "\n",
        "  A_branch_0_1 = A_branch_old_1\n",
        "  A_branch_0_2 = A_branch_old_2\n",
        "  A_branch_0_3 = A_branch_old_3\n",
        "\n",
        "  q_branch_0_1 = q_branch_old_1\n",
        "  q_branch_0_2 = q_branch_old_2\n",
        "  q_branch_0_3 = q_branch_old_3\n",
        "\n",
        "  err = float('inf')\n",
        "  iter = 0\n",
        "\n",
        "  while (err > toll) & (iter < 100):\n",
        "\n",
        "    iter += 1\n",
        "\n",
        "    lhs = np.zeros((6, 6))\n",
        "    rhs = np.zeros(6)\n",
        "\n",
        "    lhs[0, 3] =  1\n",
        "    lhs[0, 4] = -1\n",
        "    lhs[0, 5] = -1\n",
        "\n",
        "    lhs[1, 0] =   C_A_in(A_branch_old_1, q_branch_old_1, A0_1, beta_1, gamma_1)\n",
        "    lhs[1, 1] = - C_A_out(A_branch_old_2, q_branch_old_2, A0_2, alpha_2, beta_2, gamma_2)\n",
        "    lhs[1, 3] =   C_q_in(A_branch_old_1, q_branch_old_1, A0_1, gamma_1)\n",
        "    lhs[1, 4] = - C_q_out(A_branch_old_2, q_branch_old_2, A0_2, alpha_2, gamma_2)\n",
        "\n",
        "    lhs[2, 0] =   C_A_in(A_branch_old_1, q_branch_old_1, A0_1, beta_1, gamma_1)\n",
        "    lhs[2, 2] = - C_A_out(A_branch_old_3, q_branch_old_3, A0_3, alpha_3, beta_3, gamma_3)\n",
        "    lhs[2, 3] =   C_q_in(A_branch_old_1, q_branch_old_1, A0_1, gamma_1)\n",
        "    lhs[2, 5] = - C_q_out(A_branch_old_3, q_branch_old_3, A0_3, alpha_3, gamma_3)\n",
        "\n",
        "    lhs[3, 0] = l1(A_branch_0_1, q_branch_0_1, A0_1, beta_1)[0]\n",
        "    lhs[3, 3] = l1(A_branch_0_1, q_branch_0_1, A0_1, beta_1)[1]\n",
        "\n",
        "    lhs[4, 1] = l2(A_branch_0_2, q_branch_0_2, A0_2, beta_2)[0]\n",
        "    lhs[4, 4] = l2(A_branch_0_2, q_branch_0_2, A0_2, beta_2)[1]\n",
        "\n",
        "    lhs[5, 2] = l2(A_branch_0_3, q_branch_0_3, A0_3, beta_3)[0]\n",
        "    lhs[5, 5] = l2(A_branch_0_3, q_branch_0_3, A0_3, beta_3)[1]\n",
        "\n",
        "    rhs[1] = b_out(A_branch_old_2, q_branch_old_2, A0_2, alpha_2, beta_2, gamma_2) - b_in(A_branch_old_1, q_branch_old_1, A0_1, beta_1, gamma_1)\n",
        "    rhs[2] = b_out(A_branch_old_3, q_branch_old_3, A0_3, alpha_3, beta_3, gamma_3) - b_in(A_branch_old_1, q_branch_old_1, A0_1, beta_1, gamma_1)\n",
        "    rhs[3] = np.dot(l1(A_branch_0_1, q_branch_0_1, A0_1, beta_1), CC(A_branch_0_1, q_branch_0_1, A0_1, beta_1, uh_old_1.dx(0), V_der_1, x_branch))\n",
        "    rhs[4] = np.dot(l2(A_branch_0_2, q_branch_0_2, A0_2, beta_2), CC(A_branch_0_2, q_branch_0_2, A0_2, beta_2, uh_old_2.dx(0), V_der_2, x_branch))\n",
        "    rhs[5] = np.dot(l2(A_branch_0_3, q_branch_0_3, A0_3, beta_3), CC(A_branch_0_3, q_branch_0_3, A0_3, beta_3, uh_old_3.dx(0), V_der_3, x_branch))\n",
        "\n",
        "    A_branch_1, A_branch_2, A_branch_3, q_branch_1, q_branch_2, q_branch_3 = np.linalg.solve(lhs, rhs)\n",
        "\n",
        "    if (q_branch_0_1 == 0) or (q_branch_0_2 == 0) or (q_branch_0_3 == 0):\n",
        "      err = abs(A_branch_1 - A_branch_old_1) / A_branch_0_1 + abs(A_branch_2 - A_branch_old_2) / A_branch_0_2 + abs(A_branch_3 - A_branch_old_3) / A_branch_0_3 \\\n",
        "          + abs(q_branch_1 - q_branch_old_1) + abs(q_branch_2 - q_branch_old_2) + abs(q_branch_3 - q_branch_old_3)\n",
        "    else:\n",
        "      err = abs(A_branch_1 - A_branch_old_1) / A_branch_0_1 + abs(A_branch_2 - A_branch_old_2) / A_branch_0_2 + abs(A_branch_3 - A_branch_old_3) / A_branch_0_3 \\\n",
        "          + abs(q_branch_1 - q_branch_old_1) / q_branch_0_1 + abs(q_branch_2 - q_branch_old_2) / q_branch_0_2 + abs(q_branch_3 - q_branch_old_3) / q_branch_0_3\n",
        "\n",
        "    # err = abs(A_branch_1 - A_branch_old_1) / A_branch_0_1 + abs(A_branch_2 - A_branch_old_2) / A_branch_0_2 + abs(A_branch_3 - A_branch_old_3) / A_branch_0_3 \\\n",
        "    #     + abs(q_branch_1 - q_branch_old_1) + abs(q_branch_2 - q_branch_old_2) + abs(q_branch_3 - q_branch_old_3)\n",
        "\n",
        "    A_branch_old_1 = A_branch_1\n",
        "    A_branch_old_2 = A_branch_2\n",
        "    A_branch_old_3 = A_branch_3\n",
        "\n",
        "    q_branch_old_1 = q_branch_1\n",
        "    q_branch_old_2 = q_branch_2\n",
        "    q_branch_old_3 = q_branch_3\n",
        "\n",
        "  res_2, res_3 = check_non_linear_system(A_branch_1, A_branch_2, A_branch_3, q_branch_1, q_branch_2, q_branch_3)\n",
        "  #print(res_2, res_3)\n",
        "\n",
        "  return A_branch_1, A_branch_2, A_branch_3, q_branch_1, q_branch_2, q_branch_3, err, iter"
      ],
      "metadata": {
        "id": "lpDIcX7veJ7z"
      },
      "execution_count": 110,
      "outputs": []
    },
    {
      "cell_type": "code",
      "source": [
        "def g_1(A, q, gamma):\n",
        "  return gamma * (q / A) ** 2\n",
        "\n",
        "def g_i(A, q, gamma, alpha):\n",
        "  return gamma * (q / A) ** 2 * sqrt(2 * (1 - cos(alpha)))\n",
        "\n",
        "def check_non_linear_system(A1, A2, A3, q1, q2, q3):\n",
        "  res_2 = beta_1 / (rho * A0_1) * (sqrt(A1) - sqrt(A0_1)) + 0.5 * (q1 / A1) ** 2 - np.sign(q1 / A1) * g_1(A1, q1, gamma_1) \\\n",
        "       - beta_2 / (rho * A0_2) * (sqrt(A2) - sqrt(A0_2)) - 0.5 * (q2 / A2) ** 2 - np.sign(q2 / A2) * g_i(A2, q2, gamma_2, alpha_2)\n",
        "  res_3 = beta_1 / (rho * A0_1) * (sqrt(A1) - sqrt(A0_1)) + 0.5 * (q1 / A1) ** 2 - np.sign(q1 / A1) * g_1(A1, q1, gamma_1) \\\n",
        "       - beta_3 / (rho * A0_3) * (sqrt(A3) - sqrt(A0_3)) - 0.5 * (q3 / A3) ** 2 - np.sign(q3 / A3) * g_i(A3, q3, gamma_3, alpha_3)\n",
        "\n",
        "  return res_2, res_3"
      ],
      "metadata": {
        "id": "wJPag_qkNuP2"
      },
      "execution_count": 111,
      "outputs": []
    },
    {
      "cell_type": "markdown",
      "source": [
        "# Initial guess"
      ],
      "metadata": {
        "id": "YHQzLzas5kvm"
      }
    },
    {
      "cell_type": "code",
      "source": [
        "# Define initial guess\n",
        "A0_1 = 0.126\n",
        "A0_2 = 0.126\n",
        "A0_3 = 0.126\n",
        "\n",
        "q0_1 = 0\n",
        "q0_2 = 0\n",
        "q0_3 = 0\n",
        "\n",
        "uh_old_1 = interpolate(Expression(('A0', 'q0'), degree = 1, A0 = A0_1, q0 = q0_1), V_1)\n",
        "uh_old_2 = interpolate(Expression(('A0', 'q0'), degree = 1, A0 = A0_2, q0 = q0_2), V_2)\n",
        "uh_old_3 = interpolate(Expression(('A0', 'q0'), degree = 1, A0 = A0_3, q0 = q0_3), V_3)\n",
        "\n",
        "Ah_old_1, qh_old_1 = uh_old_1.split()\n",
        "Ah_old_2, qh_old_2 = uh_old_2.split()\n",
        "Ah_old_3, qh_old_3 = uh_old_3.split()"
      ],
      "metadata": {
        "id": "esD4LK44w0i2"
      },
      "execution_count": 138,
      "outputs": []
    },
    {
      "cell_type": "markdown",
      "source": [
        "# Boundary conditon"
      ],
      "metadata": {
        "id": "QVltIsZA9Amg"
      }
    },
    {
      "cell_type": "code",
      "source": [
        "beta_1 = 0.060606e7\n",
        "beta_2 = 0.060606e7\n",
        "beta_3 = 0.060606e7\n",
        "\n",
        "gamma_1 = 0 # see https://www.researchgate.net/publication/37445437_One-dimensional_models_for_blood_flow_in_arteries pag 12 for reference values\n",
        "gamma_2 = 2\n",
        "gamma_3 = 2\n",
        "\n",
        "alpha_2 = pi / 3\n",
        "alpha_3 = pi / 4"
      ],
      "metadata": {
        "id": "W2ZI4sOV-ZBg"
      },
      "execution_count": 139,
      "outputs": []
    },
    {
      "cell_type": "code",
      "source": [
        "# Boundary condition\n",
        "inlet = 'near(x[0], 0)'\n",
        "branch = 'near(x[0], 1)'\n",
        "outlet_1 = 'near(x[0], 2)'\n",
        "outlet_2 = 'near(x[0], 3)'\n",
        "\n",
        "A_inlet = Ah_old_1(x_inlet)\n",
        "q_inlet = inlet_bc(Ah_old_1, qh_old_1, A0_1, beta_1, uh_old_1.dx(0), V_der_1, x_inlet)\n",
        "\n",
        "A_outlet_1, q_outlet_1 = outlet_bc(Ah_old_2, qh_old_2, A0_2, beta_2, uh_old_2.dx(0), V_der_2, x_outlet_1)\n",
        "A_outlet_2, q_outlet_2 = outlet_bc(Ah_old_3, qh_old_3, A0_3, beta_3, uh_old_3.dx(0), V_der_3, x_outlet_2)\n",
        "\n",
        "A_branch_1, A_branch_2, A_branch_3, q_branch_1, q_branch_2, q_branch_3, err, iter = compute_branch_value(Ah_old_1, Ah_old_2, Ah_old_3, qh_old_1, qh_old_2, qh_old_3, uh_old_1, uh_old_2, uh_old_3,x_branch, 1e-4)\n",
        "\n",
        "print(f'A inlet = {A_inlet}, q inlet = {q_inlet}, A_1 branch = {A_branch_1}, q_1 branch = {q_branch_1}')\n",
        "print(f'A_2 branch = {A_branch_2}, q_2 branch = {q_branch_2}, A outlet_1 = {A_outlet_1}, q outlet_1 = {q_outlet_1}')\n",
        "print(f'A_3 branch = {A_branch_3}, q_3 branch = {q_branch_3}, A outlet_2 = {A_outlet_2}, q outlet_2 = {q_outlet_2}')"
      ],
      "metadata": {
        "id": "2L9oYGWP9Y3m",
        "outputId": "cf24144e-2645-43c5-a623-eb11f07189f3",
        "colab": {
          "base_uri": "https://localhost:8080/"
        }
      },
      "execution_count": 140,
      "outputs": [
        {
          "output_type": "stream",
          "name": "stdout",
          "text": [
            "A inlet = 0.126, q inlet = 0.0, A_1 branch = 0.12599999999999997, q_1 branch = -4.736951571734001e-15\n",
            "A_2 branch = 0.12599999999999997, q_2 branch = 4.736951571734001e-15, A outlet_1 = 0.126, q outlet_1 = -2.316961079421611e-15\n",
            "A_3 branch = 0.12599999999999997, q_3 branch = -9.473903143468002e-15, A outlet_2 = 0.126, q outlet_2 = -2.316961079421611e-15\n"
          ]
        }
      ]
    },
    {
      "cell_type": "code",
      "source": [
        "def update_bc(A_inlet, q_inlet, A_outlet_1, q_outlet_1, A_outlet_2, q_outlet_2, A_branch_1, A_branch_2, A_branch_3, q_branch_1, q_branch_2, q_branch_3):\n",
        "\n",
        "  bc_A_inlet    = DirichletBC(V_1.sub(0), A_inlet, inlet)\n",
        "  bc_q_inlet    = DirichletBC(V_1.sub(1), q_inlet, inlet)\n",
        "  bc_A_branch_1 = DirichletBC(V_1.sub(0), A_branch_1, branch)\n",
        "  bc_q_branch_1 = DirichletBC(V_1.sub(1), q_branch_1, branch)\n",
        "\n",
        "  bc_A_branch_2 = DirichletBC(V_2.sub(0), A_branch_2, branch)\n",
        "  bc_q_branch_2 = DirichletBC(V_2.sub(1), q_branch_2, branch)\n",
        "  bc_A_outlet_1 = DirichletBC(V_2.sub(0), A_outlet_1, outlet_1)\n",
        "  bc_q_outlet_1 = DirichletBC(V_2.sub(1), q_outlet_1, outlet_1)\n",
        "\n",
        "  bc_A_branch_3 = DirichletBC(V_3.sub(0), A_branch_3, branch)\n",
        "  bc_q_branch_3 = DirichletBC(V_3.sub(1), q_branch_3, branch)\n",
        "  bc_A_outlet_2 = DirichletBC(V_3.sub(0), A_outlet_2, outlet_2)\n",
        "  bc_q_outlet_2 = DirichletBC(V_3.sub(1), q_outlet_2, outlet_2)\n",
        "\n",
        "  bc_1 = [bc_A_inlet, bc_q_inlet, bc_A_branch_1, bc_q_branch_1]\n",
        "  bc_2 = [bc_A_outlet_1, bc_q_outlet_1, bc_A_branch_2, bc_q_branch_2]\n",
        "  bc_3 = [bc_A_outlet_2, bc_q_outlet_2, bc_A_branch_3, bc_q_branch_3]\n",
        "\n",
        "  return bc_1, bc_2, bc_3\n",
        "\n",
        "bc_1, bc_2, bc_3 = update_bc(A_inlet, q_inlet, A_outlet_1, q_outlet_1, A_outlet_2, q_outlet_2, A_branch_1, A_branch_2, A_branch_3, q_branch_1, q_branch_2, q_branch_3)"
      ],
      "metadata": {
        "id": "3SvUCbmX832C"
      },
      "execution_count": 141,
      "outputs": []
    },
    {
      "cell_type": "markdown",
      "source": [
        "# Solution"
      ],
      "metadata": {
        "id": "VTDgFTAo5vsV"
      }
    },
    {
      "cell_type": "code",
      "source": [
        "# Time stepping\n",
        "t = 0\n",
        "\n",
        "for n in tqdm(range(round(num_steps))):\n",
        "\n",
        "  # Update time step\n",
        "  t += dt\n",
        "\n",
        "  # Solve the problem\n",
        "  uh_1 = local_branch_solution(bc_1, V_1, Ah_old_1, qh_old_1, A0_1, beta_1)\n",
        "  uh_2 = local_branch_solution(bc_2, V_2, Ah_old_2, qh_old_2, A0_2, beta_2)\n",
        "  uh_3 = local_branch_solution(bc_3, V_3, Ah_old_3, qh_old_3, A0_3, beta_3)\n",
        "\n",
        "  Ah_1, qh_1 = uh_1.split(deepcopy = True)\n",
        "  Ah_2, qh_2 = uh_2.split(deepcopy = True)\n",
        "  Ah_3, qh_3 = uh_3.split(deepcopy = True)\n",
        "\n",
        "  # Update previous solution\n",
        "  Ah_old_1.assign(Ah_1)\n",
        "  qh_old_1.assign(qh_1)\n",
        "  Ah_old_2.assign(Ah_2)\n",
        "  qh_old_2.assign(qh_2)\n",
        "  Ah_old_3.assign(Ah_3)\n",
        "  qh_old_3.assign(qh_3)\n",
        "\n",
        "  # Update bc\n",
        "  A_inlet = A0_1 + 0.01 * sin(2 * pi * t)\n",
        "  q_inlet = inlet_bc(Ah_1, qh_1, A0_1, beta_1, uh_1.dx(0), V_der_1, x_inlet)\n",
        "\n",
        "  A_outlet_1, q_outlet_1 = outlet_bc(Ah_2, qh_2, A0_2, beta_2, uh_2.dx(0), V_der_2, x_outlet_1)\n",
        "  A_outlet_2, q_outlet_2 = outlet_bc(Ah_3, qh_3, A0_3, beta_3, uh_3.dx(0), V_der_3, x_outlet_2)\n",
        "\n",
        "  A_branch_1, A_branch_2, A_branch_3, q_branch_1, q_branch_2, q_branch_3, err, iter = compute_branch_value(Ah_1, Ah_2, Ah_3, qh_1, qh_2, qh_3, uh_1, uh_2, uh_3, x_branch, 1e-5)\n",
        "\n",
        "  bc_1, bc_2, bc_3 = update_bc(A_inlet, q_inlet, A_outlet_1, q_outlet_1, A_outlet_2, q_outlet_2, A_branch_1, A_branch_2, A_branch_3, q_branch_1, q_branch_2, q_branch_3)\n",
        "\n",
        "  if(n % 100 == 0):\n",
        "    plot(Ah_2)\n",
        "    plt.show()\n",
        "    #print(f'At step {n} took {iter} iteration to impose the branching condition')\n",
        ""
      ],
      "metadata": {
        "id": "1g5fnjK7cA-T"
      },
      "execution_count": null,
      "outputs": []
    }
  ]
}