{
  "nbformat": 4,
  "nbformat_minor": 0,
  "metadata": {
    "colab": {
      "provenance": [],
      "mount_file_id": "https://github.com/Riky2014/Tesi/blob/main/1d_hemo_solver.ipynb",
      "authorship_tag": "ABX9TyNhzm/KIK8OAIcXzAR/tdvt",
      "include_colab_link": true
    },
    "kernelspec": {
      "name": "python3",
      "display_name": "Python 3"
    },
    "language_info": {
      "name": "python"
    }
  },
  "cells": [
    {
      "cell_type": "markdown",
      "metadata": {
        "id": "view-in-github",
        "colab_type": "text"
      },
      "source": [
        "<a href=\"https://colab.research.google.com/github/Riky2014/Tesi/blob/main/1d_hemo_solver_branch.ipynb\" target=\"_parent\"><img src=\"https://colab.research.google.com/assets/colab-badge.svg\" alt=\"Open In Colab\"/></a>"
      ]
    },
    {
      "cell_type": "code",
      "source": [
        "%%capture\n",
        "!apt-get install software-properties-common\n",
        "!add-apt-repository -y ppa:fenics-packages/fenics\n",
        "!apt-get update -qq\n",
        "!apt install fenics"
      ],
      "metadata": {
        "id": "Vk2md9CPA9f1"
      },
      "execution_count": 1,
      "outputs": []
    },
    {
      "cell_type": "code",
      "source": [
        "from fenics import *\n",
        "import numpy as np\n",
        "import matplotlib.pyplot as plt\n",
        "import logging\n",
        "\n",
        "# Set the logging level to suppress FFC messages\n",
        "logging.getLogger('UFL_LEGACY').setLevel(logging.WARNING)\n",
        "logging.getLogger('FFC').setLevel(logging.ERROR)"
      ],
      "metadata": {
        "id": "qzvdV-jaGZG6"
      },
      "execution_count": 2,
      "outputs": []
    },
    {
      "cell_type": "markdown",
      "source": [
        "# Data, Mesh and Function spaces"
      ],
      "metadata": {
        "id": "br10ska72pF5"
      }
    },
    {
      "cell_type": "code",
      "execution_count": 3,
      "metadata": {
        "id": "uYE6EYza9Az2"
      },
      "outputs": [],
      "source": [
        "# Data\n",
        "x_inlet = 0.\n",
        "x_branch = 1.0\n",
        "x_outlet_1 = 2.0\n",
        "x_outlet_2 = 3.0\n",
        "T = 1\n",
        "\n",
        "alpha = 1\n",
        "k_r = 2.416e-4\n",
        "rho = 1.05\n",
        "\n",
        "# Discretization parameter\n",
        "dt = 1e-5\n",
        "num_steps = T / dt\n",
        "\n",
        "h_1 = 1 / 256\n",
        "h_2 = 1 / 256\n",
        "h_3 = 1 / 256\n",
        "N_1 = int((x_branch - x_inlet) / h_1)\n",
        "N_2 = int((x_outlet_1 - x_branch) / h_2)\n",
        "N_3 = int((x_outlet_2 - x_branch) / h_3)\n",
        "\n",
        "#  Create a mesh on the interval [0, 1], [1, 2] and [1, 3].\n",
        "mesh_1 = IntervalMesh(N_1, x_inlet, x_branch)\n",
        "mesh_2 = IntervalMesh(N_2, x_branch, x_outlet_1)\n",
        "mesh_3 = IntervalMesh(N_3, x_branch, x_outlet_2)\n",
        "\n",
        "# Define the function space\n",
        "P1_1 = FiniteElement('P', mesh_1.ufl_cell(), 1)\n",
        "P1_2 = FiniteElement('P', mesh_2.ufl_cell(), 1)\n",
        "P1_3 = FiniteElement('P', mesh_3.ufl_cell(), 1)\n",
        "element_1 = MixedElement([P1_1, P1_1])\n",
        "element_2 = MixedElement([P1_2, P1_2])\n",
        "element_3 = MixedElement([P1_3, P1_3])\n",
        "V_1 = FunctionSpace(mesh_1, element_1)\n",
        "V_2 = FunctionSpace(mesh_2, element_2)\n",
        "V_3 = FunctionSpace(mesh_3, element_3)\n",
        "\n",
        "# Derivative function space\n",
        "D1_1 = FiniteElement('DG', mesh_1.ufl_cell(), 0)\n",
        "D1_2 = FiniteElement('DG', mesh_2.ufl_cell(), 0)\n",
        "D1_3 = FiniteElement('DG', mesh_3.ufl_cell(), 0)\n",
        "element_der_1 = MixedElement([D1_1, D1_1])\n",
        "element_der_2 = MixedElement([D1_2, D1_2])\n",
        "element_der_3 = MixedElement([D1_3, D1_3])\n",
        "V_der_1 = FunctionSpace(mesh_1, element_der_1)\n",
        "V_der_2 = FunctionSpace(mesh_2, element_der_2)\n",
        "V_der_3 = FunctionSpace(mesh_3, element_der_3)"
      ]
    },
    {
      "cell_type": "markdown",
      "source": [
        "# Functions"
      ],
      "metadata": {
        "id": "xuUyHMzVF1Rz"
      }
    },
    {
      "cell_type": "code",
      "source": [
        "def H(A, q):\n",
        "  return as_tensor([[0, 1], [1190476.19048 * A ** 0.5 - (q / A) ** 2, 2 * q / A]])\n",
        "\n",
        "def F(A, q):\n",
        "  return as_vector([q, 793650.79365 * A ** 1.5 - 6.34921 + q ** 2 / A])\n",
        "\n",
        "def B(A, q):\n",
        "  return as_vector([0, k_r * q / A])\n",
        "\n",
        "def S(A, q):\n",
        "  return as_vector([0, k_r * q / A])\n",
        "\n",
        "def dS_dU(A, q):\n",
        "  return as_tensor([[0, 0], [- k_r * q / A ** 2, k_r / A]])"
      ],
      "metadata": {
        "id": "jAgHzjNSvYuj"
      },
      "execution_count": 4,
      "outputs": []
    },
    {
      "cell_type": "code",
      "source": [
        "def U(A, q):\n",
        "  return np.array([A, q])\n",
        "\n",
        "def H_vec(A, q):\n",
        "  return np.array([[0, 1], [1190476.19048 * A ** 0.5 - (q / A) ** 2, 2 * q / A]])\n",
        "\n",
        "def B_vec(A, q):\n",
        "  return np.array([0, k_r * q / A])\n",
        "\n",
        "def S_vec(A, q):\n",
        "  return np.array([0, k_r * q / A])\n",
        "\n",
        "def c_alpha(A, q, alpha = 1):\n",
        "  return (1190476.19048 * A ** 0.5 + (q / A) ** 2 * alpha * (alpha - 1)) ** 0.5\n",
        "\n",
        "def l1(A, q, alpha = 1):\n",
        "  return np.array([c_alpha(A, q, alpha) - alpha * q / A, 1.])\n",
        "\n",
        "def l2(A, q, alpha = 1):\n",
        "  return np.array([- c_alpha(A, q, alpha) - alpha * q / A, 1.])\n",
        "\n",
        "def CC(A, q, u_der, V_der, x):\n",
        "  du_dz = project(u_der, V_der)(x)\n",
        "  return U(A, q) - dt * H_vec(A, q) @ du_dz - dt * B_vec(A, q)"
      ],
      "metadata": {
        "id": "QetUIYLIe81R"
      },
      "execution_count": 5,
      "outputs": []
    },
    {
      "cell_type": "code",
      "source": [
        "def inlet_bc(A, q, u_der, V_der, x):\n",
        "  q_inlet = (np.dot(l2(A(x), q(x)), CC(A(x), q(x), u_der, V_der, x)) - l2(A(x), q(x))[0] * U(A(x), q(x))[0] ) / l2(A(x), q(x))[1]\n",
        "\n",
        "  return q_inlet\n",
        "\n",
        "def outlet_bc(A, q, u_der, V_der, x):\n",
        "  matrix = np.array([[1, -1], [c_alpha(A(x), q(x), alpha) + alpha * q(x) / A(x), c_alpha(A(x), q(x), alpha) - alpha * q(x) / A(x)]])\n",
        "  array = np.array([np.dot(l1(A(x), q(x)), CC(A(x), q(x), u_der, V_der, x)), np.dot(l2(A(x), q(x)), U(A(x), q(x)) - dt * S_vec(A(x), q(x)))])\n",
        "\n",
        "  A_out, q_out = matrix @ array / (2 * c_alpha(A(x), q(x)))\n",
        "\n",
        "  return A_out, q_out"
      ],
      "metadata": {
        "id": "gGb-E24uOvf6"
      },
      "execution_count": 6,
      "outputs": []
    },
    {
      "cell_type": "code",
      "source": [
        "def update_time_step(t, dt):\n",
        "  t += dt\n",
        "  q_exact.t = t\n",
        "  A_exact.t = t\n",
        "  dU_dt.t = t\n",
        "  S.t = t\n",
        "  dF_dx.t = t\n",
        "  dU_dt_dt.t = t\n",
        "  dS_dt.t = t\n",
        "  dF_dx_dt.t = t\n",
        "\n",
        "  return t"
      ],
      "metadata": {
        "id": "2iK6LOGHt9EX"
      },
      "execution_count": 7,
      "outputs": []
    },
    {
      "cell_type": "code",
      "source": [
        "def plot_solution():\n",
        "  fig, ax = plt.subplots(2, 2, figsize=(12, 12))\n",
        "  ax = ax.flatten()\n",
        "\n",
        "  # Format t to print only the first 4 digits\n",
        "  formatted_t = \"{:.5f}\".format(t)\n",
        "\n",
        "  # Plot for Area\n",
        "  ax[0].plot(Ah.compute_vertex_values(mesh), label='Approximation')\n",
        "  ax[0].plot(A_ex.compute_vertex_values(mesh), label='Exact')\n",
        "  ax[0].set_title(f'Area, t = {formatted_t}')\n",
        "  ax[0].set_xlabel(f'N = {N}, h = {h},  dt = {dt}')\n",
        "  ax[0].legend()\n",
        "\n",
        "  ax[2].plot(np.abs(Ah.compute_vertex_values(mesh) - A_ex.compute_vertex_values(mesh)))\n",
        "  ax[2].set_title(f'Error')\n",
        "  ax[2].set_xlabel(f'N = {N}, h = {h},  dt = {dt}')\n",
        "\n",
        "  # Plot for Flux\n",
        "  ax[1].plot(qh.compute_vertex_values(mesh) - np.mean(qh.compute_vertex_values(mesh)), label='Approximation')\n",
        "  ax[1].plot(q_ex.compute_vertex_values(mesh), label='Exact')\n",
        "  ax[1].set_title(f'Flux, t = {formatted_t}')\n",
        "  ax[1].set_xlabel(f'N = {N}, h = {h},  dt = {dt}')\n",
        "  ax[1].legend()\n",
        "\n",
        "  ax[3].plot(np.abs(qh.compute_vertex_values(mesh) - q_ex.compute_vertex_values(mesh) - np.mean(qh.compute_vertex_values(mesh))))\n",
        "  ax[3].set_title(f'Error')\n",
        "  ax[3].set_xlabel(f'N = {N}, h = {h},  dt = {dt}')\n",
        "\n",
        "  plt.show()"
      ],
      "metadata": {
        "id": "ssbL42MdxO9k"
      },
      "execution_count": 8,
      "outputs": []
    },
    {
      "cell_type": "markdown",
      "source": [
        "# Initial guess and boundary conditions"
      ],
      "metadata": {
        "id": "YHQzLzas5kvm"
      }
    },
    {
      "cell_type": "code",
      "source": [
        "# Define initial guess\n",
        "A0_1 = 4e-4\n",
        "q0_1 = 0\n",
        "A0_2 = 4e-4\n",
        "q0_2 = 0\n",
        "A0_3 = 4e-4\n",
        "q0_3 = 0\n",
        "\n",
        "uh_old_1 = interpolate(Expression(('A0', 'q0'), degree = 1, A0 = A0, q0 = q0), V_1)\n",
        "uh_old_2 = interpolate(Expression(('A0', 'q0'), degree = 1, A0 = A0, q0 = q0), V_2)\n",
        "uh_old_3 = interpolate(Expression(('A0', 'q0'), degree = 1, A0 = A0, q0 = q0), V_3)\n",
        "\n",
        "Ah_old_1, qh_old_1 = uh_old_1.split()\n",
        "Ah_old_2, qh_old_2 = uh_old_2.split()\n",
        "Ah_old_3, qh_old_3 = uh_old_3.split()"
      ],
      "metadata": {
        "id": "esD4LK44w0i2"
      },
      "execution_count": 15,
      "outputs": []
    },
    {
      "cell_type": "code",
      "source": [
        "# Boundary condition\n",
        "inlet = 'near(x[0], 0)'\n",
        "branch = 'near(x[0], 1)'\n",
        "outlet_1 = 'near(x[0], 2)'\n",
        "outlet_2 = 'near(x[0], 3)'\n",
        "\n",
        "A_inlet = Ah_old_1(x_inlet)\n",
        "q_inlet = inlet_bc(Ah_old_1, qh_old_1, uh_old_1.dx(0), V_der_1, x_inlet)\n",
        "\n",
        "A_outlet_1, q_outlet_1 = outlet_bc(Ah_old_2, qh_old_2, uh_old_2.dx(0), V_der_2, x_outlet_1)\n",
        "A_outlet_2, q_outlet_2 = outlet_bc(Ah_old_3, qh_old_3, uh_old_3.dx(0), V_der_3, x_outlet_2)\n",
        "\n",
        "print(f'A inlet = {A_inlet}, q inlet = {q_inlet}')\n",
        "print(f'A outlet_1 = {A_outlet_1}, q outlet_1 = {q_outlet_1}')\n",
        "print(f'A outlet_2 = {A_outlet_2}, q outlet_2 = {q_outlet_2}')\n",
        "\n",
        "\n",
        "def update_bc(A_inlet, q_inlet, A_outlet_1, q_outlet_1, A_outlet_2, q_outlet_2):\n",
        "  bc_A_inlet = DirichletBC(V_1.sub(0), A_inlet, inlet)\n",
        "  bc_q_inlet = DirichletBC(V_1.sub(1), q_inlet, inlet)\n",
        "\n",
        "  bc_A_outlet_1 = DirichletBC(V_2.sub(0), A_outlet_1, outlet_1)\n",
        "  bc_q_outlet_1 = DirichletBC(V_2.sub(1), q_outlet_1, outlet_1)\n",
        "\n",
        "  bc_A_outlet_2 = DirichletBC(V_3.sub(0), A_outlet_2, outlet_2)\n",
        "  bc_q_outlet_2 = DirichletBC(V_3.sub(1), q_outlet_2, outlet_2)\n",
        "\n",
        "  bc = [bc_A_inlet, bc_q_inlet, bc_A_outlet_1, bc_q_outlet_1, bc_A_outlet_2, bc_q_outlet_2]\n",
        "\n",
        "  return bc\n",
        "\n",
        "bc = update_bc(A_inlet, q_inlet, A_outlet_1, q_outlet_1, A_outlet_2, q_outlet_2)"
      ],
      "metadata": {
        "id": "RbRHZ7RSkohh",
        "outputId": "4d3869bb-29dd-4467-dbf9-6b03f3545b3e",
        "colab": {
          "base_uri": "https://localhost:8080/"
        }
      },
      "execution_count": 13,
      "outputs": [
        {
          "output_type": "stream",
          "name": "stdout",
          "text": [
            "A inlet = 0.0004, q inlet = 0.0\n",
            "A outlet_1 = 0.0004, q outlet_1 = 1.0787279841584405e-18\n",
            "A outlet_2 = 0.0004, q outlet_2 = 1.0787279841584405e-18\n"
          ]
        }
      ]
    },
    {
      "cell_type": "markdown",
      "source": [
        "# Definition of the variational problem"
      ],
      "metadata": {
        "id": "S1ONKZfn5sJn"
      }
    },
    {
      "cell_type": "code",
      "source": [
        "# Define the variational problem\n",
        "def LinearProblem(A, q, v, z, V, A_old, q_old):\n",
        "  a = inner(A, v) * dx + inner(q, z) * dx\n",
        "\n",
        "  l = (\n",
        "        A_old * v * dx\n",
        "      + q_old * z * dx\n",
        "      + dt * ((F(A_old, q_old) - dt / 2 * dot(H(A_old, q_old), S(A_old, q_old))))[0] * v.dx(0) * dx\n",
        "      + dt * ((F(A_old, q_old) - dt / 2 * dot(H(A_old, q_old), S(A_old, q_old))))[1] * z.dx(0) * dx\n",
        "      + dt ** 2 / 2 * (dot(dS_dU(A_old, q_old), F(A_old, q_old).dx(0)))[0] * v * dx\n",
        "      + dt ** 2 / 2 * (dot(dS_dU(A_old, q_old), F(A_old, q_old).dx(0)))[1] * z * dx\n",
        "      - dt ** 2 / 2 * (dot(H(A_old, q_old), F(A_old, q_old).dx(0)))[0] * v.dx(0) * dx\n",
        "      - dt ** 2 / 2 * (dot(H(A_old, q_old), F(A_old, q_old).dx(0)))[1] * z.dx(0) * dx\n",
        "      - dt * (S(A_old, q_old) - dt / 2 * dot(dS_dU(A_old, q_old), S(A_old, q_old)))[0] * v * dx\n",
        "      - dt * (S(A_old, q_old) - dt / 2 * dot(dS_dU(A_old, q_old), S(A_old, q_old)))[1] * z * dx\n",
        "  )\n",
        "\n",
        "  return a, l"
      ],
      "metadata": {
        "id": "WxOkORNyxP5_"
      },
      "execution_count": null,
      "outputs": []
    },
    {
      "cell_type": "markdown",
      "source": [
        "# Single branch problem"
      ],
      "metadata": {
        "id": "whp_PKe_vaxz"
      }
    },
    {
      "cell_type": "code",
      "source": [
        "def local_branch_solution(V, A_old, q_old):\n",
        "  # Define trial functions and test functions\n",
        "  A, q = TrialFunctions(V)\n",
        "  v, z = TestFunctions(V)\n",
        "\n",
        "  a, l = LinearProblem(A, q, v, z, V, A_old, q_old)\n",
        "  A = assemble(a)\n",
        "  L = assemble(l)\n",
        "\n",
        "  return A, L"
      ],
      "metadata": {
        "id": "yREIztqTvd7D"
      },
      "execution_count": null,
      "outputs": []
    },
    {
      "cell_type": "markdown",
      "source": [
        "# Branching"
      ],
      "metadata": {
        "id": "H_DaGcSGXm-5"
      }
    },
    {
      "cell_type": "code",
      "source": [
        "K_1 = 50e3\n",
        "K_2 = 50e3\n",
        "K_3 = 50e3\n",
        "\n",
        "beta_1 = K_1 / sqrt(A0_1)\n",
        "beta_2 = K_2 / sqrt(A0_2)\n",
        "beta_3 = K_3 / sqrt(A0_3)\n",
        "\n",
        "gamma_1 = 0\n",
        "gamma_2 = 2\n",
        "gamma_3 = 2\n",
        "\n",
        "alpha_2 = pi / 4\n",
        "alpha_3 = pi / 3"
      ],
      "metadata": {
        "id": "zCPBjXC3XpDU"
      },
      "execution_count": 61,
      "outputs": []
    },
    {
      "cell_type": "code",
      "source": [
        "def C_A_in(A, q, A0, beta, gamma):\n",
        "  return beta / (2 * rho * A0 * sqrt(A)) - (q ** 2 / A ** 3) * (1 - 2 * gamma * np.sign(q))\n",
        "\n",
        "def C_q_in(A, q, A0, gamma):\n",
        "  return (q / A ** 2) * (1 - 2 * gamma * np.sign(q))\n",
        "\n",
        "def b_in(A, q, A0, beta, gamma):\n",
        "  return beta / rho * (A - 2 * sqrt(A * A0)) / (2 * A0 * sqrt(A)) + 0.5 * (q / A) ** 2 * (1 - 2 * gamma * np.sign(q))\n",
        "\n",
        "def C_A_out(A, q, A0, alpha, beta, gamma):\n",
        "  return beta / (2 * rho * A0 * sqrt(A)) - (q ** 2 / A ** 3) * (1 + 2 * gamma * sqrt(2 * (1 - cos(alpha))) * np.sign(q))\n",
        "\n",
        "def C_q_out(A, q, A0, alpha, gamma):\n",
        "  return (q / A ** 2) * (1 + 2 * gamma * sqrt(2 * (1 - cos(alpha))) * np.sign(q))\n",
        "\n",
        "def b_out(A, q, A0, alpha, beta, gamma):\n",
        "  return beta / rho * (A - 2 * sqrt(A * A0)) / (2 * A0 * sqrt(A)) + 0.5 * (q / A) ** 2 * (1 + 2 * gamma * sqrt(2 * (1 - cos(alpha))) * np.sign(q))"
      ],
      "metadata": {
        "id": "-NfVuobPapzd"
      },
      "execution_count": 62,
      "outputs": []
    },
    {
      "cell_type": "code",
      "source": [
        "A_branch_old_1 = Ah_old_1(x_branch)\n",
        "A_branch_old_2 = Ah_old_2(x_branch)\n",
        "A_branch_old_3 = Ah_old_3(x_branch)\n",
        "\n",
        "q_branch_old_1 = qh_old_1(x_branch)\n",
        "q_branch_old_2 = qh_old_2(x_branch)\n",
        "q_branch_old_3 = qh_old_3(x_branch)\n",
        "\n",
        "lhs = np.zeros((6, 6))\n",
        "rhs = np.zeros(6)\n",
        "\n",
        "lhs[0, 3] =  1\n",
        "lhs[0, 4] = -1\n",
        "lhs[0, 5] = -1\n",
        "\n",
        "lhs[1, 0] =   C_A_in(A_branch_old_1, q_branch_old_1, A0_1, beta_1, gamma_1)\n",
        "lhs[1, 1] = - C_A_out(A_branch_old_2, q_branch_old_2, A0_2, alpha_2, beta_2, gamma_2)\n",
        "lhs[1, 3] =   C_q_in(A_branch_old_1, q_branch_old_1, A0_1, gamma_1)\n",
        "lhs[1, 4] = - C_q_out(A_branch_old_2, q_branch_old_2, A0_2, alpha_2, gamma_2)\n",
        "\n",
        "lhs[2, 0] =   C_A_in(A_branch_old_1, q_branch_old_1, A0_1, beta_1, gamma_1)\n",
        "lhs[2, 2] = - C_A_out(A_branch_old_3, q_branch_old_3, A0_3, alpha_3, beta_3, gamma_3)\n",
        "lhs[2, 3] =   C_q_in(A_branch_old_1, q_branch_old_1, A0_1, gamma_1)\n",
        "lhs[2, 5] = - C_q_out(A_branch_old_3, q_branch_old_3, A0_3, alpha_3, gamma_3)\n",
        "\n",
        "lhs[3, 0] = l1(A_branch_old_1, q_branch_old_1)[0]\n",
        "lhs[3, 3] = l1(A_branch_old_1, q_branch_old_1)[1]\n",
        "\n",
        "lhs[4, 1] = l2(A_branch_old_2, q_branch_old_2)[0]\n",
        "lhs[4, 4] = l2(A_branch_old_2, q_branch_old_2)[1]\n",
        "\n",
        "lhs[5, 2] = l2(A_branch_old_3, q_branch_old_3)[0]\n",
        "lhs[5, 5] = l2(A_branch_old_3, q_branch_old_3)[1]\n",
        "\n",
        "rhs[1] = b_out(A_branch_old_2, q_branch_old_2, A0_2, alpha_2, beta_2, gamma_2) - b_in(A_branch_old_1, q_branch_old_1, A0_1, beta_1, gamma_1)\n",
        "rhs[2] = b_out(A_branch_old_3, q_branch_old_3, A0_3, alpha_3, beta_3, gamma_3) - b_in(A_branch_old_1, q_branch_old_1, A0_1, beta_1, gamma_1)\n",
        "rhs[3] = np.dot(l1(A_branch_old_1, q_branch_old_1), CC(A_branch_old_1, q_branch_old_1, uh_old_1.dx(0), V_der_1, x_branch))\n",
        "rhs[4] = np.dot(l2(A_branch_old_2, q_branch_old_2), CC(A_branch_old_2, q_branch_old_2, uh_old_2.dx(0), V_der_2, x_branch))\n",
        "rhs[5] = np.dot(l2(A_branch_old_3, q_branch_old_3), CC(A_branch_old_3, q_branch_old_3, uh_old_3.dx(0), V_der_3, x_branch))\n",
        "\n",
        "A_branch_1, A_branch_2, A_branch_3, q_branch_1, q_branch_2, q_branch_3 = np.linalg.solve(lhs, rhs)\n",
        "A_branch_1, A_branch_2, A_branch_3, q_branch_1, q_branch_2, q_branch_3"
      ],
      "metadata": {
        "id": "lpDIcX7veJ7z",
        "outputId": "a8963a1d-b1b1-46b2-87ac-2134011bf521",
        "colab": {
          "base_uri": "https://localhost:8080/"
        }
      },
      "execution_count": 63,
      "outputs": [
        {
          "output_type": "execute_result",
          "data": {
            "text/plain": [
              "(0.0004, 0.0004, 0.0004, 0.0, 0.0, 0.0)"
            ]
          },
          "metadata": {},
          "execution_count": 63
        }
      ]
    },
    {
      "cell_type": "markdown",
      "source": [
        "# Solution"
      ],
      "metadata": {
        "id": "VTDgFTAo5vsV"
      }
    },
    {
      "cell_type": "code",
      "source": [
        "# Time stepping\n",
        "uh = Function(V)\n",
        "q_zero_mean = Function(V.sub(1).collapse())\n",
        "t = 0\n",
        "i = 0\n",
        "\n",
        "global_error_A = 0\n",
        "global_error_q = 0\n",
        "\n",
        "for n in range(round(num_steps)):\n",
        "\n",
        "  i +=1\n",
        "\n",
        "  # Update time step\n",
        "  t = update_time_step(t, dt)\n",
        "  f_n = project(f, V)\n",
        "  df_dt_n = project(df_dt, V)\n",
        "\n",
        "  # Solve the problem\n",
        "  a, L = LinearProblem(Ah_old, qh_old)\n",
        "  solve(a == L, uh, bc)\n",
        "  Ah, qh = uh.split(deepcopy = True)\n",
        "\n",
        "  A_ex = interpolate(A_exact, V_ex.sub(0).collapse())\n",
        "  q_ex = interpolate(q_exact, V_ex.sub(1).collapse())\n",
        "  q_zero_mean.assign(qh)\n",
        "  q_zero_mean.vector()[:] -= assemble(qh*dx)/assemble(1*dx(domain=mesh))\n",
        "  error = np.array([errornorm(Ah, A_ex, 'L2'), errornorm(q_zero_mean, q_ex, 'L2')])\n",
        "\n",
        "  if error[0] > global_error_A:\n",
        "    global_error_A = error[0]\n",
        "\n",
        "  if error[1] > global_error_q:\n",
        "    global_error_q = error[1]\n",
        "\n",
        "  # Compute errors\n",
        "  if (i % 1000 == 0):\n",
        "    plot_solution()\n",
        "    print(f'Interation {i} / {round(num_steps)}')\n",
        "    print(f't = %.4f: error = {error}' % (t))\n",
        "    print(f'Global error A = {global_error_A}, Global error q = {global_error_q}')\n",
        "    print()\n",
        "\n",
        "  # Update previous solution\n",
        "  Ah_old.assign(Ah)\n",
        "  qh_old.assign(qh)\n",
        "\n",
        "  q_inlet = inlet_bc(Ah_old, qh_old, uh.dx(0))\n",
        "  A_outlet, q_outlet = outlet_bc(Ah_old, qh_old, uh.dx(0))\n",
        "  bc = update_bc(A_inlet, q_inlet, A_outlet, q_outlet)\n",
        "\n",
        "print(f'N = {N}, h = {h}, dt = {dt} : Global error A = {global_error_A}, Global error q = {global_error_q}')"
      ],
      "metadata": {
        "id": "1g5fnjK7cA-T"
      },
      "execution_count": null,
      "outputs": []
    },
    {
      "cell_type": "code",
      "source": [
        "error_A.append(global_error_A)\n",
        "error_q.append(global_error_q)\n",
        "error_A, error_q"
      ],
      "metadata": {
        "id": "FF27UiVbBBZi"
      },
      "execution_count": null,
      "outputs": []
    },
    {
      "cell_type": "markdown",
      "source": [
        "# Space convergence"
      ],
      "metadata": {
        "id": "By2FxKfYtSrE"
      }
    },
    {
      "cell_type": "code",
      "source": [
        "h_vec = [1 / (2 ** i) for i in range(5, 9)]\n",
        "dt = 1e-5\n",
        "num_steps = T / dt\n",
        "\n",
        "error_A = []\n",
        "error_q = []\n",
        "\n",
        "for h in h_vec:\n",
        "  print(f'h = {h}, dt = {dt}')\n",
        "  print()\n",
        "\n",
        "  N = int((x_outlet - x_inlet) / h)\n",
        "\n",
        "  mesh = IntervalMesh(N, x_inlet, x_outlet)\n",
        "  x = MeshCoordinates(mesh)\n",
        "\n",
        "  V = FunctionSpace(mesh, element)\n",
        "  V_der = FunctionSpace(mesh, element_der)\n",
        "  V_ex = FunctionSpace(mesh, element_exact)\n",
        "\n",
        "  f_n = project(f, V)\n",
        "  df_dt_n = project(df_dt, V)\n",
        "\n",
        "  uh_old = interpolate(Expression(('A_tilde + a_tilde * sin(2 * pi / L * x[0])', 'q0'), degree = 2, A_tilde = A_tilde, a_tilde = a_tilde, L = L, q0 = q0), V)\n",
        "  Ah_old, qh_old = uh_old.split()\n",
        "\n",
        "  bc_A_inlet = DirichletBC(V.sub(0), A_inlet, inlet)\n",
        "  bc_q_inlet = DirichletBC(V.sub(1), q_inlet, inlet)\n",
        "  bc_A_outlet = DirichletBC(V.sub(0), A_outlet, outlet)\n",
        "  bc_q_outlet = DirichletBC(V.sub(1), q_outlet, outlet)\n",
        "\n",
        "  bc = [bc_A_inlet, bc_q_inlet, bc_A_outlet, bc_q_outlet]\n",
        "\n",
        "  A, q = TrialFunctions(V)\n",
        "  v, z = TestFunctions(V)\n",
        "\n",
        "  uh = Function(V)\n",
        "  t = 0\n",
        "  i = 0\n",
        "\n",
        "  global_error_A = 0\n",
        "  global_error_q = 0\n",
        "\n",
        "  for n in range(round(num_steps)):\n",
        "\n",
        "    i +=1\n",
        "\n",
        "    # Update time step\n",
        "    t = update_time_step(t, dt)\n",
        "    f_n = project(f, V)\n",
        "    df_dt_n = project(df_dt, V)\n",
        "\n",
        "    # Solve the problem\n",
        "    a, L = LinearProblem(Ah_old, qh_old)\n",
        "    solve(a == L, uh, bc)\n",
        "    Ah, qh = uh.split(deepcopy = True)\n",
        "\n",
        "    A_e = interpolate(A_exact, V_ex.sub(0).collapse())\n",
        "    q_ex = interpolate(q_exact, V_ex.sub(1).collapse())\n",
        "    q_zero_mean.assign(qh)\n",
        "    q_zero_mean.vector()[:] -= assemble(qh*dx)/assemble(1*dx(domain=mesh))\n",
        "    error = np.array([errornorm(Ah, A_ex, 'L2'), errornorm(q_zero_mean, q_ex, 'L2')])\n",
        "\n",
        "    if error[0] > global_error_A:\n",
        "      global_error_A = error[0]\n",
        "\n",
        "    if error[1] > global_error_q:\n",
        "      global_error_q = error[1]\n",
        "\n",
        "    # Compute errors\n",
        "    if (i % 1000 == 0):\n",
        "      print(f'Interation {i} / {round(num_steps)}')\n",
        "      print(f't = %.4f: error = {error}' % (t))\n",
        "      print(f'Global error A = {global_error_A}, Global error q = {global_error_q}')\n",
        "      print()\n",
        "\n",
        "    if (i % 10000 == 0):\n",
        "      plot_solution()\n",
        "\n",
        "    # Update previous solution\n",
        "    Ah_old.assign(Ah)\n",
        "    qh_old.assign(qh)\n",
        "\n",
        "    q_inlet = inlet_bc(Ah_old, qh_old, uh.dx(0))\n",
        "    A_outlet, q_outlet = outlet_bc(Ah_old, qh_old, uh.dx(0))\n",
        "    bc = update_bc(A_inlet, q_inlet, A_outlet, q_outlet)\n",
        "\n",
        "  print(f'N = {N}, h = {h}, dt = {dt} : Global error A = {global_error_A}, Global error q = {global_error_q}')\n",
        "  error_A.append(global_error_A)\n",
        "  error_q.append(global_error_q)"
      ],
      "metadata": {
        "id": "jehq-2optVoa"
      },
      "execution_count": null,
      "outputs": []
    },
    {
      "cell_type": "code",
      "source": [
        "h_vec = np.array([1/32, 1 /64, 1/128, 1/256])\n",
        "\n",
        "fig, ax = plt.subplots(2, 2, figsize=(12, 12))\n",
        "ax = ax.flatten()\n",
        "\n",
        "# Plot for Area\n",
        "ax[0].plot(error_A)\n",
        "ax[0].set_title('Area')\n",
        "ax[0].set_xlabel(f'h = {h_vec},  dt = {dt}')\n",
        "ax[0].set_ylabel('Error')\n",
        "\n",
        "ax[2].loglog(h_vec / h_vec[0], error_A / error_A[0], label = 'L^2 Error')\n",
        "ax[2].loglog(h_vec / h_vec[0], h_vec / h_vec[0], linestyle = '--', label = 'h')\n",
        "ax[2].loglog(h_vec / h_vec[0], (h_vec / h_vec[0])**2, linestyle = '--', label ='h^2')\n",
        "ax[2].set_xlabel('h')\n",
        "ax[2].set_ylabel('Error')\n",
        "ax[2].set_title('Area')\n",
        "ax[2].legend()\n",
        "\n",
        "# Plot for Flux\n",
        "ax[1].plot(error_q)\n",
        "ax[1].set_title('Flux')\n",
        "ax[1].set_xlabel(f'h = {h_vec},  dt = {dt}')\n",
        "ax[1].set_ylabel('Error')\n",
        "\n",
        "ax[3].loglog(h_vec / h_vec[0], error_q / error_q[0], label = 'L^2 Error')\n",
        "ax[3].loglog(h_vec / h_vec[0], h_vec / h_vec[0], linestyle = '--', label = 'h')\n",
        "ax[3].loglog(h_vec / h_vec[0], (h_vec / h_vec[0])**2, linestyle = '--', label = 'h^2')\n",
        "ax[3].set_xlabel('h')\n",
        "ax[3].set_ylabel('Error')\n",
        "ax[3].set_title('Flux')\n",
        "ax[3].legend()"
      ],
      "metadata": {
        "id": "s2rQfxl-vbaN"
      },
      "execution_count": null,
      "outputs": []
    },
    {
      "cell_type": "markdown",
      "source": [
        "# Time convergence"
      ],
      "metadata": {
        "id": "xxVzu8xl1ATo"
      }
    },
    {
      "cell_type": "code",
      "source": [
        "# Time stepping\n",
        "h = 1 / 32\n",
        "dt_vec = 1e-4 * np.array([1, 1/2, 1/4, 1/8])\n",
        "error_A = []\n",
        "error_q = []\n",
        "\n",
        "for dt in dt_vec:\n",
        "  print(f'dt = {dt}')\n",
        "  print()\n",
        "\n",
        "  uh = Function(V)\n",
        "  t = 0\n",
        "  i = 0\n",
        "\n",
        "  global_error_A = 0\n",
        "  global_error_q = 0\n",
        "\n",
        "  num_steps = T / dt\n",
        "\n",
        "  for n in range(round(num_steps)):\n",
        "\n",
        "    i +=1\n",
        "\n",
        "    # Update time step\n",
        "    t = update_time_step(t, dt)\n",
        "    f_n = project(f, V)\n",
        "    df_dt_n = project(df_dt, V)\n",
        "\n",
        "    # Solve the problem\n",
        "    a, L = LinearProblem(Ah_old, qh_old)\n",
        "    solve(a == L, uh, bc)\n",
        "    Ah, qh = uh.split(deepcopy = True)\n",
        "\n",
        "    A_ex = interpolate(A_exact, V_ex.sub(0).collapse())\n",
        "    q_ex = interpolate(q_exact, V_ex.sub(1).collapse())\n",
        "    q_zero_mean.assign(qh)\n",
        "    q_zero_mean.vector()[:] -= assemble(qh*dx)/assemble(1*dx(domain=mesh))\n",
        "    error = np.array([errornorm(Ah, A_ex, 'L2'), errornorm(q_zero_mean, q_ex, 'L2')])\n",
        "\n",
        "    if error[0] > global_error_A:\n",
        "      global_error_A = error[0]\n",
        "\n",
        "    if error[1] > global_error_q:\n",
        "      global_error_q = error[1]\n",
        "\n",
        "    # Compute errors\n",
        "    if (i % 1000 == 0):\n",
        "      print(f'Interation {i} / {round(num_steps)}')\n",
        "      print(f't = %.4f: error = {error}' % (t))\n",
        "      print(f'Global error A = {global_error_A}, Global error q = {global_error_q}')\n",
        "      print()\n",
        "\n",
        "    if (i % 10000 == 0):\n",
        "      plot_solution()\n",
        "\n",
        "    # Update previous solution\n",
        "    Ah_old.assign(Ah)\n",
        "    qh_old.assign(qh)\n",
        "\n",
        "    q_inlet = inlet_bc(Ah_old, qh_old, uh.dx(0))\n",
        "    A_outlet, q_outlet = outlet_bc(Ah_old, qh_old, uh.dx(0))\n",
        "    bc = update_bc(A_inlet, q_inlet, A_outlet, q_outlet)\n",
        "\n",
        "  error_A.append(global_error_A)\n",
        "  error_q.append(global_error_q)"
      ],
      "metadata": {
        "id": "tlETBGGN1DlL"
      },
      "execution_count": null,
      "outputs": []
    },
    {
      "cell_type": "code",
      "source": [
        "dt_vec = 1e-4 * np.array([1, 1/2, 1/4, 1/8])\n",
        "fig, ax = plt.subplots(2, 2, figsize=(12, 12))\n",
        "ax = ax.flatten()\n",
        "\n",
        "# Plot for Area\n",
        "ax[0].plot(error_A)\n",
        "ax[0].set_title('Area')\n",
        "ax[0].set_xlabel(f'h = {h},  dt = {dt_vec}')\n",
        "ax[0].set_ylabel('Error')\n",
        "\n",
        "ax[2].loglog(dt_vec / dt_vec[0], error_A / error_A[0], label = 'L^2 Error')\n",
        "ax[2].loglog(dt_vec / dt_vec[0], dt_vec / dt_vec[0], linestyle = '--', label = 'dt')\n",
        "ax[2].loglog(dt_vec / dt_vec[0], (dt_vec / dt_vec[0])**2, linestyle = '--', label ='dt^2')\n",
        "ax[2].set_xlabel('dt')\n",
        "ax[2].set_ylabel('Error')\n",
        "ax[2].set_title('Area')\n",
        "ax[2].legend()\n",
        "\n",
        "# Plot for Flux\n",
        "ax[1].plot(error_q)\n",
        "ax[1].set_title('Flux')\n",
        "ax[1].set_xlabel(f'h = {h},  dt = {dt_vec}')\n",
        "ax[1].set_ylabel('Error')\n",
        "\n",
        "ax[3].loglog(dt_vec / dt_vec[0], error_q / error_q[0], label = 'L^2 Error')\n",
        "ax[3].loglog(dt_vec / dt_vec[0], dt_vec / dt_vec[0], linestyle = '--', label = 'dt')\n",
        "ax[3].loglog(dt_vec / dt_vec[0], (dt_vec / dt_vec[0])**2, linestyle = '--', label = 'dt^2')\n",
        "ax[3].set_xlabel('dt')\n",
        "ax[3].set_ylabel('Error')\n",
        "ax[3].set_title('Flux')\n",
        "ax[3].legend()"
      ],
      "metadata": {
        "id": "snqaktAlZm0R"
      },
      "execution_count": null,
      "outputs": []
    }
  ]
}