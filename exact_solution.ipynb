{
  "nbformat": 4,
  "nbformat_minor": 0,
  "metadata": {
    "colab": {
      "provenance": [],
      "authorship_tag": "ABX9TyNbrfifwHu21LKwecA+sEBS",
      "include_colab_link": true
    },
    "kernelspec": {
      "name": "python3",
      "display_name": "Python 3"
    },
    "language_info": {
      "name": "python"
    }
  },
  "cells": [
    {
      "cell_type": "markdown",
      "metadata": {
        "id": "view-in-github",
        "colab_type": "text"
      },
      "source": [
        "<a href=\"https://colab.research.google.com/github/Riky2014/Tesi/blob/main/exact_solution.ipynb\" target=\"_parent\"><img src=\"https://colab.research.google.com/assets/colab-badge.svg\" alt=\"Open In Colab\"/></a>"
      ]
    },
    {
      "cell_type": "markdown",
      "source": [
        "# Linear"
      ],
      "metadata": {
        "id": "SdLVK8kEHVpU"
      }
    },
    {
      "cell_type": "code",
      "source": [
        "import numpy as np\n",
        "import sympy as sym\n",
        "\n",
        "a_tilde = 1\n",
        "K_tilde = 1 # 50e3\n",
        "Pe_tilde = 0.0\n",
        "m = 1 # 0.5\n",
        "n = 0\n",
        "rho = 1 # 1.05\n",
        "K_r = 1 # 2.4160e-4\n",
        "\n",
        "x, t = sym.symbols('x, t')\n",
        "A_sym, q_sym = sym.symbols('A, q')\n",
        "\n",
        "A = a_tilde + x - 3*t\n",
        "\n",
        "q = 1 + x - 3*t\n",
        "\n",
        "K = K_tilde\n",
        "\n",
        "Pe = Pe_tilde\n",
        "\n",
        "A0 = a_tilde\n",
        "\n",
        "Psi = K * ((A_sym / A0) ** m - (A_sym / A0) ** n)\n",
        "\n",
        "U = sym.Matrix([A, q])"
      ],
      "metadata": {
        "id": "3isS3i_lHaYf"
      },
      "execution_count": null,
      "outputs": []
    },
    {
      "cell_type": "code",
      "source": [
        "H = sym.Matrix([[0, 1], [A_sym / rho * sym.diff(Psi, A_sym) - (q_sym / A_sym) ** 2 , 2 * q_sym / A_sym]])\n",
        "B = sym.Matrix([0, K_r * q_sym / A_sym])\n",
        "C1 = sym.integrate(A_sym / rho * sym.diff(Psi, A_sym), (A_sym, A0, A_sym))\n",
        "F = sym.Matrix([q_sym, q_sym ** 2/ A_sym + C1])\n",
        "S = B\n",
        "F = F.subs({A_sym: A, q_sym: q})\n",
        "S = S.subs({A_sym: A, q_sym: q})"
      ],
      "metadata": {
        "id": "lxakDk-0H2Cb"
      },
      "execution_count": null,
      "outputs": []
    },
    {
      "cell_type": "code",
      "source": [
        "H_np = np.array(H.subs({A_sym: 1.5, q_sym: 0.5}), dtype=float)\n",
        "\n",
        "# Compute eigenvalues\n",
        "eigenvalues = np.linalg.eigvals(H_np)\n",
        "eigenvalues"
      ],
      "metadata": {
        "colab": {
          "base_uri": "https://localhost:8080/"
        },
        "id": "n633gig8J2O0",
        "outputId": "d3afbf8f-7d6c-4cf5-e23f-a795e99bfa41"
      },
      "execution_count": null,
      "outputs": [
        {
          "output_type": "execute_result",
          "data": {
            "text/plain": [
              "array([-0.89141154,  1.5580782 ])"
            ]
          },
          "metadata": {},
          "execution_count": 70
        }
      ]
    },
    {
      "cell_type": "code",
      "source": [
        "dU_dt = sym.diff(U, t)\n",
        "dF_dx = sym.diff(F, x)\n",
        "\n",
        "dU_dt_dt = sym.diff(dU_dt, t)\n",
        "dS_dt = sym.diff(S, t)\n",
        "dF_dx_dt = sym.diff(dF_dx, t)"
      ],
      "metadata": {
        "id": "jJF9X96TIVnW"
      },
      "execution_count": null,
      "outputs": []
    },
    {
      "cell_type": "code",
      "source": [
        "dU_dt, dF_dx, S"
      ],
      "metadata": {
        "id": "JHJkXYrBLg_H",
        "outputId": "e6322d3d-c3a9-47b8-9d5c-3ce345481dcc",
        "colab": {
          "base_uri": "https://localhost:8080/"
        }
      },
      "execution_count": null,
      "outputs": [
        {
          "output_type": "execute_result",
          "data": {
            "text/plain": [
              "(Matrix([\n",
              " [2*exp(2*t + 2*x)],\n",
              " [2*exp(2*t + 2*x)]]),\n",
              " Matrix([\n",
              " [                                        2*exp(2*t + 2*x)],\n",
              " [2*(exp(2*t + 2*x) + 1)*exp(2*t + 2*x) + 2*exp(2*t + 2*x)]]),\n",
              " Matrix([\n",
              " [0],\n",
              " [1]]))"
            ]
          },
          "metadata": {},
          "execution_count": 72
        }
      ]
    },
    {
      "cell_type": "code",
      "source": [
        "f = dU_dt + dF_dx + S\n",
        "f"
      ],
      "metadata": {
        "colab": {
          "base_uri": "https://localhost:8080/",
          "height": 58
        },
        "outputId": "12babbc0-9fbf-4157-bd3a-e24f11a29867",
        "id": "hkvY5if_IVnj"
      },
      "execution_count": null,
      "outputs": [
        {
          "output_type": "execute_result",
          "data": {
            "text/plain": [
              "Matrix([\n",
              "[                                            4*exp(2*t + 2*x)],\n",
              "[2*(exp(2*t + 2*x) + 1)*exp(2*t + 2*x) + 4*exp(2*t + 2*x) + 1]])"
            ],
            "text/latex": "$\\displaystyle \\left[\\begin{matrix}4 e^{2 t + 2 x}\\\\2 \\left(e^{2 t + 2 x} + 1\\right) e^{2 t + 2 x} + 4 e^{2 t + 2 x} + 1\\end{matrix}\\right]$"
          },
          "metadata": {},
          "execution_count": 73
        }
      ]
    },
    {
      "cell_type": "code",
      "source": [
        "df_dt = sym.diff(f, t)\n",
        "df_dt"
      ],
      "metadata": {
        "outputId": "c2270f2f-df65-47f2-829d-d06a825acd38",
        "colab": {
          "base_uri": "https://localhost:8080/",
          "height": 68
        },
        "id": "6JY8n4ODIVnk"
      },
      "execution_count": null,
      "outputs": [
        {
          "output_type": "execute_result",
          "data": {
            "text/plain": [
              "Matrix([\n",
              "[                                                                                                                                                                                                    1],\n",
              "[2*t**3*x**3/(t*x + 1)**3 - 5*t**2*x**2/(t*x + 1)**2 - 0.0002416*t*x**2/(t*x + 1)**2 + 11904.7619047619*t*x/(t*x + 1)**0.5 + 4*t*x/(t*x + 1) + 0.0002416*x/(t*x + 1) + 23809.5238095238*(t*x + 1)**0.5]])"
            ],
            "text/latex": "$\\displaystyle \\left[\\begin{matrix}1\\\\\\frac{2 t^{3} x^{3}}{\\left(t x + 1\\right)^{3}} - \\frac{5 t^{2} x^{2}}{\\left(t x + 1\\right)^{2}} - \\frac{0.0002416 t x^{2}}{\\left(t x + 1\\right)^{2}} + \\frac{11904.7619047619 t x}{\\left(t x + 1\\right)^{0.5}} + \\frac{4 t x}{t x + 1} + \\frac{0.0002416 x}{t x + 1} + 23809.5238095238 \\left(t x + 1\\right)^{0.5}\\end{matrix}\\right]$"
          },
          "metadata": {},
          "execution_count": 7
        }
      ]
    },
    {
      "cell_type": "markdown",
      "source": [
        "# Exponential"
      ],
      "metadata": {
        "id": "4UIEbs9TxZdM"
      }
    },
    {
      "cell_type": "code",
      "source": [
        "import numpy as np\n",
        "import sympy as sym\n",
        "\n",
        "a_tilde = 1\n",
        "K_tilde = 1 # 50e3\n",
        "Pe_tilde = 0.0\n",
        "m = 1 # 0.5\n",
        "n = 0\n",
        "rho = 1 # 1.05\n",
        "K_r = 1 # 2.4160e-4\n",
        "\n",
        "x, t = sym.symbols('x, t')\n",
        "A_sym, q_sym = sym.symbols('A, q')\n",
        "\n",
        "k = 1 #0.006\n",
        "c = 1 #150\n",
        "s = 1 #0\n",
        "sigma = 1 #0.1\n",
        "\n",
        "A = k * sym.exp(- (- x - c * t + s) ** 2 / sigma) + 1\n",
        "\n",
        "q = k * c * sym.exp(- (- x - c * t + s) ** 2 / sigma)\n",
        "\n",
        "K = K_tilde\n",
        "\n",
        "Pe = Pe_tilde\n",
        "\n",
        "A0 = a_tilde\n",
        "\n",
        "Psi = K * ((A_sym / A0) ** m - (A_sym / A0) ** n)\n",
        "\n",
        "U = sym.Matrix([A, q])"
      ],
      "metadata": {
        "id": "uwUXfS23xZdM"
      },
      "execution_count": null,
      "outputs": []
    },
    {
      "cell_type": "code",
      "source": [
        "H = sym.Matrix([[0, 1], [A_sym / rho * sym.diff(Psi, A_sym) - (q_sym / A_sym) ** 2 , 2 * q_sym / A_sym]])\n",
        "B = sym.Matrix([0, K_r * q_sym / A_sym])\n",
        "C1 = sym.integrate(A_sym / rho * sym.diff(Psi, A_sym), (A_sym, A0, A_sym))\n",
        "F = sym.Matrix([q_sym, q_sym ** 2/ A_sym + C1])\n",
        "S = B\n",
        "F = F.subs({A_sym: A, q_sym: q})\n",
        "S = S.subs({A_sym: A, q_sym: q})"
      ],
      "metadata": {
        "id": "M1yhn7GUxZdN"
      },
      "execution_count": null,
      "outputs": []
    },
    {
      "cell_type": "code",
      "source": [
        "H_np = np.array(H.subs({A_sym: 1.5, q_sym: 0.5}), dtype=float)\n",
        "\n",
        "# Compute eigenvalues\n",
        "eigenvalues = np.linalg.eigvals(H_np)\n",
        "eigenvalues"
      ],
      "metadata": {
        "colab": {
          "base_uri": "https://localhost:8080/"
        },
        "outputId": "3b712ecb-f75b-434a-90f3-a0ea82e5c5ae",
        "id": "Xf82wzuvxZdN"
      },
      "execution_count": null,
      "outputs": [
        {
          "output_type": "execute_result",
          "data": {
            "text/plain": [
              "array([-0.89141154,  1.5580782 ])"
            ]
          },
          "metadata": {},
          "execution_count": 3
        }
      ]
    },
    {
      "cell_type": "code",
      "source": [
        "dU_dt = sym.diff(U, t)\n",
        "dF_dx = sym.diff(F, x)\n",
        "\n",
        "dU_dt_dt = sym.diff(dU_dt, t)\n",
        "dS_dt = sym.diff(S, t)\n",
        "dF_dx_dt = sym.diff(dF_dx, t)"
      ],
      "metadata": {
        "id": "9OQGeZxExZdO"
      },
      "execution_count": null,
      "outputs": []
    },
    {
      "cell_type": "code",
      "source": [
        "f = dU_dt + dF_dx + S\n",
        "f"
      ],
      "metadata": {
        "colab": {
          "base_uri": "https://localhost:8080/",
          "height": 78
        },
        "outputId": "b0b74039-e86e-4bf7-db5b-2427d62b76bc",
        "id": "u1K6bZSoxZdP"
      },
      "execution_count": null,
      "outputs": [
        {
          "output_type": "execute_result",
          "data": {
            "text/plain": [
              "Matrix([\n",
              "[                                                                                                                                                                                                                                                                        2*(-2*t - 2*x + 2)*exp(-(-t - x + 1)**2)],\n",
              "[(1 + exp(-(-t - x + 1)**2))*(-2*t - 2*x + 2)*exp(-(-t - x + 1)**2) + (-2*t - 2*x + 2)*exp(-(-t - x + 1)**2) + (-4*t - 4*x + 4)*exp(-2*(-t - x + 1)**2)/(1 + exp(-(-t - x + 1)**2)) + exp(-(-t - x + 1)**2)/(1 + exp(-(-t - x + 1)**2)) - (-2*t - 2*x + 2)*exp(-3*(-t - x + 1)**2)/(1 + exp(-(-t - x + 1)**2))**2]])"
            ],
            "text/latex": "$\\displaystyle \\left[\\begin{matrix}2 \\left(- 2 t - 2 x + 2\\right) e^{- \\left(- t - x + 1\\right)^{2}}\\\\\\left(1 + e^{- \\left(- t - x + 1\\right)^{2}}\\right) \\left(- 2 t - 2 x + 2\\right) e^{- \\left(- t - x + 1\\right)^{2}} + \\left(- 2 t - 2 x + 2\\right) e^{- \\left(- t - x + 1\\right)^{2}} + \\frac{\\left(- 4 t - 4 x + 4\\right) e^{- 2 \\left(- t - x + 1\\right)^{2}}}{1 + e^{- \\left(- t - x + 1\\right)^{2}}} + \\frac{e^{- \\left(- t - x + 1\\right)^{2}}}{1 + e^{- \\left(- t - x + 1\\right)^{2}}} - \\frac{\\left(- 2 t - 2 x + 2\\right) e^{- 3 \\left(- t - x + 1\\right)^{2}}}{\\left(1 + e^{- \\left(- t - x + 1\\right)^{2}}\\right)^{2}}\\end{matrix}\\right]$"
          },
          "metadata": {},
          "execution_count": 6
        }
      ]
    },
    {
      "cell_type": "code",
      "source": [
        "df_dt = sym.diff(f, t)\n",
        "df_dt"
      ],
      "metadata": {
        "outputId": "2aa5b75f-911b-4e8f-b8f0-4f34eeb5fc2f",
        "colab": {
          "base_uri": "https://localhost:8080/",
          "height": 98
        },
        "id": "8rKlRsaexZdP"
      },
      "execution_count": null,
      "outputs": [
        {
          "output_type": "execute_result",
          "data": {
            "text/plain": [
              "Matrix([\n",
              "[                                                                                                                                                                                                                                                                                                                                                                                                                                                                                                                                                                                                                                                                                                                                                                                           2*(-2*t - 2*x + 2)**2*exp(-(-t - x + 1)**2) - 4*exp(-(-t - x + 1)**2)],\n",
              "[(1 + exp(-(-t - x + 1)**2))*(-2*t - 2*x + 2)**2*exp(-(-t - x + 1)**2) - 2*(1 + exp(-(-t - x + 1)**2))*exp(-(-t - x + 1)**2) + (-2*t - 2*x + 2)**2*exp(-(-t - x + 1)**2) + (-2*t - 2*x + 2)**2*exp(-2*(-t - x + 1)**2) - 2*exp(-(-t - x + 1)**2) + (-4*t - 4*x + 4)**2*exp(-2*(-t - x + 1)**2)/(1 + exp(-(-t - x + 1)**2)) + (-2*t - 2*x + 2)*exp(-(-t - x + 1)**2)/(1 + exp(-(-t - x + 1)**2)) - 4*exp(-2*(-t - x + 1)**2)/(1 + exp(-(-t - x + 1)**2)) - (-6*t - 6*x + 6)*(-2*t - 2*x + 2)*exp(-3*(-t - x + 1)**2)/(1 + exp(-(-t - x + 1)**2))**2 - (-4*t - 4*x + 4)*(-2*t - 2*x + 2)*exp(-3*(-t - x + 1)**2)/(1 + exp(-(-t - x + 1)**2))**2 - (-2*t - 2*x + 2)*exp(-2*(-t - x + 1)**2)/(1 + exp(-(-t - x + 1)**2))**2 + 2*exp(-3*(-t - x + 1)**2)/(1 + exp(-(-t - x + 1)**2))**2 + 2*(-2*t - 2*x + 2)**2*exp(-4*(-t - x + 1)**2)/(1 + exp(-(-t - x + 1)**2))**3]])"
            ],
            "text/latex": "$\\displaystyle \\left[\\begin{matrix}2 \\left(- 2 t - 2 x + 2\\right)^{2} e^{- \\left(- t - x + 1\\right)^{2}} - 4 e^{- \\left(- t - x + 1\\right)^{2}}\\\\\\left(1 + e^{- \\left(- t - x + 1\\right)^{2}}\\right) \\left(- 2 t - 2 x + 2\\right)^{2} e^{- \\left(- t - x + 1\\right)^{2}} - 2 \\cdot \\left(1 + e^{- \\left(- t - x + 1\\right)^{2}}\\right) e^{- \\left(- t - x + 1\\right)^{2}} + \\left(- 2 t - 2 x + 2\\right)^{2} e^{- \\left(- t - x + 1\\right)^{2}} + \\left(- 2 t - 2 x + 2\\right)^{2} e^{- 2 \\left(- t - x + 1\\right)^{2}} - 2 e^{- \\left(- t - x + 1\\right)^{2}} + \\frac{\\left(- 4 t - 4 x + 4\\right)^{2} e^{- 2 \\left(- t - x + 1\\right)^{2}}}{1 + e^{- \\left(- t - x + 1\\right)^{2}}} + \\frac{\\left(- 2 t - 2 x + 2\\right) e^{- \\left(- t - x + 1\\right)^{2}}}{1 + e^{- \\left(- t - x + 1\\right)^{2}}} - \\frac{4 e^{- 2 \\left(- t - x + 1\\right)^{2}}}{1 + e^{- \\left(- t - x + 1\\right)^{2}}} - \\frac{\\left(- 6 t - 6 x + 6\\right) \\left(- 2 t - 2 x + 2\\right) e^{- 3 \\left(- t - x + 1\\right)^{2}}}{\\left(1 + e^{- \\left(- t - x + 1\\right)^{2}}\\right)^{2}} - \\frac{\\left(- 4 t - 4 x + 4\\right) \\left(- 2 t - 2 x + 2\\right) e^{- 3 \\left(- t - x + 1\\right)^{2}}}{\\left(1 + e^{- \\left(- t - x + 1\\right)^{2}}\\right)^{2}} - \\frac{\\left(- 2 t - 2 x + 2\\right) e^{- 2 \\left(- t - x + 1\\right)^{2}}}{\\left(1 + e^{- \\left(- t - x + 1\\right)^{2}}\\right)^{2}} + \\frac{2 e^{- 3 \\left(- t - x + 1\\right)^{2}}}{\\left(1 + e^{- \\left(- t - x + 1\\right)^{2}}\\right)^{2}} + \\frac{2 \\left(- 2 t - 2 x + 2\\right)^{2} e^{- 4 \\left(- t - x + 1\\right)^{2}}}{\\left(1 + e^{- \\left(- t - x + 1\\right)^{2}}\\right)^{3}}\\end{matrix}\\right]$"
          },
          "metadata": {},
          "execution_count": 7
        }
      ]
    },
    {
      "cell_type": "markdown",
      "source": [
        "# Sinusoidal"
      ],
      "metadata": {
        "id": "AMpxpCJQHSXy"
      }
    },
    {
      "cell_type": "code",
      "execution_count": 61,
      "metadata": {
        "id": "wl1Nzze0Fmfi"
      },
      "outputs": [],
      "source": [
        "import numpy as np\n",
        "import sympy as sym\n",
        "\n",
        "L = 1\n",
        "T = 1\n",
        "A_tilde = 4\n",
        "a_tilde = 4e-1\n",
        "q_tilde = 0.0\n",
        "K_tilde = 50e4\n",
        "Pe_tilde = 0.0\n",
        "m = 0.5\n",
        "n = 0\n",
        "rho = 1.050\n",
        "K_r = 2.4160\n",
        "\n",
        "x, t = sym.symbols('x, t')\n",
        "A_sym, q_sym = sym.symbols('A, q')\n",
        "\n",
        "A = A_tilde + a_tilde * sym.sin(2 * np.pi / L * x) * sym.cos(2 * np.pi / T * t)\n",
        "\n",
        "q = q_tilde - (a_tilde * L / T) * sym.cos(2 * np.pi / L * x) * sym.sin(2 * np.pi / T * t)\n",
        "\n",
        "K = K_tilde\n",
        "\n",
        "Pe = Pe_tilde\n",
        "\n",
        "A0 = A_tilde\n",
        "\n",
        "Psi = K * ((A_sym / A0) ** m - (A_sym / A0) ** n)\n",
        "\n",
        "U = sym.Matrix([A, q])"
      ]
    },
    {
      "cell_type": "code",
      "source": [
        "H = sym.Matrix([[0, 1], [A_sym / rho * sym.diff(Psi, A_sym) - (q_sym / A_sym) ** 2 , 2 * q_sym / A_sym]])\n",
        "B = sym.Matrix([0, K_r * q_sym / A_sym])\n",
        "C1 = sym.integrate(A_sym / rho * sym.diff(Psi, A_sym), (A_sym, A0, A_sym))\n",
        "F = sym.Matrix([q_sym, q_sym ** 2/ A_sym + C1])\n",
        "S = B\n",
        "F = F.subs({A_sym: A, q_sym: q})\n",
        "S = S.subs({A_sym: A, q_sym: q})"
      ],
      "metadata": {
        "id": "s2IlEt1FJpWU"
      },
      "execution_count": 62,
      "outputs": []
    },
    {
      "cell_type": "code",
      "source": [
        "H"
      ],
      "metadata": {
        "id": "lteo02SoYg0B",
        "outputId": "fc4417d0-408e-4492-8a65-9885791e8db8",
        "colab": {
          "base_uri": "https://localhost:8080/",
          "height": 62
        }
      },
      "execution_count": 63,
      "outputs": [
        {
          "output_type": "execute_result",
          "data": {
            "text/plain": [
              "Matrix([\n",
              "[                                  0,     1],\n",
              "[119047.619047619*A**0.5 - q**2/A**2, 2*q/A]])"
            ],
            "text/latex": "$\\displaystyle \\left[\\begin{matrix}0 & 1\\\\119047.619047619 A^{0.5} - \\frac{q^{2}}{A^{2}} & \\frac{2 q}{A}\\end{matrix}\\right]$"
          },
          "metadata": {},
          "execution_count": 63
        }
      ]
    },
    {
      "cell_type": "code",
      "source": [
        "H_np = np.array(H.subs({A_sym: A_tilde, q_sym: q_tilde}), dtype=float)\n",
        "\n",
        "# Compute eigenvalues\n",
        "eigenvalues = np.linalg.eigvals(H_np)\n",
        "eigenvalues"
      ],
      "metadata": {
        "id": "xiI2Yx-RZ_fv",
        "outputId": "c742781c-c57e-419b-e0e2-d465cc83d040",
        "colab": {
          "base_uri": "https://localhost:8080/"
        }
      },
      "execution_count": 64,
      "outputs": [
        {
          "output_type": "execute_result",
          "data": {
            "text/plain": [
              "array([ 487.95003647, -487.95003647])"
            ]
          },
          "metadata": {},
          "execution_count": 64
        }
      ]
    },
    {
      "cell_type": "code",
      "source": [
        "dU_dt = sym.diff(U, t)\n",
        "dF_dx = sym.diff(F, x)\n",
        "\n",
        "dU_dt_dt = sym.diff(dU_dt, t)\n",
        "dS_dt = sym.diff(S, t)\n",
        "dF_dx_dt = sym.diff(dF_dx, t)"
      ],
      "metadata": {
        "id": "fO6yoggsk-23"
      },
      "execution_count": 54,
      "outputs": []
    },
    {
      "cell_type": "code",
      "source": [
        "f = dU_dt + dF_dx + S\n",
        "f"
      ],
      "metadata": {
        "colab": {
          "base_uri": "https://localhost:8080/",
          "height": 88
        },
        "id": "9Iu7PKNTlyku",
        "outputId": "66de447b-8b68-4a1f-802b-d4514756df37"
      },
      "execution_count": 55,
      "outputs": [
        {
          "output_type": "execute_result",
          "data": {
            "text/plain": [
              "Matrix([\n",
              "[                                                                                                                                                                                                                                                                                                                                                                                                                                                                                                                                                                                                                                                                        0],\n",
              "[0.0059839860068377*(0.1*sin(6.28318530717959*x)*cos(6.28318530717959*t) + 1)**0.5*cos(6.28318530717959*t)*cos(6.28318530717959*x) - 0.000251327412287183*cos(6.28318530717959*t)*cos(6.28318530717959*x) - 2.51327412287184e-6*sin(6.28318530717959*t)**2*cos(6.28318530717959*t)*cos(6.28318530717959*x)**3/(0.1*sin(6.28318530717959*x)*cos(6.28318530717959*t) + 1)**2 - 2.01061929829747e-8*sin(6.28318530717959*t)**2*sin(6.28318530717959*x)*cos(6.28318530717959*x)/(4.0e-5*sin(6.28318530717959*x)*cos(6.28318530717959*t) + 0.0004) - 9.664e-9*sin(6.28318530717959*t)*cos(6.28318530717959*x)/(4.0e-5*sin(6.28318530717959*x)*cos(6.28318530717959*t) + 0.0004)]])"
            ],
            "text/latex": "$\\displaystyle \\left[\\begin{matrix}0\\\\0.0059839860068377 \\left(0.1 \\sin{\\left(6.28318530717959 x \\right)} \\cos{\\left(6.28318530717959 t \\right)} + 1\\right)^{0.5} \\cos{\\left(6.28318530717959 t \\right)} \\cos{\\left(6.28318530717959 x \\right)} - 0.000251327412287183 \\cos{\\left(6.28318530717959 t \\right)} \\cos{\\left(6.28318530717959 x \\right)} - \\frac{2.51327412287184 \\cdot 10^{-6} \\sin^{2}{\\left(6.28318530717959 t \\right)} \\cos{\\left(6.28318530717959 t \\right)} \\cos^{3}{\\left(6.28318530717959 x \\right)}}{\\left(0.1 \\sin{\\left(6.28318530717959 x \\right)} \\cos{\\left(6.28318530717959 t \\right)} + 1\\right)^{2}} - \\frac{2.01061929829747 \\cdot 10^{-8} \\sin^{2}{\\left(6.28318530717959 t \\right)} \\sin{\\left(6.28318530717959 x \\right)} \\cos{\\left(6.28318530717959 x \\right)}}{4.0 \\cdot 10^{-5} \\sin{\\left(6.28318530717959 x \\right)} \\cos{\\left(6.28318530717959 t \\right)} + 0.0004} - \\frac{9.664 \\cdot 10^{-9} \\sin{\\left(6.28318530717959 t \\right)} \\cos{\\left(6.28318530717959 x \\right)}}{4.0 \\cdot 10^{-5} \\sin{\\left(6.28318530717959 x \\right)} \\cos{\\left(6.28318530717959 t \\right)} + 0.0004}\\end{matrix}\\right]$"
          },
          "metadata": {},
          "execution_count": 55
        }
      ]
    },
    {
      "cell_type": "code",
      "source": [
        "df_dt = sym.diff(f, t)\n",
        "df_dt"
      ],
      "metadata": {
        "id": "nyv5Md1SkU5P",
        "outputId": "309a22e8-de81-4836-c20c-0bc69e1485a7",
        "colab": {
          "base_uri": "https://localhost:8080/",
          "height": 88
        }
      },
      "execution_count": 56,
      "outputs": [
        {
          "output_type": "execute_result",
          "data": {
            "text/plain": [
              "Matrix([\n",
              "[                                                                                                                                                                                                                                                                                                                                                                                                                                                                                                                                                                                                                                                                                                                                                                                                                                                                                                                                                                                                                                                                                                                                                                                                                                                                                                                                                                                                                                                                                                                                                         0],\n",
              "[-0.00187992464782654*sin(6.28318530717959*t)*sin(6.28318530717959*x)*cos(6.28318530717959*t)*cos(6.28318530717959*x)/(0.1*sin(6.28318530717959*x)*cos(6.28318530717959*t) + 1)**0.5 - 0.0375984929565309*(0.1*sin(6.28318530717959*x)*cos(6.28318530717959*t) + 1)**0.5*sin(6.28318530717959*t)*cos(6.28318530717959*x) + 0.0015791367041743*sin(6.28318530717959*t)*cos(6.28318530717959*x) - 3.1582734083486e-5*sin(6.28318530717959*t)**3*sin(6.28318530717959*x)**2*cos(6.28318530717959*x)/(0.1*sin(6.28318530717959*x)*cos(6.28318530717959*t) + 1)**2 + 1.5791367041743e-5*sin(6.28318530717959*t)**3*cos(6.28318530717959*x)**3/(0.1*sin(6.28318530717959*x)*cos(6.28318530717959*t) + 1)**2 - 1.51801757021459e-5*sin(6.28318530717959*t)**2*sin(6.28318530717959*x)*cos(6.28318530717959*x)/(0.1*sin(6.28318530717959*x)*cos(6.28318530717959*t) + 1)**2 - 3.1582734083486e-5*sin(6.28318530717959*t)*cos(6.28318530717959*t)**2*cos(6.28318530717959*x)**3/(0.1*sin(6.28318530717959*x)*cos(6.28318530717959*t) + 1)**2 - 3.1582734083486e-6*sin(6.28318530717959*t)**3*sin(6.28318530717959*x)*cos(6.28318530717959*t)*cos(6.28318530717959*x)**3/(0.1*sin(6.28318530717959*x)*cos(6.28318530717959*t) + 1)**3 - 2.52661872667888e-7*sin(6.28318530717959*t)*sin(6.28318530717959*x)*cos(6.28318530717959*t)*cos(6.28318530717959*x)/(4.0e-5*sin(6.28318530717959*x)*cos(6.28318530717959*t) + 0.0004) - 6.07207028085835e-8*cos(6.28318530717959*t)*cos(6.28318530717959*x)/(4.0e-5*sin(6.28318530717959*x)*cos(6.28318530717959*t) + 0.0004)]])"
            ],
            "text/latex": "$\\displaystyle \\left[\\begin{matrix}0\\\\- \\frac{0.00187992464782654 \\sin{\\left(6.28318530717959 t \\right)} \\sin{\\left(6.28318530717959 x \\right)} \\cos{\\left(6.28318530717959 t \\right)} \\cos{\\left(6.28318530717959 x \\right)}}{\\left(0.1 \\sin{\\left(6.28318530717959 x \\right)} \\cos{\\left(6.28318530717959 t \\right)} + 1\\right)^{0.5}} - 0.0375984929565309 \\left(0.1 \\sin{\\left(6.28318530717959 x \\right)} \\cos{\\left(6.28318530717959 t \\right)} + 1\\right)^{0.5} \\sin{\\left(6.28318530717959 t \\right)} \\cos{\\left(6.28318530717959 x \\right)} + 0.0015791367041743 \\sin{\\left(6.28318530717959 t \\right)} \\cos{\\left(6.28318530717959 x \\right)} - \\frac{3.1582734083486 \\cdot 10^{-5} \\sin^{3}{\\left(6.28318530717959 t \\right)} \\sin^{2}{\\left(6.28318530717959 x \\right)} \\cos{\\left(6.28318530717959 x \\right)}}{\\left(0.1 \\sin{\\left(6.28318530717959 x \\right)} \\cos{\\left(6.28318530717959 t \\right)} + 1\\right)^{2}} + \\frac{1.5791367041743 \\cdot 10^{-5} \\sin^{3}{\\left(6.28318530717959 t \\right)} \\cos^{3}{\\left(6.28318530717959 x \\right)}}{\\left(0.1 \\sin{\\left(6.28318530717959 x \\right)} \\cos{\\left(6.28318530717959 t \\right)} + 1\\right)^{2}} - \\frac{1.51801757021459 \\cdot 10^{-5} \\sin^{2}{\\left(6.28318530717959 t \\right)} \\sin{\\left(6.28318530717959 x \\right)} \\cos{\\left(6.28318530717959 x \\right)}}{\\left(0.1 \\sin{\\left(6.28318530717959 x \\right)} \\cos{\\left(6.28318530717959 t \\right)} + 1\\right)^{2}} - \\frac{3.1582734083486 \\cdot 10^{-5} \\sin{\\left(6.28318530717959 t \\right)} \\cos^{2}{\\left(6.28318530717959 t \\right)} \\cos^{3}{\\left(6.28318530717959 x \\right)}}{\\left(0.1 \\sin{\\left(6.28318530717959 x \\right)} \\cos{\\left(6.28318530717959 t \\right)} + 1\\right)^{2}} - \\frac{3.1582734083486 \\cdot 10^{-6} \\sin^{3}{\\left(6.28318530717959 t \\right)} \\sin{\\left(6.28318530717959 x \\right)} \\cos{\\left(6.28318530717959 t \\right)} \\cos^{3}{\\left(6.28318530717959 x \\right)}}{\\left(0.1 \\sin{\\left(6.28318530717959 x \\right)} \\cos{\\left(6.28318530717959 t \\right)} + 1\\right)^{3}} - \\frac{2.52661872667888 \\cdot 10^{-7} \\sin{\\left(6.28318530717959 t \\right)} \\sin{\\left(6.28318530717959 x \\right)} \\cos{\\left(6.28318530717959 t \\right)} \\cos{\\left(6.28318530717959 x \\right)}}{4.0 \\cdot 10^{-5} \\sin{\\left(6.28318530717959 x \\right)} \\cos{\\left(6.28318530717959 t \\right)} + 0.0004} - \\frac{6.07207028085835 \\cdot 10^{-8} \\cos{\\left(6.28318530717959 t \\right)} \\cos{\\left(6.28318530717959 x \\right)}}{4.0 \\cdot 10^{-5} \\sin{\\left(6.28318530717959 x \\right)} \\cos{\\left(6.28318530717959 t \\right)} + 0.0004}\\end{matrix}\\right]$"
          },
          "metadata": {},
          "execution_count": 56
        }
      ]
    },
    {
      "cell_type": "code",
      "source": [],
      "metadata": {
        "id": "O-x4KjKFfFH2"
      },
      "execution_count": null,
      "outputs": []
    }
  ]
}