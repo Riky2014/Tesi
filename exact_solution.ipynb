{
  "nbformat": 4,
  "nbformat_minor": 0,
  "metadata": {
    "colab": {
      "provenance": [],
      "authorship_tag": "ABX9TyMwGxyLc7/x3cXiC/H0lVar",
      "include_colab_link": true
    },
    "kernelspec": {
      "name": "python3",
      "display_name": "Python 3"
    },
    "language_info": {
      "name": "python"
    }
  },
  "cells": [
    {
      "cell_type": "markdown",
      "metadata": {
        "id": "view-in-github",
        "colab_type": "text"
      },
      "source": [
        "<a href=\"https://colab.research.google.com/github/Riky2014/Tesi/blob/main/exact_solution.ipynb\" target=\"_parent\"><img src=\"https://colab.research.google.com/assets/colab-badge.svg\" alt=\"Open In Colab\"/></a>"
      ]
    },
    {
      "cell_type": "code",
      "execution_count": 1,
      "metadata": {
        "id": "wl1Nzze0Fmfi"
      },
      "outputs": [],
      "source": [
        "import numpy as np\n",
        "import sympy as sym\n",
        "\n",
        "L = 1\n",
        "T = 1\n",
        "A_tilde = 4e-4\n",
        "a_tilde = 4e-5\n",
        "q_tilde = 0.0\n",
        "K_tilde = 50e3\n",
        "Pe_tilde = 0.0\n",
        "m = 0.5\n",
        "n = 0\n",
        "rho = 1.05\n",
        "K_r = 2.4160e-4\n",
        "\n",
        "x, t = sym.symbols('x, t')\n",
        "A_sym, q_sym = sym.symbols('A, q')\n",
        "\n",
        "A = A_tilde + a_tilde * sym.sin(2 * np.pi / L * x) * sym.cos(2 * np.pi / T * t)\n",
        "\n",
        "q = q_tilde - (a_tilde * L / T) * sym.cos(2 * np.pi / L * x) * sym.sin(2 * np.pi / T * t)\n",
        "\n",
        "K = K_tilde\n",
        "\n",
        "Pe = Pe_tilde\n",
        "\n",
        "A0 = A_tilde\n",
        "\n",
        "Psi = K * ((A_sym / A0) ** m - (A_sym / A0) ** n)\n",
        "\n",
        "U = sym.Matrix([A, q])"
      ]
    },
    {
      "cell_type": "code",
      "source": [
        "H = sym.Matrix([[0, 1], [A_sym / rho * sym.diff(Psi, A_sym) - (q_sym / A_sym) ** 2 , 2 * q_sym / A_sym]])\n",
        "B = sym.Matrix([0, K_r * q_sym / A_sym])\n",
        "C1 = sym.integrate(A_sym / rho * sym.diff(Psi, A_sym), (A_sym, A0, A_sym))\n",
        "F = sym.Matrix([q_sym, q_sym ** 2/ A_sym + C1])\n",
        "S = B\n",
        "F = F.subs({A_sym: A, q_sym: q})\n",
        "S = S.subs({A_sym: A, q_sym: q})"
      ],
      "metadata": {
        "id": "s2IlEt1FJpWU"
      },
      "execution_count": 3,
      "outputs": []
    },
    {
      "cell_type": "code",
      "source": [
        "dU_dt = sym.diff(U, t)\n",
        "dF_dx = sym.diff(F, x)\n",
        "\n",
        "dU_dt_dt = sym.diff(dU_dt, t)\n",
        "dS_dt = sym.diff(S, t)\n",
        "dF_dx_dt = sym.diff(dF_dx, t)"
      ],
      "metadata": {
        "id": "fO6yoggsk-23"
      },
      "execution_count": 4,
      "outputs": []
    },
    {
      "cell_type": "code",
      "source": [
        "f = dU_dt + dF_dx + S\n",
        "f"
      ],
      "metadata": {
        "colab": {
          "base_uri": "https://localhost:8080/",
          "height": 88
        },
        "id": "9Iu7PKNTlyku",
        "outputId": "021cbfeb-84ab-4f77-a909-6ab8298fb741"
      },
      "execution_count": 5,
      "outputs": [
        {
          "output_type": "execute_result",
          "data": {
            "text/plain": [
              "Matrix([\n",
              "[                                                                                                                                                                                                                                                                                                                                                                                                                                                                                                                                                                                                                                                                     0],\n",
              "[5.9839860068377*(0.1*sin(6.28318530717959*x)*cos(6.28318530717959*t) + 1)**0.5*cos(6.28318530717959*t)*cos(6.28318530717959*x) - 0.000251327412287183*cos(6.28318530717959*t)*cos(6.28318530717959*x) - 2.51327412287184e-6*sin(6.28318530717959*t)**2*cos(6.28318530717959*t)*cos(6.28318530717959*x)**3/(0.1*sin(6.28318530717959*x)*cos(6.28318530717959*t) + 1)**2 - 2.01061929829747e-8*sin(6.28318530717959*t)**2*sin(6.28318530717959*x)*cos(6.28318530717959*x)/(4.0e-5*sin(6.28318530717959*x)*cos(6.28318530717959*t) + 0.0004) - 9.664e-9*sin(6.28318530717959*t)*cos(6.28318530717959*x)/(4.0e-5*sin(6.28318530717959*x)*cos(6.28318530717959*t) + 0.0004)]])"
            ],
            "text/latex": "$\\displaystyle \\left[\\begin{matrix}0\\\\5.9839860068377 \\left(0.1 \\sin{\\left(6.28318530717959 x \\right)} \\cos{\\left(6.28318530717959 t \\right)} + 1\\right)^{0.5} \\cos{\\left(6.28318530717959 t \\right)} \\cos{\\left(6.28318530717959 x \\right)} - 0.000251327412287183 \\cos{\\left(6.28318530717959 t \\right)} \\cos{\\left(6.28318530717959 x \\right)} - \\frac{2.51327412287184 \\cdot 10^{-6} \\sin^{2}{\\left(6.28318530717959 t \\right)} \\cos{\\left(6.28318530717959 t \\right)} \\cos^{3}{\\left(6.28318530717959 x \\right)}}{\\left(0.1 \\sin{\\left(6.28318530717959 x \\right)} \\cos{\\left(6.28318530717959 t \\right)} + 1\\right)^{2}} - \\frac{2.01061929829747 \\cdot 10^{-8} \\sin^{2}{\\left(6.28318530717959 t \\right)} \\sin{\\left(6.28318530717959 x \\right)} \\cos{\\left(6.28318530717959 x \\right)}}{4.0 \\cdot 10^{-5} \\sin{\\left(6.28318530717959 x \\right)} \\cos{\\left(6.28318530717959 t \\right)} + 0.0004} - \\frac{9.664 \\cdot 10^{-9} \\sin{\\left(6.28318530717959 t \\right)} \\cos{\\left(6.28318530717959 x \\right)}}{4.0 \\cdot 10^{-5} \\sin{\\left(6.28318530717959 x \\right)} \\cos{\\left(6.28318530717959 t \\right)} + 0.0004}\\end{matrix}\\right]$"
          },
          "metadata": {},
          "execution_count": 5
        }
      ]
    },
    {
      "cell_type": "code",
      "source": [
        "df_dt = sym.diff(f, t)\n",
        "df_dt"
      ],
      "metadata": {
        "id": "nyv5Md1SkU5P",
        "outputId": "1a3d616f-d1a6-4945-cfff-cf40b9e783d0",
        "colab": {
          "base_uri": "https://localhost:8080/",
          "height": 88
        }
      },
      "execution_count": 6,
      "outputs": [
        {
          "output_type": "execute_result",
          "data": {
            "text/plain": [
              "Matrix([\n",
              "[                                                                                                                                                                                                                                                                                                                                                                                                                                                                                                                                                                                                                                                                                                                                                                                                                                                                                                                                                                                                                                                                                                                                                                                                                                                                                                                                                                                                                                                                                                                                                    0],\n",
              "[-1.87992464782654*sin(6.28318530717959*t)*sin(6.28318530717959*x)*cos(6.28318530717959*t)*cos(6.28318530717959*x)/(0.1*sin(6.28318530717959*x)*cos(6.28318530717959*t) + 1)**0.5 - 37.5984929565309*(0.1*sin(6.28318530717959*x)*cos(6.28318530717959*t) + 1)**0.5*sin(6.28318530717959*t)*cos(6.28318530717959*x) + 0.0015791367041743*sin(6.28318530717959*t)*cos(6.28318530717959*x) - 3.1582734083486e-5*sin(6.28318530717959*t)**3*sin(6.28318530717959*x)**2*cos(6.28318530717959*x)/(0.1*sin(6.28318530717959*x)*cos(6.28318530717959*t) + 1)**2 + 1.5791367041743e-5*sin(6.28318530717959*t)**3*cos(6.28318530717959*x)**3/(0.1*sin(6.28318530717959*x)*cos(6.28318530717959*t) + 1)**2 - 1.51801757021459e-5*sin(6.28318530717959*t)**2*sin(6.28318530717959*x)*cos(6.28318530717959*x)/(0.1*sin(6.28318530717959*x)*cos(6.28318530717959*t) + 1)**2 - 3.1582734083486e-5*sin(6.28318530717959*t)*cos(6.28318530717959*t)**2*cos(6.28318530717959*x)**3/(0.1*sin(6.28318530717959*x)*cos(6.28318530717959*t) + 1)**2 - 3.1582734083486e-6*sin(6.28318530717959*t)**3*sin(6.28318530717959*x)*cos(6.28318530717959*t)*cos(6.28318530717959*x)**3/(0.1*sin(6.28318530717959*x)*cos(6.28318530717959*t) + 1)**3 - 2.52661872667888e-7*sin(6.28318530717959*t)*sin(6.28318530717959*x)*cos(6.28318530717959*t)*cos(6.28318530717959*x)/(4.0e-5*sin(6.28318530717959*x)*cos(6.28318530717959*t) + 0.0004) - 6.07207028085835e-8*cos(6.28318530717959*t)*cos(6.28318530717959*x)/(4.0e-5*sin(6.28318530717959*x)*cos(6.28318530717959*t) + 0.0004)]])"
            ],
            "text/latex": "$\\displaystyle \\left[\\begin{matrix}0\\\\- \\frac{1.87992464782654 \\sin{\\left(6.28318530717959 t \\right)} \\sin{\\left(6.28318530717959 x \\right)} \\cos{\\left(6.28318530717959 t \\right)} \\cos{\\left(6.28318530717959 x \\right)}}{\\left(0.1 \\sin{\\left(6.28318530717959 x \\right)} \\cos{\\left(6.28318530717959 t \\right)} + 1\\right)^{0.5}} - 37.5984929565309 \\left(0.1 \\sin{\\left(6.28318530717959 x \\right)} \\cos{\\left(6.28318530717959 t \\right)} + 1\\right)^{0.5} \\sin{\\left(6.28318530717959 t \\right)} \\cos{\\left(6.28318530717959 x \\right)} + 0.0015791367041743 \\sin{\\left(6.28318530717959 t \\right)} \\cos{\\left(6.28318530717959 x \\right)} - \\frac{3.1582734083486 \\cdot 10^{-5} \\sin^{3}{\\left(6.28318530717959 t \\right)} \\sin^{2}{\\left(6.28318530717959 x \\right)} \\cos{\\left(6.28318530717959 x \\right)}}{\\left(0.1 \\sin{\\left(6.28318530717959 x \\right)} \\cos{\\left(6.28318530717959 t \\right)} + 1\\right)^{2}} + \\frac{1.5791367041743 \\cdot 10^{-5} \\sin^{3}{\\left(6.28318530717959 t \\right)} \\cos^{3}{\\left(6.28318530717959 x \\right)}}{\\left(0.1 \\sin{\\left(6.28318530717959 x \\right)} \\cos{\\left(6.28318530717959 t \\right)} + 1\\right)^{2}} - \\frac{1.51801757021459 \\cdot 10^{-5} \\sin^{2}{\\left(6.28318530717959 t \\right)} \\sin{\\left(6.28318530717959 x \\right)} \\cos{\\left(6.28318530717959 x \\right)}}{\\left(0.1 \\sin{\\left(6.28318530717959 x \\right)} \\cos{\\left(6.28318530717959 t \\right)} + 1\\right)^{2}} - \\frac{3.1582734083486 \\cdot 10^{-5} \\sin{\\left(6.28318530717959 t \\right)} \\cos^{2}{\\left(6.28318530717959 t \\right)} \\cos^{3}{\\left(6.28318530717959 x \\right)}}{\\left(0.1 \\sin{\\left(6.28318530717959 x \\right)} \\cos{\\left(6.28318530717959 t \\right)} + 1\\right)^{2}} - \\frac{3.1582734083486 \\cdot 10^{-6} \\sin^{3}{\\left(6.28318530717959 t \\right)} \\sin{\\left(6.28318530717959 x \\right)} \\cos{\\left(6.28318530717959 t \\right)} \\cos^{3}{\\left(6.28318530717959 x \\right)}}{\\left(0.1 \\sin{\\left(6.28318530717959 x \\right)} \\cos{\\left(6.28318530717959 t \\right)} + 1\\right)^{3}} - \\frac{2.52661872667888 \\cdot 10^{-7} \\sin{\\left(6.28318530717959 t \\right)} \\sin{\\left(6.28318530717959 x \\right)} \\cos{\\left(6.28318530717959 t \\right)} \\cos{\\left(6.28318530717959 x \\right)}}{4.0 \\cdot 10^{-5} \\sin{\\left(6.28318530717959 x \\right)} \\cos{\\left(6.28318530717959 t \\right)} + 0.0004} - \\frac{6.07207028085835 \\cdot 10^{-8} \\cos{\\left(6.28318530717959 t \\right)} \\cos{\\left(6.28318530717959 x \\right)}}{4.0 \\cdot 10^{-5} \\sin{\\left(6.28318530717959 x \\right)} \\cos{\\left(6.28318530717959 t \\right)} + 0.0004}\\end{matrix}\\right]$"
          },
          "metadata": {},
          "execution_count": 6
        }
      ]
    }
  ]
}