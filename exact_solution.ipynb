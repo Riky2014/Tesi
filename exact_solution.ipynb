{
  "nbformat": 4,
  "nbformat_minor": 0,
  "metadata": {
    "colab": {
      "provenance": [],
      "authorship_tag": "ABX9TyNm6mZ1pbZGxqb0emyhQmRl",
      "include_colab_link": true
    },
    "kernelspec": {
      "name": "python3",
      "display_name": "Python 3"
    },
    "language_info": {
      "name": "python"
    }
  },
  "cells": [
    {
      "cell_type": "markdown",
      "metadata": {
        "id": "view-in-github",
        "colab_type": "text"
      },
      "source": [
        "<a href=\"https://colab.research.google.com/github/Riky2014/Tesi/blob/main/exact_solution.ipynb\" target=\"_parent\"><img src=\"https://colab.research.google.com/assets/colab-badge.svg\" alt=\"Open In Colab\"/></a>"
      ]
    },
    {
      "cell_type": "code",
      "execution_count": 27,
      "metadata": {
        "id": "wl1Nzze0Fmfi"
      },
      "outputs": [],
      "source": [
        "import numpy as np\n",
        "import sympy as sym\n",
        "\n",
        "L = 1\n",
        "T0 = 1\n",
        "A_tilde = 4e-4\n",
        "a_tilde = 4e-5\n",
        "q_tilde = 0.0\n",
        "K_tilde = 50e3\n",
        "k_tilde = 500\n",
        "Pe_tilde = 0.0\n",
        "pe_tilde = 50\n",
        "m = 0.5\n",
        "n = 0\n",
        "rho = 1.05\n",
        "K_r = 2.4160e-4\n",
        "\n",
        "x, t = sym.symbols('x, t')\n",
        "K_sym, A_sym, A0_sym, q_sym = sym.symbols('K, A, A0, q')\n",
        "\n",
        "A = A_tilde + a_tilde * sym.sin(2 * np.pi / L * x) * sym.cos(2 * np.pi / T0 * t)\n",
        "\n",
        "q = q_tilde - (a_tilde * L / T0) * sym.cos(2 * np.pi / L * x) * sym.sin(2 * np.pi / T0 * t)\n",
        "\n",
        "#K = K_tilde + k_tilde * sym.sin(2 * np.pi / L * x)\n",
        "K = K_tilde\n",
        "\n",
        "#Pe = Pe_tilde + pe_tilde * sym.sin(2 * np.pi / L * x)\n",
        "Pe = Pe_tilde\n",
        "\n",
        "#A0 = A_tilde + a_tilde * sym.sin(2 * np.pi / L * x)\n",
        "A0 = A_tilde\n",
        "\n",
        "#Psi = K_sym * ((A_sym / A0_sym) ** m - (A_sym / A0_sym) ** n)\n",
        "Psi = K * ((A_sym / A0) ** m - (A_sym / A0) ** n)\n",
        "\n",
        "U = sym.Matrix([A, q])"
      ]
    },
    {
      "cell_type": "code",
      "source": [
        "from sympy import Number\n",
        "\n",
        "def round_expr(expr, num_digits):\n",
        "    return expr.xreplace({n : round(n, num_digits) for n in expr.atoms(Number)})"
      ],
      "metadata": {
        "id": "Hl3oxEHoeteg"
      },
      "execution_count": 28,
      "outputs": []
    },
    {
      "cell_type": "code",
      "source": [
        "H = sym.Matrix([[0, 1], [A_sym / rho * sym.diff(Psi, A_sym) - (q_sym / A_sym) ** 2 , 2 * q_sym / A_sym]])\n",
        "#H = H.subs({A0_sym: A0, K_sym: K})\n",
        "#H = sym.simplify(H)\n",
        "#H = round_expr(H, 5)\n",
        "H"
      ],
      "metadata": {
        "colab": {
          "base_uri": "https://localhost:8080/",
          "height": 62
        },
        "id": "s2IlEt1FJpWU",
        "outputId": "14090bb4-d4a8-4f5d-9ec3-3d21fef547d8"
      },
      "execution_count": 29,
      "outputs": [
        {
          "output_type": "execute_result",
          "data": {
            "text/plain": [
              "Matrix([\n",
              "[                                  0,     1],\n",
              "[1190476.19047619*A**0.5 - q**2/A**2, 2*q/A]])"
            ],
            "text/latex": "$\\displaystyle \\left[\\begin{matrix}0 & 1\\\\1190476.19047619 A^{0.5} - \\frac{q^{2}}{A^{2}} & \\frac{2 q}{A}\\end{matrix}\\right]$"
          },
          "metadata": {},
          "execution_count": 29
        }
      ]
    },
    {
      "cell_type": "code",
      "source": [
        "B = sym.Matrix([0, K_r * q_sym / A_sym + A_sym / rho * (sym.diff(Psi, A0_sym) * sym.diff(A0, x) + sym.diff(Psi, K_sym) * sym.diff(K, x))])\n",
        "B = B.subs({A0_sym: A0, K_sym: K})\n",
        "#B = sym.simplify(B)\n",
        "#B = round_expr(B, 5)\n",
        "B"
      ],
      "metadata": {
        "colab": {
          "base_uri": "https://localhost:8080/",
          "height": 59
        },
        "id": "_dPSm29TP9k5",
        "outputId": "e2977d65-a31e-45cc-9e67-006fb3c34a67"
      },
      "execution_count": 30,
      "outputs": [
        {
          "output_type": "execute_result",
          "data": {
            "text/plain": [
              "Matrix([\n",
              "[            0],\n",
              "[0.0002416*q/A]])"
            ],
            "text/latex": "$\\displaystyle \\left[\\begin{matrix}0\\\\\\frac{0.0002416 q}{A}\\end{matrix}\\right]$"
          },
          "metadata": {},
          "execution_count": 30
        }
      ]
    },
    {
      "cell_type": "code",
      "source": [
        "C1 = sym.integrate(A_sym / rho * sym.diff(Psi, A_sym), (A_sym, A0_sym, A_sym))\n",
        "C1 = C1.subs({A0_sym: A0, K_sym: K})\n",
        "C1 = sym.simplify(C1)\n",
        "#C1 = round_expr(C1, 5)\n",
        "C1"
      ],
      "metadata": {
        "colab": {
          "base_uri": "https://localhost:8080/",
          "height": 38
        },
        "id": "VWY_8yPyV-jS",
        "outputId": "5b250e35-79b9-490b-bb09-1274639fc439"
      },
      "execution_count": 31,
      "outputs": [
        {
          "output_type": "execute_result",
          "data": {
            "text/plain": [
              "793650.793650793*A**1.5 - 6.34920634920635"
            ],
            "text/latex": "$\\displaystyle 793650.793650793 A^{1.5} - 6.34920634920635$"
          },
          "metadata": {},
          "execution_count": 31
        }
      ]
    },
    {
      "cell_type": "code",
      "source": [
        "F = sym.Matrix([q_sym, q_sym ** 2/ A_sym + C1])\n",
        "F = F.subs({A0_sym: A0, K_sym: K})\n",
        "F = sym.simplify(F)\n",
        "#F = round_expr(F, 5)\n",
        "F"
      ],
      "metadata": {
        "colab": {
          "base_uri": "https://localhost:8080/",
          "height": 62
        },
        "id": "Wt48H2MNW-l3",
        "outputId": "7cb7cc63-214a-46ac-b88f-91cc9062219b"
      },
      "execution_count": 32,
      "outputs": [
        {
          "output_type": "execute_result",
          "data": {
            "text/plain": [
              "Matrix([\n",
              "[                                                  q],\n",
              "[793650.793650793*A**1.5 - 6.34920634920635 + q**2/A]])"
            ],
            "text/latex": "$\\displaystyle \\left[\\begin{matrix}q\\\\793650.793650793 A^{1.5} - 6.34920634920635 + \\frac{q^{2}}{A}\\end{matrix}\\right]$"
          },
          "metadata": {},
          "execution_count": 32
        }
      ]
    },
    {
      "cell_type": "code",
      "source": [
        "S = B - sym.Matrix([0, (sym.diff(C1, A0_sym) * sym.diff(A0, x) + sym.diff(C1, K_sym) * sym.diff(K, x))])\n",
        "S = S.subs({A0_sym: A0, K_sym: K})\n",
        "#S = round_expr(S, 5)\n",
        "S"
      ],
      "metadata": {
        "colab": {
          "base_uri": "https://localhost:8080/",
          "height": 59
        },
        "id": "X-K_QwbEXXQn",
        "outputId": "e7e0db54-64c9-46e9-ff52-71d615ce3dd0"
      },
      "execution_count": 33,
      "outputs": [
        {
          "output_type": "execute_result",
          "data": {
            "text/plain": [
              "Matrix([\n",
              "[            0],\n",
              "[0.0002416*q/A]])"
            ],
            "text/latex": "$\\displaystyle \\left[\\begin{matrix}0\\\\\\frac{0.0002416 q}{A}\\end{matrix}\\right]$"
          },
          "metadata": {},
          "execution_count": 33
        }
      ]
    },
    {
      "cell_type": "code",
      "source": [
        "F = F.subs({A_sym: A, q_sym: q})\n",
        "dF_dx = sym.diff(F, x)\n",
        "#dF_dx = round_expr(dF_dx, 5)\n",
        "dF_dx"
      ],
      "metadata": {
        "colab": {
          "base_uri": "https://localhost:8080/",
          "height": 88
        },
        "id": "fO6yoggsk-23",
        "outputId": "92892bcf-92c0-4245-afde-7ee95b222de2"
      },
      "execution_count": 34,
      "outputs": [
        {
          "output_type": "execute_result",
          "data": {
            "text/plain": [
              "Matrix([\n",
              "[                                                                                                                                                                                                                                                                                                                                                                                              0.000251327412287183*sin(6.28318530717959*t)*sin(6.28318530717959*x)],\n",
              "[5.9839860068377*(0.1*sin(6.28318530717959*x)*cos(6.28318530717959*t) + 1)**0.5*cos(6.28318530717959*t)*cos(6.28318530717959*x) - 2.51327412287184e-6*sin(6.28318530717959*t)**2*cos(6.28318530717959*t)*cos(6.28318530717959*x)**3/(0.1*sin(6.28318530717959*x)*cos(6.28318530717959*t) + 1)**2 - 2.01061929829747e-8*sin(6.28318530717959*t)**2*sin(6.28318530717959*x)*cos(6.28318530717959*x)/(4.0e-5*sin(6.28318530717959*x)*cos(6.28318530717959*t) + 0.0004)]])"
            ],
            "text/latex": "$\\displaystyle \\left[\\begin{matrix}0.000251327412287183 \\sin{\\left(6.28318530717959 t \\right)} \\sin{\\left(6.28318530717959 x \\right)}\\\\5.9839860068377 \\left(0.1 \\sin{\\left(6.28318530717959 x \\right)} \\cos{\\left(6.28318530717959 t \\right)} + 1\\right)^{0.5} \\cos{\\left(6.28318530717959 t \\right)} \\cos{\\left(6.28318530717959 x \\right)} - \\frac{2.51327412287184 \\cdot 10^{-6} \\sin^{2}{\\left(6.28318530717959 t \\right)} \\cos{\\left(6.28318530717959 t \\right)} \\cos^{3}{\\left(6.28318530717959 x \\right)}}{\\left(0.1 \\sin{\\left(6.28318530717959 x \\right)} \\cos{\\left(6.28318530717959 t \\right)} + 1\\right)^{2}} - \\frac{2.01061929829747 \\cdot 10^{-8} \\sin^{2}{\\left(6.28318530717959 t \\right)} \\sin{\\left(6.28318530717959 x \\right)} \\cos{\\left(6.28318530717959 x \\right)}}{4.0 \\cdot 10^{-5} \\sin{\\left(6.28318530717959 x \\right)} \\cos{\\left(6.28318530717959 t \\right)} + 0.0004}\\end{matrix}\\right]$"
          },
          "metadata": {},
          "execution_count": 34
        }
      ]
    },
    {
      "cell_type": "code",
      "source": [
        "dU_dt = sym.diff(U, t)\n",
        "#dU_dt = round_expr(dU_dt, 5)\n",
        "dU_dt"
      ],
      "metadata": {
        "colab": {
          "base_uri": "https://localhost:8080/",
          "height": 58
        },
        "id": "ytMjOefMlkK8",
        "outputId": "b2d623aa-a69d-4b65-be4d-f4c6d09d1312"
      },
      "execution_count": 35,
      "outputs": [
        {
          "output_type": "execute_result",
          "data": {
            "text/plain": [
              "Matrix([\n",
              "[-0.000251327412287183*sin(6.28318530717959*t)*sin(6.28318530717959*x)],\n",
              "[-0.000251327412287183*cos(6.28318530717959*t)*cos(6.28318530717959*x)]])"
            ],
            "text/latex": "$\\displaystyle \\left[\\begin{matrix}- 0.000251327412287183 \\sin{\\left(6.28318530717959 t \\right)} \\sin{\\left(6.28318530717959 x \\right)}\\\\- 0.000251327412287183 \\cos{\\left(6.28318530717959 t \\right)} \\cos{\\left(6.28318530717959 x \\right)}\\end{matrix}\\right]$"
          },
          "metadata": {},
          "execution_count": 35
        }
      ]
    },
    {
      "cell_type": "code",
      "source": [
        "S = S.subs({A_sym: A, q_sym: q})\n",
        "#S = round_expr(S, 5)\n",
        "S"
      ],
      "metadata": {
        "colab": {
          "base_uri": "https://localhost:8080/",
          "height": 68
        },
        "id": "SSXL11Jgl7mv",
        "outputId": "c2a72e9d-b14b-468d-b3dd-6c1486b72d2f"
      },
      "execution_count": 36,
      "outputs": [
        {
          "output_type": "execute_result",
          "data": {
            "text/plain": [
              "Matrix([\n",
              "[                                                                                                                          0],\n",
              "[-9.664e-9*sin(6.28318530717959*t)*cos(6.28318530717959*x)/(4.0e-5*sin(6.28318530717959*x)*cos(6.28318530717959*t) + 0.0004)]])"
            ],
            "text/latex": "$\\displaystyle \\left[\\begin{matrix}0\\\\- \\frac{9.664 \\cdot 10^{-9} \\sin{\\left(6.28318530717959 t \\right)} \\cos{\\left(6.28318530717959 x \\right)}}{4.0 \\cdot 10^{-5} \\sin{\\left(6.28318530717959 x \\right)} \\cos{\\left(6.28318530717959 t \\right)} + 0.0004}\\end{matrix}\\right]$"
          },
          "metadata": {},
          "execution_count": 36
        }
      ]
    },
    {
      "cell_type": "code",
      "source": [
        "f = dU_dt + dF_dx + S\n",
        "#f = round_expr(f, 5)\n",
        "f"
      ],
      "metadata": {
        "colab": {
          "base_uri": "https://localhost:8080/",
          "height": 88
        },
        "id": "9Iu7PKNTlyku",
        "outputId": "6318e35d-7a3f-4c46-eabe-7fca5e415295"
      },
      "execution_count": 44,
      "outputs": [
        {
          "output_type": "execute_result",
          "data": {
            "text/plain": [
              "Matrix([\n",
              "[                                                                                                                                                                                                                                                                                                                                                                                                                                                                                                                                                                                                                                                                     0],\n",
              "[5.9839860068377*(0.1*sin(6.28318530717959*x)*cos(6.28318530717959*t) + 1)**0.5*cos(6.28318530717959*t)*cos(6.28318530717959*x) - 0.000251327412287183*cos(6.28318530717959*t)*cos(6.28318530717959*x) - 2.51327412287184e-6*sin(6.28318530717959*t)**2*cos(6.28318530717959*t)*cos(6.28318530717959*x)**3/(0.1*sin(6.28318530717959*x)*cos(6.28318530717959*t) + 1)**2 - 2.01061929829747e-8*sin(6.28318530717959*t)**2*sin(6.28318530717959*x)*cos(6.28318530717959*x)/(4.0e-5*sin(6.28318530717959*x)*cos(6.28318530717959*t) + 0.0004) - 9.664e-9*sin(6.28318530717959*t)*cos(6.28318530717959*x)/(4.0e-5*sin(6.28318530717959*x)*cos(6.28318530717959*t) + 0.0004)]])"
            ],
            "text/latex": "$\\displaystyle \\left[\\begin{matrix}0\\\\5.9839860068377 \\left(0.1 \\sin{\\left(6.28318530717959 x \\right)} \\cos{\\left(6.28318530717959 t \\right)} + 1\\right)^{0.5} \\cos{\\left(6.28318530717959 t \\right)} \\cos{\\left(6.28318530717959 x \\right)} - 0.000251327412287183 \\cos{\\left(6.28318530717959 t \\right)} \\cos{\\left(6.28318530717959 x \\right)} - \\frac{2.51327412287184 \\cdot 10^{-6} \\sin^{2}{\\left(6.28318530717959 t \\right)} \\cos{\\left(6.28318530717959 t \\right)} \\cos^{3}{\\left(6.28318530717959 x \\right)}}{\\left(0.1 \\sin{\\left(6.28318530717959 x \\right)} \\cos{\\left(6.28318530717959 t \\right)} + 1\\right)^{2}} - \\frac{2.01061929829747 \\cdot 10^{-8} \\sin^{2}{\\left(6.28318530717959 t \\right)} \\sin{\\left(6.28318530717959 x \\right)} \\cos{\\left(6.28318530717959 x \\right)}}{4.0 \\cdot 10^{-5} \\sin{\\left(6.28318530717959 x \\right)} \\cos{\\left(6.28318530717959 t \\right)} + 0.0004} - \\frac{9.664 \\cdot 10^{-9} \\sin{\\left(6.28318530717959 t \\right)} \\cos{\\left(6.28318530717959 x \\right)}}{4.0 \\cdot 10^{-5} \\sin{\\left(6.28318530717959 x \\right)} \\cos{\\left(6.28318530717959 t \\right)} + 0.0004}\\end{matrix}\\right]$"
          },
          "metadata": {},
          "execution_count": 44
        }
      ]
    },
    {
      "cell_type": "code",
      "source": [
        "f_code = sym.printing.ccode(f)\n",
        "print('f =', f_code)"
      ],
      "metadata": {
        "colab": {
          "base_uri": "https://localhost:8080/"
        },
        "id": "7r86adc96z_m",
        "outputId": "ee244947-00f3-4173-93e0-723c0882ab44"
      },
      "execution_count": 40,
      "outputs": [
        {
          "output_type": "stream",
          "name": "stdout",
          "text": [
            "f = /* Not supported in C: */\n",
            "/* ImmutableDenseMatrix */\n",
            "Matrix([\n",
            "[                                                                                                                         0],\n",
            "[5.98399*(0.1*sin(6.28319*x)*cos(6.28319*t) + 1)**0.5*cos(6.28319*t)*cos(6.28319*x) - 0.00025*cos(6.28319*t)*cos(6.28319*x)]])\n"
          ]
        }
      ]
    },
    {
      "cell_type": "code",
      "source": [
        "df_dt = sym.diff(f, t)\n",
        "df_dt = round_expr(df_dt, 5)\n",
        "df_dt"
      ],
      "metadata": {
        "id": "nyv5Md1SkU5P",
        "outputId": "e7fcb52a-571b-403c-c2e8-e57c5c70dfef",
        "colab": {
          "base_uri": "https://localhost:8080/",
          "height": 68
        }
      },
      "execution_count": 42,
      "outputs": [
        {
          "output_type": "execute_result",
          "data": {
            "text/plain": [
              "Matrix([\n",
              "[                                                                                                                                                                                                                                             0],\n",
              "[-1.87993*sin(6.28319*t)*sin(6.28319*x)*cos(6.28319*t)*cos(6.28319*x)/(0.1*sin(6.28319*x)*cos(6.28319*t) + 1)**0.5 - 37.5985*(0.1*sin(6.28319*x)*cos(6.28319*t) + 1)**0.5*sin(6.28319*t)*cos(6.28319*x) + 0.00157*sin(6.28319*t)*cos(6.28319*x)]])"
            ],
            "text/latex": "$\\displaystyle \\left[\\begin{matrix}0\\\\- \\frac{1.87993 \\sin{\\left(6.28319 t \\right)} \\sin{\\left(6.28319 x \\right)} \\cos{\\left(6.28319 t \\right)} \\cos{\\left(6.28319 x \\right)}}{\\left(0.1 \\sin{\\left(6.28319 x \\right)} \\cos{\\left(6.28319 t \\right)} + 1\\right)^{0.5}} - 37.5985 \\left(0.1 \\sin{\\left(6.28319 x \\right)} \\cos{\\left(6.28319 t \\right)} + 1\\right)^{0.5} \\sin{\\left(6.28319 t \\right)} \\cos{\\left(6.28319 x \\right)} + 0.00157 \\sin{\\left(6.28319 t \\right)} \\cos{\\left(6.28319 x \\right)}\\end{matrix}\\right]$"
          },
          "metadata": {},
          "execution_count": 42
        }
      ]
    },
    {
      "cell_type": "code",
      "source": [
        "df_code = sym.printing.ccode(df_dt)\n",
        "print('df_dt =', df_code)"
      ],
      "metadata": {
        "id": "_kzYZlSDkgkB",
        "outputId": "a3886bf1-dcec-4f4e-9ce1-19be7f7b1823",
        "colab": {
          "base_uri": "https://localhost:8080/"
        }
      },
      "execution_count": 43,
      "outputs": [
        {
          "output_type": "stream",
          "name": "stdout",
          "text": [
            "df_dt = /* Not supported in C: */\n",
            "/* ImmutableDenseMatrix */\n",
            "Matrix([\n",
            "[                                                                                                                                                                                                                                             0],\n",
            "[-1.87993*sin(6.28319*t)*sin(6.28319*x)*cos(6.28319*t)*cos(6.28319*x)/(0.1*sin(6.28319*x)*cos(6.28319*t) + 1)**0.5 - 37.5985*(0.1*sin(6.28319*x)*cos(6.28319*t) + 1)**0.5*sin(6.28319*t)*cos(6.28319*x) + 0.00157*sin(6.28319*t)*cos(6.28319*x)]])\n"
          ]
        }
      ]
    }
  ]
}