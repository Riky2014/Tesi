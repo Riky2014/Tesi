{
  "nbformat": 4,
  "nbformat_minor": 0,
  "metadata": {
    "colab": {
      "provenance": [],
      "authorship_tag": "ABX9TyMTqs7v4DFq++p0kiycpXwI",
      "include_colab_link": true
    },
    "kernelspec": {
      "name": "python3",
      "display_name": "Python 3"
    },
    "language_info": {
      "name": "python"
    }
  },
  "cells": [
    {
      "cell_type": "markdown",
      "metadata": {
        "id": "view-in-github",
        "colab_type": "text"
      },
      "source": [
        "<a href=\"https://colab.research.google.com/github/Riky2014/Tesi/blob/main/Geometry/Branching_angle.ipynb\" target=\"_parent\"><img src=\"https://colab.research.google.com/assets/colab-badge.svg\" alt=\"Open In Colab\"/></a>"
      ]
    },
    {
      "cell_type": "code",
      "execution_count": 4,
      "metadata": {
        "id": "3qw6s87X0-6w"
      },
      "outputs": [],
      "source": [
        "import numpy as np\n",
        "# B_coord = [[-9.25185 , 10.3493 , -9.78954], [-8.14313 , 10.4227, -9.84733], [-8.04094, 11.1637, -9.6976], [-10.0318, 10.2405, -9.55537], [-10.211, 11.4963, -9.81761], [-10.3283, 10.9657, -9.38961], [-9.6504, 12.5935, -9.57245]]\n",
        "# I_coord = [[-9.27933, 10.3225 , - 9.87661], [-8.15608, 10.3974, -9.8131], [-8.02574, 11.168, -9.75736], [-10.004, 10.2526, -9.52842], [-10.1604, 11.4797, -9.85637], [-10.3213, 11.0338, -9.46517], [-9.7176, 12.5485, -9.56363]]\n",
        "# O1_coord = [[-9.16576 , 10.3391 , - 9.73255], [-8.13428, 10.4183, -9.9107], [-8.09656, 11.2398, -9.67132], [-10.0866, 10.306, -9.58542], [-10.2392, 11.4295, -9.75926], [-10.2201, 10.9381, -9.30086], [-9.54984, 12.5616, -9.59659]]\n",
        "# O2_coord = [[-9.28846 , 10.3873 , -9.72431], [-8.12018, 10.5045, -9.83931], [-7.99757, 11.0816, -9.67011], [-10.0422, 10.1855, -9.57856], [-10.2314, 11.5869, -9.84256], [-10.4208, 10.9088, -9.36621], [-9.64449, 12.6575, -9.56393]]\n",
        "\n",
        "# B_ID = [416, 417, 418, 419, 420, 421, 422]\n",
        "# I_ID = [12, 25, 68, 174, 193, 199, 219]\n",
        "# O1_ID = [13, 26, 69, 175, 194, 200, 220]\n",
        "# O2_ID = [165, 58, 113, 389, 338, 304, 263]\n",
        "\n",
        "B_coord = [[-7.66652, 10.7709, -9.54311], [-9.19599, 12.5897, -9.52576]]\n",
        "I_coord = [[-7.74569, 10.8168, -9.57093], [-9.20812, 12.5644, -9.5724]]\n",
        "O1_coord = [[-7.74734, 10.7144, -9.52754], [-9.26638, 12.5544, -9.57319]]\n",
        "O2_coord = [[-7.57907, 10.741, -9.51856], [-9.15714, 12.6173, -9.44308]]"
      ]
    },
    {
      "cell_type": "code",
      "source": [
        "import numpy as np\n",
        "\n",
        "def bifurcation_angle(B_coord, I_coord, O1_coord, O2_coord):\n",
        "  \"\"\"\n",
        "  Calculates the bifurcation angle between the incoming branch and the two outgoing branches.\n",
        "\n",
        "  Args:\n",
        "    B_coord: The coordinates of the bifurcation point.\n",
        "    I_coord: The coordinates of the incoming branch point.\n",
        "    O1_coord: The coordinates of the first outgoing branch point.\n",
        "    O2_coord: The coordinates of the second outgoing branch point.\n",
        "\n",
        "  Returns:\n",
        "    A list of two angles in degrees, representing the bifurcation angles between the incoming branch and the two outgoing branches.\n",
        "  \"\"\"\n",
        "\n",
        "  # Convert the coordinate lists to numpy arrays for vector operations\n",
        "  B_coord = np.array(B_coord)\n",
        "  I_coord = np.array(I_coord)\n",
        "  O1_coord = np.array(O1_coord)\n",
        "  O2_coord = np.array(O2_coord)\n",
        "\n",
        "  # Calculate the vectors from the bifurcation point to the incoming and outgoing points.\n",
        "  I_vec = I_coord - B_coord\n",
        "  O1_vec = O1_coord - B_coord\n",
        "  O2_vec = O2_coord - B_coord\n",
        "\n",
        "  # Calculate the dot products between the vectors.\n",
        "  I_dot_O1 = np.dot(I_vec, O1_vec)\n",
        "  I_dot_O2 = np.dot(I_vec, O2_vec)\n",
        "\n",
        "  # Calculate the magnitudes of the vectors.\n",
        "  I_mag = np.linalg.norm(I_vec)\n",
        "  O1_mag = np.linalg.norm(O1_vec)\n",
        "  O2_mag = np.linalg.norm(O2_vec)\n",
        "\n",
        "  # Calculate the angles using the dot products and magnitudes.\n",
        "  angle_I_O1 = np.pi - np.arccos(I_dot_O1 / (I_mag * O1_mag))\n",
        "  angle_I_O2 = np.pi - np.arccos(I_dot_O2 / (I_mag * O2_mag))\n",
        "\n",
        "  return [angle_I_O1, angle_I_O2]\n",
        "\n",
        "# Calculate the bifurcation angles for each bifurcation.\n",
        "bifurcation_angles = []\n",
        "for i in range(len(B_coord)):\n",
        "  bifurcation_angles.append(bifurcation_angle(B_coord[i], I_coord[i], O1_coord[i], O2_coord[i]))\n",
        "\n",
        "# Print the bifurcation angles.\n",
        "print(\"Bifurcation angles:\")\n",
        "for i in range(len(bifurcation_angles)):\n",
        "  print(f\"Bifurcation {i+1}: {bifurcation_angles[i]}\")"
      ],
      "metadata": {
        "colab": {
          "base_uri": "https://localhost:8080/"
        },
        "id": "hQ0Hn7CU1PX6",
        "outputId": "63ef7521-ffa3-4d77-d87f-02b0be9ae1e9"
      },
      "execution_count": 5,
      "outputs": [
        {
          "output_type": "stream",
          "name": "stdout",
          "text": [
            "Bifurcation angles:\n",
            "Bifurcation 1: [1.9317139889964894, 0.191745209275763]\n",
            "Bifurcation 2: [2.4836696920524326, 0.2553979758041329]\n"
          ]
        }
      ]
    },
    {
      "cell_type": "code",
      "source": [],
      "metadata": {
        "id": "Gi0w9nJeFb8d"
      },
      "execution_count": null,
      "outputs": []
    }
  ]
}