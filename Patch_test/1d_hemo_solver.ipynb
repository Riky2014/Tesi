{
  "nbformat": 4,
  "nbformat_minor": 0,
  "metadata": {
    "colab": {
      "provenance": [],
      "include_colab_link": true
    },
    "kernelspec": {
      "name": "python3",
      "display_name": "Python 3"
    },
    "language_info": {
      "name": "python"
    }
  },
  "cells": [
    {
      "cell_type": "markdown",
      "metadata": {
        "id": "view-in-github",
        "colab_type": "text"
      },
      "source": [
        "<a href=\"https://colab.research.google.com/github/Riky2014/Tesi/blob/main/1d_hemo_solver.ipynb\" target=\"_parent\"><img src=\"https://colab.research.google.com/assets/colab-badge.svg\" alt=\"Open In Colab\"/></a>"
      ]
    },
    {
      "cell_type": "code",
      "source": [
        "%%capture\n",
        "!apt-get install software-properties-common\n",
        "!add-apt-repository -y ppa:fenics-packages/fenics\n",
        "!apt-get update -qq\n",
        "!apt install fenics"
      ],
      "metadata": {
        "id": "Vk2md9CPA9f1"
      },
      "execution_count": null,
      "outputs": []
    },
    {
      "cell_type": "code",
      "source": [
        "import logging\n",
        "import numpy as np\n",
        "from fenics import *\n",
        "from tqdm import tqdm\n",
        "import matplotlib.pyplot as plt\n",
        "\n",
        "# Set the logging level to suppress FFC messages\n",
        "set_log_level(LogLevel.ERROR)\n",
        "logging.getLogger('FFC').setLevel(logging.ERROR)\n",
        "logging.getLogger('UFL_LEGACY').setLevel(logging.WARNING)"
      ],
      "metadata": {
        "id": "qzvdV-jaGZG6"
      },
      "execution_count": null,
      "outputs": []
    },
    {
      "cell_type": "markdown",
      "source": [
        "# Data, Mesh and Function spaces"
      ],
      "metadata": {
        "id": "br10ska72pF5"
      }
    },
    {
      "cell_type": "code",
      "execution_count": null,
      "metadata": {
        "id": "uYE6EYza9Az2"
      },
      "outputs": [],
      "source": [
        "# Data\n",
        "x_left = 0.\n",
        "x_right = 1.0\n",
        "\n",
        "A0 = 1\n",
        "alpha = 1\n",
        "rho = 1050\n",
        "k_r = 2.416e-4\n",
        "K_tilde = 50e3\n",
        "beta = K_tilde * sqrt(A0)\n",
        "\n",
        "T = 1\n",
        "L = 1\n",
        "\n",
        "# Discretization parameter\n",
        "dt = 1e-5\n",
        "h = 1 / 256\n",
        "num_steps = T / dt\n",
        "N = int((x_right - x_left) / h)\n",
        "\n",
        "# Create a mesh on the interval [0, 1].\n",
        "mesh = IntervalMesh(N, x_left, x_right)\n",
        "x = MeshCoordinates(mesh)\n",
        "\n",
        "# Define the function space\n",
        "P1 = FiniteElement('P', mesh.ufl_cell(), 1)\n",
        "element = MixedElement([P1, P1])\n",
        "V = FunctionSpace(mesh, element)\n",
        "\n",
        "# Derivative function space\n",
        "D1 = FiniteElement('DG', mesh.ufl_cell(), 0)\n",
        "element_der = MixedElement([D1, D1])\n",
        "V_der = FunctionSpace(mesh, element_der)\n",
        "\n",
        "# Define the function space for exact solution\n",
        "P2 = FiniteElement('P', mesh.ufl_cell(), 2)\n",
        "element_exact = MixedElement([P2, P2])\n",
        "V_ex = FunctionSpace(mesh, element_exact)"
      ]
    },
    {
      "cell_type": "markdown",
      "source": [
        "# Exact solution and forcing term, linear"
      ],
      "metadata": {
        "id": "JU0rPDidl6_i"
      }
    },
    {
      "cell_type": "code",
      "source": [
        "# Exact solution and forcing term\n",
        "\n",
        "A_exact = Expression('1 + x[0] * t', degree = 2, t = 0)\n",
        "\n",
        "q_exact = Expression('x[0] * t', degree = 2, t = 0)\n",
        "\n",
        "dU_dt = Expression(('x[0]', 'x[0]'), degree = 2, t = 0)\n",
        "\n",
        "S = Expression(('0.', 'k_r * t * x[0] / (t * x[0] + 1)'), k_r = k_r , degree = 2, t = 0)\n",
        "\n",
        "dF_dx = Expression(('t', '- pow(t, 3) * pow(x[0], 2) / pow(t * x[0] + 1, 2) \\\n",
        "                          + 2 * pow(t, 2) * x[0] / (t * x[0] + 1) \\\n",
        "                          + K_tilde / (2 * rho) * t * pow(t * x[0] + 1, 0.5)'), K_tilde = K_tilde, rho = rho, degree = 2, t = 0)\n",
        "\n",
        "dU_dt_dt = Expression(('0.', '0.'), degree = 2, t = 0)\n",
        "\n",
        "dS_dt = Expression(('0.', '- k_r * t * pow(x[0], 2) / pow(t * x[0] + 1, 2) \\\n",
        "                           + k_r * x[0] / (t * x[0] + 1)'), k_r = k_r, degree = 2, t = 0)\n",
        "\n",
        "dF_dx_dt = Expression(('1', '  2 * pow(t, 3) * pow(x[0], 3) / pow(t * x[0] + 1, 3) \\\n",
        "                             - 5 * pow(t, 2) * pow(x[0], 2) / pow(t * x[0] + 1, 2) \\\n",
        "                             + 4 * t * x[0] / (t * x[0] + 1) \\\n",
        "                             + K_tilde / (4 * rho) * t * x[0] / pow(t * x[0] + 1, 0.5) \\\n",
        "                             + K_tilde / (2 * rho) * pow(t * x[0] + 1, 0.5)'),K_tilde = K_tilde, rho = rho, degree = 2, t = 0)\n",
        "\n",
        "f = dU_dt + S + dF_dx\n",
        "f_n = project(f, V_ex)\n",
        "\n",
        "df_dt = dU_dt_dt + dS_dt + dF_dx_dt\n",
        "df_dt_n = project(df_dt, V_ex)"
      ],
      "metadata": {
        "id": "hqO28-fbl8r-"
      },
      "execution_count": null,
      "outputs": []
    },
    {
      "cell_type": "markdown",
      "source": [
        "# Functions"
      ],
      "metadata": {
        "id": "xuUyHMzVF1Rz"
      }
    },
    {
      "cell_type": "code",
      "source": [
        "def H(A, q):\n",
        "  return as_tensor([[0, 1], [beta / (2 * rho * A0) * A ** 0.5 - (q / A) ** 2, 2 * q / A]])\n",
        "\n",
        "def F(A, q):\n",
        "  return as_vector([q, beta / (3 * rho * A0) * A ** 1.5 - beta / (3 * rho) * A0 ** 0.5 + q ** 2 / A])\n",
        "\n",
        "def B(A, q):\n",
        "  return as_vector([0, k_r * q / A])\n",
        "\n",
        "def S(A, q):\n",
        "  return as_vector([0, k_r * q / A])\n",
        "\n",
        "def dS_dU(A, q):\n",
        "  return as_tensor([[0, 0], [- k_r * q / A ** 2, k_r / A]])"
      ],
      "metadata": {
        "id": "jAgHzjNSvYuj"
      },
      "execution_count": null,
      "outputs": []
    },
    {
      "cell_type": "code",
      "source": [
        "def U(A, q):\n",
        "  return np.array([A, q])\n",
        "\n",
        "def H_vec(A, q):\n",
        "  return np.array([[0, 1], [beta / (2 * rho * A0) * A ** 0.5 - (q / A) ** 2, 2 * q / A]])\n",
        "\n",
        "def B_vec(A, q):\n",
        "  return np.array([0, k_r * q / A])\n",
        "\n",
        "def S_vec(A, q):\n",
        "  return np.array([0, k_r * q / A])\n",
        "\n",
        "def c_alpha(A, q, alpha = 1):\n",
        "  return (beta / (2 * rho * A0) * A ** 0.5 + (q / A) ** 2 * alpha * (alpha - 1)) ** 0.5\n",
        "\n",
        "def l1(A, q, alpha = 1):\n",
        "  return np.array([c_alpha(A, q, alpha) - alpha * q / A, 1.])\n",
        "\n",
        "def l2(A, q, alpha = 1):\n",
        "  return np.array([-c_alpha(A, q, alpha) - alpha * q / A, 1.])\n",
        "\n",
        "def CC(A, q, u_der, x):\n",
        "  du_dz = project(u_der, V_der)(x)\n",
        "  return U(A, q) - dt * H_vec(A, q) @ du_dz - dt * B_vec(A, q) + dt * f([x, x, x])"
      ],
      "metadata": {
        "id": "QetUIYLIe81R"
      },
      "execution_count": null,
      "outputs": []
    },
    {
      "cell_type": "code",
      "source": [
        "def inlet_bc(A, q, u_der, x):\n",
        "\n",
        "  q_inlet = (np.dot(l2(A(x), q(x)), CC(A(x), q(x), u_der, x)) - l2(A(x), q(x))[0] * U(A(x), q(x))[0] ) / l2(A(x), q(x))[1]\n",
        "\n",
        "  return q_inlet\n",
        "\n",
        "def outlet_bc(A, q, u_der, x):\n",
        "  matrix = np.array([[1, -1], [c_alpha(A(x), q(x), alpha) + alpha * q(x) / A(x), c_alpha(A(x), q(x), alpha) - alpha * q(x) / A(x)]])\n",
        "  array = np.array([np.dot(l1(A(x), q(x)), CC(A(x), q(x), u_der, x)), np.dot(l2(A(x), q(x)), U(A(x), q(x)) + dt * f([x,x,x]) - dt * S_vec(A(x), q(x)))])\n",
        "\n",
        "  A_out, q_out = matrix @ array / (2 * c_alpha(A(x), q(x)))\n",
        "\n",
        "  return A_out, q_out"
      ],
      "metadata": {
        "id": "gGb-E24uOvf6"
      },
      "execution_count": null,
      "outputs": []
    },
    {
      "cell_type": "code",
      "source": [
        "def update_time_step(t, dt):\n",
        "  t += dt\n",
        "  q_exact.t = t\n",
        "  A_exact.t = t\n",
        "  dU_dt.t = t\n",
        "  S.t = t\n",
        "  dF_dx.t = t\n",
        "  dU_dt_dt.t = t\n",
        "  dS_dt.t = t\n",
        "  dF_dx_dt.t = t\n",
        "\n",
        "  return t"
      ],
      "metadata": {
        "id": "2iK6LOGHt9EX"
      },
      "execution_count": null,
      "outputs": []
    },
    {
      "cell_type": "code",
      "source": [
        "def plot_solution():\n",
        "  fig, ax = plt.subplots(2, 2, figsize=(12, 12))\n",
        "  ax = ax.flatten()\n",
        "\n",
        "  # Format t to print only the first 4 digits\n",
        "  formatted_t = \"{:.5f}\".format(t)\n",
        "\n",
        "  # Plot for Area\n",
        "  ax[0].plot(Ah.compute_vertex_values(mesh), label='Approximation')\n",
        "  ax[0].plot(A_ex.compute_vertex_values(mesh), label='Exact')\n",
        "  ax[0].set_title(f'Area, t = {formatted_t}')\n",
        "  ax[0].set_xlabel(f'N = {N}, h = {h},  dt = {dt}')\n",
        "  ax[0].legend()\n",
        "\n",
        "  ax[2].plot(np.abs(Ah.compute_vertex_values(mesh) - A_ex.compute_vertex_values(mesh)))\n",
        "  ax[2].set_title(f'Error')\n",
        "  ax[2].set_xlabel(f'N = {N}, h = {h},  dt = {dt}')\n",
        "\n",
        "  # Plot for Flux\n",
        "  ax[1].plot(qh.compute_vertex_values(mesh), label='Approximation')\n",
        "  ax[1].plot(q_ex.compute_vertex_values(mesh), label='Exact')\n",
        "  ax[1].set_title(f'Flux, t = {formatted_t}')\n",
        "  ax[1].set_xlabel(f'N = {N}, h = {h},  dt = {dt}')\n",
        "  ax[1].legend()\n",
        "\n",
        "  ax[3].plot(np.abs(qh.compute_vertex_values(mesh) - q_ex.compute_vertex_values(mesh)))\n",
        "  ax[3].set_title(f'Error')\n",
        "  ax[3].set_xlabel(f'N = {N}, h = {h},  dt = {dt}')\n",
        "\n",
        "  plt.show()"
      ],
      "metadata": {
        "id": "ssbL42MdxO9k"
      },
      "execution_count": null,
      "outputs": []
    },
    {
      "cell_type": "markdown",
      "source": [
        "# Initial guess and boundary conditions"
      ],
      "metadata": {
        "id": "YHQzLzas5kvm"
      }
    },
    {
      "cell_type": "code",
      "source": [
        "# Define initial guess\n",
        "A0 = 1\n",
        "q0 = 0\n",
        "uh_old = interpolate(Expression(('A0', 'q0'), degree = 1, A0 = A0, q0 = q0), V)\n",
        "Ah_old, qh_old = uh_old.split()"
      ],
      "metadata": {
        "id": "esD4LK44w0i2"
      },
      "execution_count": null,
      "outputs": []
    },
    {
      "cell_type": "code",
      "source": [
        "# Boundary condition\n",
        "inlet = 'near(x[0], 0)'\n",
        "outlet = 'near(x[0], 1)'\n",
        "A_inlet = A0\n",
        "q_inlet = inlet_bc(Ah_old, qh_old, uh_old.dx(0), x_left)\n",
        "A_outlet, q_outlet = outlet_bc(Ah_old, qh_old, uh_old.dx(0), x_right)\n",
        "print(f'A inlet = {A_inlet}, q inlet = {q_inlet}')\n",
        "print(f'A outlet = {A_outlet}, q outlet = {q_outlet}')\n",
        "\n",
        "def update_bc(A_inlet, q_inlet, A_outlet, q_outlet):\n",
        "  bc_A_inlet = DirichletBC(V.sub(0), A_inlet, inlet)\n",
        "  bc_q_inlet = DirichletBC(V.sub(1), q_inlet, inlet)\n",
        "\n",
        "  bc_A_outlet = DirichletBC(V.sub(0), A_outlet, outlet)\n",
        "  bc_q_outlet = DirichletBC(V.sub(1), q_outlet, outlet)\n",
        "\n",
        "  bc = [bc_A_inlet, bc_q_inlet, bc_A_outlet, bc_q_outlet]\n",
        "\n",
        "  return bc\n",
        "\n",
        "bc = update_bc(A_inlet, q_inlet, A_outlet, q_outlet)"
      ],
      "metadata": {
        "id": "RbRHZ7RSkohh",
        "outputId": "ca5fdbec-c462-49b1-d711-84e9a1618f56",
        "colab": {
          "base_uri": "https://localhost:8080/"
        }
      },
      "execution_count": null,
      "outputs": [
        {
          "output_type": "stream",
          "name": "stdout",
          "text": [
            "A inlet = 1, q inlet = 0.0\n",
            "A outlet = 1.00001, q outlet = 9.999999999598031e-06\n"
          ]
        }
      ]
    },
    {
      "cell_type": "markdown",
      "source": [
        "# Definition of the variational problem"
      ],
      "metadata": {
        "id": "S1ONKZfn5sJn"
      }
    },
    {
      "cell_type": "code",
      "source": [
        "# Define trial functions and test functions\n",
        "A, q = TrialFunctions(V)\n",
        "v, z = TestFunctions(V)\n",
        "\n",
        "# Define the variational problem\n",
        "def LinearProblem(A_old, q_old):\n",
        "  a = inner(A, v) * dx + inner(q, z) * dx\n",
        "\n",
        "  L = (\n",
        "        A_old * v * dx\n",
        "      + q_old * z * dx\n",
        "      + dt * ((F(A_old, q_old) - dt / 2 * dot(H(A_old, q_old), S(A_old, q_old))))[0] * v.dx(0) * dx\n",
        "      + dt * ((F(A_old, q_old) - dt / 2 * dot(H(A_old, q_old), S(A_old, q_old))))[1] * z.dx(0) * dx\n",
        "      + dt ** 2 / 2 * (dot(dS_dU(A_old, q_old), F(A_old, q_old).dx(0)))[0] * v * dx\n",
        "      + dt ** 2 / 2 * (dot(dS_dU(A_old, q_old), F(A_old, q_old).dx(0)))[1] * z * dx\n",
        "      - dt ** 2 / 2 * (dot(H(A_old, q_old), F(A_old, q_old).dx(0)))[0] * v.dx(0) * dx\n",
        "      - dt ** 2 / 2 * (dot(H(A_old, q_old), F(A_old, q_old).dx(0)))[1] * z.dx(0) * dx\n",
        "      - dt * (S(A_old, q_old) - dt / 2 * dot(dS_dU(A_old, q_old), S(A_old, q_old)))[0] * v * dx\n",
        "      - dt * (S(A_old, q_old) - dt / 2 * dot(dS_dU(A_old, q_old), S(A_old, q_old)))[1] * z * dx\n",
        "      + dt * f[0] * v * dx\n",
        "      + dt * f[1] * z * dx\n",
        "      + dt ** 2 / 2 * (dot(H(A_old, q_old), f))[0] * v.dx(0) * dx\n",
        "      + dt ** 2 / 2 * (dot(H(A_old, q_old), f))[1] * z.dx(0) * dx\n",
        "      + dt ** 2 / 2 * (- dot(dS_dU(A_old, q_old), f) + df_dt)[0] * v * dx\n",
        "      + dt ** 2 / 2 * (- dot(dS_dU(A_old, q_old), f) + df_dt)[1] * z * dx\n",
        "  )\n",
        "\n",
        "  return a, L"
      ],
      "metadata": {
        "id": "WxOkORNyxP5_"
      },
      "execution_count": null,
      "outputs": []
    },
    {
      "cell_type": "markdown",
      "source": [
        "# Solution"
      ],
      "metadata": {
        "id": "VTDgFTAo5vsV"
      }
    },
    {
      "cell_type": "code",
      "source": [
        "# Time stepping\n",
        "uh = Function(V)\n",
        "t = 0\n",
        "i = 0\n",
        "\n",
        "global_error_A = 0\n",
        "global_error_q = 0\n",
        "\n",
        "for n in tqdm(range(round(num_steps))):\n",
        "\n",
        "  i +=1\n",
        "\n",
        "  # Update time step\n",
        "  t = update_time_step(t, dt)\n",
        "  f_n = project(f, V)\n",
        "  df_dt_n = project(df_dt, V)\n",
        "\n",
        "  # Solve the problem\n",
        "  a, L = LinearProblem(Ah_old, qh_old)\n",
        "  solve(a == L, uh, bc)\n",
        "  Ah, qh = uh.split(deepcopy = True)\n",
        "\n",
        "  A_ex = interpolate(A_exact, V_ex.sub(0).collapse())\n",
        "  q_ex = interpolate(q_exact, V_ex.sub(1).collapse())\n",
        "  error = np.array([errornorm(Ah, A_ex, 'L2'), errornorm(qh, q_ex, 'L2')])\n",
        "\n",
        "  if error[0] > global_error_A:\n",
        "    global_error_A = error[0]\n",
        "\n",
        "  if error[1] > global_error_q:\n",
        "    global_error_q = error[1]\n",
        "\n",
        "  # Compute errors\n",
        "  if (i % 100 == 0):\n",
        "    plot_solution()\n",
        "    print(f'Interation {i} / {round(num_steps)}')\n",
        "    print(f't = %.4f: error = {error}' % (t))\n",
        "    print(f'Global error A = {global_error_A}, Global error q = {global_error_q}')\n",
        "    print()\n",
        "\n",
        "  # Update previous solution\n",
        "  Ah_old.assign(Ah)\n",
        "  qh_old.assign(qh)\n",
        "\n",
        "  q_inlet = inlet_bc(Ah_old, qh_old, uh.dx(0), x_left)\n",
        "  A_outlet, q_outlet = outlet_bc(Ah_old, qh_old, uh.dx(0), x_right)\n",
        "  bc = update_bc(A_inlet, q_inlet, A_outlet, q_outlet)\n",
        "  print(f'A inlet = {A_inlet}, q inlet = {q_inlet}')\n",
        "  print(f'A outlet = {A_outlet}, q outlet = {q_outlet}')\n",
        "\n",
        "print(f'N = {N}, h = {h}, dt = {dt} : Global error A = {global_error_A}, Global error q = {global_error_q}')"
      ],
      "metadata": {
        "id": "1g5fnjK7cA-T"
      },
      "execution_count": null,
      "outputs": []
    }
  ]
}
