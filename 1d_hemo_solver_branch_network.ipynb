{
  "nbformat": 4,
  "nbformat_minor": 0,
  "metadata": {
    "colab": {
      "provenance": [],
      "include_colab_link": true
    },
    "kernelspec": {
      "name": "python3",
      "display_name": "Python 3"
    },
    "language_info": {
      "name": "python"
    }
  },
  "cells": [
    {
      "cell_type": "markdown",
      "metadata": {
        "id": "view-in-github",
        "colab_type": "text"
      },
      "source": [
        "<a href=\"https://colab.research.google.com/github/Riky2014/Tesi/blob/main/1d_hemo_solver_branch_network.ipynb\" target=\"_parent\"><img src=\"https://colab.research.google.com/assets/colab-badge.svg\" alt=\"Open In Colab\"/></a>"
      ]
    },
    {
      "cell_type": "code",
      "source": [
        "%%capture\n",
        "!apt-get install software-properties-common\n",
        "!add-apt-repository -y ppa:fenics-packages/fenics\n",
        "!apt-get update -qq\n",
        "!apt install fenics"
      ],
      "metadata": {
        "id": "Vk2md9CPA9f1"
      },
      "execution_count": 1,
      "outputs": []
    },
    {
      "cell_type": "code",
      "source": [
        "from fenics import *\n",
        "\n",
        "import logging\n",
        "import numpy as np\n",
        "from tqdm import tqdm\n",
        "import matplotlib.pyplot as plt\n",
        "\n",
        "# Set the logging level to suppress FFC messages\n",
        "set_log_level(LogLevel.ERROR)\n",
        "logging.getLogger('FFC').setLevel(logging.ERROR)\n",
        "logging.getLogger('UFL_LEGACY').setLevel(logging.WARNING)"
      ],
      "metadata": {
        "id": "qzvdV-jaGZG6"
      },
      "execution_count": 2,
      "outputs": []
    },
    {
      "cell_type": "markdown",
      "source": [
        "# Dictionaries containing network information"
      ],
      "metadata": {
        "id": "jW_Y1fKU16sG"
      }
    },
    {
      "cell_type": "code",
      "source": [
        "# Define branches\n",
        "branches = {\n",
        "    '0': {\n",
        "        'L': 1.28,\n",
        "        'A0': 0.0740,\n",
        "        'beta': 0.0580e7,\n",
        "        'boundary': {\n",
        "            'left': {'type': 'inlet', 'connected_to': [], 'alpha':[]},\n",
        "            'right': {'type': 'branch', 'connected_to': ['2', '9'], 'alpha': []}\n",
        "        }\n",
        "    },\n",
        "    '2': {\n",
        "        'L': 1.3212,\n",
        "        'A0': 0.0347,\n",
        "        'beta': 0.0199e7,\n",
        "        'boundary': {\n",
        "            'left': {'type': 'branch', 'connected_to': ['0'], 'alpha':[0.7748]},\n",
        "            'right': {'type': 'branch', 'connected_to': ['4', '5'], 'alpha':[]}\n",
        "        }\n",
        "    },\n",
        "\n",
        "    '4': {\n",
        "        'L': 3.0909,\n",
        "        'A0': 0.0338,\n",
        "        'beta': 0.0196e7,\n",
        "        'boundary': {\n",
        "            'left': {'type': 'branch', 'connected_to': ['2'], 'alpha':[0.7054]},\n",
        "            'right': {'type': 'outlet', 'connected_to': [], 'alpha':[]}\n",
        "        }\n",
        "    },\n",
        "\n",
        "    '5': {\n",
        "        'L': 1.1713,\n",
        "        'A0': 0.0256,\n",
        "        'beta': 0.0171e7,\n",
        "        'boundary': {\n",
        "            'left': {'type': 'branch', 'connected_to': ['2'], 'alpha':[0.9872]},\n",
        "            'right': {'type': 'branch', 'connected_to': ['7', '8'], 'alpha':[]}\n",
        "        }\n",
        "    },\n",
        "\n",
        "    '7': {\n",
        "        'L': 4.2887,\n",
        "        'A0': 0.1252,\n",
        "        'beta': 0.0755e7,\n",
        "        'boundary': {\n",
        "            'left': {'type': 'branch', 'connected_to': ['5'], 'alpha':[1.2182]},\n",
        "            'right': {'type': 'inlet', 'connected_to': [], 'alpha':[]}\n",
        "        }\n",
        "    },\n",
        "\n",
        "    '8': {\n",
        "        'L': 4.9727,\n",
        "        'A0': 0.0602,\n",
        "        'beta': 0.0262e7,\n",
        "        'boundary': {\n",
        "            'left': {'type': 'branch', 'connected_to': ['5'], 'alpha':[1.3456]},\n",
        "            'right': {'type': 'outlet', 'connected_to': [], 'alpha':[]}\n",
        "        }\n",
        "    },\n",
        "\n",
        "    '9': {\n",
        "        'L': 1.0012,\n",
        "        'A0': 0.0295,\n",
        "        'beta': 0.0183e7,\n",
        "        'boundary': {\n",
        "            'left': {'type': 'branch', 'connected_to': ['0'], 'alpha':[0.7771]},\n",
        "            'right': {'type': 'branch', 'connected_to': ['11', '21'], 'alpha':[]}\n",
        "        }\n",
        "    },\n",
        "\n",
        "    '11': {\n",
        "        'L': 1.8936,\n",
        "        'A0': 0.0301,\n",
        "        'beta': 0.0185e7,\n",
        "        'boundary': {\n",
        "            'left': {'type': 'branch', 'connected_to': ['9'], 'alpha':[1.1379]},\n",
        "            'right': {'type': 'branch', 'connected_to': ['13', '20'], 'alpha':[]}\n",
        "        }\n",
        "    },\n",
        "\n",
        "    '13': {\n",
        "        'L': 0.6961,\n",
        "        'A0': 0.0800,\n",
        "        'beta': 0.0302e7,\n",
        "        'boundary': {\n",
        "            'left': {'type': 'branch', 'connected_to': ['11'], 'alpha':[1.1364]},\n",
        "            'right': {'type': 'branch', 'connected_to': ['15', '19'], 'alpha':[]}\n",
        "        }\n",
        "    },\n",
        "\n",
        "    '15': {\n",
        "        'L': 2.1127,\n",
        "        'A0': 0.0435,\n",
        "        'beta': 0.0223e7,\n",
        "        'boundary': {\n",
        "            'left': {'type': 'branch', 'connected_to': ['13'], 'alpha':[1.0024]},\n",
        "            'right': {'type': 'branch', 'connected_to': ['17', '18'], 'alpha':[]}\n",
        "        }\n",
        "    },\n",
        "\n",
        "    '17': {\n",
        "        'L': 4.1224,\n",
        "        'A0': 0.0271,\n",
        "        'beta': 0.0176e7,\n",
        "        'boundary': {\n",
        "            'left': {'type': 'branch', 'connected_to': ['15'], 'alpha':[0.8910]},\n",
        "            'right': {'type': 'outlet', 'connected_to': [], 'alpha':[]}\n",
        "        }\n",
        "    },\n",
        "\n",
        "    '18': {\n",
        "        'L': 3.9169,\n",
        "        'A0': 0.0323,\n",
        "        'beta': 0.0192e7,\n",
        "        'boundary': {\n",
        "            'left': {'type': 'branch', 'connected_to': ['15'], 'alpha':[0.9184]},\n",
        "            'right': {'type': 'outlet', 'connected_to': [], 'alpha':[]}\n",
        "        }\n",
        "    },\n",
        "\n",
        "    '19': {\n",
        "        'L': 3.3325,\n",
        "        'A0': 0.0623,\n",
        "        'beta': 0.0266e7,\n",
        "        'boundary': {\n",
        "            'left': {'type': 'branch', 'connected_to': ['13'], 'alpha':[0.9820]},\n",
        "            'right': {'type': 'outlet', 'connected_to': [], 'alpha':[]}\n",
        "        }\n",
        "    },\n",
        "\n",
        "    '20': {\n",
        "        'L': 4.8650,\n",
        "        'A0': 0.1260,\n",
        "        'beta': 0.0757e7,\n",
        "        'boundary': {\n",
        "            'left': {'type': 'branch', 'connected_to': ['11'], 'alpha':[1.3204]},\n",
        "            'right': {'type': 'inlet', 'connected_to': [], 'alpha':[]}\n",
        "        }\n",
        "    },\n",
        "\n",
        "    '21': {\n",
        "        'L': 2.5496,\n",
        "        'A0': 0.0331,\n",
        "        'beta': 0.0194e7,\n",
        "        'boundary': {\n",
        "            'left': {'type': 'branch', 'connected_to': ['9'], 'alpha':[0.8728]},\n",
        "            'right': {'type': 'outlet', 'connected_to': [], 'alpha':[]}\n",
        "        }\n",
        "    },\n",
        "}"
      ],
      "metadata": {
        "id": "H0XUi1fEu2Tr"
      },
      "execution_count": 80,
      "outputs": []
    },
    {
      "cell_type": "code",
      "source": [
        "branch_boundary_conditions = {}\n",
        "\n",
        "for branch_name, branch_data in branches.items():\n",
        "    branch_boundary_conditions[branch_name] = {\n",
        "        'left': {\n",
        "            'A_left': branch_data['A0'],\n",
        "            'q_left': 0\n",
        "        },\n",
        "        'right': {\n",
        "            'A_right': branch_data['A0'],\n",
        "            'q_right': 0\n",
        "        }\n",
        "    }"
      ],
      "metadata": {
        "id": "ZzI6VNuoyIVv"
      },
      "execution_count": 81,
      "outputs": []
    },
    {
      "cell_type": "code",
      "source": [
        "# Print network information\n",
        "print(\"\\nNetwork Information:\")\n",
        "num_branches = len(branches)\n",
        "print(f\"Number of branches: {num_branches}\")\n",
        "\n",
        "print(\"\\nBranch Connectivity:\")\n",
        "for branch_name, branch_data in branches.items():\n",
        "    start_connections = branch_data['boundary']['left']['connected_to']\n",
        "    end_connections = branch_data['boundary']['right']['connected_to']\n",
        "    print(f\"{branch_name}:\")\n",
        "    print(f\"  Start connected to: {start_connections}\")\n",
        "    print(f\"  End connected to: {end_connections}\")"
      ],
      "metadata": {
        "colab": {
          "base_uri": "https://localhost:8080/"
        },
        "id": "_5HqgEFH4jdU",
        "outputId": "4d23e1ca-f8f6-4c2e-8f4a-511ac10be141"
      },
      "execution_count": 82,
      "outputs": [
        {
          "output_type": "stream",
          "name": "stdout",
          "text": [
            "\n",
            "Network Information:\n",
            "Number of branches: 15\n",
            "\n",
            "Branch Connectivity:\n",
            "0:\n",
            "  Start connected to: []\n",
            "  End connected to: ['2', '9']\n",
            "2:\n",
            "  Start connected to: ['0']\n",
            "  End connected to: ['4', '5']\n",
            "4:\n",
            "  Start connected to: ['2']\n",
            "  End connected to: []\n",
            "5:\n",
            "  Start connected to: ['2']\n",
            "  End connected to: ['7', '8']\n",
            "7:\n",
            "  Start connected to: ['5']\n",
            "  End connected to: []\n",
            "8:\n",
            "  Start connected to: ['5']\n",
            "  End connected to: []\n",
            "9:\n",
            "  Start connected to: ['0']\n",
            "  End connected to: ['11', '21']\n",
            "11:\n",
            "  Start connected to: ['9']\n",
            "  End connected to: ['13', '20']\n",
            "13:\n",
            "  Start connected to: ['11']\n",
            "  End connected to: ['15', '19']\n",
            "15:\n",
            "  Start connected to: ['13']\n",
            "  End connected to: ['17', '18']\n",
            "17:\n",
            "  Start connected to: ['15']\n",
            "  End connected to: []\n",
            "18:\n",
            "  Start connected to: ['15']\n",
            "  End connected to: []\n",
            "19:\n",
            "  Start connected to: ['13']\n",
            "  End connected to: []\n",
            "20:\n",
            "  Start connected to: ['11']\n",
            "  End connected to: []\n",
            "21:\n",
            "  Start connected to: ['9']\n",
            "  End connected to: []\n"
          ]
        }
      ]
    },
    {
      "cell_type": "markdown",
      "source": [
        "# Global Data"
      ],
      "metadata": {
        "id": "br10ska72pF5"
      }
    },
    {
      "cell_type": "code",
      "execution_count": 83,
      "metadata": {
        "id": "uYE6EYza9Az2"
      },
      "outputs": [],
      "source": [
        "# Global data\n",
        "T = 1\n",
        "\n",
        "# gamma_1 = 0 # see https://www.researchgate.net/publication/37445437_One-dimensional_models_for_blood_flow_in_arteries pag 12 for reference values\n",
        "# gamma_2 = 2\n",
        "# gamma_3 = 2\n",
        "\n",
        "alpha = 1\n",
        "k_r = 2.419\n",
        "rho = 1.050"
      ]
    },
    {
      "cell_type": "markdown",
      "source": [
        "# Discretization parameter"
      ],
      "metadata": {
        "id": "sehnbi0jx39A"
      }
    },
    {
      "cell_type": "code",
      "source": [
        "# Given values\n",
        "dt = 2e-5\n",
        "N_T = round(T / dt)\n",
        "\n",
        "h = 1 / 32\n",
        "\n",
        "print(f'h = {h}')\n",
        "print(f'dt = {dt}')\n",
        "print(f'CFL ratio : {h / dt}')"
      ],
      "metadata": {
        "colab": {
          "base_uri": "https://localhost:8080/"
        },
        "id": "diTSTx__w86C",
        "outputId": "67b92cdc-4636-4a3c-d7db-14cd2f4ae64a"
      },
      "execution_count": 86,
      "outputs": [
        {
          "output_type": "stream",
          "name": "stdout",
          "text": [
            "h = 0.03125\n",
            "dt = 2e-05\n",
            "CFL ratio : 1562.4999999999998\n"
          ]
        }
      ]
    },
    {
      "cell_type": "markdown",
      "source": [
        "# Mesh and function spaces"
      ],
      "metadata": {
        "id": "6WBopf3iyN0_"
      }
    },
    {
      "cell_type": "code",
      "source": [
        "# Function to create meshes and function spaces\n",
        "def create_mesh_and_function_spaces(branches, h):\n",
        "    for branch_name, branch_data in branches.items():\n",
        "        L = branch_data['L']\n",
        "        N = int(L / h)\n",
        "        mesh = IntervalMesh(N, 0, L)\n",
        "        branch_data['mesh'] = mesh\n",
        "\n",
        "        P1 = FiniteElement('P', mesh.ufl_cell(), 1)\n",
        "        element = MixedElement([P1, P1])\n",
        "        V = FunctionSpace(mesh, element)\n",
        "        branch_data['V'] = V\n",
        "\n",
        "        D1 = FiniteElement('DG', mesh.ufl_cell(), 0)\n",
        "        element_der = MixedElement([D1, D1])\n",
        "        V_der = FunctionSpace(mesh, element_der)\n",
        "        branch_data['V_der'] = V_der"
      ],
      "metadata": {
        "id": "oQ2s43yMwGmt"
      },
      "execution_count": 87,
      "outputs": []
    },
    {
      "cell_type": "code",
      "source": [
        "# Create meshes and function spaces\n",
        "create_mesh_and_function_spaces(branches, h)"
      ],
      "metadata": {
        "id": "lKV-wLqOujqL"
      },
      "execution_count": 88,
      "outputs": []
    },
    {
      "cell_type": "markdown",
      "source": [
        "# Initial conditions"
      ],
      "metadata": {
        "id": "9cEyrOkxzNlF"
      }
    },
    {
      "cell_type": "code",
      "source": [
        "# Function to initialize branches\n",
        "def initialize_branches(branches):\n",
        "    for branch_name, branch_data in branches.items():\n",
        "        A0 = branch_data['A0']\n",
        "        q0 = 0  # Assuming initial flow is zero\n",
        "        V = branch_data['V']\n",
        "\n",
        "        uh_old = interpolate(Expression(('A0', 'q0'), degree=1, A0=A0, q0=q0), V)\n",
        "        Ah_old, qh_old = uh_old.split()\n",
        "\n",
        "        branch_data['uh'] = uh_old\n",
        "        branch_data['Ah_old'] = Ah_old\n",
        "        branch_data['qh_old'] = qh_old"
      ],
      "metadata": {
        "id": "wM8sb85WxRRS"
      },
      "execution_count": 89,
      "outputs": []
    },
    {
      "cell_type": "markdown",
      "source": [
        "# Functions"
      ],
      "metadata": {
        "id": "xuUyHMzVF1Rz"
      }
    },
    {
      "cell_type": "markdown",
      "source": [
        "## Assemble matrix for algebraic formulation"
      ],
      "metadata": {
        "id": "_rK_aXd8yt5c"
      }
    },
    {
      "cell_type": "code",
      "source": [
        "def H(A, q, A0, beta):\n",
        "  return as_tensor([[0, 1], [beta / (2 * rho * A0) * A ** 0.5 - (q / A) ** 2, 2 * q / A]])\n",
        "\n",
        "def F(A, q, A0, beta):\n",
        "  return as_vector([q, beta / (3 * rho * A0) * A ** 1.5 - beta / (3 * rho) * A0 ** 0.5 + q ** 2 / A])\n",
        "\n",
        "def B(A, q):\n",
        "  return as_vector([0, k_r * q / A])\n",
        "\n",
        "def S(A, q):\n",
        "  return as_vector([0, k_r * q / A])\n",
        "\n",
        "def dS_dU(A, q):\n",
        "  return as_tensor([[0, 0], [- k_r * q / A ** 2, k_r / A]])"
      ],
      "metadata": {
        "id": "jAgHzjNSvYuj"
      },
      "execution_count": 90,
      "outputs": []
    },
    {
      "cell_type": "code",
      "source": [
        "# Those are necessary to compute poinwise values for boundary condition\n",
        "def U(A, q):\n",
        "  return np.array([A, q])\n",
        "\n",
        "def H_vec(A, q, A0, beta):\n",
        "  return np.array([[0, 1], [beta / (2 * rho * A0) * A ** 0.5 - (q / A) ** 2, 2 * q / A]])\n",
        "\n",
        "def B_vec(A, q):\n",
        "  return np.array([0, k_r * q / A])\n",
        "\n",
        "def S_vec(A, q):\n",
        "  return np.array([0, k_r * q / A])\n",
        "\n",
        "def c_alpha(A, q, A0, beta, alpha = 1):\n",
        "  return (beta / (2 * rho * A0) * A ** 0.5 + (q / A) ** 2 * alpha * (alpha - 1)) ** 0.5\n",
        "\n",
        "def l1(A, q, A0, beta, alpha = 1):\n",
        "  return np.array([c_alpha(A, q, A0, beta, alpha) - alpha * q / A, 1.])\n",
        "\n",
        "def l2(A, q, A0, beta, alpha = 1):\n",
        "  return np.array([- c_alpha(A, q, A0, beta, alpha) - alpha * q / A, 1.])\n",
        "\n",
        "def CC(A, q, A0, beta, u_der, V_der, x):\n",
        "  du_dz = project(u_der, V_der)(x)\n",
        "  return U(A, q) - dt * H_vec(A, q, A0, beta) @ du_dz - dt * B_vec(A, q)"
      ],
      "metadata": {
        "id": "QetUIYLIe81R"
      },
      "execution_count": 91,
      "outputs": []
    },
    {
      "cell_type": "markdown",
      "source": [
        "## Boundary condition"
      ],
      "metadata": {
        "id": "l5jGHZzpyyy3"
      }
    },
    {
      "cell_type": "code",
      "source": [
        "# Impose Dirichlet boundary condition at the inlet\n",
        "def inlet_bc_q(A, q, A0, beta, u_der, V_der, x):\n",
        "  q_inlet = (np.dot(l2(A(x), q(x), A0, beta), CC(A(x), q(x), A0, beta, u_der, V_der, x)) - l2(A(x), q(x), A0, beta)[0] * U(A(x), q(x))[0] ) / l2(A(x), q(x), A0, beta)[1]\n",
        "\n",
        "  return q_inlet\n",
        "\n",
        "def inlet_bc_A(A, q, A0, beta, u_der, V_der, x):\n",
        "  A_inlet = (np.dot(l2(A(x), q(x), A0, beta), CC(A(x), q(x), A0, beta, u_der, V_der, x)) - l2(A(x), q(x), A0, beta)[0] * U(A(x), q(x))[1] ) / l2(A(x), q(x), A0, beta)[0]\n",
        "\n",
        "  return A_inlet\n",
        "\n",
        "# Impose Non Reflecting boundary condition at the outlet\n",
        "def outlet_bc(A, q, A0, beta, u_der, V_der, x):\n",
        "  matrix = np.array([[1, -1], [c_alpha(A(x), q(x), A0, beta, alpha) + alpha * q(x) / A(x), c_alpha(A(x), q(x), A0, beta, alpha) - alpha * q(x) / A(x)]])\n",
        "  array = np.array([np.dot(l1(A(x), q(x), A0, beta), CC(A(x), q(x), A0, beta, u_der, V_der, x)), np.dot(l2(A(x), q(x), A0, beta), U(A(x), q(x)) - dt * S_vec(A(x), q(x)))])\n",
        "\n",
        "  A_out, q_out = matrix @ array / (2 * c_alpha(A(x), q(x), A0, beta, alpha))\n",
        "\n",
        "  return A_out, q_out"
      ],
      "metadata": {
        "id": "gGb-E24uOvf6"
      },
      "execution_count": 92,
      "outputs": []
    },
    {
      "cell_type": "code",
      "source": [
        "def boundary_L(x, on_boundary):\n",
        "    tol = 1E-14\n",
        "    return on_boundary and near(x[0], 0, tol)\n",
        "\n",
        "def boundary_R(x, on_boundary):\n",
        "    tol = 1E-14\n",
        "    return on_boundary and x[0]>0.1"
      ],
      "metadata": {
        "id": "bFqugW3YNuS_"
      },
      "execution_count": 93,
      "outputs": []
    },
    {
      "cell_type": "code",
      "source": [
        "def update_inlet_outlet_bcs(branches, t):\n",
        "    for branch_id, data in branches.items():\n",
        "        # Retrieve the boundary conditions for the start of the branch\n",
        "        left_boundary = data['boundary']['left']\n",
        "        if left_boundary['type'] == 'inlet':\n",
        "            A_inlet = data['A0'] + 0.01 * t\n",
        "            q_inlet = inlet_bc_q(data['Ah_old'], data['qh_old'], data['A0'], data['beta'], data['uh'].dx(0), data['V_der'], 0)\n",
        "            #q_inlet = np.where(t < 0.5, 50 * np.sin(2 * np.pi * t / T) ** 2, 0)\n",
        "            #A_inlet = inlet_bc_A(data['Ah_old'], data['qh_old'], data['A0'], data['beta'], data['uh'].dx(0), data['V_der'], 0)\n",
        "            branch_boundary_conditions[branch_id]['left'] = {'A_left': A_inlet, 'q_left': q_inlet}\n",
        "\n",
        "        if left_boundary['type'] == 'outlet':\n",
        "            A_outlet, q_outlet = outlet_bc(data['Ah_old'], data['qh_old'], data['A0'], data['beta'], data['uh'].dx(0), data['V_der'], 0)\n",
        "            branch_boundary_conditions[branch_id]['left'] = {'A_left': A_outlet, 'q_left': q_outlet}\n",
        "\n",
        "        # Retrieve the boundary conditions for the end of the branch\n",
        "        right_boundary = data['boundary']['right']\n",
        "        if right_boundary['type'] == 'inlet':\n",
        "            A_inlet = data['A0'] + 0.01 * t\n",
        "            q_inlet = inlet_bc_q(data['Ah_old'], data['qh_old'], data['A0'], data['beta'], data['uh'].dx(0), data['V_der'], 0)\n",
        "            #q_inlet = np.where(t < 0.5, 50 * np.sin(2 * np.pi * t / T) ** 2, 0)\n",
        "            #A_inlet = inlet_bc_A(data['Ah_old'], data['qh_old'], data['A0'], data['beta'], data['uh'].dx(0), data['V_der'],  data['L'])\n",
        "            branch_boundary_conditions[branch_id]['left'] = {'A_left': A_inlet, 'q_left': q_inlet}\n",
        "\n",
        "        if right_boundary['type'] == 'outlet':\n",
        "            A_outlet, q_outlet = outlet_bc(data['Ah_old'], data['qh_old'], data['A0'], data['beta'], data['uh'].dx(0), data['V_der'], data['L'])\n",
        "            branch_boundary_conditions[branch_id]['right'] = {'A_right': A_outlet, 'q_right': q_outlet}"
      ],
      "metadata": {
        "id": "OOYlED-6lfUi"
      },
      "execution_count": 94,
      "outputs": []
    },
    {
      "cell_type": "markdown",
      "source": [
        "## Branching condition"
      ],
      "metadata": {
        "id": "f_aIYxw_y_Uf"
      }
    },
    {
      "cell_type": "code",
      "source": [
        "def C_A_in(A, q, A0, beta, gamma):\n",
        "  return beta / (2 * rho * A0 * sqrt(A)) - (q ** 2 / A ** 3) * (1 - 2 * gamma * np.sign(q))\n",
        "\n",
        "def C_q_in(A, q, A0, gamma):\n",
        "  return (q / A ** 2) * (1 - 2 * gamma * np.sign(q))\n",
        "\n",
        "def b_in(A, q, A0, beta, gamma):\n",
        "  return beta / rho * (A - 2 * sqrt(A * A0)) / (2 * A0 * sqrt(A)) + 0.5 * (q / A) ** 2 * (1 - 2 * gamma * np.sign(q))\n",
        "\n",
        "def C_A_out(A, q, A0, alpha, beta, gamma):\n",
        "  return beta / (2 * rho * A0 * sqrt(A)) - (q ** 2 / A ** 3) * (1 + 2 * gamma * sqrt(2 * (1 - cos(alpha))) * np.sign(q))\n",
        "\n",
        "def C_q_out(A, q, A0, alpha, gamma):\n",
        "  return (q / A ** 2) * (1 + 2 * gamma * sqrt(2 * (1 - cos(alpha))) * np.sign(q))\n",
        "\n",
        "def b_out(A, q, A0, alpha, beta, gamma):\n",
        "  return beta / rho * (A - 2 * sqrt(A * A0)) / (2 * A0 * sqrt(A)) + 0.5 * (q / A) ** 2 * (1 + 2 * gamma * sqrt(2 * (1 - cos(alpha))) * np.sign(q))"
      ],
      "metadata": {
        "id": "-NfVuobPapzd"
      },
      "execution_count": 95,
      "outputs": []
    },
    {
      "cell_type": "code",
      "source": [
        "def compute_branch_value(data, connected_data1, connected_data2, toll=1e-5):\n",
        "    A_branch_old_1 = data['Ah_old'](data['L'])\n",
        "    A_branch_old_2 = connected_data1['Ah_old'](0)\n",
        "    A_branch_old_3 = connected_data2['Ah_old'](0)\n",
        "\n",
        "    q_branch_old_1 = data['qh_old'](data['L'])\n",
        "    q_branch_old_2 = connected_data1['qh_old'](0)\n",
        "    q_branch_old_3 = connected_data2['qh_old'](0)\n",
        "\n",
        "    A_branch_0_1 = A_branch_old_1\n",
        "    A_branch_0_2 = A_branch_old_2\n",
        "    A_branch_0_3 = A_branch_old_3\n",
        "\n",
        "    q_branch_0_1 = q_branch_old_1\n",
        "    q_branch_0_2 = q_branch_old_2\n",
        "    q_branch_0_3 = q_branch_old_3\n",
        "\n",
        "    alpha_2 = connected_data1['boundary']['left']['alpha'][0]\n",
        "    alpha_3 = connected_data2['boundary']['left']['alpha'][0]\n",
        "\n",
        "    err = float('inf')\n",
        "    iter = 0\n",
        "\n",
        "    while (err > toll) & (iter < 100):\n",
        "        iter += 1\n",
        "\n",
        "        lhs = np.zeros((6, 6))\n",
        "        rhs = np.zeros(6)\n",
        "\n",
        "        lhs[0, 3] =  1\n",
        "        lhs[0, 4] = -1\n",
        "        lhs[0, 5] = -1\n",
        "\n",
        "        lhs[1, 0] =   C_A_in(A_branch_old_1, q_branch_old_1, data['A0'], data['beta'], data.get('gamma', 0))\n",
        "        lhs[1, 1] = - C_A_out(A_branch_old_2, q_branch_old_2, connected_data1['A0'], alpha_2, connected_data1['beta'], connected_data1.get('gamma', 2))\n",
        "        lhs[1, 3] =   C_q_in(A_branch_old_1, q_branch_old_1, data['A0'], data.get('gamma', 0))\n",
        "        lhs[1, 4] = - C_q_out(A_branch_old_2, q_branch_old_2, connected_data1['A0'], alpha_2, connected_data1.get('gamma', 2))\n",
        "\n",
        "        lhs[2, 0] =   C_A_in(A_branch_old_1, q_branch_old_1, data['A0'], data['beta'], data.get('gamma', 0))\n",
        "        lhs[2, 2] = - C_A_out(A_branch_old_3, q_branch_old_3, connected_data2['A0'], alpha_3, connected_data2['beta'], connected_data2.get('gamma', 2))\n",
        "        lhs[2, 3] =   C_q_in(A_branch_old_1, q_branch_old_1, data['A0'], data.get('gamma', 0))\n",
        "        lhs[2, 5] = - C_q_out(A_branch_old_3, q_branch_old_3, connected_data2['A0'], alpha_3, connected_data2.get('gamma', 2))\n",
        "\n",
        "        lhs[3, 0] = l1(A_branch_0_1, q_branch_0_1, data['A0'], data['beta'])[0]\n",
        "        lhs[3, 3] = l1(A_branch_0_1, q_branch_0_1, data['A0'], data['beta'])[1]\n",
        "\n",
        "        lhs[4, 1] = l2(A_branch_0_2, q_branch_0_2, connected_data1['A0'], connected_data1['beta'])[0]\n",
        "        lhs[4, 4] = l2(A_branch_0_2, q_branch_0_2, connected_data1['A0'], connected_data1['beta'])[1]\n",
        "\n",
        "        lhs[5, 2] = l2(A_branch_0_3, q_branch_0_3, connected_data2['A0'], connected_data2['beta'])[0]\n",
        "        lhs[5, 5] = l2(A_branch_0_3, q_branch_0_3, connected_data2['A0'], connected_data2['beta'])[1]\n",
        "\n",
        "        rhs[1] = b_out(A_branch_old_2, q_branch_old_2, connected_data1['A0'], alpha_2, connected_data1['beta'], connected_data1.get('gamma', 2)) - b_in(A_branch_old_1, q_branch_old_1, data['A0'], data['beta'], data.get('gamma', 0))\n",
        "        rhs[2] = b_out(A_branch_old_3, q_branch_old_3, connected_data2['A0'], alpha_3, connected_data2['beta'], connected_data2.get('gamma', 2)) - b_in(A_branch_old_1, q_branch_old_1, data['A0'], data['beta'], data.get('gamma', 0))\n",
        "        rhs[3] = np.dot(l1(A_branch_0_1, q_branch_0_1, data['A0'], data['beta']), CC(A_branch_0_1, q_branch_0_1, data['A0'], data['beta'], data['uh'].dx(0), data['V_der'], data['L']))\n",
        "        rhs[4] = np.dot(l2(A_branch_0_2, q_branch_0_2, connected_data1['A0'], connected_data1['beta']), CC(A_branch_0_2, q_branch_0_2, connected_data1['A0'], connected_data1['beta'], connected_data1['uh'].dx(0), connected_data1['V_der'], 0))\n",
        "        rhs[5] = np.dot(l2(A_branch_0_3, q_branch_0_3, connected_data2['A0'], connected_data2['beta']), CC(A_branch_0_3, q_branch_0_3, connected_data2['A0'], connected_data2['beta'], connected_data2['uh'].dx(0), connected_data2['V_der'], 0))\n",
        "\n",
        "        A_branch_1, A_branch_2, A_branch_3, q_branch_1, q_branch_2, q_branch_3 = np.linalg.solve(lhs, rhs)\n",
        "\n",
        "        if (q_branch_0_1 == 0) or (q_branch_0_2 == 0) or (q_branch_0_3 == 0):\n",
        "            err = abs(A_branch_1 - A_branch_old_1) / A_branch_0_1 + abs(A_branch_2 - A_branch_old_2) / A_branch_0_2 + abs(A_branch_3 - A_branch_old_3) / A_branch_0_3 \\\n",
        "                + abs(q_branch_1 - q_branch_old_1) + abs(q_branch_2 - q_branch_old_2) + abs(q_branch_3 - q_branch_old_3)\n",
        "        else:\n",
        "            err = abs(A_branch_1 - A_branch_old_1) / A_branch_0_1 + abs(A_branch_2 - A_branch_old_2) / A_branch_0_2 + abs(A_branch_3 - A_branch_old_3) / A_branch_0_3 \\\n",
        "                + abs(q_branch_1 - q_branch_old_1) / q_branch_0_1 + abs(q_branch_2 - q_branch_old_2) / q_branch_0_2 + abs(q_branch_3 - q_branch_old_3) / q_branch_0_3\n",
        "\n",
        "        A_branch_old_1 = A_branch_1\n",
        "        A_branch_old_2 = A_branch_2\n",
        "        A_branch_old_3 = A_branch_3\n",
        "\n",
        "        q_branch_old_1 = q_branch_1\n",
        "        q_branch_old_2 = q_branch_2\n",
        "        q_branch_old_3 = q_branch_3\n",
        "\n",
        "    res_2, res_3 = check_non_linear_system(\n",
        "    A_branch_1, A_branch_2, A_branch_3,\n",
        "    q_branch_1, q_branch_2, q_branch_3,\n",
        "    data, connected_data1, connected_data2\n",
        "    )\n",
        "\n",
        "    return A_branch_1, A_branch_2, A_branch_3, q_branch_1, q_branch_2, q_branch_3, err, iter"
      ],
      "metadata": {
        "id": "lpDIcX7veJ7z"
      },
      "execution_count": 96,
      "outputs": []
    },
    {
      "cell_type": "code",
      "source": [
        "def g_1(A, q, gamma):\n",
        "  return gamma * (q / A) ** 2\n",
        "\n",
        "def g_i(A, q, gamma, alpha):\n",
        "  return gamma * (q / A) ** 2 * sqrt(2 * (1 - cos(alpha)))\n",
        "\n",
        "# Check if the linearized solution solve 2 non linear equations\n",
        "def check_non_linear_system(A1, A2, A3, q1, q2, q3, data, connected_data1, connected_data2):\n",
        "    alpha_2 = connected_data1['boundary']['left']['alpha'][0]\n",
        "    alpha_3 = connected_data2['boundary']['left']['alpha'][0]\n",
        "\n",
        "    res_2 = data['beta'] / (rho * data['A0']) * (np.sqrt(A1) - np.sqrt(data['A0'])) + 0.5 * (q1 / A1) ** 2 - np.sign(q1 / A1) * g_1(A1, q1, data.get('gamma', 0)) \\\n",
        "            - connected_data1['beta'] / (rho * connected_data1['A0']) * (np.sqrt(A2) - np.sqrt(connected_data1['A0'])) - 0.5 * (q2 / A2) ** 2 - np.sign(q2 / A2) * g_i(A2, q2, connected_data1.get('gamma', 2), alpha_2)\n",
        "\n",
        "    res_3 = data['beta'] / (rho * data['A0']) * (np.sqrt(A1) - np.sqrt(data['A0'])) + 0.5 * (q1 / A1) ** 2 - np.sign(q1 / A1) * g_1(A1, q1, data.get('gamma', 0)) \\\n",
        "            - connected_data2['beta'] / (rho * connected_data2['A0']) * (np.sqrt(A3) - np.sqrt(connected_data2['A0'])) - 0.5 * (q3 / A3) ** 2 - np.sign(q3 / A3) * g_i(A3, q3, connected_data2.get('gamma', 2), alpha_3)\n",
        "\n",
        "    return res_2, res_3"
      ],
      "metadata": {
        "id": "wJPag_qkNuP2"
      },
      "execution_count": 97,
      "outputs": []
    },
    {
      "cell_type": "code",
      "source": [
        "def handle_branching_points(branches):\n",
        "    branch_data = {}\n",
        "    for branch_id, data in branches.items():\n",
        "        end_boundary = data['boundary']['right']\n",
        "        if end_boundary['type'] == 'branch':\n",
        "            connected_branches = end_boundary['connected_to']\n",
        "            branch_data[branch_id] = {\n",
        "                'Ah_old': data['Ah_old'],\n",
        "                'qh_old': data['qh_old'],\n",
        "                'uh': data['uh'],\n",
        "                'L': data['L'],\n",
        "                'A0': data['A0'],\n",
        "                'beta': data['beta'],\n",
        "                'V_der': data['V_der'],\n",
        "                'connected_branches': connected_branches\n",
        "            }\n",
        "\n",
        "    for branch_id, data in branch_data.items():\n",
        "        connected_branches = data['connected_branches']\n",
        "        if len(connected_branches) == 2:\n",
        "            cb1_id, cb2_id = connected_branches\n",
        "            connected_data1 = branches[cb1_id]\n",
        "            connected_data2 = branches[cb2_id]\n",
        "\n",
        "            A_branch_1, A_branch_2, A_branch_3, q_branch_1, q_branch_2, q_branch_3, err, iter = compute_branch_value(\n",
        "                    data, connected_data1, connected_data2, toll=1e-5\n",
        "                )\n",
        "\n",
        "            branch_boundary_conditions[branch_id]['right'] = {\n",
        "                'A_right': A_branch_1,\n",
        "                'q_right': q_branch_1\n",
        "            }\n",
        "\n",
        "            branch_boundary_conditions[cb1_id]['left'] = {\n",
        "                'A_left': A_branch_2,\n",
        "                'q_left': q_branch_2\n",
        "            }\n",
        "\n",
        "            branch_boundary_conditions[cb2_id]['left'] = {\n",
        "                'A_left': A_branch_3,\n",
        "                'q_left': q_branch_3\n",
        "            }\n",
        "        else:\n",
        "            raise ValueError(\"A branching point should connect to exactly two branches.\")"
      ],
      "metadata": {
        "id": "bJVWPV4flh8d"
      },
      "execution_count": 98,
      "outputs": []
    },
    {
      "cell_type": "markdown",
      "source": [
        "## Definition and solution of local variational problem"
      ],
      "metadata": {
        "id": "S1ONKZfn5sJn"
      }
    },
    {
      "cell_type": "code",
      "source": [
        "def LinearProblem(bc, V, A_old, q_old, A0, beta):\n",
        "  # Define trial functions and test functions\n",
        "  A, q = TrialFunctions(V)\n",
        "  v, z = TestFunctions(V)\n",
        "  uh = Function(V)\n",
        "\n",
        "  a = inner(A, v) * dx + inner(q, z) * dx\n",
        "\n",
        "  l = (\n",
        "        A_old * v * dx\n",
        "      + q_old * z * dx\n",
        "      + dt * ((F(A_old, q_old, A0, beta) - dt / 2 * dot(H(A_old, q_old, A0, beta), S(A_old, q_old))))[0] * v.dx(0) * dx\n",
        "      + dt * ((F(A_old, q_old, A0, beta) - dt / 2 * dot(H(A_old, q_old, A0, beta), S(A_old, q_old))))[1] * z.dx(0) * dx\n",
        "      + dt ** 2 / 2 * (dot(dS_dU(A_old, q_old), F(A_old, q_old, A0, beta).dx(0)))[0] * v * dx\n",
        "      + dt ** 2 / 2 * (dot(dS_dU(A_old, q_old), F(A_old, q_old, A0, beta).dx(0)))[1] * z * dx\n",
        "      - dt ** 2 / 2 * (dot(H(A_old, q_old, A0, beta), F(A_old, q_old, A0, beta).dx(0)))[0] * v.dx(0) * dx\n",
        "      - dt ** 2 / 2 * (dot(H(A_old, q_old, A0, beta), F(A_old, q_old, A0, beta).dx(0)))[1] * z.dx(0) * dx\n",
        "      - dt * (S(A_old, q_old) - dt / 2 * dot(dS_dU(A_old, q_old), S(A_old, q_old)))[0] * v * dx\n",
        "      - dt * (S(A_old, q_old) - dt / 2 * dot(dS_dU(A_old, q_old), S(A_old, q_old)))[1] * z * dx\n",
        "  )\n",
        "\n",
        "  solve(a == l, uh, bc)\n",
        "\n",
        "  return uh"
      ],
      "metadata": {
        "id": "yREIztqTvd7D"
      },
      "execution_count": 99,
      "outputs": []
    },
    {
      "cell_type": "code",
      "source": [
        "def solve_local_branches(branches, branch_boundary_conditions):\n",
        "    for branch_id, data in branches.items():\n",
        "        # Extract boundary conditions\n",
        "        bc_data = branch_boundary_conditions.get(branch_id, {})\n",
        "\n",
        "        A_left = bc_data.get('left', {}).get('A_left', None)\n",
        "        q_left = bc_data.get('left', {}).get('q_left', None)\n",
        "        A_right = bc_data.get('right', {}).get('A_right', None)\n",
        "        q_right = bc_data.get('right', {}).get('q_right', None)\n",
        "\n",
        "        # Initialize boundary conditions\n",
        "        bcs = []\n",
        "\n",
        "        if A_left is not None and q_left is not None:\n",
        "            bc_A_left = DirichletBC(data['V'].sub(0), A_left, boundary_L)\n",
        "            bc_q_left = DirichletBC(data['V'].sub(1), q_left, boundary_L)\n",
        "            bcs.extend([bc_A_left, bc_q_left])\n",
        "\n",
        "        if A_right is not None and q_right is not None:\n",
        "            bc_A_right = DirichletBC(data['V'].sub(0), A_right, boundary_R)\n",
        "            bc_q_right = DirichletBC(data['V'].sub(1), q_right, boundary_R)\n",
        "            bcs.extend([bc_A_right, bc_q_right])\n",
        "\n",
        "        # Solve the local problem\n",
        "        uh = LinearProblem(bcs, data['V'], data['Ah_old'], data['qh_old'], data['A0'], data['beta'])\n",
        "        Ah, qh = uh.split(deepcopy=True)\n",
        "        data['uh'] = uh  # Store the computed solution\n",
        "        data['Ah_old'].assign(Ah)\n",
        "        data['qh_old'].assign(qh)"
      ],
      "metadata": {
        "id": "KhphRd9plYxL"
      },
      "execution_count": 100,
      "outputs": []
    },
    {
      "cell_type": "markdown",
      "source": [
        "## Plot"
      ],
      "metadata": {
        "id": "_vxhugDn7tJG"
      }
    },
    {
      "cell_type": "code",
      "source": [
        "import matplotlib.pyplot as plt\n",
        "\n",
        "def plot_branches_combined(branches, n, num_cols=5):\n",
        "    num_branches = len(branches)\n",
        "    num_rows = (num_branches + num_cols - 1) // num_cols  # Calculate required rows\n",
        "\n",
        "    # Create a figure with subplots for both area and flux\n",
        "    fig, axes = plt.subplots(num_rows * 2, num_cols, figsize=(num_cols * 3.8, num_rows * 8))\n",
        "    axes = axes.flatten()\n",
        "\n",
        "    for i, (branch_name, branch_data) in enumerate(branches.items()):\n",
        "        if i >= num_cols * num_rows:  # Ensure we do not exceed the available axes\n",
        "            break\n",
        "\n",
        "        # Plot area in red on the first row\n",
        "        ax_area = axes[i]\n",
        "        Ah_old = branch_data['Ah_old']\n",
        "        mesh = branch_data['mesh']\n",
        "        ax_area.plot(mesh.coordinates(), Ah_old.compute_vertex_values(mesh), 'r', label='Area')\n",
        "        ax_area.set_title(f'{branch_name}')\n",
        "        ax_area.legend()\n",
        "\n",
        "        # Plot flux in blue on the second row\n",
        "        ax_flux = axes[num_cols * num_rows + i]\n",
        "        qh_old = branch_data['qh_old']\n",
        "        ax_flux.plot(mesh.coordinates(), qh_old.compute_vertex_values(mesh), 'b', label='Flux')\n",
        "        ax_flux.legend()\n",
        "\n",
        "    # Hide any unused subplots\n",
        "    for j in range(i + 1, num_cols * num_rows):\n",
        "        fig.delaxes(axes[j])\n",
        "        fig.delaxes(axes[num_cols * num_rows + j])\n",
        "\n",
        "    # Set global title\n",
        "    fig.suptitle(f'Area and Flux Profile at Time Step {n}', fontsize=16)\n",
        "\n",
        "    plt.tight_layout(rect=[0, 0, 1, 0.92])  # Adjust layout to make room for the global title\n",
        "    plt.show()"
      ],
      "metadata": {
        "id": "89lPco827ua7"
      },
      "execution_count": 101,
      "outputs": []
    },
    {
      "cell_type": "markdown",
      "source": [
        "# Solution"
      ],
      "metadata": {
        "id": "vjAfu6Q01vnJ"
      }
    },
    {
      "cell_type": "code",
      "source": [
        "# Initialize branches with initial conditions\n",
        "initialize_branches(branches)\n",
        "\n",
        "# Initialize boundary conditions\n",
        "branch_boundary_conditions = {}\n",
        "\n",
        "for branch_name, branch_data in branches.items():\n",
        "    branch_boundary_conditions[branch_name] = {\n",
        "        'left': {\n",
        "            'A_left': branch_data['A0'],\n",
        "            'q_left': 0\n",
        "        },\n",
        "        'right': {\n",
        "            'A_right': branch_data['A0'],\n",
        "            'q_right': 0\n",
        "        }\n",
        "    }"
      ],
      "metadata": {
        "id": "2gl8H1R-kU4q"
      },
      "execution_count": 102,
      "outputs": []
    },
    {
      "cell_type": "code",
      "source": [
        "# Time stepping\n",
        "t = 0\n",
        "\n",
        "for n in tqdm(range(N_T)):\n",
        "    # Solve the problem for each branch\n",
        "    solve_local_branches(branches, branch_boundary_conditions)\n",
        "\n",
        "    # Update time step\n",
        "    t += dt\n",
        "\n",
        "    # Update boundary conditions for inlets and outlets\n",
        "    update_inlet_outlet_bcs(branches, t)\n",
        "\n",
        "    # Handle branching points\n",
        "    handle_branching_points(branches)\n",
        "\n",
        "    if n % 100 == 0:\n",
        "      plot_branches_combined(branches, n)\n",
        "\n",
        "plot_branches_combined(branches, n)"
      ],
      "metadata": {
        "id": "MKBKLEhNlogU"
      },
      "execution_count": null,
      "outputs": []
    },
    {
      "cell_type": "code",
      "source": [],
      "metadata": {
        "id": "1PpXdZNa-5ac"
      },
      "execution_count": null,
      "outputs": []
    }
  ]
}