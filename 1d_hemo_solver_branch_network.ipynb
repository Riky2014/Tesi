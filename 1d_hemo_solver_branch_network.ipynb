{
  "nbformat": 4,
  "nbformat_minor": 0,
  "metadata": {
    "colab": {
      "provenance": [],
      "include_colab_link": true
    },
    "kernelspec": {
      "name": "python3",
      "display_name": "Python 3"
    },
    "language_info": {
      "name": "python"
    }
  },
  "cells": [
    {
      "cell_type": "markdown",
      "metadata": {
        "id": "view-in-github",
        "colab_type": "text"
      },
      "source": [
        "<a href=\"https://colab.research.google.com/github/Riky2014/Tesi/blob/main/1d_hemo_solver_branch_network.ipynb\" target=\"_parent\"><img src=\"https://colab.research.google.com/assets/colab-badge.svg\" alt=\"Open In Colab\"/></a>"
      ]
    },
    {
      "cell_type": "code",
      "source": [
        "%%capture\n",
        "!apt-get install software-properties-common\n",
        "!add-apt-repository -y ppa:fenics-packages/fenics\n",
        "!apt-get update -qq\n",
        "!apt install fenics"
      ],
      "metadata": {
        "id": "Vk2md9CPA9f1"
      },
      "execution_count": null,
      "outputs": []
    },
    {
      "cell_type": "code",
      "source": [
        "from fenics import *\n",
        "\n",
        "import logging\n",
        "import numpy as np\n",
        "from tqdm import tqdm\n",
        "import matplotlib.pyplot as plt\n",
        "\n",
        "# Set the logging level to suppress FFC messages\n",
        "set_log_level(LogLevel.ERROR)\n",
        "logging.getLogger('FFC').setLevel(logging.ERROR)\n",
        "logging.getLogger('UFL_LEGACY').setLevel(logging.WARNING)"
      ],
      "metadata": {
        "id": "qzvdV-jaGZG6"
      },
      "execution_count": null,
      "outputs": []
    },
    {
      "cell_type": "markdown",
      "source": [
        "# Dictionaries containing network information"
      ],
      "metadata": {
        "id": "jW_Y1fKU16sG"
      }
    },
    {
      "cell_type": "code",
      "source": [
        "# Define branches\n",
        "branches = {\n",
        "    'branch_1': {\n",
        "        'L': 2,\n",
        "        'A0': 1.086,\n",
        "        'beta': 0.060816e7,\n",
        "        'boundary': {\n",
        "            'start': {'type': 'inlet', 'connected_to': [], 'alpha':[]},\n",
        "            'end': {'type': 'branch', 'connected_to': ['branch_2', 'branch_3'], 'alpha': []}\n",
        "        }\n",
        "    },\n",
        "    'branch_2': {\n",
        "        'L': 1,\n",
        "        'A0': 0.126,\n",
        "        'beta': 0.060606e7,\n",
        "        'boundary': {\n",
        "            'start': {'type': 'branch', 'connected_to': ['branch_1'], 'alpha':[pi / 3]},\n",
        "            'end': {'type': 'branch', 'connected_to': ['branch_4', 'branch_5'], 'alpha':[]}\n",
        "        }\n",
        "    },\n",
        "    'branch_3': {\n",
        "        'L': 6.6,\n",
        "        'A0': 0.659,\n",
        "        'beta': 0.046130e7,\n",
        "        'boundary': {\n",
        "            'start': {'type': 'branch', 'connected_to': ['branch_1'], 'alpha':[pi / 4]},\n",
        "            'end': {'type': 'outlet', 'connected_to': [], 'alpha':[]}\n",
        "        }\n",
        "    },\n",
        "    'branch_4': {\n",
        "        'L': 7.11,\n",
        "        'A0': 0.442,\n",
        "        'beta': 0.042432e7,\n",
        "        'boundary': {\n",
        "            'start': {'type': 'branch', 'connected_to': ['branch_2'], 'alpha':[pi / 4]},\n",
        "            'end': {'type': 'outlet', 'connected_to': [], 'alpha':[]}\n",
        "        }\n",
        "    },\n",
        "    'branch_5': {\n",
        "        'L': 6.3,\n",
        "        'A0': 0.468,\n",
        "        'beta': 0.051012e7,\n",
        "        'boundary': {\n",
        "            'start': {'type': 'branch', 'connected_to': ['branch_2'], 'alpha':[pi / 4]},\n",
        "            'end': {'type': 'outlet', 'connected_to': [], 'alpha':[]}\n",
        "        }\n",
        "    }\n",
        "}"
      ],
      "metadata": {
        "id": "H0XUi1fEu2Tr"
      },
      "execution_count": null,
      "outputs": []
    },
    {
      "cell_type": "code",
      "source": [
        "# Print network information\n",
        "print(\"\\nNetwork Information:\")\n",
        "num_branches = len(branches)\n",
        "print(f\"Number of branches: {num_branches}\")\n",
        "\n",
        "print(\"\\nBranch Connectivity:\")\n",
        "for branch_name, branch_data in branches.items():\n",
        "    start_connections = branch_data['boundary']['start']['connected_to']\n",
        "    end_connections = branch_data['boundary']['end']['connected_to']\n",
        "    print(f\"{branch_name}:\")\n",
        "    print(f\"  Start connected to: {start_connections}\")\n",
        "    print(f\"  End connected to: {end_connections}\")"
      ],
      "metadata": {
        "colab": {
          "base_uri": "https://localhost:8080/"
        },
        "id": "_5HqgEFH4jdU",
        "outputId": "707f7fa7-a4d2-481d-f3e0-0ceb5d30f12c"
      },
      "execution_count": null,
      "outputs": [
        {
          "output_type": "stream",
          "name": "stdout",
          "text": [
            "\n",
            "Network Information:\n",
            "Number of branches: 5\n",
            "\n",
            "Branch Connectivity:\n",
            "branch_1:\n",
            "  Start connected to: []\n",
            "  End connected to: ['branch_2', 'branch_3']\n",
            "branch_2:\n",
            "  Start connected to: ['branch_1']\n",
            "  End connected to: ['branch_4', 'branch_5']\n",
            "branch_3:\n",
            "  Start connected to: ['branch_1']\n",
            "  End connected to: []\n",
            "branch_4:\n",
            "  Start connected to: ['branch_2']\n",
            "  End connected to: []\n",
            "branch_5:\n",
            "  Start connected to: ['branch_2']\n",
            "  End connected to: []\n"
          ]
        }
      ]
    },
    {
      "cell_type": "markdown",
      "source": [
        "# Global Data"
      ],
      "metadata": {
        "id": "br10ska72pF5"
      }
    },
    {
      "cell_type": "code",
      "execution_count": null,
      "metadata": {
        "id": "uYE6EYza9Az2"
      },
      "outputs": [],
      "source": [
        "# Global data\n",
        "T = 1\n",
        "\n",
        "# gamma_1 = 0 # see https://www.researchgate.net/publication/37445437_One-dimensional_models_for_blood_flow_in_arteries pag 12 for reference values\n",
        "# gamma_2 = 2\n",
        "# gamma_3 = 2\n",
        "\n",
        "alpha = 1\n",
        "k_r = 2.419\n",
        "rho = 1.050"
      ]
    },
    {
      "cell_type": "markdown",
      "source": [
        "# Discretization parameter"
      ],
      "metadata": {
        "id": "sehnbi0jx39A"
      }
    },
    {
      "cell_type": "code",
      "source": [
        "# Given values\n",
        "dt = 2e-5\n",
        "N_T = round(T / dt)\n",
        "\n",
        "h = 1 / 32\n",
        "\n",
        "print(f'h = {h}')\n",
        "print(f'dt = {dt}')\n",
        "print(f'CFL ratio : {h / dt}')"
      ],
      "metadata": {
        "colab": {
          "base_uri": "https://localhost:8080/"
        },
        "id": "diTSTx__w86C",
        "outputId": "f309d464-ac40-4907-b470-2af80a83fa42"
      },
      "execution_count": null,
      "outputs": [
        {
          "output_type": "stream",
          "name": "stdout",
          "text": [
            "h = 0.03125\n",
            "dt = 2e-05\n",
            "CFL ratio : 1562.4999999999998\n"
          ]
        }
      ]
    },
    {
      "cell_type": "markdown",
      "source": [
        "# Mesh and function spaces"
      ],
      "metadata": {
        "id": "6WBopf3iyN0_"
      }
    },
    {
      "cell_type": "code",
      "source": [
        "# Function to create meshes and function spaces\n",
        "def create_mesh_and_function_spaces(branches, h):\n",
        "    for branch_name, branch_data in branches.items():\n",
        "        L = branch_data['L']\n",
        "        N = int(L / h)\n",
        "        mesh = IntervalMesh(N, 0, L)\n",
        "        branch_data['mesh'] = mesh\n",
        "\n",
        "        P1 = FiniteElement('P', mesh.ufl_cell(), 1)\n",
        "        element = MixedElement([P1, P1])\n",
        "        V = FunctionSpace(mesh, element)\n",
        "        branch_data['V'] = V\n",
        "\n",
        "        D1 = FiniteElement('DG', mesh.ufl_cell(), 0)\n",
        "        element_der = MixedElement([D1, D1])\n",
        "        V_der = FunctionSpace(mesh, element_der)\n",
        "        branch_data['V_der'] = V_der"
      ],
      "metadata": {
        "id": "oQ2s43yMwGmt"
      },
      "execution_count": null,
      "outputs": []
    },
    {
      "cell_type": "code",
      "source": [
        "# Create meshes and function spaces\n",
        "create_mesh_and_function_spaces(branches, h)"
      ],
      "metadata": {
        "id": "lKV-wLqOujqL"
      },
      "execution_count": null,
      "outputs": []
    },
    {
      "cell_type": "markdown",
      "source": [
        "# Initial conditions"
      ],
      "metadata": {
        "id": "9cEyrOkxzNlF"
      }
    },
    {
      "cell_type": "code",
      "source": [
        "# Function to initialize branches\n",
        "def initialize_branches(branches):\n",
        "    for branch_name, branch_data in branches.items():\n",
        "        A0 = branch_data['A0']\n",
        "        q0 = 0  # Assuming initial flow is zero\n",
        "        V = branch_data['V']\n",
        "\n",
        "        uh_old = interpolate(Expression(('A0', 'q0'), degree=1, A0=A0, q0=q0), V)\n",
        "        Ah_old, qh_old = uh_old.split()\n",
        "\n",
        "        branch_data['uh'] = uh_old\n",
        "        branch_data['Ah_old'] = Ah_old\n",
        "        branch_data['qh_old'] = qh_old"
      ],
      "metadata": {
        "id": "wM8sb85WxRRS"
      },
      "execution_count": null,
      "outputs": []
    },
    {
      "cell_type": "markdown",
      "source": [
        "# Functions"
      ],
      "metadata": {
        "id": "xuUyHMzVF1Rz"
      }
    },
    {
      "cell_type": "markdown",
      "source": [
        "## Assemble matrix for algebraic formulation"
      ],
      "metadata": {
        "id": "_rK_aXd8yt5c"
      }
    },
    {
      "cell_type": "code",
      "source": [
        "def H(A, q, A0, beta):\n",
        "  return as_tensor([[0, 1], [beta / (2 * rho * A0) * A ** 0.5 - (q / A) ** 2, 2 * q / A]])\n",
        "\n",
        "def F(A, q, A0, beta):\n",
        "  return as_vector([q, beta / (3 * rho * A0) * A ** 1.5 - beta / (3 * rho) * A0 ** 0.5 + q ** 2 / A])\n",
        "\n",
        "def B(A, q):\n",
        "  return as_vector([0, k_r * q / A])\n",
        "\n",
        "def S(A, q):\n",
        "  return as_vector([0, k_r * q / A])\n",
        "\n",
        "def dS_dU(A, q):\n",
        "  return as_tensor([[0, 0], [- k_r * q / A ** 2, k_r / A]])"
      ],
      "metadata": {
        "id": "jAgHzjNSvYuj"
      },
      "execution_count": null,
      "outputs": []
    },
    {
      "cell_type": "code",
      "source": [
        "# Those are necessary to compute poinwise values for boundary condition\n",
        "def U(A, q):\n",
        "  return np.array([A, q])\n",
        "\n",
        "def H_vec(A, q, A0, beta):\n",
        "  return np.array([[0, 1], [beta / (2 * rho * A0) * A ** 0.5 - (q / A) ** 2, 2 * q / A]])\n",
        "\n",
        "def B_vec(A, q):\n",
        "  return np.array([0, k_r * q / A])\n",
        "\n",
        "def S_vec(A, q):\n",
        "  return np.array([0, k_r * q / A])\n",
        "\n",
        "def c_alpha(A, q, A0, beta, alpha = 1):\n",
        "  return (beta / (2 * rho * A0) * A ** 0.5 + (q / A) ** 2 * alpha * (alpha - 1)) ** 0.5\n",
        "\n",
        "def l1(A, q, A0, beta, alpha = 1):\n",
        "  return np.array([c_alpha(A, q, A0, beta, alpha) - alpha * q / A, 1.])\n",
        "\n",
        "def l2(A, q, A0, beta, alpha = 1):\n",
        "  return np.array([- c_alpha(A, q, A0, beta, alpha) - alpha * q / A, 1.])\n",
        "\n",
        "def CC(A, q, A0, beta, u_der, V_der, x):\n",
        "  du_dz = project(u_der, V_der)(x)\n",
        "  return U(A, q) - dt * H_vec(A, q, A0, beta) @ du_dz - dt * B_vec(A, q)"
      ],
      "metadata": {
        "id": "QetUIYLIe81R"
      },
      "execution_count": null,
      "outputs": []
    },
    {
      "cell_type": "markdown",
      "source": [
        "## Boundary condition"
      ],
      "metadata": {
        "id": "l5jGHZzpyyy3"
      }
    },
    {
      "cell_type": "code",
      "source": [
        "# Impose Dirichlet boundary condition at the inlet\n",
        "def inlet_bc(A, q, A0, beta, u_der, V_der, x):\n",
        "  q_inlet = (np.dot(l2(A(x), q(x), A0, beta), CC(A(x), q(x), A0, beta, u_der, V_der, x)) - l2(A(x), q(x), A0, beta)[0] * U(A(x), q(x))[0] ) / l2(A(x), q(x), A0, beta)[1]\n",
        "\n",
        "  return q_inlet\n",
        "\n",
        "# Impose Non Reflecting boundary condition at the outlet\n",
        "def outlet_bc(A, q, A0, beta, u_der, V_der, x):\n",
        "  matrix = np.array([[1, -1], [c_alpha(A(x), q(x), A0, beta, alpha) + alpha * q(x) / A(x), c_alpha(A(x), q(x), A0, beta, alpha) - alpha * q(x) / A(x)]])\n",
        "  array = np.array([np.dot(l1(A(x), q(x), A0, beta), CC(A(x), q(x), A0, beta, u_der, V_der, x)), np.dot(l2(A(x), q(x), A0, beta), U(A(x), q(x)) - dt * S_vec(A(x), q(x)))])\n",
        "\n",
        "  A_out, q_out = matrix @ array / (2 * c_alpha(A(x), q(x), A0, beta, alpha))\n",
        "\n",
        "  return A_out, q_out"
      ],
      "metadata": {
        "id": "gGb-E24uOvf6"
      },
      "execution_count": null,
      "outputs": []
    },
    {
      "cell_type": "code",
      "source": [
        "def boundary_L(x, on_boundary):\n",
        "    tol = 1E-14\n",
        "    return on_boundary and near(x[0], 0, tol)\n",
        "\n",
        "def boundary_R(x, on_boundary):\n",
        "    tol = 1E-14\n",
        "    return on_boundary and x[0]>0.1"
      ],
      "metadata": {
        "id": "bFqugW3YNuS_"
      },
      "execution_count": null,
      "outputs": []
    },
    {
      "cell_type": "code",
      "source": [
        "def update_inlet_outlet_bcs(branches, t):\n",
        "    for branch_id, data in branches.items():\n",
        "        # Retrieve the boundary conditions for the start of the branch\n",
        "        start_boundary = data['boundary']['start']\n",
        "        if start_boundary['type'] == 'inlet':\n",
        "            A_inlet = data['A0'] + 0.01 * t\n",
        "            q_inlet = inlet_bc(data['Ah_old'], data['qh_old'], data['A0'], data['beta'], data['uh'].dx(0), data['V_der'], 0)\n",
        "            branch_boundary_conditions[branch_id]['inlet'] = {'A_inlet': A_inlet, 'q_inlet': q_inlet}\n",
        "\n",
        "        # Retrieve the boundary conditions for the end of the branch\n",
        "        end_boundary = data['boundary']['end']\n",
        "        if end_boundary['type'] == 'outlet':\n",
        "            A_outlet, q_outlet = outlet_bc(data['Ah_old'], data['qh_old'], data['A0'], data['beta'], data['uh'].dx(0), data['V_der'], data['L'])\n",
        "            branch_boundary_conditions[branch_id]['outlet'] = {'A_outlet': A_outlet, 'q_outlet': q_outlet}"
      ],
      "metadata": {
        "id": "OOYlED-6lfUi"
      },
      "execution_count": null,
      "outputs": []
    },
    {
      "cell_type": "markdown",
      "source": [
        "## Branching condition"
      ],
      "metadata": {
        "id": "f_aIYxw_y_Uf"
      }
    },
    {
      "cell_type": "code",
      "source": [
        "def C_A_in(A, q, A0, beta, gamma):\n",
        "  return beta / (2 * rho * A0 * sqrt(A)) - (q ** 2 / A ** 3) * (1 - 2 * gamma * np.sign(q))\n",
        "\n",
        "def C_q_in(A, q, A0, gamma):\n",
        "  return (q / A ** 2) * (1 - 2 * gamma * np.sign(q))\n",
        "\n",
        "def b_in(A, q, A0, beta, gamma):\n",
        "  return beta / rho * (A - 2 * sqrt(A * A0)) / (2 * A0 * sqrt(A)) + 0.5 * (q / A) ** 2 * (1 - 2 * gamma * np.sign(q))\n",
        "\n",
        "def C_A_out(A, q, A0, alpha, beta, gamma):\n",
        "  return beta / (2 * rho * A0 * sqrt(A)) - (q ** 2 / A ** 3) * (1 + 2 * gamma * sqrt(2 * (1 - cos(alpha))) * np.sign(q))\n",
        "\n",
        "def C_q_out(A, q, A0, alpha, gamma):\n",
        "  return (q / A ** 2) * (1 + 2 * gamma * sqrt(2 * (1 - cos(alpha))) * np.sign(q))\n",
        "\n",
        "def b_out(A, q, A0, alpha, beta, gamma):\n",
        "  return beta / rho * (A - 2 * sqrt(A * A0)) / (2 * A0 * sqrt(A)) + 0.5 * (q / A) ** 2 * (1 + 2 * gamma * sqrt(2 * (1 - cos(alpha))) * np.sign(q))"
      ],
      "metadata": {
        "id": "-NfVuobPapzd"
      },
      "execution_count": null,
      "outputs": []
    },
    {
      "cell_type": "code",
      "source": [
        "def compute_branch_value(data, connected_data1, connected_data2, toll=1e-5):\n",
        "    A_branch_old_1 = data['Ah_old'](data['L'])\n",
        "    A_branch_old_2 = connected_data1['Ah_old'](0)\n",
        "    A_branch_old_3 = connected_data2['Ah_old'](0)\n",
        "\n",
        "    q_branch_old_1 = data['qh_old'](data['L'])\n",
        "    q_branch_old_2 = connected_data1['qh_old'](0)\n",
        "    q_branch_old_3 = connected_data2['qh_old'](0)\n",
        "\n",
        "    A_branch_0_1 = A_branch_old_1\n",
        "    A_branch_0_2 = A_branch_old_2\n",
        "    A_branch_0_3 = A_branch_old_3\n",
        "\n",
        "    q_branch_0_1 = q_branch_old_1\n",
        "    q_branch_0_2 = q_branch_old_2\n",
        "    q_branch_0_3 = q_branch_old_3\n",
        "\n",
        "    alpha_2 = connected_data1['boundary']['start']['alpha'][0]\n",
        "    alpha_3 = connected_data2['boundary']['start']['alpha'][0]\n",
        "\n",
        "    err = float('inf')\n",
        "    iter = 0\n",
        "\n",
        "    while (err > toll) & (iter < 100):\n",
        "        iter += 1\n",
        "\n",
        "        lhs = np.zeros((6, 6))\n",
        "        rhs = np.zeros(6)\n",
        "\n",
        "        lhs[0, 3] =  1\n",
        "        lhs[0, 4] = -1\n",
        "        lhs[0, 5] = -1\n",
        "\n",
        "        lhs[1, 0] =   C_A_in(A_branch_old_1, q_branch_old_1, data['A0'], data['beta'], data.get('gamma', 0))\n",
        "        lhs[1, 1] = - C_A_out(A_branch_old_2, q_branch_old_2, connected_data1['A0'], alpha_2, connected_data1['beta'], connected_data1.get('gamma', 2))\n",
        "        lhs[1, 3] =   C_q_in(A_branch_old_1, q_branch_old_1, data['A0'], data.get('gamma', 0))\n",
        "        lhs[1, 4] = - C_q_out(A_branch_old_2, q_branch_old_2, connected_data1['A0'], alpha_2, connected_data1.get('gamma', 2))\n",
        "\n",
        "        lhs[2, 0] =   C_A_in(A_branch_old_1, q_branch_old_1, data['A0'], data['beta'], data.get('gamma', 0))\n",
        "        lhs[2, 2] = - C_A_out(A_branch_old_3, q_branch_old_3, connected_data2['A0'], alpha_3, connected_data2['beta'], connected_data2.get('gamma', 2))\n",
        "        lhs[2, 3] =   C_q_in(A_branch_old_1, q_branch_old_1, data['A0'], data.get('gamma', 0))\n",
        "        lhs[2, 5] = - C_q_out(A_branch_old_3, q_branch_old_3, connected_data2['A0'], alpha_3, connected_data2.get('gamma', 2))\n",
        "\n",
        "        lhs[3, 0] = l1(A_branch_0_1, q_branch_0_1, data['A0'], data['beta'])[0]\n",
        "        lhs[3, 3] = l1(A_branch_0_1, q_branch_0_1, data['A0'], data['beta'])[1]\n",
        "\n",
        "        lhs[4, 1] = l2(A_branch_0_2, q_branch_0_2, connected_data1['A0'], connected_data1['beta'])[0]\n",
        "        lhs[4, 4] = l2(A_branch_0_2, q_branch_0_2, connected_data1['A0'], connected_data1['beta'])[1]\n",
        "\n",
        "        lhs[5, 2] = l2(A_branch_0_3, q_branch_0_3, connected_data2['A0'], connected_data2['beta'])[0]\n",
        "        lhs[5, 5] = l2(A_branch_0_3, q_branch_0_3, connected_data2['A0'], connected_data2['beta'])[1]\n",
        "\n",
        "        rhs[1] = b_out(A_branch_old_2, q_branch_old_2, connected_data1['A0'], alpha_2, connected_data1['beta'], connected_data1.get('gamma', 2)) - b_in(A_branch_old_1, q_branch_old_1, data['A0'], data['beta'], data.get('gamma', 0))\n",
        "        rhs[2] = b_out(A_branch_old_3, q_branch_old_3, connected_data2['A0'], alpha_3, connected_data2['beta'], connected_data2.get('gamma', 2)) - b_in(A_branch_old_1, q_branch_old_1, data['A0'], data['beta'], data.get('gamma', 0))\n",
        "        rhs[3] = np.dot(l1(A_branch_0_1, q_branch_0_1, data['A0'], data['beta']), CC(A_branch_0_1, q_branch_0_1, data['A0'], data['beta'], data['uh'].dx(0), data['V_der'], data['L']))\n",
        "        rhs[4] = np.dot(l2(A_branch_0_2, q_branch_0_2, connected_data1['A0'], connected_data1['beta']), CC(A_branch_0_2, q_branch_0_2, connected_data1['A0'], connected_data1['beta'], connected_data1['uh'].dx(0), connected_data1['V_der'], 0))\n",
        "        rhs[5] = np.dot(l2(A_branch_0_3, q_branch_0_3, connected_data2['A0'], connected_data2['beta']), CC(A_branch_0_3, q_branch_0_3, connected_data2['A0'], connected_data2['beta'], connected_data2['uh'].dx(0), connected_data2['V_der'], 0))\n",
        "\n",
        "        A_branch_1, A_branch_2, A_branch_3, q_branch_1, q_branch_2, q_branch_3 = np.linalg.solve(lhs, rhs)\n",
        "\n",
        "        if (q_branch_0_1 == 0) or (q_branch_0_2 == 0) or (q_branch_0_3 == 0):\n",
        "            err = abs(A_branch_1 - A_branch_old_1) / A_branch_0_1 + abs(A_branch_2 - A_branch_old_2) / A_branch_0_2 + abs(A_branch_3 - A_branch_old_3) / A_branch_0_3 \\\n",
        "                + abs(q_branch_1 - q_branch_old_1) + abs(q_branch_2 - q_branch_old_2) + abs(q_branch_3 - q_branch_old_3)\n",
        "        else:\n",
        "            err = abs(A_branch_1 - A_branch_old_1) / A_branch_0_1 + abs(A_branch_2 - A_branch_old_2) / A_branch_0_2 + abs(A_branch_3 - A_branch_old_3) / A_branch_0_3 \\\n",
        "                + abs(q_branch_1 - q_branch_old_1) / q_branch_0_1 + abs(q_branch_2 - q_branch_old_2) / q_branch_0_2 + abs(q_branch_3 - q_branch_old_3) / q_branch_0_3\n",
        "\n",
        "        A_branch_old_1 = A_branch_1\n",
        "        A_branch_old_2 = A_branch_2\n",
        "        A_branch_old_3 = A_branch_3\n",
        "\n",
        "        q_branch_old_1 = q_branch_1\n",
        "        q_branch_old_2 = q_branch_2\n",
        "        q_branch_old_3 = q_branch_3\n",
        "\n",
        "    res_2, res_3 = check_non_linear_system(\n",
        "    A_branch_1, A_branch_2, A_branch_3,\n",
        "    q_branch_1, q_branch_2, q_branch_3,\n",
        "    data, connected_data1, connected_data2\n",
        "    )\n",
        "\n",
        "    return A_branch_1, A_branch_2, A_branch_3, q_branch_1, q_branch_2, q_branch_3, err, iter"
      ],
      "metadata": {
        "id": "lpDIcX7veJ7z"
      },
      "execution_count": null,
      "outputs": []
    },
    {
      "cell_type": "code",
      "source": [
        "def g_1(A, q, gamma):\n",
        "  return gamma * (q / A) ** 2\n",
        "\n",
        "def g_i(A, q, gamma, alpha):\n",
        "  return gamma * (q / A) ** 2 * sqrt(2 * (1 - cos(alpha)))\n",
        "\n",
        "# Check if the linearized solution solve 2 non linear equations\n",
        "def check_non_linear_system(A1, A2, A3, q1, q2, q3, data, connected_data1, connected_data2):\n",
        "    alpha_2 = connected_data1['boundary']['start']['alpha'][0]\n",
        "    alpha_3 = connected_data2['boundary']['start']['alpha'][0]\n",
        "\n",
        "    res_2 = data['beta'] / (rho * data['A0']) * (np.sqrt(A1) - np.sqrt(data['A0'])) + 0.5 * (q1 / A1) ** 2 - np.sign(q1 / A1) * g_1(A1, q1, data.get('gamma', 0)) \\\n",
        "            - connected_data1['beta'] / (rho * connected_data1['A0']) * (np.sqrt(A2) - np.sqrt(connected_data1['A0'])) - 0.5 * (q2 / A2) ** 2 - np.sign(q2 / A2) * g_i(A2, q2, connected_data1.get('gamma', 2), alpha_2)\n",
        "\n",
        "    res_3 = data['beta'] / (rho * data['A0']) * (np.sqrt(A1) - np.sqrt(data['A0'])) + 0.5 * (q1 / A1) ** 2 - np.sign(q1 / A1) * g_1(A1, q1, data.get('gamma', 0)) \\\n",
        "            - connected_data2['beta'] / (rho * connected_data2['A0']) * (np.sqrt(A3) - np.sqrt(connected_data2['A0'])) - 0.5 * (q3 / A3) ** 2 - np.sign(q3 / A3) * g_i(A3, q3, connected_data2.get('gamma', 2), alpha_3)\n",
        "\n",
        "    return res_2, res_3"
      ],
      "metadata": {
        "id": "wJPag_qkNuP2"
      },
      "execution_count": null,
      "outputs": []
    },
    {
      "cell_type": "code",
      "source": [
        "def handle_branching_points(branches):\n",
        "    branch_data = {}\n",
        "    for branch_id, data in branches.items():\n",
        "        end_boundary = data['boundary']['end']\n",
        "        if end_boundary['type'] == 'branch':\n",
        "            connected_branches = end_boundary['connected_to']\n",
        "            branch_data[branch_id] = {\n",
        "                'Ah_old': data['Ah_old'],\n",
        "                'qh_old': data['qh_old'],\n",
        "                'uh': data['uh'],\n",
        "                'L': data['L'],\n",
        "                'A0': data['A0'],\n",
        "                'beta': data['beta'],\n",
        "                'V_der': data['V_der'],\n",
        "                'connected_branches': connected_branches\n",
        "            }\n",
        "\n",
        "    for branch_id, data in branch_data.items():\n",
        "        connected_branches = data['connected_branches']\n",
        "        if len(connected_branches) == 2:\n",
        "            cb1_id, cb2_id = connected_branches\n",
        "            connected_data1 = branches[cb1_id]\n",
        "            connected_data2 = branches[cb2_id]\n",
        "\n",
        "            A_branch_1, A_branch_2, A_branch_3, q_branch_1, q_branch_2, q_branch_3, err, iter = compute_branch_value(\n",
        "                    data, connected_data1, connected_data2, toll=1e-5\n",
        "                )\n",
        "\n",
        "            branch_boundary_conditions[branch_id]['outlet'] = {\n",
        "                'A_outlet': A_branch_1,\n",
        "                'q_outlet': q_branch_1\n",
        "            }\n",
        "\n",
        "            branch_boundary_conditions[cb1_id]['inlet'] = {\n",
        "                'A_inlet': A_branch_2,\n",
        "                'q_inlet': q_branch_2\n",
        "            }\n",
        "\n",
        "            branch_boundary_conditions[cb2_id]['inlet'] = {\n",
        "                'A_inlet': A_branch_3,\n",
        "                'q_inlet': q_branch_3\n",
        "            }\n",
        "        else:\n",
        "            raise ValueError(\"A branching point should connect to exactly two branches.\")"
      ],
      "metadata": {
        "id": "bJVWPV4flh8d"
      },
      "execution_count": null,
      "outputs": []
    },
    {
      "cell_type": "markdown",
      "source": [
        "## Definition and solution of local variational problem"
      ],
      "metadata": {
        "id": "S1ONKZfn5sJn"
      }
    },
    {
      "cell_type": "code",
      "source": [
        "def LinearProblem(bc, V, A_old, q_old, A0, beta):\n",
        "  # Define trial functions and test functions\n",
        "  A, q = TrialFunctions(V)\n",
        "  v, z = TestFunctions(V)\n",
        "  uh = Function(V)\n",
        "\n",
        "  a = inner(A, v) * dx + inner(q, z) * dx\n",
        "\n",
        "  l = (\n",
        "        A_old * v * dx\n",
        "      + q_old * z * dx\n",
        "      + dt * ((F(A_old, q_old, A0, beta) - dt / 2 * dot(H(A_old, q_old, A0, beta), S(A_old, q_old))))[0] * v.dx(0) * dx\n",
        "      + dt * ((F(A_old, q_old, A0, beta) - dt / 2 * dot(H(A_old, q_old, A0, beta), S(A_old, q_old))))[1] * z.dx(0) * dx\n",
        "      + dt ** 2 / 2 * (dot(dS_dU(A_old, q_old), F(A_old, q_old, A0, beta).dx(0)))[0] * v * dx\n",
        "      + dt ** 2 / 2 * (dot(dS_dU(A_old, q_old), F(A_old, q_old, A0, beta).dx(0)))[1] * z * dx\n",
        "      - dt ** 2 / 2 * (dot(H(A_old, q_old, A0, beta), F(A_old, q_old, A0, beta).dx(0)))[0] * v.dx(0) * dx\n",
        "      - dt ** 2 / 2 * (dot(H(A_old, q_old, A0, beta), F(A_old, q_old, A0, beta).dx(0)))[1] * z.dx(0) * dx\n",
        "      - dt * (S(A_old, q_old) - dt / 2 * dot(dS_dU(A_old, q_old), S(A_old, q_old)))[0] * v * dx\n",
        "      - dt * (S(A_old, q_old) - dt / 2 * dot(dS_dU(A_old, q_old), S(A_old, q_old)))[1] * z * dx\n",
        "  )\n",
        "\n",
        "  solve(a == l, uh, bc)\n",
        "\n",
        "  return uh"
      ],
      "metadata": {
        "id": "yREIztqTvd7D"
      },
      "execution_count": null,
      "outputs": []
    },
    {
      "cell_type": "code",
      "source": [
        "def solve_local_branches(branches, branch_boundary_conditions):\n",
        "    for branch_id, data in branches.items():\n",
        "        # Extract boundary conditions\n",
        "        bc_data = branch_boundary_conditions.get(branch_id, {})\n",
        "\n",
        "        A_inlet = bc_data.get('inlet', {}).get('A_inlet', None)\n",
        "        q_inlet = bc_data.get('inlet', {}).get('q_inlet', None)\n",
        "        A_outlet = bc_data.get('outlet', {}).get('A_outlet', None)\n",
        "        q_outlet = bc_data.get('outlet', {}).get('q_outlet', None)\n",
        "\n",
        "        # Initialize boundary conditions\n",
        "        bcs = []\n",
        "\n",
        "        if A_inlet is not None and q_inlet is not None:\n",
        "            bc_A_inlet = DirichletBC(data['V'].sub(0), A_inlet, boundary_L)\n",
        "            bc_q_inlet = DirichletBC(data['V'].sub(1), q_inlet, boundary_L)\n",
        "            bcs.extend([bc_A_inlet, bc_q_inlet])\n",
        "\n",
        "        if A_outlet is not None and q_outlet is not None:\n",
        "            bc_A_outlet = DirichletBC(data['V'].sub(0), A_outlet, boundary_R)\n",
        "            bc_q_outlet = DirichletBC(data['V'].sub(1), q_outlet, boundary_R)\n",
        "            bcs.extend([bc_A_outlet, bc_q_outlet])\n",
        "\n",
        "        # Solve the local problem\n",
        "        uh = LinearProblem(bcs, data['V'], data['Ah_old'], data['qh_old'], data['A0'], data['beta'])\n",
        "        Ah, qh = uh.split(deepcopy=True)\n",
        "        data['uh'] = uh  # Store the computed solution\n",
        "        data['Ah_old'].assign(Ah)\n",
        "        data['qh_old'].assign(qh)"
      ],
      "metadata": {
        "id": "KhphRd9plYxL"
      },
      "execution_count": null,
      "outputs": []
    },
    {
      "cell_type": "markdown",
      "source": [
        "## Plot"
      ],
      "metadata": {
        "id": "_vxhugDn7tJG"
      }
    },
    {
      "cell_type": "code",
      "source": [
        "import matplotlib.pyplot as plt\n",
        "\n",
        "def plot_branches_combined(branches, n, num_cols=5):\n",
        "    num_branches = len(branches)\n",
        "    num_rows = (num_branches + num_cols - 1) // num_cols  # Calculate required rows\n",
        "\n",
        "    # Create a figure with subplots for both area and flux\n",
        "    fig, axes = plt.subplots(num_rows * 2, num_cols, figsize=(num_cols * 3.8, num_rows * 8))\n",
        "    axes = axes.flatten()\n",
        "\n",
        "    for i, (branch_name, branch_data) in enumerate(branches.items()):\n",
        "        if i >= num_cols * num_rows:  # Ensure we do not exceed the available axes\n",
        "            break\n",
        "\n",
        "        # Plot area in red on the first row\n",
        "        ax_area = axes[i]\n",
        "        Ah_old = branch_data['Ah_old']\n",
        "        mesh = branch_data['mesh']\n",
        "        ax_area.plot(mesh.coordinates(), Ah_old.compute_vertex_values(mesh), 'r', label='Area')\n",
        "        ax_area.set_title(f'{branch_name}')\n",
        "        ax_area.legend()\n",
        "\n",
        "        # Plot flux in blue on the second row\n",
        "        ax_flux = axes[num_cols * num_rows + i]\n",
        "        qh_old = branch_data['qh_old']\n",
        "        ax_flux.plot(mesh.coordinates(), qh_old.compute_vertex_values(mesh), 'b', label='Flux')\n",
        "        ax_flux.legend()\n",
        "\n",
        "    # Hide any unused subplots\n",
        "    for j in range(i + 1, num_cols * num_rows):\n",
        "        fig.delaxes(axes[j])\n",
        "        fig.delaxes(axes[num_cols * num_rows + j])\n",
        "\n",
        "    # Set global title\n",
        "    fig.suptitle(f'Area and Flux Profile at Time Step {n}', fontsize=16)\n",
        "\n",
        "    plt.tight_layout(rect=[0, 0, 1, 0.92])  # Adjust layout to make room for the global title\n",
        "    plt.show()"
      ],
      "metadata": {
        "id": "89lPco827ua7"
      },
      "execution_count": null,
      "outputs": []
    },
    {
      "cell_type": "markdown",
      "source": [
        "# Solution"
      ],
      "metadata": {
        "id": "vjAfu6Q01vnJ"
      }
    },
    {
      "cell_type": "code",
      "source": [
        "# Initialize branches with initial conditions\n",
        "initialize_branches(branches)\n",
        "\n",
        "# Initialize boundary conditions\n",
        "branch_boundary_conditions = {}\n",
        "\n",
        "for branch_name, branch_data in branches.items():\n",
        "    branch_boundary_conditions[branch_name] = {\n",
        "        'inlet': {\n",
        "            'A_inlet': branch_data['A0'],\n",
        "            'q_inlet': 0\n",
        "        },\n",
        "        'outlet': {\n",
        "            'A_outlet': branch_data['A0'],\n",
        "            'q_outlet': 0\n",
        "        }\n",
        "    }"
      ],
      "metadata": {
        "id": "2gl8H1R-kU4q"
      },
      "execution_count": null,
      "outputs": []
    },
    {
      "cell_type": "code",
      "source": [
        "# Time stepping\n",
        "t = 0\n",
        "\n",
        "for n in tqdm(range(N_T)):\n",
        "    # Solve the problem for each branch\n",
        "    solve_local_branches(branches, branch_boundary_conditions)\n",
        "\n",
        "    # Update time step\n",
        "    t += dt\n",
        "\n",
        "    # Update boundary conditions for inlets and outlets\n",
        "    update_inlet_outlet_bcs(branches, t)\n",
        "\n",
        "    # Handle branching points\n",
        "    handle_branching_points(branches)\n",
        "\n",
        "    #if n % 10 == 0:\n",
        "      #plot_branches_combined(branches, n)\n",
        "\n",
        "plot_branches_combined(branches, n)"
      ],
      "metadata": {
        "colab": {
          "base_uri": "https://localhost:8080/",
          "height": 1000
        },
        "id": "MKBKLEhNlogU",
        "outputId": "32bd577d-12cd-4867-c3c9-b1bbe9af9501"
      },
      "execution_count": null,
      "outputs": [
        {
          "output_type": "stream",
          "name": "stderr",
          "text": [
            "\r  0%|          | 0/50000 [00:00<?, ?it/s]"
          ]
        },
        {
          "output_type": "display_data",
          "data": {
            "text/plain": [
              "<Figure size 1900x800 with 10 Axes>"
            ],
            "image/png": "[encoded data removed]"
          },
          "metadata": {}
        },
        {
          "output_type": "stream",
          "name": "stderr",
          "text": [
            "  0%|          | 6/50000 [00:07<16:24:39,  1.18s/it]\n"
          ]
        },
        {
          "output_type": "error",
          "ename": "KeyboardInterrupt",
          "evalue": "",
          "traceback": [
            "\u001b[0;31m---------------------------------------------------------------------------\u001b[0m",
            "\u001b[0;31mKeyboardInterrupt\u001b[0m                         Traceback (most recent call last)",
            "\u001b[0;32m<ipython-input-209-a00be1f79c4d>\u001b[0m in \u001b[0;36m<cell line: 4>\u001b[0;34m()\u001b[0m\n\u001b[1;32m     13\u001b[0m \u001b[0;34m\u001b[0m\u001b[0m\n\u001b[1;32m     14\u001b[0m     \u001b[0;31m# Handle branching points\u001b[0m\u001b[0;34m\u001b[0m\u001b[0;34m\u001b[0m\u001b[0m\n\u001b[0;32m---> 15\u001b[0;31m     \u001b[0mhandle_branching_points\u001b[0m\u001b[0;34m(\u001b[0m\u001b[0mbranches\u001b[0m\u001b[0;34m)\u001b[0m\u001b[0;34m\u001b[0m\u001b[0;34m\u001b[0m\u001b[0m\n\u001b[0m\u001b[1;32m     16\u001b[0m \u001b[0;34m\u001b[0m\u001b[0m\n\u001b[1;32m     17\u001b[0m     \u001b[0;32mif\u001b[0m \u001b[0mn\u001b[0m \u001b[0;34m%\u001b[0m \u001b[0;36m10\u001b[0m \u001b[0;34m==\u001b[0m \u001b[0;36m0\u001b[0m\u001b[0;34m:\u001b[0m\u001b[0;34m\u001b[0m\u001b[0;34m\u001b[0m\u001b[0m\n",
            "\u001b[0;32m<ipython-input-200-cd4242b19f69>\u001b[0m in \u001b[0;36mhandle_branching_points\u001b[0;34m(branches)\u001b[0m\n\u001b[1;32m     23\u001b[0m             \u001b[0mconnected_data2\u001b[0m \u001b[0;34m=\u001b[0m \u001b[0mbranches\u001b[0m\u001b[0;34m[\u001b[0m\u001b[0mcb2_id\u001b[0m\u001b[0;34m]\u001b[0m\u001b[0;34m\u001b[0m\u001b[0;34m\u001b[0m\u001b[0m\n\u001b[1;32m     24\u001b[0m \u001b[0;34m\u001b[0m\u001b[0m\n\u001b[0;32m---> 25\u001b[0;31m             A_branch_1, A_branch_2, A_branch_3, q_branch_1, q_branch_2, q_branch_3, err, iter = compute_branch_value(\n\u001b[0m\u001b[1;32m     26\u001b[0m                     \u001b[0mdata\u001b[0m\u001b[0;34m,\u001b[0m \u001b[0mconnected_data1\u001b[0m\u001b[0;34m,\u001b[0m \u001b[0mconnected_data2\u001b[0m\u001b[0;34m,\u001b[0m \u001b[0mtoll\u001b[0m\u001b[0;34m=\u001b[0m\u001b[0;36m1e-5\u001b[0m\u001b[0;34m\u001b[0m\u001b[0;34m\u001b[0m\u001b[0m\n\u001b[1;32m     27\u001b[0m                 )\n",
            "\u001b[0;32m<ipython-input-198-46c3e63e0c2d>\u001b[0m in \u001b[0;36mcompute_branch_value\u001b[0;34m(data, connected_data1, connected_data2, toll)\u001b[0m\n\u001b[1;32m     55\u001b[0m         \u001b[0mrhs\u001b[0m\u001b[0;34m[\u001b[0m\u001b[0;36m3\u001b[0m\u001b[0;34m]\u001b[0m \u001b[0;34m=\u001b[0m \u001b[0mnp\u001b[0m\u001b[0;34m.\u001b[0m\u001b[0mdot\u001b[0m\u001b[0;34m(\u001b[0m\u001b[0ml1\u001b[0m\u001b[0;34m(\u001b[0m\u001b[0mA_branch_0_1\u001b[0m\u001b[0;34m,\u001b[0m \u001b[0mq_branch_0_1\u001b[0m\u001b[0;34m,\u001b[0m \u001b[0mdata\u001b[0m\u001b[0;34m[\u001b[0m\u001b[0;34m'A0'\u001b[0m\u001b[0;34m]\u001b[0m\u001b[0;34m,\u001b[0m \u001b[0mdata\u001b[0m\u001b[0;34m[\u001b[0m\u001b[0;34m'beta'\u001b[0m\u001b[0;34m]\u001b[0m\u001b[0;34m)\u001b[0m\u001b[0;34m,\u001b[0m \u001b[0mCC\u001b[0m\u001b[0;34m(\u001b[0m\u001b[0mA_branch_0_1\u001b[0m\u001b[0;34m,\u001b[0m \u001b[0mq_branch_0_1\u001b[0m\u001b[0;34m,\u001b[0m \u001b[0mdata\u001b[0m\u001b[0;34m[\u001b[0m\u001b[0;34m'A0'\u001b[0m\u001b[0;34m]\u001b[0m\u001b[0;34m,\u001b[0m \u001b[0mdata\u001b[0m\u001b[0;34m[\u001b[0m\u001b[0;34m'beta'\u001b[0m\u001b[0;34m]\u001b[0m\u001b[0;34m,\u001b[0m \u001b[0mdata\u001b[0m\u001b[0;34m[\u001b[0m\u001b[0;34m'uh'\u001b[0m\u001b[0;34m]\u001b[0m\u001b[0;34m.\u001b[0m\u001b[0mdx\u001b[0m\u001b[0;34m(\u001b[0m\u001b[0;36m0\u001b[0m\u001b[0;34m)\u001b[0m\u001b[0;34m,\u001b[0m \u001b[0mdata\u001b[0m\u001b[0;34m[\u001b[0m\u001b[0;34m'V_der'\u001b[0m\u001b[0;34m]\u001b[0m\u001b[0;34m,\u001b[0m \u001b[0mdata\u001b[0m\u001b[0;34m[\u001b[0m\u001b[0;34m'L'\u001b[0m\u001b[0;34m]\u001b[0m\u001b[0;34m)\u001b[0m\u001b[0;34m)\u001b[0m\u001b[0;34m\u001b[0m\u001b[0;34m\u001b[0m\u001b[0m\n\u001b[1;32m     56\u001b[0m         \u001b[0mrhs\u001b[0m\u001b[0;34m[\u001b[0m\u001b[0;36m4\u001b[0m\u001b[0;34m]\u001b[0m \u001b[0;34m=\u001b[0m \u001b[0mnp\u001b[0m\u001b[0;34m.\u001b[0m\u001b[0mdot\u001b[0m\u001b[0;34m(\u001b[0m\u001b[0ml2\u001b[0m\u001b[0;34m(\u001b[0m\u001b[0mA_branch_0_2\u001b[0m\u001b[0;34m,\u001b[0m \u001b[0mq_branch_0_2\u001b[0m\u001b[0;34m,\u001b[0m \u001b[0mconnected_data1\u001b[0m\u001b[0;34m[\u001b[0m\u001b[0;34m'A0'\u001b[0m\u001b[0;34m]\u001b[0m\u001b[0;34m,\u001b[0m \u001b[0mconnected_data1\u001b[0m\u001b[0;34m[\u001b[0m\u001b[0;34m'beta'\u001b[0m\u001b[0;34m]\u001b[0m\u001b[0;34m)\u001b[0m\u001b[0;34m,\u001b[0m \u001b[0mCC\u001b[0m\u001b[0;34m(\u001b[0m\u001b[0mA_branch_0_2\u001b[0m\u001b[0;34m,\u001b[0m \u001b[0mq_branch_0_2\u001b[0m\u001b[0;34m,\u001b[0m \u001b[0mconnected_data1\u001b[0m\u001b[0;34m[\u001b[0m\u001b[0;34m'A0'\u001b[0m\u001b[0;34m]\u001b[0m\u001b[0;34m,\u001b[0m \u001b[0mconnected_data1\u001b[0m\u001b[0;34m[\u001b[0m\u001b[0;34m'beta'\u001b[0m\u001b[0;34m]\u001b[0m\u001b[0;34m,\u001b[0m \u001b[0mconnected_data1\u001b[0m\u001b[0;34m[\u001b[0m\u001b[0;34m'uh'\u001b[0m\u001b[0;34m]\u001b[0m\u001b[0;34m.\u001b[0m\u001b[0mdx\u001b[0m\u001b[0;34m(\u001b[0m\u001b[0;36m0\u001b[0m\u001b[0;34m)\u001b[0m\u001b[0;34m,\u001b[0m \u001b[0mconnected_data1\u001b[0m\u001b[0;34m[\u001b[0m\u001b[0;34m'V_der'\u001b[0m\u001b[0;34m]\u001b[0m\u001b[0;34m,\u001b[0m \u001b[0;36m0\u001b[0m\u001b[0;34m)\u001b[0m\u001b[0;34m)\u001b[0m\u001b[0;34m\u001b[0m\u001b[0;34m\u001b[0m\u001b[0m\n\u001b[0;32m---> 57\u001b[0;31m         \u001b[0mrhs\u001b[0m\u001b[0;34m[\u001b[0m\u001b[0;36m5\u001b[0m\u001b[0;34m]\u001b[0m \u001b[0;34m=\u001b[0m \u001b[0mnp\u001b[0m\u001b[0;34m.\u001b[0m\u001b[0mdot\u001b[0m\u001b[0;34m(\u001b[0m\u001b[0ml2\u001b[0m\u001b[0;34m(\u001b[0m\u001b[0mA_branch_0_3\u001b[0m\u001b[0;34m,\u001b[0m \u001b[0mq_branch_0_3\u001b[0m\u001b[0;34m,\u001b[0m \u001b[0mconnected_data2\u001b[0m\u001b[0;34m[\u001b[0m\u001b[0;34m'A0'\u001b[0m\u001b[0;34m]\u001b[0m\u001b[0;34m,\u001b[0m \u001b[0mconnected_data2\u001b[0m\u001b[0;34m[\u001b[0m\u001b[0;34m'beta'\u001b[0m\u001b[0;34m]\u001b[0m\u001b[0;34m)\u001b[0m\u001b[0;34m,\u001b[0m \u001b[0mCC\u001b[0m\u001b[0;34m(\u001b[0m\u001b[0mA_branch_0_3\u001b[0m\u001b[0;34m,\u001b[0m \u001b[0mq_branch_0_3\u001b[0m\u001b[0;34m,\u001b[0m \u001b[0mconnected_data2\u001b[0m\u001b[0;34m[\u001b[0m\u001b[0;34m'A0'\u001b[0m\u001b[0;34m]\u001b[0m\u001b[0;34m,\u001b[0m \u001b[0mconnected_data2\u001b[0m\u001b[0;34m[\u001b[0m\u001b[0;34m'beta'\u001b[0m\u001b[0;34m]\u001b[0m\u001b[0;34m,\u001b[0m \u001b[0mconnected_data2\u001b[0m\u001b[0;34m[\u001b[0m\u001b[0;34m'uh'\u001b[0m\u001b[0;34m]\u001b[0m\u001b[0;34m.\u001b[0m\u001b[0mdx\u001b[0m\u001b[0;34m(\u001b[0m\u001b[0;36m0\u001b[0m\u001b[0;34m)\u001b[0m\u001b[0;34m,\u001b[0m \u001b[0mconnected_data2\u001b[0m\u001b[0;34m[\u001b[0m\u001b[0;34m'V_der'\u001b[0m\u001b[0;34m]\u001b[0m\u001b[0;34m,\u001b[0m \u001b[0;36m0\u001b[0m\u001b[0;34m)\u001b[0m\u001b[0;34m)\u001b[0m\u001b[0;34m\u001b[0m\u001b[0;34m\u001b[0m\u001b[0m\n\u001b[0m\u001b[1;32m     58\u001b[0m \u001b[0;34m\u001b[0m\u001b[0m\n\u001b[1;32m     59\u001b[0m         \u001b[0mA_branch_1\u001b[0m\u001b[0;34m,\u001b[0m \u001b[0mA_branch_2\u001b[0m\u001b[0;34m,\u001b[0m \u001b[0mA_branch_3\u001b[0m\u001b[0;34m,\u001b[0m \u001b[0mq_branch_1\u001b[0m\u001b[0;34m,\u001b[0m \u001b[0mq_branch_2\u001b[0m\u001b[0;34m,\u001b[0m \u001b[0mq_branch_3\u001b[0m \u001b[0;34m=\u001b[0m \u001b[0mnp\u001b[0m\u001b[0;34m.\u001b[0m\u001b[0mlinalg\u001b[0m\u001b[0;34m.\u001b[0m\u001b[0msolve\u001b[0m\u001b[0;34m(\u001b[0m\u001b[0mlhs\u001b[0m\u001b[0;34m,\u001b[0m \u001b[0mrhs\u001b[0m\u001b[0;34m)\u001b[0m\u001b[0;34m\u001b[0m\u001b[0;34m\u001b[0m\u001b[0m\n",
            "\u001b[0;32m/usr/lib/python3/dist-packages/ufl_legacy/exproperators.py\u001b[0m in \u001b[0;36m_dx\u001b[0;34m(self, *ii)\u001b[0m\n\u001b[1;32m    499\u001b[0m \u001b[0;34m\u001b[0m\u001b[0m\n\u001b[1;32m    500\u001b[0m     \u001b[0;31m# Take all components, applying repeated index sums in the [] operation\u001b[0m\u001b[0;34m\u001b[0m\u001b[0;34m\u001b[0m\u001b[0m\n\u001b[0;32m--> 501\u001b[0;31m     \u001b[0;32mreturn\u001b[0m \u001b[0md\u001b[0m\u001b[0;34m.\u001b[0m\u001b[0m__getitem__\u001b[0m\u001b[0;34m(\u001b[0m\u001b[0;34m(\u001b[0m\u001b[0mEllipsis\u001b[0m\u001b[0;34m,\u001b[0m\u001b[0;34m)\u001b[0m \u001b[0;34m+\u001b[0m \u001b[0mii\u001b[0m\u001b[0;34m)\u001b[0m\u001b[0;34m\u001b[0m\u001b[0;34m\u001b[0m\u001b[0m\n\u001b[0m\u001b[1;32m    502\u001b[0m \u001b[0;34m\u001b[0m\u001b[0m\n\u001b[1;32m    503\u001b[0m \u001b[0;34m\u001b[0m\u001b[0m\n",
            "\u001b[0;32m/usr/lib/python3/dist-packages/ufl_legacy/exproperators.py\u001b[0m in \u001b[0;36m_getitem\u001b[0;34m(self, component)\u001b[0m\n\u001b[1;32m    455\u001b[0m     \u001b[0;31m# Apply all indices to index self, yielding a scalar valued\u001b[0m\u001b[0;34m\u001b[0m\u001b[0;34m\u001b[0m\u001b[0m\n\u001b[1;32m    456\u001b[0m     \u001b[0;31m# expression\u001b[0m\u001b[0;34m\u001b[0m\u001b[0;34m\u001b[0m\u001b[0m\n\u001b[0;32m--> 457\u001b[0;31m     \u001b[0mmi\u001b[0m \u001b[0;34m=\u001b[0m \u001b[0mMultiIndex\u001b[0m\u001b[0;34m(\u001b[0m\u001b[0mall_indices\u001b[0m\u001b[0;34m)\u001b[0m\u001b[0;34m\u001b[0m\u001b[0;34m\u001b[0m\u001b[0m\n\u001b[0m\u001b[1;32m    458\u001b[0m     \u001b[0ma\u001b[0m \u001b[0;34m=\u001b[0m \u001b[0mIndexed\u001b[0m\u001b[0;34m(\u001b[0m\u001b[0mself\u001b[0m\u001b[0;34m,\u001b[0m \u001b[0mmi\u001b[0m\u001b[0;34m)\u001b[0m\u001b[0;34m\u001b[0m\u001b[0;34m\u001b[0m\u001b[0m\n\u001b[1;32m    459\u001b[0m \u001b[0;34m\u001b[0m\u001b[0m\n",
            "\u001b[0;32m/usr/lib/python3/dist-packages/ufl_legacy/core/multiindex.py\u001b[0m in \u001b[0;36m__new__\u001b[0;34m(cls, indices)\u001b[0m\n\u001b[1;32m    132\u001b[0m             \u001b[0;32mif\u001b[0m \u001b[0;32mnot\u001b[0m \u001b[0mall\u001b[0m\u001b[0;34m(\u001b[0m\u001b[0misinstance\u001b[0m\u001b[0;34m(\u001b[0m\u001b[0mind\u001b[0m\u001b[0;34m,\u001b[0m \u001b[0mIndexBase\u001b[0m\u001b[0;34m)\u001b[0m \u001b[0;32mfor\u001b[0m \u001b[0mind\u001b[0m \u001b[0;32min\u001b[0m \u001b[0mindices\u001b[0m\u001b[0;34m)\u001b[0m\u001b[0;34m:\u001b[0m\u001b[0;34m\u001b[0m\u001b[0;34m\u001b[0m\u001b[0m\n\u001b[1;32m    133\u001b[0m                 \u001b[0merror\u001b[0m\u001b[0;34m(\u001b[0m\u001b[0;34m\"Expecting only Index and FixedIndex objects.\"\u001b[0m\u001b[0;34m)\u001b[0m\u001b[0;34m\u001b[0m\u001b[0;34m\u001b[0m\u001b[0m\n\u001b[0;32m--> 134\u001b[0;31m             \u001b[0mself\u001b[0m \u001b[0;34m=\u001b[0m \u001b[0mTerminal\u001b[0m\u001b[0;34m.\u001b[0m\u001b[0m__new__\u001b[0m\u001b[0;34m(\u001b[0m\u001b[0mcls\u001b[0m\u001b[0;34m)\u001b[0m\u001b[0;34m\u001b[0m\u001b[0;34m\u001b[0m\u001b[0m\n\u001b[0m\u001b[1;32m    135\u001b[0m \u001b[0;34m\u001b[0m\u001b[0m\n\u001b[1;32m    136\u001b[0m         \u001b[0;31m# Initialize here instead of in __init__ to avoid overwriting\u001b[0m\u001b[0;34m\u001b[0m\u001b[0;34m\u001b[0m\u001b[0m\n",
            "\u001b[0;31mKeyboardInterrupt\u001b[0m: "
          ]
        }
      ]
    },
    {
      "cell_type": "code",
      "source": [],
      "metadata": {
        "id": "gpHs4Ldz8zA1"
      },
      "execution_count": null,
      "outputs": []
    }
  ]
}